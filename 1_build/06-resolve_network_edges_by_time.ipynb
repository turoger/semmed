{
 "cells": [
  {
   "cell_type": "markdown",
   "metadata": {},
   "source": [
    "# Build Time-networks based on year of first PMID for an edge\n",
    "\n",
    "We will build networks representing the state of knowledge at different timepoints.  This will be done by filtering edges by date, using the PMID associated with the earliest timepoint for each given edge."
   ]
  },
  {
   "cell_type": "code",
   "execution_count": 1,
   "metadata": {},
   "outputs": [],
   "source": [
    "import os\n",
    "import pickle\n",
    "import pandas as pd\n",
    "from tqdm import tqdm, tqdm_pandas\n",
    "\n",
    "%matplotlib inline\n",
    "import seaborn as sns\n",
    "import matplotlib.pyplot as plt\n",
    "sns.set_style('white')\n",
    "\n",
    "import sys\n",
    "sys.path.append('../../hetnet-ml/src')\n",
    "import graph_tools as gt"
   ]
  },
  {
   "cell_type": "markdown",
   "metadata": {},
   "source": [
    "## Build a final ID to year map\n",
    "\n",
    "Each map came from a different source, so make sure they are consistent in type"
   ]
  },
  {
   "cell_type": "code",
   "execution_count": 2,
   "metadata": {},
   "outputs": [],
   "source": [
    "nlm = pickle.load(open('../data/pmid_to_year_NLM.pkl', 'rb'))\n",
    "pmc = pickle.load(open('../data/pmid_to_year_PMC.pkl', 'rb'))\n",
    "eur = pickle.load(open('../data/pmid_to_year_Eur.pkl', 'rb'))\n",
    "ebi = pickle.load(open('../data/pmid_to_year_EBI.pkl', 'rb'))"
   ]
  },
  {
   "cell_type": "markdown",
   "metadata": {},
   "source": [
    "There may be type differences between these maps, lets check.  \n",
    "Ideally we want, `key=str: value=int`."
   ]
  },
  {
   "cell_type": "code",
   "execution_count": 3,
   "metadata": {},
   "outputs": [
    {
     "name": "stdout",
     "output_type": "stream",
     "text": [
      "'115848': '1979'\n"
     ]
    }
   ],
   "source": [
    "key = list(nlm.keys())[0]\n",
    "value = nlm[key]\n",
    "print('{!r}: {!r}'.format(key, value))"
   ]
  },
  {
   "cell_type": "markdown",
   "metadata": {},
   "source": [
    "`{str: str}`"
   ]
  },
  {
   "cell_type": "code",
   "execution_count": 4,
   "metadata": {},
   "outputs": [
    {
     "name": "stdout",
     "output_type": "stream",
     "text": [
      "'25834679': 2015\n"
     ]
    }
   ],
   "source": [
    "key = list(pmc.keys())[0]\n",
    "value = pmc[key]\n",
    "print('{!r}: {!r}'.format(key, value))"
   ]
  },
  {
   "cell_type": "markdown",
   "metadata": {},
   "source": [
    "`{str: int}`"
   ]
  },
  {
   "cell_type": "code",
   "execution_count": 5,
   "metadata": {
    "scrolled": true
   },
   "outputs": [
    {
     "name": "stdout",
     "output_type": "stream",
     "text": [
      "'24094408': '2013'\n"
     ]
    }
   ],
   "source": [
    "key = list(eur.keys())[0]\n",
    "value = eur[key]\n",
    "print('{!r}: {!r}'.format(key, value))"
   ]
  },
  {
   "cell_type": "markdown",
   "metadata": {},
   "source": [
    "`{str: str}`"
   ]
  },
  {
   "cell_type": "code",
   "execution_count": 6,
   "metadata": {
    "scrolled": true
   },
   "outputs": [
    {
     "name": "stdout",
     "output_type": "stream",
     "text": [
      "'24354032': '2014-03-21'\n"
     ]
    }
   ],
   "source": [
    "key = list(ebi.keys())[0]\n",
    "value = ebi[key]\n",
    "print('{!r}: {!r}'.format(key, value))"
   ]
  },
  {
   "cell_type": "markdown",
   "metadata": {},
   "source": [
    "`{str: str}` with year formatted as `YYYY-MM-DD`"
   ]
  },
  {
   "cell_type": "markdown",
   "metadata": {},
   "source": [
    "#### Reformatting the maps\n",
    "\n",
    "`{str: int}` with only the year is the most useful for our purposes, so format all of these maps to this schema"
   ]
  },
  {
   "cell_type": "code",
   "execution_count": 7,
   "metadata": {},
   "outputs": [
    {
     "name": "stderr",
     "output_type": "stream",
     "text": [
      "100%|██████████| 27836723/27836723 [00:19<00:00, 1398045.69it/s]\n"
     ]
    }
   ],
   "source": [
    "for k, v in tqdm(nlm.items()):\n",
    "    nlm[k] = int(v)"
   ]
  },
  {
   "cell_type": "code",
   "execution_count": 8,
   "metadata": {},
   "outputs": [
    {
     "name": "stderr",
     "output_type": "stream",
     "text": [
      "100%|██████████| 3561213/3561213 [00:02<00:00, 1428090.24it/s]\n"
     ]
    }
   ],
   "source": [
    "for k, v in tqdm(eur.items()):\n",
    "    eur[k] = int(v)"
   ]
  },
  {
   "cell_type": "code",
   "execution_count": 9,
   "metadata": {},
   "outputs": [
    {
     "name": "stderr",
     "output_type": "stream",
     "text": [
      "100%|██████████| 7937/7937 [00:00<00:00, 909816.64it/s]\n"
     ]
    }
   ],
   "source": [
    "for k, v in tqdm(ebi.items()):\n",
    "    ebi[k] = int(v.split('-')[0])"
   ]
  },
  {
   "cell_type": "code",
   "execution_count": 10,
   "metadata": {},
   "outputs": [],
   "source": [
    "# order of importance right to left. (pmc values will replace all others)\n",
    "id_to_year = {**eur, **nlm, **ebi, **pmc}\n",
    "id_to_year = {str(k): v for k, v in id_to_year.items()}"
   ]
  },
  {
   "cell_type": "markdown",
   "metadata": {},
   "source": [
    "## Bring in the nodes and edges files"
   ]
  },
  {
   "cell_type": "code",
   "execution_count": 11,
   "metadata": {
    "scrolled": true
   },
   "outputs": [],
   "source": [
    "tqdm.pandas()"
   ]
  },
  {
   "cell_type": "code",
   "execution_count": 12,
   "metadata": {},
   "outputs": [
    {
     "data": {
      "text/html": [
       "<div>\n",
       "<style scoped>\n",
       "    .dataframe tbody tr th:only-of-type {\n",
       "        vertical-align: middle;\n",
       "    }\n",
       "\n",
       "    .dataframe tbody tr th {\n",
       "        vertical-align: top;\n",
       "    }\n",
       "\n",
       "    .dataframe thead th {\n",
       "        text-align: right;\n",
       "    }\n",
       "</style>\n",
       "<table border=\"1\" class=\"dataframe\">\n",
       "  <thead>\n",
       "    <tr style=\"text-align: right;\">\n",
       "      <th></th>\n",
       "      <th>id</th>\n",
       "      <th>name</th>\n",
       "      <th>label</th>\n",
       "      <th>id_source</th>\n",
       "    </tr>\n",
       "  </thead>\n",
       "  <tbody>\n",
       "    <tr>\n",
       "      <th>0</th>\n",
       "      <td>C0229664</td>\n",
       "      <td>peripheral blood</td>\n",
       "      <td>Anatomy</td>\n",
       "      <td>UMLS</td>\n",
       "    </tr>\n",
       "    <tr>\n",
       "      <th>1</th>\n",
       "      <td>C0545822</td>\n",
       "      <td>Esophagus, stomach and duodenum</td>\n",
       "      <td>Anatomy</td>\n",
       "      <td>UMLS</td>\n",
       "    </tr>\n",
       "  </tbody>\n",
       "</table>\n",
       "</div>"
      ],
      "text/plain": [
       "         id                             name    label id_source\n",
       "0  C0229664                 peripheral blood  Anatomy      UMLS\n",
       "1  C0545822  Esophagus, stomach and duodenum  Anatomy      UMLS"
      ]
     },
     "execution_count": 12,
     "metadata": {},
     "output_type": "execute_result"
    }
   ],
   "source": [
    "nodes = gt.remove_colons(pd.read_csv('../data/nodes_VER31_R_cons_6_metanode.csv'))\n",
    "nodes.head(2)"
   ]
  },
  {
   "cell_type": "code",
   "execution_count": 13,
   "metadata": {},
   "outputs": [
    {
     "name": "stderr",
     "output_type": "stream",
     "text": [
      "100%|██████████| 7784275/7784275 [01:41<00:00, 76902.70it/s] \n"
     ]
    },
    {
     "data": {
      "text/html": [
       "<div>\n",
       "<style scoped>\n",
       "    .dataframe tbody tr th:only-of-type {\n",
       "        vertical-align: middle;\n",
       "    }\n",
       "\n",
       "    .dataframe tbody tr th {\n",
       "        vertical-align: top;\n",
       "    }\n",
       "\n",
       "    .dataframe thead th {\n",
       "        text-align: right;\n",
       "    }\n",
       "</style>\n",
       "<table border=\"1\" class=\"dataframe\">\n",
       "  <thead>\n",
       "    <tr style=\"text-align: right;\">\n",
       "      <th></th>\n",
       "      <th>start_id</th>\n",
       "      <th>end_id</th>\n",
       "      <th>type</th>\n",
       "      <th>pmids</th>\n",
       "      <th>n_pmids</th>\n",
       "    </tr>\n",
       "  </thead>\n",
       "  <tbody>\n",
       "    <tr>\n",
       "      <th>0</th>\n",
       "      <td>D010447</td>\n",
       "      <td>D010519</td>\n",
       "      <td>AFFECTS_CDafA</td>\n",
       "      <td>{10920248, 19040577}</td>\n",
       "      <td>2</td>\n",
       "    </tr>\n",
       "    <tr>\n",
       "      <th>1</th>\n",
       "      <td>D008239</td>\n",
       "      <td>D022781</td>\n",
       "      <td>AFFECTS_CDafA</td>\n",
       "      <td>{496661, 21106925, 6696070}</td>\n",
       "      <td>3</td>\n",
       "    </tr>\n",
       "  </tbody>\n",
       "</table>\n",
       "</div>"
      ],
      "text/plain": [
       "  start_id   end_id           type                        pmids  n_pmids\n",
       "0  D010447  D010519  AFFECTS_CDafA         {10920248, 19040577}        2\n",
       "1  D008239  D022781  AFFECTS_CDafA  {496661, 21106925, 6696070}        3"
      ]
     },
     "execution_count": 13,
     "metadata": {},
     "output_type": "execute_result"
    }
   ],
   "source": [
    "edges = gt.remove_colons(pd.read_csv('../data/edges_VER31_R_cons_6_metanode.csv'))\n",
    "edges['pmids'] = edges['pmids'].progress_apply(eval)\n",
    "edges.head(2)"
   ]
  },
  {
   "cell_type": "markdown",
   "metadata": {},
   "source": [
    "## Edge type breakdown by PMID count in final network"
   ]
  },
  {
   "cell_type": "code",
   "execution_count": 14,
   "metadata": {},
   "outputs": [
    {
     "data": {
      "image/png": "[encoded data removed]",
      "text/plain": [
       "<Figure size 864x1440 with 1 Axes>"
      ]
     },
     "metadata": {
      "needs_background": "light"
     },
     "output_type": "display_data"
    }
   ],
   "source": [
    "frame = pd.DataFrame()\n",
    "for i in range(10):\n",
    "\n",
    "    to_plot = edges.query('n_pmids > @i')['type'].value_counts()\n",
    "    to_plot = to_plot / to_plot.sum()\n",
    "    frame[i+1] = to_plot\n",
    "    \n",
    "    \n",
    "fig = frame.T.plot.bar(stacked=True, figsize=(12, 20))\n",
    "handels, labels = fig.axes.get_legend_handles_labels()\n",
    "plt.legend(handels[::-1], labels[::-1], loc=7, bbox_to_anchor=(1.3, 0.5))\n",
    "plt.ylim(0, 1)\n",
    "plt.xticks(rotation=0)\n",
    "plt.title('Makeup of edges at different PMID cutoffs', size=24)\n",
    "plt.xlabel('Minimum number of PMIDs per edge', size=20)\n",
    "plt.ylabel('Fraction of total edges', size = 20);"
   ]
  },
  {
   "cell_type": "markdown",
   "metadata": {},
   "source": [
    "## Now apply the ID to Year Map"
   ]
  },
  {
   "cell_type": "code",
   "execution_count": 15,
   "metadata": {},
   "outputs": [
    {
     "data": {
      "text/html": [
       "<div>\n",
       "<style scoped>\n",
       "    .dataframe tbody tr th:only-of-type {\n",
       "        vertical-align: middle;\n",
       "    }\n",
       "\n",
       "    .dataframe tbody tr th {\n",
       "        vertical-align: top;\n",
       "    }\n",
       "\n",
       "    .dataframe thead th {\n",
       "        text-align: right;\n",
       "    }\n",
       "</style>\n",
       "<table border=\"1\" class=\"dataframe\">\n",
       "  <thead>\n",
       "    <tr style=\"text-align: right;\">\n",
       "      <th></th>\n",
       "      <th>start_id</th>\n",
       "      <th>end_id</th>\n",
       "      <th>type</th>\n",
       "      <th>pmids</th>\n",
       "      <th>n_pmids</th>\n",
       "    </tr>\n",
       "  </thead>\n",
       "  <tbody>\n",
       "    <tr>\n",
       "      <th>0</th>\n",
       "      <td>D010447</td>\n",
       "      <td>D010519</td>\n",
       "      <td>AFFECTS_CDafA</td>\n",
       "      <td>[10920248, 19040577]</td>\n",
       "      <td>2</td>\n",
       "    </tr>\n",
       "    <tr>\n",
       "      <th>1</th>\n",
       "      <td>D008239</td>\n",
       "      <td>D022781</td>\n",
       "      <td>AFFECTS_CDafA</td>\n",
       "      <td>[496661, 21106925, 6696070]</td>\n",
       "      <td>3</td>\n",
       "    </tr>\n",
       "  </tbody>\n",
       "</table>\n",
       "</div>"
      ],
      "text/plain": [
       "  start_id   end_id           type                        pmids  n_pmids\n",
       "0  D010447  D010519  AFFECTS_CDafA         [10920248, 19040577]        2\n",
       "1  D008239  D022781  AFFECTS_CDafA  [496661, 21106925, 6696070]        3"
      ]
     },
     "execution_count": 15,
     "metadata": {},
     "output_type": "execute_result"
    }
   ],
   "source": [
    "# turn pmids into a list so order is preserved\n",
    "edges['pmids'] = edges['pmids'].apply(list)\n",
    "edges.head(2)"
   ]
  },
  {
   "cell_type": "code",
   "execution_count": 16,
   "metadata": {},
   "outputs": [
    {
     "name": "stderr",
     "output_type": "stream",
     "text": [
      "100%|██████████| 7784275/7784275 [00:47<00:00, 165153.11it/s]\n"
     ]
    },
    {
     "data": {
      "text/html": [
       "<div>\n",
       "<style scoped>\n",
       "    .dataframe tbody tr th:only-of-type {\n",
       "        vertical-align: middle;\n",
       "    }\n",
       "\n",
       "    .dataframe tbody tr th {\n",
       "        vertical-align: top;\n",
       "    }\n",
       "\n",
       "    .dataframe thead th {\n",
       "        text-align: right;\n",
       "    }\n",
       "</style>\n",
       "<table border=\"1\" class=\"dataframe\">\n",
       "  <thead>\n",
       "    <tr style=\"text-align: right;\">\n",
       "      <th></th>\n",
       "      <th>start_id</th>\n",
       "      <th>end_id</th>\n",
       "      <th>type</th>\n",
       "      <th>pmids</th>\n",
       "      <th>n_pmids</th>\n",
       "      <th>pub_years</th>\n",
       "    </tr>\n",
       "  </thead>\n",
       "  <tbody>\n",
       "    <tr>\n",
       "      <th>0</th>\n",
       "      <td>D010447</td>\n",
       "      <td>D010519</td>\n",
       "      <td>AFFECTS_CDafA</td>\n",
       "      <td>[10920248, 19040577]</td>\n",
       "      <td>2</td>\n",
       "      <td>[2000, 2008]</td>\n",
       "    </tr>\n",
       "    <tr>\n",
       "      <th>1</th>\n",
       "      <td>D008239</td>\n",
       "      <td>D022781</td>\n",
       "      <td>AFFECTS_CDafA</td>\n",
       "      <td>[496661, 21106925, 6696070]</td>\n",
       "      <td>3</td>\n",
       "      <td>[1979, 2010, 1984]</td>\n",
       "    </tr>\n",
       "  </tbody>\n",
       "</table>\n",
       "</div>"
      ],
      "text/plain": [
       "  start_id   end_id           type                        pmids  n_pmids  \\\n",
       "0  D010447  D010519  AFFECTS_CDafA         [10920248, 19040577]        2   \n",
       "1  D008239  D022781  AFFECTS_CDafA  [496661, 21106925, 6696070]        3   \n",
       "\n",
       "            pub_years  \n",
       "0        [2000, 2008]  \n",
       "1  [1979, 2010, 1984]  "
      ]
     },
     "execution_count": 16,
     "metadata": {},
     "output_type": "execute_result"
    }
   ],
   "source": [
    "# Ideally just want minimum year for a given edge, so supplying 9999 for not found pmids will\n",
    "# allow min() to be used on the resulting list.\n",
    "edges['pub_years'] = edges['pmids'].progress_apply(lambda pmids: [id_to_year.get(str(p), 9999) for p in pmids])\n",
    "edges.head(2)"
   ]
  },
  {
   "cell_type": "code",
   "execution_count": 17,
   "metadata": {},
   "outputs": [
    {
     "name": "stderr",
     "output_type": "stream",
     "text": [
      "100%|██████████| 7784275/7784275 [00:13<00:00, 594119.15it/s]\n"
     ]
    },
    {
     "data": {
      "text/html": [
       "<div>\n",
       "<style scoped>\n",
       "    .dataframe tbody tr th:only-of-type {\n",
       "        vertical-align: middle;\n",
       "    }\n",
       "\n",
       "    .dataframe tbody tr th {\n",
       "        vertical-align: top;\n",
       "    }\n",
       "\n",
       "    .dataframe thead th {\n",
       "        text-align: right;\n",
       "    }\n",
       "</style>\n",
       "<table border=\"1\" class=\"dataframe\">\n",
       "  <thead>\n",
       "    <tr style=\"text-align: right;\">\n",
       "      <th></th>\n",
       "      <th>start_id</th>\n",
       "      <th>end_id</th>\n",
       "      <th>type</th>\n",
       "      <th>pmids</th>\n",
       "      <th>n_pmids</th>\n",
       "      <th>pub_years</th>\n",
       "      <th>first_pub</th>\n",
       "    </tr>\n",
       "  </thead>\n",
       "  <tbody>\n",
       "    <tr>\n",
       "      <th>0</th>\n",
       "      <td>D010447</td>\n",
       "      <td>D010519</td>\n",
       "      <td>AFFECTS_CDafA</td>\n",
       "      <td>[10920248, 19040577]</td>\n",
       "      <td>2</td>\n",
       "      <td>[2000, 2008]</td>\n",
       "      <td>2000</td>\n",
       "    </tr>\n",
       "    <tr>\n",
       "      <th>1</th>\n",
       "      <td>D008239</td>\n",
       "      <td>D022781</td>\n",
       "      <td>AFFECTS_CDafA</td>\n",
       "      <td>[496661, 21106925, 6696070]</td>\n",
       "      <td>3</td>\n",
       "      <td>[1979, 2010, 1984]</td>\n",
       "      <td>1979</td>\n",
       "    </tr>\n",
       "  </tbody>\n",
       "</table>\n",
       "</div>"
      ],
      "text/plain": [
       "  start_id   end_id           type                        pmids  n_pmids  \\\n",
       "0  D010447  D010519  AFFECTS_CDafA         [10920248, 19040577]        2   \n",
       "1  D008239  D022781  AFFECTS_CDafA  [496661, 21106925, 6696070]        3   \n",
       "\n",
       "            pub_years  first_pub  \n",
       "0        [2000, 2008]       2000  \n",
       "1  [1979, 2010, 1984]       1979  "
      ]
     },
     "execution_count": 17,
     "metadata": {},
     "output_type": "execute_result"
    }
   ],
   "source": [
    "edges['first_pub'] = edges['pub_years'].progress_apply(min)\n",
    "edges.head(2)"
   ]
  },
  {
   "cell_type": "markdown",
   "metadata": {},
   "source": [
    "## Now the get the dates from the gold standard."
   ]
  },
  {
   "cell_type": "code",
   "execution_count": 18,
   "metadata": {},
   "outputs": [
    {
     "data": {
      "text/html": [
       "<div>\n",
       "<style scoped>\n",
       "    .dataframe tbody tr th:only-of-type {\n",
       "        vertical-align: middle;\n",
       "    }\n",
       "\n",
       "    .dataframe tbody tr th {\n",
       "        vertical-align: top;\n",
       "    }\n",
       "\n",
       "    .dataframe thead th {\n",
       "        text-align: right;\n",
       "    }\n",
       "</style>\n",
       "<table border=\"1\" class=\"dataframe\">\n",
       "  <thead>\n",
       "    <tr style=\"text-align: right;\">\n",
       "      <th></th>\n",
       "      <th>id</th>\n",
       "      <th>struct_id</th>\n",
       "      <th>concept_id</th>\n",
       "      <th>relationship_name</th>\n",
       "      <th>disease_name</th>\n",
       "      <th>umls_cui</th>\n",
       "      <th>snomed_full_name</th>\n",
       "      <th>cui_semantic_type</th>\n",
       "      <th>snomed_conceptid</th>\n",
       "      <th>compound_name</th>\n",
       "      <th>compound_semmed_id</th>\n",
       "      <th>disease_semmed_id</th>\n",
       "      <th>approval_date</th>\n",
       "      <th>approval_year</th>\n",
       "    </tr>\n",
       "  </thead>\n",
       "  <tbody>\n",
       "    <tr>\n",
       "      <th>0</th>\n",
       "      <td>173432</td>\n",
       "      <td>965</td>\n",
       "      <td>40249340</td>\n",
       "      <td>indication</td>\n",
       "      <td>Malignant tumor of breast</td>\n",
       "      <td>C0006142</td>\n",
       "      <td>Malignant tumor of breast</td>\n",
       "      <td>T191</td>\n",
       "      <td>254837009.0</td>\n",
       "      <td>drostanolone propionate</td>\n",
       "      <td>C007561</td>\n",
       "      <td>DOID:1612</td>\n",
       "      <td>NaN</td>\n",
       "      <td>NaN</td>\n",
       "    </tr>\n",
       "    <tr>\n",
       "      <th>1</th>\n",
       "      <td>173433</td>\n",
       "      <td>318</td>\n",
       "      <td>21000716</td>\n",
       "      <td>indication</td>\n",
       "      <td>Gout</td>\n",
       "      <td>C0018099</td>\n",
       "      <td>Gout</td>\n",
       "      <td>T047</td>\n",
       "      <td>90560007.0</td>\n",
       "      <td>benzbromarone</td>\n",
       "      <td>D001553</td>\n",
       "      <td>DOID:13189</td>\n",
       "      <td>NaN</td>\n",
       "      <td>NaN</td>\n",
       "    </tr>\n",
       "  </tbody>\n",
       "</table>\n",
       "</div>"
      ],
      "text/plain": [
       "       id  struct_id  concept_id relationship_name               disease_name  \\\n",
       "0  173432        965    40249340        indication  Malignant tumor of breast   \n",
       "1  173433        318    21000716        indication                       Gout   \n",
       "\n",
       "   umls_cui           snomed_full_name cui_semantic_type  snomed_conceptid  \\\n",
       "0  C0006142  Malignant tumor of breast              T191       254837009.0   \n",
       "1  C0018099                       Gout              T047        90560007.0   \n",
       "\n",
       "             compound_name compound_semmed_id disease_semmed_id approval_date  \\\n",
       "0  drostanolone propionate            C007561         DOID:1612           NaN   \n",
       "1            benzbromarone            D001553        DOID:13189           NaN   \n",
       "\n",
       "   approval_year  \n",
       "0            NaN  \n",
       "1            NaN  "
      ]
     },
     "execution_count": 18,
     "metadata": {},
     "output_type": "execute_result"
    }
   ],
   "source": [
    "indications = pd.read_csv('../data/indications_nodemerge.csv')\n",
    "indications.head(2)"
   ]
  },
  {
   "cell_type": "code",
   "execution_count": 19,
   "metadata": {},
   "outputs": [
    {
     "data": {
      "text/plain": [
       "8279"
      ]
     },
     "execution_count": 19,
     "metadata": {},
     "output_type": "execute_result"
    }
   ],
   "source": [
    "len(indications)"
   ]
  },
  {
   "cell_type": "markdown",
   "metadata": {},
   "source": [
    "Some NA values in the date, won't be useul for this analysis so just drop them"
   ]
  },
  {
   "cell_type": "code",
   "execution_count": 20,
   "metadata": {},
   "outputs": [],
   "source": [
    "indications.dropna(subset=['approval_year'], inplace=True)\n",
    "indications['approval_year'] = indications['approval_year'].astype(int)"
   ]
  },
  {
   "cell_type": "code",
   "execution_count": 21,
   "metadata": {},
   "outputs": [
    {
     "data": {
      "text/plain": [
       "7100"
      ]
     },
     "execution_count": 21,
     "metadata": {},
     "output_type": "execute_result"
    }
   ],
   "source": [
    "len(indications)"
   ]
  },
  {
   "cell_type": "markdown",
   "metadata": {},
   "source": [
    "## Filter nodes and edges by year to build the network"
   ]
  },
  {
   "cell_type": "code",
   "execution_count": 22,
   "metadata": {},
   "outputs": [],
   "source": [
    "base_dir = '../data/time_networks-6_metanode'"
   ]
  },
  {
   "cell_type": "code",
   "execution_count": 23,
   "metadata": {},
   "outputs": [],
   "source": [
    "def get_year_category(diff):\n",
    "    if diff > 20:\n",
    "        return '20+ After'\n",
    "    elif diff >= 15 and diff < 20:\n",
    "        return '15-20 After'\n",
    "    elif diff >= 10 and diff < 15:\n",
    "        return '10-15 After'\n",
    "    elif diff >= 5 and diff < 10:\n",
    "        return '5-10 After'\n",
    "    elif diff >= 0 and diff < 5:\n",
    "        return '0-5 After'\n",
    "    elif diff >= -5 and diff < 0:\n",
    "        return '0-5 Before'\n",
    "    elif diff >= -10 and diff < -5:\n",
    "        return '5-10 Before'\n",
    "    elif diff >= -15 and diff < -10:\n",
    "        return '10-15 Before'\n",
    "    elif diff >= -20 and diff < -15:\n",
    "        return '15-20 Before'\n",
    "    elif diff < -20:\n",
    "        return '20+ Before'"
   ]
  },
  {
   "cell_type": "code",
   "execution_count": 24,
   "metadata": {},
   "outputs": [],
   "source": [
    "def plot_figure(indications, year, out_dir):\n",
    "    \n",
    "    order = ['20+ Before',\n",
    "         '15-20 Before',\n",
    "         '10-15 Before',\n",
    "         '5-10 Before',\n",
    "         '0-5 Before',\n",
    "         '0-5 After',\n",
    "         '5-10 After',\n",
    "         '10-15 After',\n",
    "         '15-20 After',\n",
    "         '20+ After']\n",
    "    \n",
    "    \n",
    "    plt.clf()\n",
    "    plt.figure(figsize=(6, 4.5))\n",
    "\n",
    "    f = sns.countplot(x='year_cat', data=indications, order=order)\n",
    "    \n",
    "    plt.ylabel('Count')\n",
    "    plt.xlabel('Years from approval and {}'.format(year))\n",
    "    plt.xticks(rotation=45)\n",
    "\n",
    "    xlim = f.axes.get_xlim()\n",
    "    x_mid = (xlim[1] + xlim[0]) / 2\n",
    "\n",
    "    tick_diff = f.get_yticks()[1] - f.get_yticks()[0]\n",
    "    y_height = f.get_yticks()[-2] - tick_diff/5 \n",
    "\n",
    "    plt.text(3*x_mid/2, y_height, 'Total indications:\\n          {}'.format(len(indications)))\n",
    "\n",
    "\n",
    "    plt.title('Distribution of approval years for {}'.format(year))\n",
    "    plt.tight_layout()\n",
    "    plt.savefig(os.path.join(out_dir, 'ind-distribution.png'));"
   ]
  },
  {
   "cell_type": "code",
   "execution_count": null,
   "metadata": {
    "scrolled": false
   },
   "outputs": [
    {
     "name": "stderr",
     "output_type": "stream",
     "text": [
      "\r",
      "  0%|          | 0/71 [00:00<?, ?it/s]"
     ]
    },
    {
     "name": "stdout",
     "output_type": "stream",
     "text": [
      "Year: 1950\n",
      "IDs: 8,760\n",
      "Nodes: 8,760\n",
      "Edges: 32,132\n",
      "Indications: 702\n",
      "\n",
      "\n"
     ]
    },
    {
     "name": "stderr",
     "output_type": "stream",
     "text": [
      "\r",
      "  1%|▏         | 1/71 [00:03<04:10,  3.58s/it]"
     ]
    },
    {
     "name": "stdout",
     "output_type": "stream",
     "text": [
      "Year: 1951\n",
      "IDs: 9,685\n",
      "Nodes: 9,685\n",
      "Edges: 38,316\n",
      "Indications: 767\n",
      "\n",
      "\n"
     ]
    },
    {
     "name": "stderr",
     "output_type": "stream",
     "text": [
      "\r",
      "  3%|▎         | 2/71 [00:05<03:34,  3.10s/it]"
     ]
    },
    {
     "name": "stdout",
     "output_type": "stream",
     "text": [
      "Year: 1952\n",
      "IDs: 10,517\n",
      "Nodes: 10,517\n",
      "Edges: 44,232\n",
      "Indications: 848\n",
      "\n",
      "\n"
     ]
    },
    {
     "name": "stderr",
     "output_type": "stream",
     "text": [
      "\r",
      "  4%|▍         | 3/71 [00:07<03:09,  2.79s/it]"
     ]
    },
    {
     "name": "stdout",
     "output_type": "stream",
     "text": [
      "Year: 1953\n",
      "IDs: 11,346\n",
      "Nodes: 11,346\n",
      "Edges: 50,218\n",
      "Indications: 917\n",
      "\n",
      "\n"
     ]
    },
    {
     "name": "stderr",
     "output_type": "stream",
     "text": [
      "\r",
      "  6%|▌         | 4/71 [00:09<02:50,  2.55s/it]"
     ]
    },
    {
     "name": "stdout",
     "output_type": "stream",
     "text": [
      "Year: 1954\n",
      "IDs: 12,070\n",
      "Nodes: 12,070\n",
      "Edges: 55,995\n",
      "Indications: 992\n",
      "\n",
      "\n"
     ]
    },
    {
     "name": "stderr",
     "output_type": "stream",
     "text": [
      "\r",
      "  7%|▋         | 5/71 [00:11<02:39,  2.42s/it]"
     ]
    },
    {
     "name": "stdout",
     "output_type": "stream",
     "text": [
      "Year: 1955\n",
      "IDs: 12,789\n",
      "Nodes: 12,789\n",
      "Edges: 62,045\n",
      "Indications: 1,121\n",
      "\n",
      "\n"
     ]
    },
    {
     "name": "stderr",
     "output_type": "stream",
     "text": [
      "\r",
      "  8%|▊         | 6/71 [00:14<02:37,  2.43s/it]"
     ]
    },
    {
     "name": "stdout",
     "output_type": "stream",
     "text": [
      "Year: 1956\n",
      "IDs: 13,486\n",
      "Nodes: 13,486\n",
      "Edges: 67,886\n",
      "Indications: 1,256\n",
      "\n",
      "\n"
     ]
    },
    {
     "name": "stderr",
     "output_type": "stream",
     "text": [
      "\r",
      " 10%|▉         | 7/71 [00:16<02:33,  2.40s/it]"
     ]
    },
    {
     "name": "stdout",
     "output_type": "stream",
     "text": [
      "Year: 1957\n",
      "IDs: 14,193\n",
      "Nodes: 14,193\n",
      "Edges: 74,010\n",
      "Indications: 1,294\n",
      "\n",
      "\n"
     ]
    },
    {
     "name": "stderr",
     "output_type": "stream",
     "text": [
      "\r",
      " 11%|█▏        | 8/71 [00:19<02:37,  2.50s/it]"
     ]
    },
    {
     "name": "stdout",
     "output_type": "stream",
     "text": [
      "Year: 1958\n",
      "IDs: 14,912\n",
      "Nodes: 14,912\n",
      "Edges: 80,073\n",
      "Indications: 1,551\n",
      "\n",
      "\n"
     ]
    },
    {
     "name": "stderr",
     "output_type": "stream",
     "text": [
      "\r",
      " 13%|█▎        | 9/71 [00:21<02:36,  2.52s/it]"
     ]
    },
    {
     "name": "stdout",
     "output_type": "stream",
     "text": [
      "Year: 1959\n",
      "IDs: 15,625\n",
      "Nodes: 15,625\n",
      "Edges: 86,241\n",
      "Indications: 1,639\n",
      "\n",
      "\n"
     ]
    },
    {
     "name": "stderr",
     "output_type": "stream",
     "text": [
      "\r",
      " 14%|█▍        | 10/71 [00:24<02:37,  2.58s/it]"
     ]
    },
    {
     "name": "stdout",
     "output_type": "stream",
     "text": [
      "Year: 1960\n",
      "IDs: 16,327\n",
      "Nodes: 16,327\n",
      "Edges: 92,536\n",
      "Indications: 1,756\n",
      "\n",
      "\n"
     ]
    },
    {
     "name": "stderr",
     "output_type": "stream",
     "text": [
      "\r",
      " 15%|█▌        | 11/71 [00:27<02:47,  2.80s/it]"
     ]
    },
    {
     "name": "stdout",
     "output_type": "stream",
     "text": [
      "Year: 1961\n",
      "IDs: 17,052\n",
      "Nodes: 17,052\n",
      "Edges: 99,392\n",
      "Indications: 1,822\n",
      "\n",
      "\n"
     ]
    },
    {
     "name": "stderr",
     "output_type": "stream",
     "text": [
      "\r",
      " 17%|█▋        | 12/71 [00:31<02:57,  3.01s/it]"
     ]
    },
    {
     "name": "stdout",
     "output_type": "stream",
     "text": [
      "Year: 1962\n",
      "IDs: 17,863\n",
      "Nodes: 17,863\n",
      "Edges: 106,707\n",
      "Indications: 1,921\n",
      "\n",
      "\n"
     ]
    },
    {
     "name": "stderr",
     "output_type": "stream",
     "text": [
      "\r",
      " 18%|█▊        | 13/71 [00:34<02:56,  3.04s/it]"
     ]
    },
    {
     "name": "stdout",
     "output_type": "stream",
     "text": [
      "Year: 1963\n",
      "IDs: 18,716\n",
      "Nodes: 18,716\n",
      "Edges: 114,824\n",
      "Indications: 2,025\n",
      "\n",
      "\n"
     ]
    },
    {
     "name": "stderr",
     "output_type": "stream",
     "text": [
      "\r",
      " 20%|█▉        | 14/71 [00:37<02:59,  3.15s/it]"
     ]
    },
    {
     "name": "stdout",
     "output_type": "stream",
     "text": [
      "Year: 1964\n",
      "IDs: 19,672\n",
      "Nodes: 19,672\n",
      "Edges: 123,918\n",
      "Indications: 2,126\n",
      "\n",
      "\n"
     ]
    },
    {
     "name": "stderr",
     "output_type": "stream",
     "text": [
      "\r",
      " 21%|██        | 15/71 [00:41<03:01,  3.25s/it]"
     ]
    },
    {
     "name": "stdout",
     "output_type": "stream",
     "text": [
      "Year: 1965\n",
      "IDs: 20,631\n",
      "Nodes: 20,631\n",
      "Edges: 133,854\n",
      "Indications: 2,187\n",
      "\n",
      "\n"
     ]
    },
    {
     "name": "stderr",
     "output_type": "stream",
     "text": [
      "\r",
      " 23%|██▎       | 16/71 [00:45<03:07,  3.41s/it]"
     ]
    },
    {
     "name": "stdout",
     "output_type": "stream",
     "text": [
      "Year: 1966\n",
      "IDs: 21,651\n",
      "Nodes: 21,651\n",
      "Edges: 144,660\n",
      "Indications: 2,265\n",
      "\n",
      "\n"
     ]
    },
    {
     "name": "stderr",
     "output_type": "stream",
     "text": [
      "\r",
      " 24%|██▍       | 17/71 [00:48<03:11,  3.54s/it]"
     ]
    },
    {
     "name": "stdout",
     "output_type": "stream",
     "text": [
      "Year: 1967\n",
      "IDs: 22,724\n",
      "Nodes: 22,724\n",
      "Edges: 156,604\n",
      "Indications: 2,312\n",
      "\n",
      "\n"
     ]
    },
    {
     "name": "stderr",
     "output_type": "stream",
     "text": [
      "\r",
      " 25%|██▌       | 18/71 [00:53<03:18,  3.74s/it]"
     ]
    },
    {
     "name": "stdout",
     "output_type": "stream",
     "text": [
      "Year: 1968\n",
      "IDs: 23,861\n",
      "Nodes: 23,861\n",
      "Edges: 169,468\n",
      "Indications: 2,387\n",
      "\n",
      "\n"
     ]
    },
    {
     "name": "stderr",
     "output_type": "stream",
     "text": [
      "\r",
      " 27%|██▋       | 19/71 [00:57<03:23,  3.92s/it]"
     ]
    },
    {
     "name": "stdout",
     "output_type": "stream",
     "text": [
      "Year: 1969\n",
      "IDs: 25,037\n",
      "Nodes: 25,037\n",
      "Edges: 183,150\n",
      "Indications: 2,476\n",
      "\n",
      "\n"
     ]
    },
    {
     "name": "stderr",
     "output_type": "stream",
     "text": [
      "\r",
      " 28%|██▊       | 20/71 [01:02<03:29,  4.10s/it]"
     ]
    },
    {
     "name": "stdout",
     "output_type": "stream",
     "text": [
      "Year: 1970\n",
      "IDs: 26,194\n",
      "Nodes: 26,194\n",
      "Edges: 197,535\n",
      "Indications: 2,550\n",
      "\n",
      "\n"
     ]
    },
    {
     "name": "stderr",
     "output_type": "stream",
     "text": [
      "\r",
      " 30%|██▉       | 21/71 [01:07<03:39,  4.39s/it]"
     ]
    },
    {
     "name": "stdout",
     "output_type": "stream",
     "text": [
      "Year: 1971\n",
      "IDs: 27,423\n",
      "Nodes: 27,423\n",
      "Edges: 212,861\n",
      "Indications: 2,690\n",
      "\n",
      "\n"
     ]
    },
    {
     "name": "stderr",
     "output_type": "stream",
     "text": [
      "\r",
      " 31%|███       | 22/71 [01:12<03:45,  4.59s/it]"
     ]
    },
    {
     "name": "stdout",
     "output_type": "stream",
     "text": [
      "Year: 1972\n",
      "IDs: 28,638\n",
      "Nodes: 28,638\n",
      "Edges: 228,774\n",
      "Indications: 2,786\n",
      "\n",
      "\n"
     ]
    },
    {
     "name": "stderr",
     "output_type": "stream",
     "text": [
      "\r",
      " 32%|███▏      | 23/71 [01:17<03:50,  4.80s/it]"
     ]
    },
    {
     "name": "stdout",
     "output_type": "stream",
     "text": [
      "Year: 1973\n",
      "IDs: 29,831\n",
      "Nodes: 29,831\n",
      "Edges: 245,384\n",
      "Indications: 2,857\n",
      "\n",
      "\n"
     ]
    },
    {
     "name": "stderr",
     "output_type": "stream",
     "text": [
      "\r",
      " 34%|███▍      | 24/71 [01:23<03:57,  5.04s/it]"
     ]
    },
    {
     "name": "stdout",
     "output_type": "stream",
     "text": [
      "Year: 1974\n",
      "IDs: 31,131\n",
      "Nodes: 31,131\n",
      "Edges: 263,507\n",
      "Indications: 2,957\n",
      "\n",
      "\n"
     ]
    },
    {
     "name": "stderr",
     "output_type": "stream",
     "text": [
      "\r",
      " 35%|███▌      | 25/71 [01:28<04:03,  5.29s/it]"
     ]
    },
    {
     "name": "stdout",
     "output_type": "stream",
     "text": [
      "Year: 1975\n",
      "IDs: 34,637\n",
      "Nodes: 34,637\n",
      "Edges: 320,145\n",
      "Indications: 3,076\n",
      "\n",
      "\n"
     ]
    },
    {
     "name": "stderr",
     "output_type": "stream",
     "text": [
      "\r",
      " 37%|███▋      | 26/71 [01:35<04:16,  5.70s/it]"
     ]
    },
    {
     "name": "stdout",
     "output_type": "stream",
     "text": [
      "Year: 1976\n",
      "IDs: 37,748\n",
      "Nodes: 37,748\n",
      "Edges: 377,969\n",
      "Indications: 3,236\n",
      "\n",
      "\n"
     ]
    },
    {
     "name": "stderr",
     "output_type": "stream",
     "text": [
      "\r",
      " 38%|███▊      | 27/71 [01:42<04:31,  6.18s/it]"
     ]
    },
    {
     "name": "stdout",
     "output_type": "stream",
     "text": [
      "Year: 1977\n",
      "IDs: 40,303\n",
      "Nodes: 40,303\n",
      "Edges: 430,123\n",
      "Indications: 3,352\n",
      "\n",
      "\n"
     ]
    },
    {
     "name": "stderr",
     "output_type": "stream",
     "text": [
      "\r",
      " 39%|███▉      | 28/71 [01:50<04:45,  6.65s/it]"
     ]
    },
    {
     "name": "stdout",
     "output_type": "stream",
     "text": [
      "Year: 1978\n",
      "IDs: 42,717\n",
      "Nodes: 42,717\n",
      "Edges: 482,739\n",
      "Indications: 3,428\n",
      "\n",
      "\n"
     ]
    },
    {
     "name": "stderr",
     "output_type": "stream",
     "text": [
      "\r",
      " 41%|████      | 29/71 [01:58<04:59,  7.12s/it]"
     ]
    },
    {
     "name": "stdout",
     "output_type": "stream",
     "text": [
      "Year: 1979\n",
      "IDs: 45,112\n",
      "Nodes: 45,112\n",
      "Edges: 538,632\n",
      "Indications: 3,496\n",
      "\n",
      "\n"
     ]
    },
    {
     "name": "stderr",
     "output_type": "stream",
     "text": [
      "\r",
      " 42%|████▏     | 30/71 [02:07<05:15,  7.70s/it]"
     ]
    },
    {
     "name": "stdout",
     "output_type": "stream",
     "text": [
      "Year: 1980\n",
      "IDs: 47,613\n",
      "Nodes: 47,613\n",
      "Edges: 600,155\n",
      "Indications: 3,637\n",
      "\n",
      "\n"
     ]
    },
    {
     "name": "stderr",
     "output_type": "stream",
     "text": [
      "\r",
      " 44%|████▎     | 31/71 [02:17<05:36,  8.41s/it]"
     ]
    },
    {
     "name": "stdout",
     "output_type": "stream",
     "text": [
      "Year: 1981\n",
      "IDs: 50,106\n",
      "Nodes: 50,106\n",
      "Edges: 665,613\n",
      "Indications: 3,712\n",
      "\n",
      "\n"
     ]
    },
    {
     "name": "stderr",
     "output_type": "stream",
     "text": [
      "\r",
      " 45%|████▌     | 32/71 [02:28<05:50,  8.98s/it]"
     ]
    },
    {
     "name": "stdout",
     "output_type": "stream",
     "text": [
      "Year: 1982\n",
      "IDs: 52,640\n",
      "Nodes: 52,640\n",
      "Edges: 736,492\n",
      "Indications: 3,856\n",
      "\n",
      "\n"
     ]
    },
    {
     "name": "stderr",
     "output_type": "stream",
     "text": [
      "\r",
      " 46%|████▋     | 33/71 [02:39<06:02,  9.55s/it]"
     ]
    },
    {
     "name": "stdout",
     "output_type": "stream",
     "text": [
      "Year: 1983\n",
      "IDs: 55,359\n",
      "Nodes: 55,359\n",
      "Edges: 819,785\n",
      "Indications: 3,950\n",
      "\n",
      "\n"
     ]
    },
    {
     "name": "stderr",
     "output_type": "stream",
     "text": [
      "\r",
      " 48%|████▊     | 34/71 [02:51<06:20, 10.29s/it]"
     ]
    },
    {
     "name": "stdout",
     "output_type": "stream",
     "text": [
      "Year: 1984\n",
      "IDs: 58,258\n",
      "Nodes: 58,258\n",
      "Edges: 909,498\n",
      "Indications: 4,075\n",
      "\n",
      "\n"
     ]
    },
    {
     "name": "stderr",
     "output_type": "stream",
     "text": [
      "\r",
      " 49%|████▉     | 35/71 [03:03<06:32, 10.91s/it]"
     ]
    },
    {
     "name": "stdout",
     "output_type": "stream",
     "text": [
      "Year: 1985\n",
      "IDs: 61,017\n",
      "Nodes: 61,017\n",
      "Edges: 1,004,502\n",
      "Indications: 4,171\n",
      "\n",
      "\n"
     ]
    },
    {
     "name": "stderr",
     "output_type": "stream",
     "text": [
      "\r",
      " 51%|█████     | 36/71 [03:18<07:04, 12.13s/it]"
     ]
    },
    {
     "name": "stdout",
     "output_type": "stream",
     "text": [
      "Year: 1986\n",
      "IDs: 63,575\n",
      "Nodes: 63,575\n",
      "Edges: 1,104,204\n",
      "Indications: 4,245\n",
      "\n",
      "\n"
     ]
    },
    {
     "name": "stderr",
     "output_type": "stream",
     "text": [
      "\r",
      " 52%|█████▏    | 37/71 [03:32<07:12, 12.71s/it]"
     ]
    },
    {
     "name": "stdout",
     "output_type": "stream",
     "text": [
      "Year: 1987\n",
      "IDs: 66,332\n",
      "Nodes: 66,332\n",
      "Edges: 1,208,485\n",
      "Indications: 4,290\n",
      "\n",
      "\n"
     ]
    },
    {
     "name": "stderr",
     "output_type": "stream",
     "text": [
      "\r",
      " 54%|█████▎    | 38/71 [03:47<07:19, 13.33s/it]"
     ]
    },
    {
     "name": "stdout",
     "output_type": "stream",
     "text": [
      "Year: 1988\n",
      "IDs: 69,084\n",
      "Nodes: 69,084\n",
      "Edges: 1,317,483\n",
      "Indications: 4,389\n",
      "\n",
      "\n"
     ]
    },
    {
     "name": "stderr",
     "output_type": "stream",
     "text": [
      "\r",
      " 55%|█████▍    | 39/71 [04:03<07:30, 14.06s/it]"
     ]
    },
    {
     "name": "stdout",
     "output_type": "stream",
     "text": [
      "Year: 1989\n",
      "IDs: 72,200\n",
      "Nodes: 72,200\n",
      "Edges: 1,444,650\n",
      "Indications: 4,478\n",
      "\n",
      "\n"
     ]
    },
    {
     "name": "stderr",
     "output_type": "stream",
     "text": [
      "\r",
      " 56%|█████▋    | 40/71 [04:19<07:40, 14.84s/it]"
     ]
    },
    {
     "name": "stdout",
     "output_type": "stream",
     "text": [
      "Year: 1990\n",
      "IDs: 75,302\n",
      "Nodes: 75,302\n",
      "Edges: 1,575,901\n",
      "Indications: 4,586\n",
      "\n",
      "\n"
     ]
    },
    {
     "name": "stderr",
     "output_type": "stream",
     "text": [
      "\r",
      " 58%|█████▊    | 41/71 [04:38<08:03, 16.13s/it]"
     ]
    },
    {
     "name": "stdout",
     "output_type": "stream",
     "text": [
      "Year: 1991\n",
      "IDs: 78,297\n",
      "Nodes: 78,297\n",
      "Edges: 1,712,147\n",
      "Indications: 4,639\n",
      "\n",
      "\n"
     ]
    },
    {
     "name": "stderr",
     "output_type": "stream",
     "text": [
      "\r",
      " 59%|█████▉    | 42/71 [04:57<08:06, 16.76s/it]"
     ]
    },
    {
     "name": "stdout",
     "output_type": "stream",
     "text": [
      "Year: 1992\n",
      "IDs: 81,400\n",
      "Nodes: 81,400\n",
      "Edges: 1,857,605\n",
      "Indications: 4,687\n",
      "\n",
      "\n"
     ]
    },
    {
     "name": "stderr",
     "output_type": "stream",
     "text": [
      "\r",
      " 61%|██████    | 43/71 [05:16<08:07, 17.42s/it]"
     ]
    },
    {
     "name": "stdout",
     "output_type": "stream",
     "text": [
      "Year: 1993\n",
      "IDs: 84,420\n",
      "Nodes: 84,420\n",
      "Edges: 2,006,637\n",
      "Indications: 4,729\n",
      "\n",
      "\n"
     ]
    },
    {
     "name": "stderr",
     "output_type": "stream",
     "text": [
      "\r",
      " 62%|██████▏   | 44/71 [05:36<08:10, 18.18s/it]"
     ]
    },
    {
     "name": "stdout",
     "output_type": "stream",
     "text": [
      "Year: 1994\n",
      "IDs: 87,544\n",
      "Nodes: 87,544\n",
      "Edges: 2,167,083\n",
      "Indications: 4,772\n",
      "\n",
      "\n"
     ]
    },
    {
     "name": "stderr",
     "output_type": "stream",
     "text": [
      "\r",
      " 63%|██████▎   | 45/71 [05:56<08:14, 19.00s/it]"
     ]
    },
    {
     "name": "stdout",
     "output_type": "stream",
     "text": [
      "Year: 1995\n",
      "IDs: 90,705\n",
      "Nodes: 90,705\n",
      "Edges: 2,336,569\n",
      "Indications: 4,882\n",
      "\n",
      "\n"
     ]
    },
    {
     "name": "stderr",
     "output_type": "stream",
     "text": [
      "\r",
      " 65%|██████▍   | 46/71 [06:21<08:35, 20.63s/it]"
     ]
    },
    {
     "name": "stdout",
     "output_type": "stream",
     "text": [
      "Year: 1996\n",
      "IDs: 93,780\n",
      "Nodes: 93,780\n",
      "Edges: 2,515,942\n",
      "Indications: 4,911\n",
      "\n",
      "\n"
     ]
    },
    {
     "name": "stderr",
     "output_type": "stream",
     "text": [
      "\r",
      " 66%|██████▌   | 47/71 [06:44<08:35, 21.49s/it]"
     ]
    },
    {
     "name": "stdout",
     "output_type": "stream",
     "text": [
      "Year: 1997\n",
      "IDs: 96,566\n",
      "Nodes: 96,566\n",
      "Edges: 2,683,221\n",
      "Indications: 4,954\n",
      "\n",
      "\n"
     ]
    },
    {
     "name": "stderr",
     "output_type": "stream",
     "text": [
      "\r",
      " 68%|██████▊   | 48/71 [07:08<08:31, 22.26s/it]"
     ]
    },
    {
     "name": "stdout",
     "output_type": "stream",
     "text": [
      "Year: 1998\n",
      "IDs: 99,591\n",
      "Nodes: 99,591\n",
      "Edges: 2,873,814\n",
      "Indications: 5,030\n",
      "\n",
      "\n"
     ]
    },
    {
     "name": "stderr",
     "output_type": "stream",
     "text": [
      "\r",
      " 69%|██████▉   | 49/71 [07:34<08:31, 23.24s/it]"
     ]
    },
    {
     "name": "stdout",
     "output_type": "stream",
     "text": [
      "Year: 1999\n",
      "IDs: 102,504\n",
      "Nodes: 102,504\n",
      "Edges: 3,068,494\n",
      "Indications: 5,076\n",
      "\n",
      "\n"
     ]
    },
    {
     "name": "stderr",
     "output_type": "stream",
     "text": [
      "\r",
      " 70%|███████   | 50/71 [08:01<08:29, 24.26s/it]"
     ]
    },
    {
     "name": "stdout",
     "output_type": "stream",
     "text": [
      "Year: 2000\n",
      "IDs: 105,381\n",
      "Nodes: 105,381\n",
      "Edges: 3,267,627\n",
      "Indications: 5,102\n",
      "\n",
      "\n"
     ]
    },
    {
     "name": "stderr",
     "output_type": "stream",
     "text": [
      "\r",
      " 72%|███████▏  | 51/71 [08:30<08:38, 25.94s/it]"
     ]
    },
    {
     "name": "stdout",
     "output_type": "stream",
     "text": [
      "Year: 2001\n",
      "IDs: 108,350\n",
      "Nodes: 108,350\n",
      "Edges: 3,477,303\n",
      "Indications: 5,149\n",
      "\n",
      "\n"
     ]
    },
    {
     "name": "stderr",
     "output_type": "stream",
     "text": [
      "\r",
      " 73%|███████▎  | 52/71 [09:00<08:31, 26.91s/it]"
     ]
    },
    {
     "name": "stdout",
     "output_type": "stream",
     "text": [
      "Year: 2002\n",
      "IDs: 111,176\n",
      "Nodes: 111,176\n",
      "Edges: 3,697,783\n",
      "Indications: 5,178\n",
      "\n",
      "\n"
     ]
    },
    {
     "name": "stderr",
     "output_type": "stream",
     "text": [
      "\r",
      " 75%|███████▍  | 53/71 [09:30<08:22, 27.90s/it]"
     ]
    },
    {
     "name": "stdout",
     "output_type": "stream",
     "text": [
      "Year: 2003\n",
      "IDs: 113,834\n",
      "Nodes: 113,834\n",
      "Edges: 3,925,492\n",
      "Indications: 5,203\n",
      "\n",
      "\n"
     ]
    },
    {
     "name": "stderr",
     "output_type": "stream",
     "text": [
      "\r",
      " 76%|███████▌  | 54/71 [10:01<08:11, 28.93s/it]"
     ]
    },
    {
     "name": "stdout",
     "output_type": "stream",
     "text": [
      "Year: 2004\n",
      "IDs: 116,382\n",
      "Nodes: 116,382\n",
      "Edges: 4,156,878\n",
      "Indications: 5,219\n",
      "\n",
      "\n"
     ]
    },
    {
     "name": "stderr",
     "output_type": "stream",
     "text": [
      "\r",
      " 77%|███████▋  | 55/71 [10:34<08:02, 30.18s/it]"
     ]
    },
    {
     "name": "stdout",
     "output_type": "stream",
     "text": [
      "Year: 2005\n",
      "IDs: 118,537\n",
      "Nodes: 118,537\n",
      "Edges: 4,401,455\n",
      "Indications: 5,239\n",
      "\n",
      "\n"
     ]
    },
    {
     "name": "stderr",
     "output_type": "stream",
     "text": [
      "\r",
      " 79%|███████▉  | 56/71 [11:11<08:01, 32.09s/it]"
     ]
    },
    {
     "name": "stdout",
     "output_type": "stream",
     "text": [
      "Year: 2006\n",
      "IDs: 120,265\n",
      "Nodes: 120,265\n",
      "Edges: 4,641,341\n",
      "Indications: 5,241\n",
      "\n",
      "\n"
     ]
    },
    {
     "name": "stderr",
     "output_type": "stream",
     "text": [
      "\r",
      " 80%|████████  | 57/71 [11:46<07:42, 33.03s/it]"
     ]
    },
    {
     "name": "stdout",
     "output_type": "stream",
     "text": [
      "Year: 2007\n",
      "IDs: 121,869\n",
      "Nodes: 121,869\n",
      "Edges: 4,885,904\n",
      "Indications: 5,272\n",
      "\n",
      "\n"
     ]
    },
    {
     "name": "stderr",
     "output_type": "stream",
     "text": [
      "\r",
      " 82%|████████▏ | 58/71 [12:23<07:24, 34.18s/it]"
     ]
    },
    {
     "name": "stdout",
     "output_type": "stream",
     "text": [
      "Year: 2008\n",
      "IDs: 123,443\n",
      "Nodes: 123,443\n",
      "Edges: 5,132,386\n",
      "Indications: 5,306\n",
      "\n",
      "\n"
     ]
    },
    {
     "name": "stderr",
     "output_type": "stream",
     "text": [
      "\r",
      " 83%|████████▎ | 59/71 [13:03<07:10, 35.91s/it]"
     ]
    },
    {
     "name": "stdout",
     "output_type": "stream",
     "text": [
      "Year: 2009\n",
      "IDs: 124,975\n",
      "Nodes: 124,975\n",
      "Edges: 5,385,037\n",
      "Indications: 5,312\n",
      "\n",
      "\n"
     ]
    },
    {
     "name": "stderr",
     "output_type": "stream",
     "text": [
      "\r",
      " 85%|████████▍ | 60/71 [13:42<06:44, 36.75s/it]"
     ]
    },
    {
     "name": "stdout",
     "output_type": "stream",
     "text": [
      "Year: 2010\n",
      "IDs: 126,417\n",
      "Nodes: 126,417\n",
      "Edges: 5,642,719\n",
      "Indications: 5,313\n",
      "\n",
      "\n"
     ]
    },
    {
     "name": "stderr",
     "output_type": "stream",
     "text": [
      "\r",
      " 86%|████████▌ | 61/71 [14:23<06:22, 38.23s/it]"
     ]
    },
    {
     "name": "stdout",
     "output_type": "stream",
     "text": [
      "Year: 2011\n",
      "IDs: 127,779\n",
      "Nodes: 127,779\n",
      "Edges: 5,910,826\n",
      "Indications: 5,314\n",
      "\n",
      "\n"
     ]
    },
    {
     "name": "stderr",
     "output_type": "stream",
     "text": [
      "\r",
      " 87%|████████▋ | 62/71 [15:06<05:55, 39.55s/it]"
     ]
    },
    {
     "name": "stdout",
     "output_type": "stream",
     "text": [
      "Year: 2012\n",
      "IDs: 129,156\n",
      "Nodes: 129,156\n",
      "Edges: 6,186,444\n",
      "Indications: 5,327\n",
      "\n",
      "\n"
     ]
    },
    {
     "name": "stderr",
     "output_type": "stream",
     "text": [
      "\r",
      " 89%|████████▊ | 63/71 [15:49<05:25, 40.68s/it]"
     ]
    },
    {
     "name": "stdout",
     "output_type": "stream",
     "text": [
      "Year: 2013\n",
      "IDs: 130,461\n",
      "Nodes: 130,461\n",
      "Edges: 6,473,709\n",
      "Indications: 5,327\n",
      "\n",
      "\n"
     ]
    },
    {
     "name": "stderr",
     "output_type": "stream",
     "text": [
      "\r",
      " 90%|█████████ | 64/71 [16:34<04:53, 41.87s/it]"
     ]
    },
    {
     "name": "stdout",
     "output_type": "stream",
     "text": [
      "Year: 2014\n",
      "IDs: 131,767\n",
      "Nodes: 131,767\n",
      "Edges: 6,766,340\n",
      "Indications: 5,328\n",
      "\n",
      "\n"
     ]
    }
   ],
   "source": [
    "for year in tqdm(range(1950, 2021, 1)):\n",
    "\n",
    "    # Define the save directory\n",
    "    out_dir = os.path.join(base_dir, str(year))\n",
    "\n",
    "    # Make sure the save directory exists, if not, make it\n",
    "    try:\n",
    "        os.stat(out_dir)\n",
    "    except:\n",
    "        os.makedirs(out_dir)       \n",
    "    \n",
    "    # Filter the edges by year\n",
    "    e_filt = edges.query('first_pub <= @year')\n",
    "\n",
    "    # Keep only nodes that have edges joining them\n",
    "    node_ids = set(e_filt['start_id']).union(set(e_filt['end_id']))\n",
    "    n_filt = nodes.query('id in @node_ids')\n",
    "\n",
    "    # Keep only indications that have both the compound and disease still existing in the network\n",
    "    ind_filt = indications.query('compound_semmed_id in @node_ids and disease_semmed_id in @node_ids').reset_index(drop=True)\n",
    "\n",
    "    # Determine the difference between the current year and approval\n",
    "    ind_filt['year_diff'] = ind_filt['approval_year'] - year\n",
    "    ind_filt['year_cat'] = ind_filt['year_diff'].apply(get_year_category)\n",
    "\n",
    "    print(\"Year: {}\\nIDs: {:,}\\nNodes: {:,}\\nEdges: {:,}\\nIndications: {:,}\\n\\n\".format(\n",
    "        year, len(node_ids), len(n_filt), len(e_filt), len(ind_filt)))\n",
    "    \n",
    "    # Save the network, indications, and summary figure\n",
    "    (gt.add_colons(n_filt, id_name='cui')\n",
    "       .to_csv(os.path.join(out_dir, 'nodes.csv'), index=False))\n",
    "    (gt.add_colons(e_filt, col_types={'n_pmids':'INT', 'first_pub':'INT'})\n",
    "       .to_csv(os.path.join(out_dir, 'edges.csv'), index=False))\n",
    "    ind_filt.to_csv(os.path.join(out_dir, 'indications.csv'), index=False)\n",
    "    #plot_figure(ind_filt, year, out_dir);"
   ]
  }
 ],
 "metadata": {
  "kernelspec": {
   "display_name": "Python 3",
   "language": "python",
   "name": "python3"
  },
  "language_info": {
   "codemirror_mode": {
    "name": "ipython",
    "version": 3
   },
   "file_extension": ".py",
   "mimetype": "text/x-python",
   "name": "python",
   "nbconvert_exporter": "python",
   "pygments_lexer": "ipython3",
   "version": "3.6.6"
  }
 },
 "nbformat": 4,
 "nbformat_minor": 2
}
