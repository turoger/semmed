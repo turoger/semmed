{
 "cells": [
  {
   "cell_type": "markdown",
   "id": "2703651c-ec7d-4206-9cf7-8e0ef88df5ff",
   "metadata": {
    "jp-MarkdownHeadingCollapsed": true
   },
   "source": [
    "# Notable differences between Polars and Pandas\n",
    "* Polars is significantly faster than Pandas if you follow their api and strategies\n",
    "* Polars has lazy execution, which allows the backend to decide which operations to run in order to minimize overhead, through parallization\n",
    "* Polars is based on `rust`, so it has a smaller memory footprint\n",
    "* Polars doesn't use indexes, and has strict datatypes; for example Pandas allows dictionaries in a Series"
   ]
  },
  {
   "cell_type": "markdown",
   "id": "c2856cd7-7bdc-4422-9d35-a350a3325ab3",
   "metadata": {},
   "source": [
    "# Installing Polars\n",
    "* In your environment, install polwars with `pip install polars`\n",
    "* If you want all dependencies, you can install with `pip install polars[all]`.\n",
    "* For me...\n",
    "\n",
    "```bash\n",
    "pip install polars[pandas,numpy,pyarrow]\n",
    "```"
   ]
  },
  {
   "cell_type": "markdown",
   "id": "b7ef094d-0262-4eab-812e-0be53b0fbe0e",
   "metadata": {
    "jp-MarkdownHeadingCollapsed": true
   },
   "source": [
    "# Basic Polar manipulations\n",
    "* this data is a processed form of SemMedDB, a dataset of triples (subject-predicate-object) facts backed by a publication (pmid) and the date it was published (pub_years)\n",
    "* start_id, and end_id are unique entity identifiers, we can look them up in a separate file"
   ]
  },
  {
   "cell_type": "markdown",
   "id": "061775ac-ce78-4f69-b47c-ce1da15b4aac",
   "metadata": {},
   "source": [
    "## reading dataframes in, creating a test dataset"
   ]
  },
  {
   "cell_type": "code",
   "execution_count": 1,
   "id": "dfa639ed-53aa-4e92-a217-59c3b1c706ce",
   "metadata": {},
   "outputs": [],
   "source": [
    "import polars as pl # polars\n",
    "import pandas as pd # pandas"
   ]
  },
  {
   "cell_type": "code",
   "execution_count": 2,
   "id": "29fefcbf-2e4f-48d0-a6db-fefe18fe8afc",
   "metadata": {},
   "outputs": [
    {
     "data": {
      "text/html": [
       "<div><style>\n",
       ".dataframe > thead > tr,\n",
       ".dataframe > tbody > tr {\n",
       "  text-align: right;\n",
       "  white-space: pre-wrap;\n",
       "}\n",
       "</style>\n",
       "<small>shape: (5, 7)</small><table border=\"1\" class=\"dataframe\"><thead><tr><th>:START_ID</th><th>:END_ID</th><th>:TYPE</th><th>pmids</th><th>n_pmids:INT</th><th>pub_years</th><th>first_pub:INT</th></tr><tr><td>str</td><td>str</td><td>str</td><td>str</td><td>i64</td><td>str</td><td>i64</td></tr></thead><tbody><tr><td>&quot;C1417544&quot;</td><td>&quot;D016676&quot;</td><td>&quot;ADMINISTERED_T…</td><td>&quot;[&#x27;35694306&#x27;]&quot;</td><td>1</td><td>&quot;[2022]&quot;</td><td>2022</td></tr><tr><td>&quot;D016334&quot;</td><td>&quot;D006367&quot;</td><td>&quot;ADMINISTERED_T…</td><td>&quot;[&#x27;12431786&#x27;]&quot;</td><td>1</td><td>&quot;[2002]&quot;</td><td>2002</td></tr><tr><td>&quot;C3147220&quot;</td><td>&quot;C0597694&quot;</td><td>&quot;ADMINISTERED_T…</td><td>&quot;[&#x27;2060650&#x27;]&quot;</td><td>1</td><td>&quot;[1991]&quot;</td><td>1991</td></tr><tr><td>&quot;C0919506&quot;</td><td>&quot;C1513528&quot;</td><td>&quot;ADMINISTERED_T…</td><td>&quot;[&#x27;8625325&#x27;]&quot;</td><td>1</td><td>&quot;[1996]&quot;</td><td>1996</td></tr><tr><td>&quot;C3147220&quot;</td><td>&quot;C0882849&quot;</td><td>&quot;ADMINISTERED_T…</td><td>&quot;[&#x27;16109763&#x27;]&quot;</td><td>1</td><td>&quot;[2005]&quot;</td><td>2005</td></tr></tbody></table></div>"
      ],
      "text/plain": [
       "shape: (5, 7)\n",
       "┌───────────┬──────────┬──────────────────┬──────────────┬─────────────┬───────────┬───────────────┐\n",
       "│ :START_ID ┆ :END_ID  ┆ :TYPE            ┆ pmids        ┆ n_pmids:INT ┆ pub_years ┆ first_pub:INT │\n",
       "│ ---       ┆ ---      ┆ ---              ┆ ---          ┆ ---         ┆ ---       ┆ ---           │\n",
       "│ str       ┆ str      ┆ str              ┆ str          ┆ i64         ┆ str       ┆ i64           │\n",
       "╞═══════════╪══════════╪══════════════════╪══════════════╪═════════════╪═══════════╪═══════════════╡\n",
       "│ C1417544  ┆ D016676  ┆ ADMINISTERED_TO_ ┆ ['35694306'] ┆ 1           ┆ [2022]    ┆ 2022          │\n",
       "│           ┆          ┆ GatA             ┆              ┆             ┆           ┆               │\n",
       "│ D016334   ┆ D006367  ┆ ADMINISTERED_TO_ ┆ ['12431786'] ┆ 1           ┆ [2002]    ┆ 2002          │\n",
       "│           ┆          ┆ GatA             ┆              ┆             ┆           ┆               │\n",
       "│ C3147220  ┆ C0597694 ┆ ADMINISTERED_TO_ ┆ ['2060650']  ┆ 1           ┆ [1991]    ┆ 1991          │\n",
       "│           ┆          ┆ GatA             ┆              ┆             ┆           ┆               │\n",
       "│ C0919506  ┆ C1513528 ┆ ADMINISTERED_TO_ ┆ ['8625325']  ┆ 1           ┆ [1996]    ┆ 1996          │\n",
       "│           ┆          ┆ GatA             ┆              ┆             ┆           ┆               │\n",
       "│ C3147220  ┆ C0882849 ┆ ADMINISTERED_TO_ ┆ ['16109763'] ┆ 1           ┆ [2005]    ┆ 2005          │\n",
       "│           ┆          ┆ GatA             ┆              ┆             ┆           ┆               │\n",
       "└───────────┴──────────┴──────────────────┴──────────────┴─────────────┴───────────┴───────────────┘"
      ]
     },
     "execution_count": 2,
     "metadata": {},
     "output_type": "execute_result"
    }
   ],
   "source": [
    "df = pl.read_csv(source=\"../data/time_networks-6_metanode/2023/edges.csv\")\n",
    "df.head()"
   ]
  },
  {
   "cell_type": "markdown",
   "id": "1895527a-b7d5-4f35-9a80-e7f839da3910",
   "metadata": {},
   "source": [
    "Reading, Renaming the headers, exporting"
   ]
  },
  {
   "cell_type": "code",
   "execution_count": 3,
   "id": "b6b32ebd-4c6c-4907-a79e-c489d54f37d8",
   "metadata": {},
   "outputs": [
    {
     "name": "stdout",
     "output_type": "stream",
     "text": [
      "CPU times: user 10.5 s, sys: 3.7 s, total: 14.2 s\n",
      "Wall time: 3.86 s\n"
     ]
    }
   ],
   "source": [
    "%%time\n",
    "pl.read_csv(source=\"../data/time_networks-6_metanode/2023/edges.csv\").sample(\n",
    "    fraction=0.05\n",
    ").rename(\n",
    "    {\n",
    "        \":START_ID\": \"start_id\",\n",
    "        \":END_ID\": \"end_id\",\n",
    "        \":TYPE\": \"type\",\n",
    "        \"n_pmids:INT\": \"n_pmids\",\n",
    "        \"first_pub:INT\": \"first_pub\",\n",
    "    }\n",
    ").write_csv(\n",
    "    \"../data/time_networks-6_metanode/2023/edges_five_percent.csv\"\n",
    ")"
   ]
  },
  {
   "cell_type": "markdown",
   "id": "3d5a4e96-fce7-4dc0-b29d-7b7ee2933512",
   "metadata": {},
   "source": [
    "## Selecting columns"
   ]
  },
  {
   "cell_type": "code",
   "execution_count": 4,
   "id": "2da9135d-f9ae-4722-9013-4f11abc30547",
   "metadata": {
    "scrolled": true
   },
   "outputs": [
    {
     "data": {
      "text/html": [
       "<div><style>\n",
       ".dataframe > thead > tr,\n",
       ".dataframe > tbody > tr {\n",
       "  text-align: right;\n",
       "  white-space: pre-wrap;\n",
       "}\n",
       "</style>\n",
       "<small>shape: (5, 2)</small><table border=\"1\" class=\"dataframe\"><thead><tr><th>:START_ID</th><th>:END_ID</th></tr><tr><td>str</td><td>str</td></tr></thead><tbody><tr><td>&quot;C1417544&quot;</td><td>&quot;D016676&quot;</td></tr><tr><td>&quot;D016334&quot;</td><td>&quot;D006367&quot;</td></tr><tr><td>&quot;C3147220&quot;</td><td>&quot;C0597694&quot;</td></tr><tr><td>&quot;C0919506&quot;</td><td>&quot;C1513528&quot;</td></tr><tr><td>&quot;C3147220&quot;</td><td>&quot;C0882849&quot;</td></tr></tbody></table></div>"
      ],
      "text/plain": [
       "shape: (5, 2)\n",
       "┌───────────┬──────────┐\n",
       "│ :START_ID ┆ :END_ID  │\n",
       "│ ---       ┆ ---      │\n",
       "│ str       ┆ str      │\n",
       "╞═══════════╪══════════╡\n",
       "│ C1417544  ┆ D016676  │\n",
       "│ D016334   ┆ D006367  │\n",
       "│ C3147220  ┆ C0597694 │\n",
       "│ C0919506  ┆ C1513528 │\n",
       "│ C3147220  ┆ C0882849 │\n",
       "└───────────┴──────────┘"
      ]
     },
     "execution_count": 4,
     "metadata": {},
     "output_type": "execute_result"
    }
   ],
   "source": [
    "df.select([\":START_ID\", \":END_ID\"]).head()"
   ]
  },
  {
   "cell_type": "code",
   "execution_count": 5,
   "id": "ffdce2ec-7e7b-42e0-9efc-c0c78885197c",
   "metadata": {},
   "outputs": [
    {
     "data": {
      "text/html": [
       "<div><style>\n",
       ".dataframe > thead > tr,\n",
       ".dataframe > tbody > tr {\n",
       "  text-align: right;\n",
       "  white-space: pre-wrap;\n",
       "}\n",
       "</style>\n",
       "<small>shape: (5, 2)</small><table border=\"1\" class=\"dataframe\"><thead><tr><th>:START_ID</th><th>:END_ID</th></tr><tr><td>str</td><td>str</td></tr></thead><tbody><tr><td>&quot;C1417544&quot;</td><td>&quot;D016676&quot;</td></tr><tr><td>&quot;D016334&quot;</td><td>&quot;D006367&quot;</td></tr><tr><td>&quot;C3147220&quot;</td><td>&quot;C0597694&quot;</td></tr><tr><td>&quot;C0919506&quot;</td><td>&quot;C1513528&quot;</td></tr><tr><td>&quot;C3147220&quot;</td><td>&quot;C0882849&quot;</td></tr></tbody></table></div>"
      ],
      "text/plain": [
       "shape: (5, 2)\n",
       "┌───────────┬──────────┐\n",
       "│ :START_ID ┆ :END_ID  │\n",
       "│ ---       ┆ ---      │\n",
       "│ str       ┆ str      │\n",
       "╞═══════════╪══════════╡\n",
       "│ C1417544  ┆ D016676  │\n",
       "│ D016334   ┆ D006367  │\n",
       "│ C3147220  ┆ C0597694 │\n",
       "│ C0919506  ┆ C1513528 │\n",
       "│ C3147220  ┆ C0882849 │\n",
       "└───────────┴──────────┘"
      ]
     },
     "execution_count": 5,
     "metadata": {},
     "output_type": "execute_result"
    }
   ],
   "source": [
    "df[[\":START_ID\", \":END_ID\"]].head()"
   ]
  },
  {
   "cell_type": "markdown",
   "id": "fc326c8f-199a-4add-bcb2-ac2156c8c371",
   "metadata": {},
   "source": [
    "## Manipulating column data\n",
    "* unlike pandas, polars does not support direct column assignment\n",
    "* the `with_columns` function runs all column manipulations in parallel"
   ]
  },
  {
   "cell_type": "markdown",
   "id": "bb4bcb31-d8b6-475d-a538-e609f4468df2",
   "metadata": {},
   "source": [
    "### Check if a `n_pmids` is greater than 1"
   ]
  },
  {
   "cell_type": "markdown",
   "id": "ae701f19-1dd7-4c4b-922b-000a6159b14e",
   "metadata": {},
   "source": [
    "In pandas, you can directly assign your columns to your dataframe..."
   ]
  },
  {
   "cell_type": "code",
   "execution_count": 6,
   "id": "8eb36abc-904a-4fc7-9cbe-ad0aeef80b82",
   "metadata": {},
   "outputs": [],
   "source": [
    "df_pandas = df.to_pandas()"
   ]
  },
  {
   "cell_type": "code",
   "execution_count": 7,
   "id": "475b39d5-100c-4c37-a458-697cf178b8ad",
   "metadata": {},
   "outputs": [
    {
     "name": "stdout",
     "output_type": "stream",
     "text": [
      "1.15 s ± 18.3 ms per loop (mean ± std. dev. of 7 runs, 1 loop each)\n"
     ]
    }
   ],
   "source": [
    "%%timeit\n",
    "df_pandas[\"n_pmid_greater1\"] = df_pandas[\"n_pmids:INT\"].apply(lambda x: x > 1)"
   ]
  },
  {
   "cell_type": "code",
   "execution_count": 8,
   "id": "170542d3-1573-4b67-8895-4d77dbb29ade",
   "metadata": {},
   "outputs": [
    {
     "data": {
      "text/html": [
       "<div>\n",
       "<style scoped>\n",
       "    .dataframe tbody tr th:only-of-type {\n",
       "        vertical-align: middle;\n",
       "    }\n",
       "\n",
       "    .dataframe tbody tr th {\n",
       "        vertical-align: top;\n",
       "    }\n",
       "\n",
       "    .dataframe thead th {\n",
       "        text-align: right;\n",
       "    }\n",
       "</style>\n",
       "<table border=\"1\" class=\"dataframe\">\n",
       "  <thead>\n",
       "    <tr style=\"text-align: right;\">\n",
       "      <th></th>\n",
       "      <th>:START_ID</th>\n",
       "      <th>:END_ID</th>\n",
       "      <th>:TYPE</th>\n",
       "      <th>pmids</th>\n",
       "      <th>n_pmids:INT</th>\n",
       "      <th>pub_years</th>\n",
       "      <th>first_pub:INT</th>\n",
       "      <th>n_pmid_greater1</th>\n",
       "    </tr>\n",
       "  </thead>\n",
       "  <tbody>\n",
       "    <tr>\n",
       "      <th>0</th>\n",
       "      <td>C1417544</td>\n",
       "      <td>D016676</td>\n",
       "      <td>ADMINISTERED_TO_GatA</td>\n",
       "      <td>['35694306']</td>\n",
       "      <td>1</td>\n",
       "      <td>[2022]</td>\n",
       "      <td>2022</td>\n",
       "      <td>False</td>\n",
       "    </tr>\n",
       "    <tr>\n",
       "      <th>1</th>\n",
       "      <td>D016334</td>\n",
       "      <td>D006367</td>\n",
       "      <td>ADMINISTERED_TO_GatA</td>\n",
       "      <td>['12431786']</td>\n",
       "      <td>1</td>\n",
       "      <td>[2002]</td>\n",
       "      <td>2002</td>\n",
       "      <td>False</td>\n",
       "    </tr>\n",
       "  </tbody>\n",
       "</table>\n",
       "</div>"
      ],
      "text/plain": [
       "  :START_ID  :END_ID                 :TYPE         pmids  n_pmids:INT  \\\n",
       "0  C1417544  D016676  ADMINISTERED_TO_GatA  ['35694306']            1   \n",
       "1   D016334  D006367  ADMINISTERED_TO_GatA  ['12431786']            1   \n",
       "\n",
       "  pub_years  first_pub:INT  n_pmid_greater1  \n",
       "0    [2022]           2022            False  \n",
       "1    [2002]           2002            False  "
      ]
     },
     "execution_count": 8,
     "metadata": {},
     "output_type": "execute_result"
    }
   ],
   "source": [
    "df_pandas.head(2)"
   ]
  },
  {
   "cell_type": "markdown",
   "id": "46ee0dc3-fcee-40f8-9964-6f0b3c8819b5",
   "metadata": {},
   "source": [
    "* In polars you have to do it in the operation and assign a column, otherwise its inplace.\n",
    "* Note that polars doesn't have indexes\n",
    "* Note that some operations, while operations can be written the same way as in pandas, its better to do things the polars way; See below with their helpful hints."
   ]
  },
  {
   "cell_type": "code",
   "execution_count": 9,
   "id": "b1104769-bfd2-4e2f-9869-afd1ec629eb3",
   "metadata": {
    "scrolled": true
   },
   "outputs": [
    {
     "name": "stderr",
     "output_type": "stream",
     "text": [
      "<magic-timeit>:2: PolarsInefficientMapWarning: \n",
      "Expr.map_elements is significantly slower than the native expressions API.\n",
      "Only use if you absolutely CANNOT implement your logic otherwise.\n",
      "In this case, you can replace your `map_elements` with the following:\n",
      "  - pl.col(\"n_pmids:INT\").map_elements(lambda x: ...)\n",
      "  + pl.col(\"n_pmids:INT\") > 1\n",
      "\n",
      "<magic-timeit>:2: PolarsInefficientMapWarning: \n",
      "Expr.map_elements is significantly slower than the native expressions API.\n",
      "Only use if you absolutely CANNOT implement your logic otherwise.\n",
      "In this case, you can replace your `map_elements` with the following:\n",
      "  - pl.col(\"n_pmids:INT\").map_elements(lambda x: ...)\n",
      "  + pl.col(\"n_pmids:INT\") > 1\n",
      "\n",
      "<magic-timeit>:2: PolarsInefficientMapWarning: \n",
      "Expr.map_elements is significantly slower than the native expressions API.\n",
      "Only use if you absolutely CANNOT implement your logic otherwise.\n",
      "In this case, you can replace your `map_elements` with the following:\n",
      "  - pl.col(\"n_pmids:INT\").map_elements(lambda x: ...)\n",
      "  + pl.col(\"n_pmids:INT\") > 1\n",
      "\n",
      "<magic-timeit>:2: PolarsInefficientMapWarning: \n",
      "Expr.map_elements is significantly slower than the native expressions API.\n",
      "Only use if you absolutely CANNOT implement your logic otherwise.\n",
      "In this case, you can replace your `map_elements` with the following:\n",
      "  - pl.col(\"n_pmids:INT\").map_elements(lambda x: ...)\n",
      "  + pl.col(\"n_pmids:INT\") > 1\n",
      "\n",
      "<magic-timeit>:2: PolarsInefficientMapWarning: \n",
      "Expr.map_elements is significantly slower than the native expressions API.\n",
      "Only use if you absolutely CANNOT implement your logic otherwise.\n",
      "In this case, you can replace your `map_elements` with the following:\n",
      "  - pl.col(\"n_pmids:INT\").map_elements(lambda x: ...)\n",
      "  + pl.col(\"n_pmids:INT\") > 1\n",
      "\n",
      "<magic-timeit>:2: PolarsInefficientMapWarning: \n",
      "Expr.map_elements is significantly slower than the native expressions API.\n",
      "Only use if you absolutely CANNOT implement your logic otherwise.\n",
      "In this case, you can replace your `map_elements` with the following:\n",
      "  - pl.col(\"n_pmids:INT\").map_elements(lambda x: ...)\n",
      "  + pl.col(\"n_pmids:INT\") > 1\n",
      "\n",
      "<magic-timeit>:2: PolarsInefficientMapWarning: \n",
      "Expr.map_elements is significantly slower than the native expressions API.\n",
      "Only use if you absolutely CANNOT implement your logic otherwise.\n",
      "In this case, you can replace your `map_elements` with the following:\n",
      "  - pl.col(\"n_pmids:INT\").map_elements(lambda x: ...)\n",
      "  + pl.col(\"n_pmids:INT\") > 1\n",
      "\n",
      "<magic-timeit>:2: PolarsInefficientMapWarning: \n",
      "Expr.map_elements is significantly slower than the native expressions API.\n",
      "Only use if you absolutely CANNOT implement your logic otherwise.\n",
      "In this case, you can replace your `map_elements` with the following:\n",
      "  - pl.col(\"n_pmids:INT\").map_elements(lambda x: ...)\n",
      "  + pl.col(\"n_pmids:INT\") > 1\n",
      "\n"
     ]
    },
    {
     "name": "stdout",
     "output_type": "stream",
     "text": [
      "1.27 s ± 16.2 ms per loop (mean ± std. dev. of 7 runs, 1 loop each)\n"
     ]
    }
   ],
   "source": [
    "%%timeit\n",
    "df.with_columns(\n",
    "    pl.col(\"n_pmids:INT\").map_elements(lambda x: x > 1).alias(\"n_pmid_greater1\"),\n",
    ").with_columns(pl.col('n_pmid_greater1').count()))"
   ]
  },
  {
   "cell_type": "code",
   "execution_count": 10,
   "id": "d852034d-1981-4a56-97db-5a558299e055",
   "metadata": {},
   "outputs": [
    {
     "name": "stdout",
     "output_type": "stream",
     "text": [
      "6.03 ms ± 31.7 µs per loop (mean ± std. dev. of 7 runs, 100 loops each)\n"
     ]
    }
   ],
   "source": [
    "%%timeit\n",
    "# you can also do\n",
    "df.with_columns((pl.col(\"n_pmids:INT\") > 1).alias(\"n_pmid_greater1\"))"
   ]
  },
  {
   "cell_type": "code",
   "execution_count": 11,
   "id": "90c23316-82a6-4e02-a0cd-36c1b8793f11",
   "metadata": {},
   "outputs": [
    {
     "data": {
      "text/html": [
       "<div><style>\n",
       ".dataframe > thead > tr,\n",
       ".dataframe > tbody > tr {\n",
       "  text-align: right;\n",
       "  white-space: pre-wrap;\n",
       "}\n",
       "</style>\n",
       "<small>shape: (2, 8)</small><table border=\"1\" class=\"dataframe\"><thead><tr><th>:START_ID</th><th>:END_ID</th><th>:TYPE</th><th>pmids</th><th>n_pmids:INT</th><th>pub_years</th><th>first_pub:INT</th><th>n_pmid_greater1</th></tr><tr><td>str</td><td>str</td><td>str</td><td>str</td><td>i64</td><td>str</td><td>i64</td><td>bool</td></tr></thead><tbody><tr><td>&quot;C1417544&quot;</td><td>&quot;D016676&quot;</td><td>&quot;ADMINISTERED_T…</td><td>&quot;[&#x27;35694306&#x27;]&quot;</td><td>1</td><td>&quot;[2022]&quot;</td><td>2022</td><td>false</td></tr><tr><td>&quot;D016334&quot;</td><td>&quot;D006367&quot;</td><td>&quot;ADMINISTERED_T…</td><td>&quot;[&#x27;12431786&#x27;]&quot;</td><td>1</td><td>&quot;[2002]&quot;</td><td>2002</td><td>false</td></tr></tbody></table></div>"
      ],
      "text/plain": [
       "shape: (2, 8)\n",
       "┌───────────┬─────────┬────────────┬────────────┬────────────┬───────────┬────────────┬────────────┐\n",
       "│ :START_ID ┆ :END_ID ┆ :TYPE      ┆ pmids      ┆ n_pmids:IN ┆ pub_years ┆ first_pub: ┆ n_pmid_gre │\n",
       "│ ---       ┆ ---     ┆ ---        ┆ ---        ┆ T          ┆ ---       ┆ INT        ┆ ater1      │\n",
       "│ str       ┆ str     ┆ str        ┆ str        ┆ ---        ┆ str       ┆ ---        ┆ ---        │\n",
       "│           ┆         ┆            ┆            ┆ i64        ┆           ┆ i64        ┆ bool       │\n",
       "╞═══════════╪═════════╪════════════╪════════════╪════════════╪═══════════╪════════════╪════════════╡\n",
       "│ C1417544  ┆ D016676 ┆ ADMINISTER ┆ ['35694306 ┆ 1          ┆ [2022]    ┆ 2022       ┆ false      │\n",
       "│           ┆         ┆ ED_TO_GatA ┆ ']         ┆            ┆           ┆            ┆            │\n",
       "│ D016334   ┆ D006367 ┆ ADMINISTER ┆ ['12431786 ┆ 1          ┆ [2002]    ┆ 2002       ┆ false      │\n",
       "│           ┆         ┆ ED_TO_GatA ┆ ']         ┆            ┆           ┆            ┆            │\n",
       "└───────────┴─────────┴────────────┴────────────┴────────────┴───────────┴────────────┴────────────┘"
      ]
     },
     "execution_count": 11,
     "metadata": {},
     "output_type": "execute_result"
    }
   ],
   "source": [
    "df = df.with_columns((pl.col(\"n_pmids:INT\") > 1).alias(\"n_pmid_greater1\"))\n",
    "df.head(2)"
   ]
  },
  {
   "cell_type": "markdown",
   "id": "2f4eeccb-1117-4256-8199-186847a7878e",
   "metadata": {},
   "source": [
    "## Getting a unique set of identifiers for each publication year\n",
    "* lets say we want to get the unique set of start_ids for each first_pub year, and get how long it is"
   ]
  },
  {
   "cell_type": "markdown",
   "id": "eb921833-bfa7-4bb9-8d49-58923d59f41b",
   "metadata": {},
   "source": [
    "In pandas we would write.."
   ]
  },
  {
   "cell_type": "code",
   "execution_count": 12,
   "id": "d8436e1a-62d5-4e7b-8649-a0af76db0426",
   "metadata": {},
   "outputs": [
    {
     "name": "stdout",
     "output_type": "stream",
     "text": [
      "CPU times: user 9.36 s, sys: 1.21 s, total: 10.6 s\n",
      "Wall time: 10.6 s\n"
     ]
    },
    {
     "data": {
      "text/html": [
       "<div>\n",
       "<style scoped>\n",
       "    .dataframe tbody tr th:only-of-type {\n",
       "        vertical-align: middle;\n",
       "    }\n",
       "\n",
       "    .dataframe tbody tr th {\n",
       "        vertical-align: top;\n",
       "    }\n",
       "\n",
       "    .dataframe thead th {\n",
       "        text-align: right;\n",
       "    }\n",
       "</style>\n",
       "<table border=\"1\" class=\"dataframe\">\n",
       "  <thead>\n",
       "    <tr style=\"text-align: right;\">\n",
       "      <th></th>\n",
       "      <th>first_pub:INT</th>\n",
       "      <th>:START_ID</th>\n",
       "      <th>count</th>\n",
       "    </tr>\n",
       "  </thead>\n",
       "  <tbody>\n",
       "    <tr>\n",
       "      <th>240</th>\n",
       "      <td>2021</td>\n",
       "      <td>[D013127, C0856053, C1156019, C0459847, D00357...</td>\n",
       "      <td>57653</td>\n",
       "    </tr>\n",
       "    <tr>\n",
       "      <th>241</th>\n",
       "      <td>2022</td>\n",
       "      <td>[D013127, C1156019, C0459847, D003571, C141616...</td>\n",
       "      <td>57432</td>\n",
       "    </tr>\n",
       "  </tbody>\n",
       "</table>\n",
       "</div>"
      ],
      "text/plain": [
       "     first_pub:INT                                          :START_ID  count\n",
       "240           2021  [D013127, C0856053, C1156019, C0459847, D00357...  57653\n",
       "241           2022  [D013127, C1156019, C0459847, D003571, C141616...  57432"
      ]
     },
     "execution_count": 12,
     "metadata": {},
     "output_type": "execute_result"
    }
   ],
   "source": [
    "%%time\n",
    "df_pd_groupby = (\n",
    "    df_pandas.groupby(\"first_pub:INT\")\n",
    "    .agg(list)\n",
    "    .reset_index()[[\"first_pub:INT\", \":START_ID\"]]\n",
    ")\n",
    "df_pd_groupby[\":START_ID\"] = df_pd_groupby[\":START_ID\"].apply(lambda x: list(set(x)))\n",
    "df_pd_groupby[\"count\"] = df_pd_groupby[\":START_ID\"].apply(lambda x: len(x))\n",
    "df_pd_groupby = df_pd_groupby.sort_values(by=\"count\", ascending=False)\n",
    "df_pd_groupby.head(2)"
   ]
  },
  {
   "cell_type": "markdown",
   "id": "4563b29f-c23d-4d19-91ed-3984494e86f0",
   "metadata": {},
   "source": [
    "In polars we would write.."
   ]
  },
  {
   "cell_type": "code",
   "execution_count": 13,
   "id": "308122c5-b489-4cc2-8196-fd800f5c7962",
   "metadata": {},
   "outputs": [
    {
     "name": "stdout",
     "output_type": "stream",
     "text": [
      "CPU times: user 3.46 s, sys: 1min 33s, total: 1min 37s\n",
      "Wall time: 2.24 s\n"
     ]
    },
    {
     "data": {
      "text/html": [
       "<div><style>\n",
       ".dataframe > thead > tr,\n",
       ".dataframe > tbody > tr {\n",
       "  text-align: right;\n",
       "  white-space: pre-wrap;\n",
       "}\n",
       "</style>\n",
       "<small>shape: (2, 3)</small><table border=\"1\" class=\"dataframe\"><thead><tr><th>first_pub:INT</th><th>:START_ID</th><th>count</th></tr><tr><td>i64</td><td>list[str]</td><td>u32</td></tr></thead><tbody><tr><td>2021</td><td>[&quot;C037720&quot;, &quot;C476933&quot;, … &quot;C1419228&quot;]</td><td>57653</td></tr><tr><td>2022</td><td>[&quot;D051378&quot;, &quot;C099718&quot;, … &quot;C1333258&quot;]</td><td>57432</td></tr></tbody></table></div>"
      ],
      "text/plain": [
       "shape: (2, 3)\n",
       "┌───────────────┬───────────────────────────────────┬───────┐\n",
       "│ first_pub:INT ┆ :START_ID                         ┆ count │\n",
       "│ ---           ┆ ---                               ┆ ---   │\n",
       "│ i64           ┆ list[str]                         ┆ u32   │\n",
       "╞═══════════════╪═══════════════════════════════════╪═══════╡\n",
       "│ 2021          ┆ [\"C037720\", \"C476933\", … \"C14192… ┆ 57653 │\n",
       "│ 2022          ┆ [\"D051378\", \"C099718\", … \"C13332… ┆ 57432 │\n",
       "└───────────────┴───────────────────────────────────┴───────┘"
      ]
     },
     "execution_count": 13,
     "metadata": {},
     "output_type": "execute_result"
    }
   ],
   "source": [
    "%%time\n",
    "df_groupby = (\n",
    "    df.group_by(\"first_pub:INT\")\n",
    "    .agg(\":START_ID\")\n",
    "    .with_columns(pl.col(\":START_ID\").list.unique())\n",
    "    .with_columns(pl.col(\":START_ID\").list.len().alias(\"count\"))\n",
    "    .sort(by=\"count\", descending=True)\n",
    ")\n",
    "df_groupby.head(2)"
   ]
  },
  {
   "cell_type": "markdown",
   "id": "4bc32b4a-ace8-4461-9e91-25980453b93b",
   "metadata": {},
   "source": [
    "## merging in names for each particular triple\n",
    "* here we're looking at joins"
   ]
  },
  {
   "cell_type": "code",
   "execution_count": 14,
   "id": "700f9fb0-e08d-4875-8754-d3e2aab759ae",
   "metadata": {},
   "outputs": [
    {
     "name": "stdout",
     "output_type": "stream",
     "text": [
      "CPU times: user 144 ms, sys: 11.6 ms, total: 156 ms\n",
      "Wall time: 155 ms\n"
     ]
    }
   ],
   "source": [
    "%%time\n",
    "nodes_pd = pd.read_csv('../data/time_networks-6_metanode/2023/nodes.csv')"
   ]
  },
  {
   "cell_type": "code",
   "execution_count": 15,
   "id": "af1115bf-ebdc-4189-830c-1c14164e4374",
   "metadata": {},
   "outputs": [
    {
     "name": "stdout",
     "output_type": "stream",
     "text": [
      "CPU times: user 102 ms, sys: 175 ms, total: 277 ms\n",
      "Wall time: 14 ms\n"
     ]
    }
   ],
   "source": [
    "%%time\n",
    "nodes_pl = pl.read_csv('../data/time_networks-6_metanode/2023/nodes.csv')"
   ]
  },
  {
   "cell_type": "code",
   "execution_count": 16,
   "id": "2b54ab08-6595-486b-96a1-9b473ef3ca81",
   "metadata": {},
   "outputs": [
    {
     "data": {
      "text/html": [
       "<div><style>\n",
       ".dataframe > thead > tr,\n",
       ".dataframe > tbody > tr {\n",
       "  text-align: right;\n",
       "  white-space: pre-wrap;\n",
       "}\n",
       "</style>\n",
       "<small>shape: (2, 4)</small><table border=\"1\" class=\"dataframe\"><thead><tr><th>cui:ID</th><th>name</th><th>:LABEL</th><th>id_source</th></tr><tr><td>str</td><td>str</td><td>str</td><td>str</td></tr></thead><tbody><tr><td>&quot;C1518046&quot;</td><td>&quot;Lymph Node Eff…</td><td>&quot;Anatomy&quot;</td><td>&quot;UMLS&quot;</td></tr><tr><td>&quot;C1278805&quot;</td><td>&quot;Entire nasopha…</td><td>&quot;Anatomy&quot;</td><td>&quot;UMLS&quot;</td></tr></tbody></table></div>"
      ],
      "text/plain": [
       "shape: (2, 4)\n",
       "┌──────────┬─────────────────────────────┬─────────┬───────────┐\n",
       "│ cui:ID   ┆ name                        ┆ :LABEL  ┆ id_source │\n",
       "│ ---      ┆ ---                         ┆ ---     ┆ ---       │\n",
       "│ str      ┆ str                         ┆ str     ┆ str       │\n",
       "╞══════════╪═════════════════════════════╪═════════╪═══════════╡\n",
       "│ C1518046 ┆ Lymph Node Efferent Vessel  ┆ Anatomy ┆ UMLS      │\n",
       "│ C1278805 ┆ Entire nasopharyngeal gland ┆ Anatomy ┆ UMLS      │\n",
       "└──────────┴─────────────────────────────┴─────────┴───────────┘"
      ]
     },
     "execution_count": 16,
     "metadata": {},
     "output_type": "execute_result"
    }
   ],
   "source": [
    "nodes_pl.head(2)"
   ]
  },
  {
   "cell_type": "code",
   "execution_count": 17,
   "id": "acb3a3c5-7fd8-485a-b8cb-ecc3c9074396",
   "metadata": {
    "scrolled": true
   },
   "outputs": [
    {
     "name": "stdout",
     "output_type": "stream",
     "text": [
      "CPU times: user 3.31 s, sys: 1.56 s, total: 4.87 s\n",
      "Wall time: 4.86 s\n"
     ]
    },
    {
     "data": {
      "text/html": [
       "<div>\n",
       "<style scoped>\n",
       "    .dataframe tbody tr th:only-of-type {\n",
       "        vertical-align: middle;\n",
       "    }\n",
       "\n",
       "    .dataframe tbody tr th {\n",
       "        vertical-align: top;\n",
       "    }\n",
       "\n",
       "    .dataframe thead th {\n",
       "        text-align: right;\n",
       "    }\n",
       "</style>\n",
       "<table border=\"1\" class=\"dataframe\">\n",
       "  <thead>\n",
       "    <tr style=\"text-align: right;\">\n",
       "      <th></th>\n",
       "      <th>start_id</th>\n",
       "      <th>:END_ID</th>\n",
       "      <th>:TYPE</th>\n",
       "      <th>pmids</th>\n",
       "      <th>n_pmids:INT</th>\n",
       "      <th>pub_years</th>\n",
       "      <th>first_pub:INT</th>\n",
       "      <th>n_pmid_greater1</th>\n",
       "      <th>cui:ID</th>\n",
       "      <th>start_name</th>\n",
       "      <th>start_label</th>\n",
       "    </tr>\n",
       "  </thead>\n",
       "  <tbody>\n",
       "    <tr>\n",
       "      <th>0</th>\n",
       "      <td>C1417544</td>\n",
       "      <td>D016676</td>\n",
       "      <td>ADMINISTERED_TO_GatA</td>\n",
       "      <td>['35694306']</td>\n",
       "      <td>1</td>\n",
       "      <td>[2022]</td>\n",
       "      <td>2022</td>\n",
       "      <td>False</td>\n",
       "      <td>C1417544</td>\n",
       "      <td>MYH9 gene</td>\n",
       "      <td>Genes &amp; Molecular Sequences</td>\n",
       "    </tr>\n",
       "    <tr>\n",
       "      <th>1</th>\n",
       "      <td>D016334</td>\n",
       "      <td>D006367</td>\n",
       "      <td>ADMINISTERED_TO_GatA</td>\n",
       "      <td>['12431786']</td>\n",
       "      <td>1</td>\n",
       "      <td>[2002]</td>\n",
       "      <td>2002</td>\n",
       "      <td>False</td>\n",
       "      <td>D016334</td>\n",
       "      <td>Genes, vpr</td>\n",
       "      <td>Genes &amp; Molecular Sequences</td>\n",
       "    </tr>\n",
       "    <tr>\n",
       "      <th>2</th>\n",
       "      <td>C3147220</td>\n",
       "      <td>C0597694</td>\n",
       "      <td>ADMINISTERED_TO_GatA</td>\n",
       "      <td>['2060650']</td>\n",
       "      <td>1</td>\n",
       "      <td>[1991]</td>\n",
       "      <td>1991</td>\n",
       "      <td>False</td>\n",
       "      <td>C3147220</td>\n",
       "      <td>ERVK-25</td>\n",
       "      <td>Genes &amp; Molecular Sequences</td>\n",
       "    </tr>\n",
       "    <tr>\n",
       "      <th>3</th>\n",
       "      <td>C0919506</td>\n",
       "      <td>C1513528</td>\n",
       "      <td>ADMINISTERED_TO_GatA</td>\n",
       "      <td>['8625325']</td>\n",
       "      <td>1</td>\n",
       "      <td>[1996]</td>\n",
       "      <td>1996</td>\n",
       "      <td>False</td>\n",
       "      <td>C0919506</td>\n",
       "      <td>FGF2 gene</td>\n",
       "      <td>Genes &amp; Molecular Sequences</td>\n",
       "    </tr>\n",
       "    <tr>\n",
       "      <th>4</th>\n",
       "      <td>C3147220</td>\n",
       "      <td>C0882849</td>\n",
       "      <td>ADMINISTERED_TO_GatA</td>\n",
       "      <td>['16109763']</td>\n",
       "      <td>1</td>\n",
       "      <td>[2005]</td>\n",
       "      <td>2005</td>\n",
       "      <td>False</td>\n",
       "      <td>C3147220</td>\n",
       "      <td>ERVK-25</td>\n",
       "      <td>Genes &amp; Molecular Sequences</td>\n",
       "    </tr>\n",
       "    <tr>\n",
       "      <th>...</th>\n",
       "      <td>...</td>\n",
       "      <td>...</td>\n",
       "      <td>...</td>\n",
       "      <td>...</td>\n",
       "      <td>...</td>\n",
       "      <td>...</td>\n",
       "      <td>...</td>\n",
       "      <td>...</td>\n",
       "      <td>...</td>\n",
       "      <td>...</td>\n",
       "      <td>...</td>\n",
       "    </tr>\n",
       "    <tr>\n",
       "      <th>9784636</th>\n",
       "      <td>C1539082</td>\n",
       "      <td>D057134</td>\n",
       "      <td>higher_than_GdfCD</td>\n",
       "      <td>['6261091', '9203727']</td>\n",
       "      <td>2</td>\n",
       "      <td>[1980, 1997]</td>\n",
       "      <td>1980</td>\n",
       "      <td>True</td>\n",
       "      <td>C1539082</td>\n",
       "      <td>CD40LG gene</td>\n",
       "      <td>Genes &amp; Molecular Sequences</td>\n",
       "    </tr>\n",
       "    <tr>\n",
       "      <th>9784637</th>\n",
       "      <td>C1366646</td>\n",
       "      <td>D007987</td>\n",
       "      <td>higher_than_GdfCD</td>\n",
       "      <td>['6307754', '2859018', '2875442', '3007215']</td>\n",
       "      <td>4</td>\n",
       "      <td>[1983, 1985, 1986, 1986]</td>\n",
       "      <td>1983</td>\n",
       "      <td>True</td>\n",
       "      <td>C1366646</td>\n",
       "      <td>VIP gene</td>\n",
       "      <td>Genes &amp; Molecular Sequences</td>\n",
       "    </tr>\n",
       "    <tr>\n",
       "      <th>9784638</th>\n",
       "      <td>C1366628</td>\n",
       "      <td>D018048</td>\n",
       "      <td>higher_than_GdfCD</td>\n",
       "      <td>['2996968', '6297936']</td>\n",
       "      <td>2</td>\n",
       "      <td>[1985, 1982]</td>\n",
       "      <td>1982</td>\n",
       "      <td>True</td>\n",
       "      <td>C1366628</td>\n",
       "      <td>ATP8A2 gene</td>\n",
       "      <td>Genes &amp; Molecular Sequences</td>\n",
       "    </tr>\n",
       "    <tr>\n",
       "      <th>9784639</th>\n",
       "      <td>C1539630</td>\n",
       "      <td>C084541</td>\n",
       "      <td>higher_than_GdfCD</td>\n",
       "      <td>['24680483', '24865692', '21377199']</td>\n",
       "      <td>3</td>\n",
       "      <td>[2014, 2014, 2011]</td>\n",
       "      <td>2011</td>\n",
       "      <td>True</td>\n",
       "      <td>C1539630</td>\n",
       "      <td>HBEGF gene</td>\n",
       "      <td>Genes &amp; Molecular Sequences</td>\n",
       "    </tr>\n",
       "    <tr>\n",
       "      <th>9784640</th>\n",
       "      <td>C1366646</td>\n",
       "      <td>D051219</td>\n",
       "      <td>higher_than_GdfCD</td>\n",
       "      <td>['1997328', '8218337', '17997850', '15093701',...</td>\n",
       "      <td>6</td>\n",
       "      <td>[1991, 1993, 2007, 2004, 2000, 2016]</td>\n",
       "      <td>1991</td>\n",
       "      <td>True</td>\n",
       "      <td>C1366646</td>\n",
       "      <td>VIP gene</td>\n",
       "      <td>Genes &amp; Molecular Sequences</td>\n",
       "    </tr>\n",
       "  </tbody>\n",
       "</table>\n",
       "<p>9784641 rows × 11 columns</p>\n",
       "</div>"
      ],
      "text/plain": [
       "         start_id   :END_ID                 :TYPE  \\\n",
       "0        C1417544   D016676  ADMINISTERED_TO_GatA   \n",
       "1         D016334   D006367  ADMINISTERED_TO_GatA   \n",
       "2        C3147220  C0597694  ADMINISTERED_TO_GatA   \n",
       "3        C0919506  C1513528  ADMINISTERED_TO_GatA   \n",
       "4        C3147220  C0882849  ADMINISTERED_TO_GatA   \n",
       "...           ...       ...                   ...   \n",
       "9784636  C1539082   D057134     higher_than_GdfCD   \n",
       "9784637  C1366646   D007987     higher_than_GdfCD   \n",
       "9784638  C1366628   D018048     higher_than_GdfCD   \n",
       "9784639  C1539630   C084541     higher_than_GdfCD   \n",
       "9784640  C1366646   D051219     higher_than_GdfCD   \n",
       "\n",
       "                                                     pmids  n_pmids:INT  \\\n",
       "0                                             ['35694306']            1   \n",
       "1                                             ['12431786']            1   \n",
       "2                                              ['2060650']            1   \n",
       "3                                              ['8625325']            1   \n",
       "4                                             ['16109763']            1   \n",
       "...                                                    ...          ...   \n",
       "9784636                             ['6261091', '9203727']            2   \n",
       "9784637       ['6307754', '2859018', '2875442', '3007215']            4   \n",
       "9784638                             ['2996968', '6297936']            2   \n",
       "9784639               ['24680483', '24865692', '21377199']            3   \n",
       "9784640  ['1997328', '8218337', '17997850', '15093701',...            6   \n",
       "\n",
       "                                    pub_years  first_pub:INT  n_pmid_greater1  \\\n",
       "0                                      [2022]           2022            False   \n",
       "1                                      [2002]           2002            False   \n",
       "2                                      [1991]           1991            False   \n",
       "3                                      [1996]           1996            False   \n",
       "4                                      [2005]           2005            False   \n",
       "...                                       ...            ...              ...   \n",
       "9784636                          [1980, 1997]           1980             True   \n",
       "9784637              [1983, 1985, 1986, 1986]           1983             True   \n",
       "9784638                          [1985, 1982]           1982             True   \n",
       "9784639                    [2014, 2014, 2011]           2011             True   \n",
       "9784640  [1991, 1993, 2007, 2004, 2000, 2016]           1991             True   \n",
       "\n",
       "           cui:ID   start_name                  start_label  \n",
       "0        C1417544    MYH9 gene  Genes & Molecular Sequences  \n",
       "1         D016334   Genes, vpr  Genes & Molecular Sequences  \n",
       "2        C3147220      ERVK-25  Genes & Molecular Sequences  \n",
       "3        C0919506    FGF2 gene  Genes & Molecular Sequences  \n",
       "4        C3147220      ERVK-25  Genes & Molecular Sequences  \n",
       "...           ...          ...                          ...  \n",
       "9784636  C1539082  CD40LG gene  Genes & Molecular Sequences  \n",
       "9784637  C1366646     VIP gene  Genes & Molecular Sequences  \n",
       "9784638  C1366628  ATP8A2 gene  Genes & Molecular Sequences  \n",
       "9784639  C1539630   HBEGF gene  Genes & Molecular Sequences  \n",
       "9784640  C1366646     VIP gene  Genes & Molecular Sequences  \n",
       "\n",
       "[9784641 rows x 11 columns]"
      ]
     },
     "execution_count": 17,
     "metadata": {},
     "output_type": "execute_result"
    }
   ],
   "source": [
    "%%time\n",
    "pd.merge(\n",
    "    left=df_pandas,\n",
    "    right=nodes_pd[[\"cui:ID\", \"name\", \":LABEL\"]],\n",
    "    left_on=\":START_ID\",\n",
    "    right_on=\"cui:ID\",\n",
    "    how=\"left\",\n",
    ").rename(\n",
    "    columns={\":START_ID\": \"start_id\", \"name\": \"start_name\", \":LABEL\": \"start_label\"}\n",
    ")"
   ]
  },
  {
   "cell_type": "code",
   "execution_count": 18,
   "id": "83df15b0-c8b8-4340-abff-849029de93ad",
   "metadata": {
    "scrolled": true
   },
   "outputs": [
    {
     "name": "stdout",
     "output_type": "stream",
     "text": [
      "CPU times: user 4.09 s, sys: 7.48 s, total: 11.6 s\n",
      "Wall time: 637 ms\n"
     ]
    },
    {
     "data": {
      "text/html": [
       "<div><style>\n",
       ".dataframe > thead > tr,\n",
       ".dataframe > tbody > tr {\n",
       "  text-align: right;\n",
       "  white-space: pre-wrap;\n",
       "}\n",
       "</style>\n",
       "<small>shape: (9_784_641, 10)</small><table border=\"1\" class=\"dataframe\"><thead><tr><th>start_id</th><th>:END_ID</th><th>:TYPE</th><th>pmids</th><th>n_pmids:INT</th><th>pub_years</th><th>first_pub:INT</th><th>n_pmid_greater1</th><th>start_name</th><th>start_label</th></tr><tr><td>str</td><td>str</td><td>str</td><td>str</td><td>i64</td><td>str</td><td>i64</td><td>bool</td><td>str</td><td>str</td></tr></thead><tbody><tr><td>&quot;C1417544&quot;</td><td>&quot;D016676&quot;</td><td>&quot;ADMINISTERED_T…</td><td>&quot;[&#x27;35694306&#x27;]&quot;</td><td>1</td><td>&quot;[2022]&quot;</td><td>2022</td><td>false</td><td>&quot;MYH9 gene&quot;</td><td>&quot;Genes &amp; Molecu…</td></tr><tr><td>&quot;D016334&quot;</td><td>&quot;D006367&quot;</td><td>&quot;ADMINISTERED_T…</td><td>&quot;[&#x27;12431786&#x27;]&quot;</td><td>1</td><td>&quot;[2002]&quot;</td><td>2002</td><td>false</td><td>&quot;Genes, vpr&quot;</td><td>&quot;Genes &amp; Molecu…</td></tr><tr><td>&quot;C3147220&quot;</td><td>&quot;C0597694&quot;</td><td>&quot;ADMINISTERED_T…</td><td>&quot;[&#x27;2060650&#x27;]&quot;</td><td>1</td><td>&quot;[1991]&quot;</td><td>1991</td><td>false</td><td>&quot;ERVK-25&quot;</td><td>&quot;Genes &amp; Molecu…</td></tr><tr><td>&quot;C0919506&quot;</td><td>&quot;C1513528&quot;</td><td>&quot;ADMINISTERED_T…</td><td>&quot;[&#x27;8625325&#x27;]&quot;</td><td>1</td><td>&quot;[1996]&quot;</td><td>1996</td><td>false</td><td>&quot;FGF2 gene&quot;</td><td>&quot;Genes &amp; Molecu…</td></tr><tr><td>&quot;C3147220&quot;</td><td>&quot;C0882849&quot;</td><td>&quot;ADMINISTERED_T…</td><td>&quot;[&#x27;16109763&#x27;]&quot;</td><td>1</td><td>&quot;[2005]&quot;</td><td>2005</td><td>false</td><td>&quot;ERVK-25&quot;</td><td>&quot;Genes &amp; Molecu…</td></tr><tr><td>&quot;C1417532&quot;</td><td>&quot;D032446&quot;</td><td>&quot;ADMINISTERED_T…</td><td>&quot;[&#x27;20069545&#x27;]&quot;</td><td>1</td><td>&quot;[2010]&quot;</td><td>2010</td><td>false</td><td>&quot;MYF5 gene&quot;</td><td>&quot;Genes &amp; Molecu…</td></tr><tr><td>&quot;C1426700&quot;</td><td>&quot;D009865&quot;</td><td>&quot;ADMINISTERED_T…</td><td>&quot;[&#x27;15271716&#x27;]&quot;</td><td>1</td><td>&quot;[2004]&quot;</td><td>2004</td><td>false</td><td>&quot;SLC25A29 gene&quot;</td><td>&quot;Genes &amp; Molecu…</td></tr><tr><td>&quot;C3147220&quot;</td><td>&quot;D001792&quot;</td><td>&quot;ADMINISTERED_T…</td><td>&quot;[&#x27;7041120&#x27;]&quot;</td><td>1</td><td>&quot;[1982]&quot;</td><td>1982</td><td>false</td><td>&quot;ERVK-25&quot;</td><td>&quot;Genes &amp; Molecu…</td></tr><tr><td>&quot;C1384512&quot;</td><td>&quot;D005347&quot;</td><td>&quot;ADMINISTERED_T…</td><td>&quot;[&#x27;12548290&#x27;]&quot;</td><td>1</td><td>&quot;[2003]&quot;</td><td>2003</td><td>false</td><td>&quot;CSN2 gene&quot;</td><td>&quot;Genes &amp; Molecu…</td></tr><tr><td>&quot;C1367459&quot;</td><td>&quot;D007962&quot;</td><td>&quot;ADMINISTERED_T…</td><td>&quot;[&#x27;21430245&#x27;]&quot;</td><td>1</td><td>&quot;[2011]&quot;</td><td>2011</td><td>false</td><td>&quot;TIMP1 gene&quot;</td><td>&quot;Genes &amp; Molecu…</td></tr><tr><td>&quot;C1426592&quot;</td><td>&quot;D008264&quot;</td><td>&quot;ADMINISTERED_T…</td><td>&quot;[&#x27;36012389&#x27;]&quot;</td><td>1</td><td>&quot;[2022]&quot;</td><td>2022</td><td>false</td><td>&quot;PCSK9 gene&quot;</td><td>&quot;Genes &amp; Molecu…</td></tr><tr><td>&quot;C1426700&quot;</td><td>&quot;D009474&quot;</td><td>&quot;ADMINISTERED_T…</td><td>&quot;[&#x27;12356857&#x27;]&quot;</td><td>1</td><td>&quot;[2002]&quot;</td><td>2002</td><td>false</td><td>&quot;SLC25A29 gene&quot;</td><td>&quot;Genes &amp; Molecu…</td></tr><tr><td>&hellip;</td><td>&hellip;</td><td>&hellip;</td><td>&hellip;</td><td>&hellip;</td><td>&hellip;</td><td>&hellip;</td><td>&hellip;</td><td>&hellip;</td><td>&hellip;</td></tr><tr><td>&quot;C1366646&quot;</td><td>&quot;D013373&quot;</td><td>&quot;higher_than_Gd…</td><td>&quot;[&#x27;2422707&#x27;, &#x27;6…</td><td>2</td><td>&quot;[1986, 1983]&quot;</td><td>1983</td><td>true</td><td>&quot;VIP gene&quot;</td><td>&quot;Genes &amp; Molecu…</td></tr><tr><td>&quot;C1539988&quot;</td><td>&quot;D019938&quot;</td><td>&quot;higher_than_Gd…</td><td>&quot;[&#x27;8534916&#x27;, &#x27;1…</td><td>2</td><td>&quot;[1995, 1999]&quot;</td><td>1995</td><td>true</td><td>&quot;TMED7 gene&quot;</td><td>&quot;Genes &amp; Molecu…</td></tr><tr><td>&quot;C1366628&quot;</td><td>&quot;D018377&quot;</td><td>&quot;higher_than_Gd…</td><td>&quot;[&#x27;17913880&#x27;, &#x27;…</td><td>2</td><td>&quot;[2007, 2013]&quot;</td><td>2007</td><td>true</td><td>&quot;ATP8A2 gene&quot;</td><td>&quot;Genes &amp; Molecu…</td></tr><tr><td>&quot;C1539788&quot;</td><td>&quot;D018340&quot;</td><td>&quot;higher_than_Gd…</td><td>&quot;[&#x27;7935320&#x27;, &#x27;7…</td><td>2</td><td>&quot;[1994, 1995]&quot;</td><td>1994</td><td>true</td><td>&quot;SLURP1 gene&quot;</td><td>&quot;Genes &amp; Molecu…</td></tr><tr><td>&quot;C1539990&quot;</td><td>&quot;C009495&quot;</td><td>&quot;higher_than_Gd…</td><td>&quot;[&#x27;18283812&#x27;, &#x27;…</td><td>2</td><td>&quot;[2008, 2018]&quot;</td><td>2008</td><td>true</td><td>&quot;TMED9 gene&quot;</td><td>&quot;Genes &amp; Molecu…</td></tr><tr><td>&quot;C1539082&quot;</td><td>&quot;D012217&quot;</td><td>&quot;higher_than_Gd…</td><td>&quot;[&#x27;10700427&#x27;, &#x27;…</td><td>2</td><td>&quot;[2000, 1981]&quot;</td><td>1981</td><td>true</td><td>&quot;CD40LG gene&quot;</td><td>&quot;Genes &amp; Molecu…</td></tr><tr><td>&quot;C1366646&quot;</td><td>&quot;D010451&quot;</td><td>&quot;higher_than_Gd…</td><td>&quot;[&#x27;3009219&#x27;, &#x27;2…</td><td>3</td><td>&quot;[1986, 1989, 1…</td><td>1986</td><td>true</td><td>&quot;VIP gene&quot;</td><td>&quot;Genes &amp; Molecu…</td></tr><tr><td>&quot;C1539082&quot;</td><td>&quot;D057134&quot;</td><td>&quot;higher_than_Gd…</td><td>&quot;[&#x27;6261091&#x27;, &#x27;9…</td><td>2</td><td>&quot;[1980, 1997]&quot;</td><td>1980</td><td>true</td><td>&quot;CD40LG gene&quot;</td><td>&quot;Genes &amp; Molecu…</td></tr><tr><td>&quot;C1366646&quot;</td><td>&quot;D007987&quot;</td><td>&quot;higher_than_Gd…</td><td>&quot;[&#x27;6307754&#x27;, &#x27;2…</td><td>4</td><td>&quot;[1983, 1985, 1…</td><td>1983</td><td>true</td><td>&quot;VIP gene&quot;</td><td>&quot;Genes &amp; Molecu…</td></tr><tr><td>&quot;C1366628&quot;</td><td>&quot;D018048&quot;</td><td>&quot;higher_than_Gd…</td><td>&quot;[&#x27;2996968&#x27;, &#x27;6…</td><td>2</td><td>&quot;[1985, 1982]&quot;</td><td>1982</td><td>true</td><td>&quot;ATP8A2 gene&quot;</td><td>&quot;Genes &amp; Molecu…</td></tr><tr><td>&quot;C1539630&quot;</td><td>&quot;C084541&quot;</td><td>&quot;higher_than_Gd…</td><td>&quot;[&#x27;24680483&#x27;, &#x27;…</td><td>3</td><td>&quot;[2014, 2014, 2…</td><td>2011</td><td>true</td><td>&quot;HBEGF gene&quot;</td><td>&quot;Genes &amp; Molecu…</td></tr><tr><td>&quot;C1366646&quot;</td><td>&quot;D051219&quot;</td><td>&quot;higher_than_Gd…</td><td>&quot;[&#x27;1997328&#x27;, &#x27;8…</td><td>6</td><td>&quot;[1991, 1993, 2…</td><td>1991</td><td>true</td><td>&quot;VIP gene&quot;</td><td>&quot;Genes &amp; Molecu…</td></tr></tbody></table></div>"
      ],
      "text/plain": [
       "shape: (9_784_641, 10)\n",
       "┌──────────┬──────────┬────────────┬───────────┬───┬───────────┬───────────┬───────────┬───────────┐\n",
       "│ start_id ┆ :END_ID  ┆ :TYPE      ┆ pmids     ┆ … ┆ first_pub ┆ n_pmid_gr ┆ start_nam ┆ start_lab │\n",
       "│ ---      ┆ ---      ┆ ---        ┆ ---       ┆   ┆ :INT      ┆ eater1    ┆ e         ┆ el        │\n",
       "│ str      ┆ str      ┆ str        ┆ str       ┆   ┆ ---       ┆ ---       ┆ ---       ┆ ---       │\n",
       "│          ┆          ┆            ┆           ┆   ┆ i64       ┆ bool      ┆ str       ┆ str       │\n",
       "╞══════════╪══════════╪════════════╪═══════════╪═══╪═══════════╪═══════════╪═══════════╪═══════════╡\n",
       "│ C1417544 ┆ D016676  ┆ ADMINISTER ┆ ['3569430 ┆ … ┆ 2022      ┆ false     ┆ MYH9 gene ┆ Genes &   │\n",
       "│          ┆          ┆ ED_TO_GatA ┆ 6']       ┆   ┆           ┆           ┆           ┆ Molecular │\n",
       "│          ┆          ┆            ┆           ┆   ┆           ┆           ┆           ┆ Sequences │\n",
       "│ D016334  ┆ D006367  ┆ ADMINISTER ┆ ['1243178 ┆ … ┆ 2002      ┆ false     ┆ Genes,    ┆ Genes &   │\n",
       "│          ┆          ┆ ED_TO_GatA ┆ 6']       ┆   ┆           ┆           ┆ vpr       ┆ Molecular │\n",
       "│          ┆          ┆            ┆           ┆   ┆           ┆           ┆           ┆ Sequences │\n",
       "│ C3147220 ┆ C0597694 ┆ ADMINISTER ┆ ['2060650 ┆ … ┆ 1991      ┆ false     ┆ ERVK-25   ┆ Genes &   │\n",
       "│          ┆          ┆ ED_TO_GatA ┆ ']        ┆   ┆           ┆           ┆           ┆ Molecular │\n",
       "│          ┆          ┆            ┆           ┆   ┆           ┆           ┆           ┆ Sequences │\n",
       "│ C0919506 ┆ C1513528 ┆ ADMINISTER ┆ ['8625325 ┆ … ┆ 1996      ┆ false     ┆ FGF2 gene ┆ Genes &   │\n",
       "│          ┆          ┆ ED_TO_GatA ┆ ']        ┆   ┆           ┆           ┆           ┆ Molecular │\n",
       "│          ┆          ┆            ┆           ┆   ┆           ┆           ┆           ┆ Sequences │\n",
       "│ …        ┆ …        ┆ …          ┆ …         ┆ … ┆ …         ┆ …         ┆ …         ┆ …         │\n",
       "│ C1366646 ┆ D007987  ┆ higher_tha ┆ ['6307754 ┆ … ┆ 1983      ┆ true      ┆ VIP gene  ┆ Genes &   │\n",
       "│          ┆          ┆ n_GdfCD    ┆ ', '28590 ┆   ┆           ┆           ┆           ┆ Molecular │\n",
       "│          ┆          ┆            ┆ 18', '287 ┆   ┆           ┆           ┆           ┆ Sequences │\n",
       "│          ┆          ┆            ┆ 5442'…    ┆   ┆           ┆           ┆           ┆           │\n",
       "│ C1366628 ┆ D018048  ┆ higher_tha ┆ ['2996968 ┆ … ┆ 1982      ┆ true      ┆ ATP8A2    ┆ Genes &   │\n",
       "│          ┆          ┆ n_GdfCD    ┆ ', '62979 ┆   ┆           ┆           ┆ gene      ┆ Molecular │\n",
       "│          ┆          ┆            ┆ 36']      ┆   ┆           ┆           ┆           ┆ Sequences │\n",
       "│ C1539630 ┆ C084541  ┆ higher_tha ┆ ['2468048 ┆ … ┆ 2011      ┆ true      ┆ HBEGF     ┆ Genes &   │\n",
       "│          ┆          ┆ n_GdfCD    ┆ 3', '2486 ┆   ┆           ┆           ┆ gene      ┆ Molecular │\n",
       "│          ┆          ┆            ┆ 5692',    ┆   ┆           ┆           ┆           ┆ Sequences │\n",
       "│          ┆          ┆            ┆ '213771…  ┆   ┆           ┆           ┆           ┆           │\n",
       "│ C1366646 ┆ D051219  ┆ higher_tha ┆ ['1997328 ┆ … ┆ 1991      ┆ true      ┆ VIP gene  ┆ Genes &   │\n",
       "│          ┆          ┆ n_GdfCD    ┆ ', '82183 ┆   ┆           ┆           ┆           ┆ Molecular │\n",
       "│          ┆          ┆            ┆ 37', '179 ┆   ┆           ┆           ┆           ┆ Sequences │\n",
       "│          ┆          ┆            ┆ 97850…    ┆   ┆           ┆           ┆           ┆           │\n",
       "└──────────┴──────────┴────────────┴───────────┴───┴───────────┴───────────┴───────────┴───────────┘"
      ]
     },
     "execution_count": 18,
     "metadata": {},
     "output_type": "execute_result"
    }
   ],
   "source": [
    "%%time\n",
    "df.join(\n",
    "    other=nodes_pl[[\"cui:ID\", \"name\", \":LABEL\"]],\n",
    "    left_on=\":START_ID\",\n",
    "    right_on=\"cui:ID\",\n",
    "    how=\"left\",\n",
    ").rename({\":START_ID\": \"start_id\", \"name\": \"start_name\", \":LABEL\": \"start_label\"})"
   ]
  },
  {
   "cell_type": "markdown",
   "id": "67ca15a7-5b1f-4b64-943d-254c1ea27f5d",
   "metadata": {},
   "source": [
    "# Speed Test evaluation of Polars\n",
    "* create a test dataset * about 5% of the original dataset, ~50mb\n",
    "* Test awk, polars and pandas"
   ]
  },
  {
   "cell_type": "markdown",
   "id": "ed216809-8bbf-402e-b2f9-3a548674b825",
   "metadata": {},
   "source": [
    "## Test Awk\n",
    "* to be fair, it was slightly faster in terminal using `time`\n",
    "```bash\n",
    "real    0m0.939s\n",
    "user    0m0.931s\n",
    "sys     0m0.009s\n",
    "```"
   ]
  },
  {
   "cell_type": "code",
   "execution_count": 19,
   "id": "c9f2f1cd-3182-4c79-8c77-45d109fe23d3",
   "metadata": {},
   "outputs": [
    {
     "name": "stdout",
     "output_type": "stream",
     "text": [
      "1.34 s ± 6.84 ms per loop (mean ± std. dev. of 7 runs, 1 loop each)\n"
     ]
    }
   ],
   "source": [
    "%%timeit\n",
    "!awk -F',' '($NF > 1970){year[$NF]++}; END{for(i in year){print i, year[i]}}' ../data/time_networks-6_metanode/2023/edges_five_percent.csv | sort -k2,2rn >> ../data/time_networks-6_metanode/2023/edges_five_percent_result_awk.csv"
   ]
  },
  {
   "cell_type": "markdown",
   "id": "81a2497b-bc88-469b-bbfa-6bf360bac2e3",
   "metadata": {},
   "source": [
    "## Test Pandas"
   ]
  },
  {
   "cell_type": "code",
   "execution_count": 20,
   "id": "cea795e7-5bd5-4c1d-87c1-b9595df7e524",
   "metadata": {},
   "outputs": [
    {
     "name": "stdout",
     "output_type": "stream",
     "text": [
      "803 ms ± 8.22 ms per loop (mean ± std. dev. of 7 runs, 1 loop each)\n"
     ]
    }
   ],
   "source": [
    "%%timeit\n",
    "import pandas as pd\n",
    "\n",
    "(\n",
    "    pd.read_csv(\"../data/time_networks-6_metanode/2023/edges_five_percent.csv\")\n",
    "    .query(\"first_pub>1970\")\n",
    "    .groupby(\"first_pub\")\n",
    "    .count()\n",
    "    .reset_index()[[\"first_pub\", \"start_id\"]]\n",
    "    .sort_values(by=\"start_id\", ascending=False)\n",
    "    .to_csv(\"../data/time_networks-6_metanode/2023/edges_five_percent_pnds_res.csv\")\n",
    ")"
   ]
  },
  {
   "cell_type": "markdown",
   "id": "05780255-9e9b-41e4-93ca-6cffefc57998",
   "metadata": {},
   "source": [
    "## Test Polars"
   ]
  },
  {
   "cell_type": "code",
   "execution_count": 21,
   "id": "6fdad5c0-e583-4d6b-a835-160e8e134aec",
   "metadata": {},
   "outputs": [
    {
     "name": "stdout",
     "output_type": "stream",
     "text": [
      "466 ms ± 53 ms per loop (mean ± std. dev. of 7 runs, 1 loop each)\n"
     ]
    }
   ],
   "source": [
    "%%timeit\n",
    "import polars as pl\n",
    "\n",
    "pl.read_csv(\"../data/time_networks-6_metanode/2023/edges_five_percent.csv\").filter(\n",
    "    pl.col(\"first_pub\") > 1970\n",
    ").group_by(\"first_pub\").count().sort(by=\"count\", descending=True).write_csv(\n",
    "    \"../data/time_networks-6_metanode/2023/edges_five_percent_result.csv\"\n",
    ")"
   ]
  },
  {
   "cell_type": "markdown",
   "id": "f633d12e-39f1-44a9-9eb0-25e7ab951d3f",
   "metadata": {},
   "source": [
    "## Test on a bigger 9 million lined dataset"
   ]
  },
  {
   "cell_type": "code",
   "execution_count": 22,
   "id": "a94bd135-0de3-41d0-8fad-2942ff22b14c",
   "metadata": {},
   "outputs": [
    {
     "name": "stdout",
     "output_type": "stream",
     "text": [
      "Dataframe size: 9,784,641\n"
     ]
    }
   ],
   "source": [
    "print(\n",
    "    f'Dataframe size: {pl.read_csv(\"../data/time_networks-6_metanode/2023/edges.csv\").shape[0]:,}'\n",
    ")"
   ]
  },
  {
   "cell_type": "code",
   "execution_count": 23,
   "id": "b1c32c18-3a6f-4c23-b90d-4a34b56a9995",
   "metadata": {},
   "outputs": [
    {
     "name": "stdout",
     "output_type": "stream",
     "text": [
      "18.9 s ± 96.2 ms per loop (mean ± std. dev. of 7 runs, 1 loop each)\n"
     ]
    }
   ],
   "source": [
    "%%timeit\n",
    "!awk -F',' '($NF > 1970){year[$NF]++}; END{for(i in year){print i, year[i]}}' ../data/time_networks-6_metanode/2023/edges.csv | sort -k2,2rn >> ../data/time_networks-6_metanode/2023/edges_result_awk.csv"
   ]
  },
  {
   "cell_type": "code",
   "execution_count": 24,
   "id": "5041f702-1562-4535-a6b0-4f20e79bc2d7",
   "metadata": {},
   "outputs": [
    {
     "name": "stdout",
     "output_type": "stream",
     "text": [
      "15.9 s ± 319 ms per loop (mean ± std. dev. of 7 runs, 1 loop each)\n"
     ]
    }
   ],
   "source": [
    "%%timeit\n",
    "import pandas as pd\n",
    "\n",
    "(\n",
    "    pd.read_csv(\"../data/time_networks-6_metanode/2023/edges.csv\")\n",
    "    .rename(columns={\":START_ID\": \"start_id\", \"first_pub:INT\": \"first_pub\"})\n",
    "    .query(\"first_pub>1970\")\n",
    "    .groupby(\"first_pub\")\n",
    "    .count()\n",
    "    .reset_index()[[\"first_pub\", \"start_id\"]]\n",
    "    .sort_values(by=\"start_id\", ascending=False)\n",
    "    .to_csv(\"../data/time_networks-6_metanode/2023/edges_pnds_res.csv\")\n",
    ")"
   ]
  },
  {
   "cell_type": "code",
   "execution_count": 25,
   "id": "c44e8c9d-0deb-4143-95b0-330d4e1dbaa1",
   "metadata": {},
   "outputs": [
    {
     "name": "stdout",
     "output_type": "stream",
     "text": [
      "4.08 s ± 118 ms per loop (mean ± std. dev. of 7 runs, 1 loop each)\n"
     ]
    }
   ],
   "source": [
    "%%timeit\n",
    "import polars as pl\n",
    "\n",
    "pl.read_csv(\"../data/time_networks-6_metanode/2023/edges.csv\").filter(\n",
    "    pl.col(\"first_pub:INT\") > 1970\n",
    ").group_by(\"first_pub:INT\").count().sort(by=\"count\", descending=True).write_csv(\n",
    "    \"../data/time_networks-6_metanode/2023/edges_plrs_res.csv\"\n",
    ")"
   ]
  },
  {
   "cell_type": "code",
   "execution_count": null,
   "id": "e7ddc197-abc8-422e-8e31-2297670ece36",
   "metadata": {},
   "outputs": [],
   "source": []
  },
  {
   "cell_type": "code",
   "execution_count": null,
   "id": "ad3edf14-0446-4ce8-bd5d-37bab2c1a0db",
   "metadata": {},
   "outputs": [],
   "source": []
  }
 ],
 "metadata": {
  "kernelspec": {
   "display_name": "Python 3 (ipykernel)",
   "language": "python",
   "name": "python3"
  },
  "language_info": {
   "codemirror_mode": {
    "name": "ipython",
    "version": 3
   },
   "file_extension": ".py",
   "mimetype": "text/x-python",
   "name": "python",
   "nbconvert_exporter": "python",
   "pygments_lexer": "ipython3",
   "version": "3.11.4"
  }
 },
 "nbformat": 4,
 "nbformat_minor": 5
}
