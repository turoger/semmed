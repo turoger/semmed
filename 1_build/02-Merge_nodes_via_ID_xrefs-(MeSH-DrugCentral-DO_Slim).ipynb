{
 "cells": [
  {
   "cell_type": "markdown",
   "metadata": {},
   "source": [
    "# Merge Nodes\n",
    "\n",
    "One issue with SemmedDB (or the UMLS Metathesaurus in general) is that the CUIs are too granular in detail.  \n",
    "\n",
    "Take for example Imatinib Mesylate.  The following concepts are all found within SemmedDB:\n",
    "\n",
    "| UMLS CUI | Concept Name      |\n",
    "|----------|-------------------|\n",
    "| C0939537 | Imatinib mesylate |\n",
    "| C0385728 | CGP 57148         |\n",
    "| C1097576 | ST 1571           |\n",
    "| C0935987 | Gleevec           |\n",
    "| C0906802 | STI571            |\n",
    "| C0935989 | imatinib          |\n",
    "\n",
    "However, all of these concepts describe the same chemical structure.  Luckily, all of these UMLS CUIs can be cross-referenced to just 1 MeSH Descriptor ID: `D000068877`.  This will allow us to merge these concept within the network.\n",
    "\n",
    "Diseases have similar issues, however, they are a little less straightforward.  A similar, yet more complex approach will be used for thier combination."
   ]
  },
  {
   "cell_type": "code",
   "execution_count": 1,
   "metadata": {
    "collapsed": true
   },
   "outputs": [],
   "source": [
    "from tqdm import tqdm\n",
    "from collections import defaultdict\n",
    "from collections import Counter\n",
    "from queue import Queue\n",
    "from itertools import chain\n",
    "import pandas as pd\n",
    "import pickle\n",
    "\n",
    "import sys\n",
    "sys.path.append('../../hetnet-ml/src')\n",
    "import graph_tools as gt\n",
    "\n",
    "sys.path.append('../tools/')\n",
    "import load_umls"
   ]
  },
  {
   "cell_type": "markdown",
   "metadata": {},
   "source": [
    "## 1. Import the DrugCentral info for Gold Standard and Add Compound Names"
   ]
  },
  {
   "cell_type": "code",
   "execution_count": 2,
   "metadata": {},
   "outputs": [
    {
     "data": {
      "text/html": [
       "<div>\n",
       "<style scoped>\n",
       "    .dataframe tbody tr th:only-of-type {\n",
       "        vertical-align: middle;\n",
       "    }\n",
       "\n",
       "    .dataframe tbody tr th {\n",
       "        vertical-align: top;\n",
       "    }\n",
       "\n",
       "    .dataframe thead th {\n",
       "        text-align: right;\n",
       "    }\n",
       "</style>\n",
       "<table border=\"1\" class=\"dataframe\">\n",
       "  <thead>\n",
       "    <tr style=\"text-align: right;\">\n",
       "      <th></th>\n",
       "      <th>id</th>\n",
       "      <th>struct_id</th>\n",
       "      <th>concept_id</th>\n",
       "      <th>relationship_name</th>\n",
       "      <th>concept_name</th>\n",
       "      <th>umls_cui</th>\n",
       "      <th>snomed_full_name</th>\n",
       "      <th>cui_semantic_type</th>\n",
       "      <th>snomed_conceptid</th>\n",
       "    </tr>\n",
       "  </thead>\n",
       "  <tbody>\n",
       "    <tr>\n",
       "      <th>0</th>\n",
       "      <td>173432</td>\n",
       "      <td>965</td>\n",
       "      <td>40249340</td>\n",
       "      <td>indication</td>\n",
       "      <td>Malignant tumor of breast</td>\n",
       "      <td>C0006142</td>\n",
       "      <td>Malignant tumor of breast</td>\n",
       "      <td>T191</td>\n",
       "      <td>254837009.0</td>\n",
       "    </tr>\n",
       "    <tr>\n",
       "      <th>1</th>\n",
       "      <td>173433</td>\n",
       "      <td>318</td>\n",
       "      <td>21000716</td>\n",
       "      <td>indication</td>\n",
       "      <td>Gout</td>\n",
       "      <td>C0018099</td>\n",
       "      <td>Gout</td>\n",
       "      <td>T047</td>\n",
       "      <td>90560007.0</td>\n",
       "    </tr>\n",
       "  </tbody>\n",
       "</table>\n",
       "</div>"
      ],
      "text/plain": [
       "       id  struct_id  concept_id relationship_name               concept_name  \\\n",
       "0  173432        965    40249340        indication  Malignant tumor of breast   \n",
       "1  173433        318    21000716        indication                       Gout   \n",
       "\n",
       "   umls_cui           snomed_full_name cui_semantic_type  snomed_conceptid  \n",
       "0  C0006142  Malignant tumor of breast              T191       254837009.0  \n",
       "1  C0018099                       Gout              T047        90560007.0  "
      ]
     },
     "execution_count": 2,
     "metadata": {},
     "output_type": "execute_result"
    }
   ],
   "source": [
    "rels = pd.read_csv('../data/drugcentral_rel_06212018.csv')\n",
    "rels.head(2)"
   ]
  },
  {
   "cell_type": "code",
   "execution_count": 3,
   "metadata": {},
   "outputs": [
    {
     "data": {
      "text/html": [
       "<div>\n",
       "<style scoped>\n",
       "    .dataframe tbody tr th:only-of-type {\n",
       "        vertical-align: middle;\n",
       "    }\n",
       "\n",
       "    .dataframe tbody tr th {\n",
       "        vertical-align: top;\n",
       "    }\n",
       "\n",
       "    .dataframe thead th {\n",
       "        text-align: right;\n",
       "    }\n",
       "</style>\n",
       "<table border=\"1\" class=\"dataframe\">\n",
       "  <thead>\n",
       "    <tr style=\"text-align: right;\">\n",
       "      <th></th>\n",
       "      <th>id</th>\n",
       "      <th>identifier</th>\n",
       "      <th>id_type</th>\n",
       "      <th>struct_id</th>\n",
       "      <th>parent_match</th>\n",
       "    </tr>\n",
       "  </thead>\n",
       "  <tbody>\n",
       "    <tr>\n",
       "      <th>0</th>\n",
       "      <td>1214712</td>\n",
       "      <td>D11040</td>\n",
       "      <td>KEGG_DRUG</td>\n",
       "      <td>5278</td>\n",
       "      <td>NaN</td>\n",
       "    </tr>\n",
       "    <tr>\n",
       "      <th>1</th>\n",
       "      <td>1214713</td>\n",
       "      <td>9745</td>\n",
       "      <td>IUPHAR_LIGAND_ID</td>\n",
       "      <td>5271</td>\n",
       "      <td>NaN</td>\n",
       "    </tr>\n",
       "  </tbody>\n",
       "</table>\n",
       "</div>"
      ],
      "text/plain": [
       "        id identifier           id_type  struct_id parent_match\n",
       "0  1214712     D11040         KEGG_DRUG       5278          NaN\n",
       "1  1214713       9745  IUPHAR_LIGAND_ID       5271          NaN"
      ]
     },
     "execution_count": 3,
     "metadata": {},
     "output_type": "execute_result"
    }
   ],
   "source": [
    "dc_ids = pd.read_csv('../data/drugcentral_ids_06212018.csv')\n",
    "dc_ids.head(2)"
   ]
  },
  {
   "cell_type": "code",
   "execution_count": 4,
   "metadata": {},
   "outputs": [
    {
     "data": {
      "text/html": [
       "<div>\n",
       "<style scoped>\n",
       "    .dataframe tbody tr th:only-of-type {\n",
       "        vertical-align: middle;\n",
       "    }\n",
       "\n",
       "    .dataframe tbody tr th {\n",
       "        vertical-align: top;\n",
       "    }\n",
       "\n",
       "    .dataframe thead th {\n",
       "        text-align: right;\n",
       "    }\n",
       "</style>\n",
       "<table border=\"1\" class=\"dataframe\">\n",
       "  <thead>\n",
       "    <tr style=\"text-align: right;\">\n",
       "      <th></th>\n",
       "      <th>syn_id</th>\n",
       "      <th>struct_id</th>\n",
       "      <th>name</th>\n",
       "      <th>preferred_name</th>\n",
       "      <th>parent_id</th>\n",
       "      <th>lname</th>\n",
       "    </tr>\n",
       "  </thead>\n",
       "  <tbody>\n",
       "    <tr>\n",
       "      <th>0</th>\n",
       "      <td>22490</td>\n",
       "      <td>5253.0</td>\n",
       "      <td>RPX-7009</td>\n",
       "      <td>NaN</td>\n",
       "      <td>NaN</td>\n",
       "      <td>rpx-7009</td>\n",
       "    </tr>\n",
       "    <tr>\n",
       "      <th>1</th>\n",
       "      <td>22493</td>\n",
       "      <td>5003.0</td>\n",
       "      <td>insulin (human)</td>\n",
       "      <td>NaN</td>\n",
       "      <td>NaN</td>\n",
       "      <td>insulin (human)</td>\n",
       "    </tr>\n",
       "  </tbody>\n",
       "</table>\n",
       "</div>"
      ],
      "text/plain": [
       "   syn_id  struct_id             name  preferred_name  parent_id  \\\n",
       "0   22490     5253.0         RPX-7009             NaN        NaN   \n",
       "1   22493     5003.0  insulin (human)             NaN        NaN   \n",
       "\n",
       "             lname  \n",
       "0         rpx-7009  \n",
       "1  insulin (human)  "
      ]
     },
     "execution_count": 4,
     "metadata": {},
     "output_type": "execute_result"
    }
   ],
   "source": [
    "syn = pd.read_csv('../data/drugcentral_syn_06212018.csv')\n",
    "syn.rename(columns={'id': 'struct_id'}, inplace=True)\n",
    "syn.head(2)"
   ]
  },
  {
   "cell_type": "code",
   "execution_count": 5,
   "metadata": {},
   "outputs": [
    {
     "data": {
      "text/html": [
       "<div>\n",
       "<style scoped>\n",
       "    .dataframe tbody tr th:only-of-type {\n",
       "        vertical-align: middle;\n",
       "    }\n",
       "\n",
       "    .dataframe tbody tr th {\n",
       "        vertical-align: top;\n",
       "    }\n",
       "\n",
       "    .dataframe thead th {\n",
       "        text-align: right;\n",
       "    }\n",
       "</style>\n",
       "<table border=\"1\" class=\"dataframe\">\n",
       "  <thead>\n",
       "    <tr style=\"text-align: right;\">\n",
       "      <th></th>\n",
       "      <th>syn_id</th>\n",
       "      <th>struct_id</th>\n",
       "      <th>name</th>\n",
       "      <th>preferred_name</th>\n",
       "      <th>parent_id</th>\n",
       "      <th>lname</th>\n",
       "    </tr>\n",
       "  </thead>\n",
       "  <tbody>\n",
       "    <tr>\n",
       "      <th>0</th>\n",
       "      <td>22368</td>\n",
       "      <td>5253</td>\n",
       "      <td>vaborbactam</td>\n",
       "      <td>1.0</td>\n",
       "      <td>NaN</td>\n",
       "      <td>vaborbactam</td>\n",
       "    </tr>\n",
       "    <tr>\n",
       "      <th>1</th>\n",
       "      <td>22371</td>\n",
       "      <td>5254</td>\n",
       "      <td>levornidazole</td>\n",
       "      <td>1.0</td>\n",
       "      <td>NaN</td>\n",
       "      <td>levornidazole</td>\n",
       "    </tr>\n",
       "  </tbody>\n",
       "</table>\n",
       "</div>"
      ],
      "text/plain": [
       "   syn_id  struct_id           name  preferred_name  parent_id          lname\n",
       "0   22368       5253    vaborbactam             1.0        NaN    vaborbactam\n",
       "1   22371       5254  levornidazole             1.0        NaN  levornidazole"
      ]
     },
     "execution_count": 5,
     "metadata": {},
     "output_type": "execute_result"
    }
   ],
   "source": [
    "pref = syn.query('preferred_name == 1').reset_index(drop=True)\n",
    "pref = pref.dropna(subset=['struct_id'])\n",
    "pref['struct_id'] = pref['struct_id'].astype('int64')\n",
    "pref.head(2)"
   ]
  },
  {
   "cell_type": "code",
   "execution_count": 6,
   "metadata": {
    "collapsed": true
   },
   "outputs": [],
   "source": [
    "struct_id_to_name = pref.set_index('struct_id')['name'].to_dict()\n",
    "rels['c_name'] = rels['struct_id'].map(lambda i: struct_id_to_name.get(i, float('nan')))"
   ]
  },
  {
   "cell_type": "code",
   "execution_count": 7,
   "metadata": {},
   "outputs": [
    {
     "data": {
      "text/plain": [
       "True"
      ]
     },
     "execution_count": 7,
     "metadata": {},
     "output_type": "execute_result"
    }
   ],
   "source": [
    "rels.shape[0] == rels['c_name'].count()"
   ]
  },
  {
   "cell_type": "markdown",
   "metadata": {},
   "source": [
    "## 2. Map the Compounds in Semmed DB to MeSH\n",
    "\n",
    "Although we will be mapping all UMLS CUIs (that can be mapped) to MeSH, after the inital map, we will start by taking a closer look at the compounds.  Because there are multiple sources of X-refs for both Compounds and Diseases, these special Metanodes will be a bit more complicated than a simple direct map.\n",
    "\n",
    "Starting with a direct Map from UMLS to MeSH will combine a lot of the Compound nodes, reducing the number of total unique compounds."
   ]
  },
  {
   "cell_type": "code",
   "execution_count": 8,
   "metadata": {
    "collapsed": true
   },
   "outputs": [],
   "source": [
    "nodes = gt.remove_colons(pd.read_csv('../data/nodes_VER31_R.csv'))\n",
    "umls_to_mesh = pickle.load(open('../data/UMLS-CUI_to_MeSH-Descripctor.pkl', 'rb'))"
   ]
  },
  {
   "cell_type": "code",
   "execution_count": 9,
   "metadata": {
    "collapsed": true
   },
   "outputs": [],
   "source": [
    "umls_to_mesh_1t1 = {k: v[0] for k, v in umls_to_mesh.items() if len(v) == 1}"
   ]
  },
  {
   "cell_type": "code",
   "execution_count": 10,
   "metadata": {
    "collapsed": true
   },
   "outputs": [],
   "source": [
    "nodes['mesh_id'] = nodes['id'].map(lambda c: umls_to_mesh_1t1.get(c, float('nan')))"
   ]
  },
  {
   "cell_type": "code",
   "execution_count": 11,
   "metadata": {
    "collapsed": true
   },
   "outputs": [],
   "source": [
    "drugs = nodes.query('label == \"Chemicals & Drugs\"').copy()"
   ]
  },
  {
   "cell_type": "code",
   "execution_count": 12,
   "metadata": {},
   "outputs": [
    {
     "name": "stdout",
     "output_type": "stream",
     "text": [
      "86.783% of Drug IDs mapped via MeSH:\n",
      "82,236 of 94,761 Mapped to 66,939 Unique MSH ids\n",
      "16.143% Reduction in Drugs by using MSH synonmyms 94,761 --> 79,464\n"
     ]
    }
   ],
   "source": [
    "print('{:.3%} of Drug IDs mapped via MeSH:'.format(drugs['mesh_id'].count() / drugs.shape[0]))\n",
    "print('{:,} of {:,} Mapped to {:,} Unique MSH ids'.format(drugs['mesh_id'].count(), drugs.shape[0], drugs['mesh_id'].nunique()))\n",
    "\n",
    "num_drugs = drugs['id'].nunique()\n",
    "msh_compress_drugs = drugs['mesh_id'].fillna(drugs['id']).nunique()\n",
    "\n",
    "print('{:.3%} Reduction in Drugs by using MSH synonmyms {:,} --> {:,}'.format((num_drugs - msh_compress_drugs)/num_drugs, num_drugs, msh_compress_drugs))"
   ]
  },
  {
   "cell_type": "markdown",
   "metadata": {},
   "source": [
    "## 3. Use UMLS MeSH mappings and Mappings from DrugCentral to ensure Maximum overlap\n",
    "\n",
    "DrugCentral also has it's own internal identifiers for compounds as well as mappings from both their internal id to UMLS and MeSH.  \n",
    "\n",
    "If we treat these mappings all as edges in a network, and use a Subnet finding algorthim, each subnet will essentially be a unique chemical structure, with the nodes of that subnet representing all of the different identifiers that map to that structure."
   ]
  },
  {
   "cell_type": "code",
   "execution_count": 13,
   "metadata": {},
   "outputs": [
    {
     "name": "stderr",
     "output_type": "stream",
     "text": [
      "100%|██████████| 7015/7015 [00:00<00:00, 56811.11it/s]\n"
     ]
    }
   ],
   "source": [
    "dc_maps = dc_ids.query('id_type in {}'.format([\"MESH_DESCRIPTOR_UI\", \"MESH_SUPPLEMENTAL_RECORD_UI\" , \"UMLSCUI\"]))\n",
    "\n",
    "drug_adj_list = defaultdict(set)\n",
    "\n",
    "for row in tqdm(dc_maps.itertuples(), total=len(dc_maps)):\n",
    "    drug_adj_list[row.struct_id].add(row.identifier)\n",
    "    drug_adj_list[row.identifier].add(row.struct_id)"
   ]
  },
  {
   "cell_type": "code",
   "execution_count": 14,
   "metadata": {
    "collapsed": true
   },
   "outputs": [],
   "source": [
    "umls_keys = list(chain(*[[k]*len(v) for k, v in umls_to_mesh.items()]))\n",
    "mesh_vals = list(chain(*[v for v in umls_to_mesh.values()]))"
   ]
  },
  {
   "cell_type": "code",
   "execution_count": 15,
   "metadata": {
    "collapsed": true
   },
   "outputs": [],
   "source": [
    "umls_to_mesh_df = pd.DataFrame({'umls': umls_keys, 'mesh': mesh_vals})\n",
    "drug_ids = drugs['id'].unique()\n",
    "umls_to_mesh_drugs = umls_to_mesh_df.query('umls in @drug_ids')"
   ]
  },
  {
   "cell_type": "code",
   "execution_count": 16,
   "metadata": {},
   "outputs": [
    {
     "data": {
      "text/plain": [
       "True"
      ]
     },
     "execution_count": 16,
     "metadata": {},
     "output_type": "execute_result"
    }
   ],
   "source": [
    "umls_set = set(drugs['id']) | set(dc_maps.query('id_type == \"UMLSCUI\"'))\n",
    "mesh_set = set(mesh_vals) | set(dc_maps.query('id_type in {}'.format([\"MESH_DESCRIPTOR_UI\", \"MESH_SUPPLEMENTAL_RECORD_UI\"]))['identifier'])\n",
    "\n",
    "len(umls_set & mesh_set) == 0"
   ]
  },
  {
   "cell_type": "code",
   "execution_count": 17,
   "metadata": {
    "collapsed": true
   },
   "outputs": [],
   "source": [
    "for row in umls_to_mesh_drugs.itertuples():\n",
    "    drug_adj_list[row.umls].add(row.mesh)\n",
    "    drug_adj_list[row.mesh].add(row.umls)"
   ]
  },
  {
   "cell_type": "code",
   "execution_count": 18,
   "metadata": {},
   "outputs": [],
   "source": [
    "# Ensure that all Struct IDs from DrugCentral make it into the subnets (even if no xrefs)\n",
    "for struct_id in rels.query('relationship_name == \"indication\"')['struct_id'].unique():\n",
    "    drug_adj_list[struct_id].add(struct_id)"
   ]
  },
  {
   "cell_type": "code",
   "execution_count": 19,
   "metadata": {
    "collapsed": true
   },
   "outputs": [],
   "source": [
    "def get_subnets(adj_list):\n",
    "\n",
    "    all_identifiers = set(adj_list.keys())\n",
    "\n",
    "    subnets = defaultdict(set)\n",
    "    visited = set()\n",
    "\n",
    "    for cui in tqdm(all_identifiers):\n",
    "        if cui not in visited:\n",
    "            visited.add(cui)\n",
    "            q = Queue()\n",
    "            q.put(cui)\n",
    "\n",
    "            while not q.empty():\n",
    "                cur = q.get()\n",
    "                visited.add(cur)\n",
    "\n",
    "                for neighbour in adj_list[cur]:\n",
    "                    subnets[cui].add(neighbour)\n",
    "                    if neighbour not in visited:\n",
    "                        q.put(neighbour)\n",
    "                        visited.add(neighbour)\n",
    "\n",
    "    return subnets"
   ]
  },
  {
   "cell_type": "code",
   "execution_count": 20,
   "metadata": {},
   "outputs": [
    {
     "name": "stderr",
     "output_type": "stream",
     "text": [
      "100%|██████████| 154221/154221 [00:02<00:00, 54827.52it/s] \n"
     ]
    }
   ],
   "source": [
    "subnets = get_subnets(drug_adj_list)"
   ]
  },
  {
   "cell_type": "code",
   "execution_count": 21,
   "metadata": {},
   "outputs": [
    {
     "data": {
      "text/plain": [
       "67267"
      ]
     },
     "execution_count": 21,
     "metadata": {},
     "output_type": "execute_result"
    }
   ],
   "source": [
    "len(subnets)"
   ]
  },
  {
   "cell_type": "markdown",
   "metadata": {},
   "source": [
    "Find a label for each group.  \n",
    "Will choose based on number of umls items that can be mapped to a single MeSH term (more == higher priority)."
   ]
  },
  {
   "cell_type": "code",
   "execution_count": 22,
   "metadata": {
    "collapsed": true
   },
   "outputs": [],
   "source": [
    "mesh_counts = umls_keys + mesh_vals + list(dc_maps['identifier']) + list(dc_maps['struct_id'].unique())\n",
    "mesh_counts = Counter(mesh_counts)\n",
    "\n",
    "rekeyed_subnets = dict()\n",
    "\n",
    "for v in subnets.values():\n",
    "    sort_sub = sorted(list(v), key=lambda k: (mesh_counts[k], k in mesh_set, k in umls_set), reverse=True)\n",
    "    new_key = sort_sub[0]\n",
    "    rekeyed_subnets[new_key] = v"
   ]
  },
  {
   "cell_type": "code",
   "execution_count": 23,
   "metadata": {
    "collapsed": true
   },
   "outputs": [],
   "source": [
    "# Final map is just inverse of the subnets dict\n",
    "final_drug_map = dict()\n",
    "\n",
    "for k, v in rekeyed_subnets.items():\n",
    "    for val in v:\n",
    "        final_drug_map[val] = k"
   ]
  },
  {
   "cell_type": "code",
   "execution_count": 24,
   "metadata": {},
   "outputs": [
    {
     "data": {
      "text/plain": [
       "154221"
      ]
     },
     "execution_count": 24,
     "metadata": {},
     "output_type": "execute_result"
    }
   ],
   "source": [
    "len(final_drug_map)"
   ]
  },
  {
   "cell_type": "code",
   "execution_count": 25,
   "metadata": {
    "collapsed": true
   },
   "outputs": [],
   "source": [
    "pickle.dump(final_drug_map, open('../data/drug_merge_map.pkl', 'wb'))"
   ]
  },
  {
   "cell_type": "markdown",
   "metadata": {},
   "source": [
    "## 4. Map all the compounds and check\n",
    "\n",
    "Do a final mapping of the compound IDs for merging, and spot check a few results"
   ]
  },
  {
   "cell_type": "code",
   "execution_count": 26,
   "metadata": {
    "collapsed": true
   },
   "outputs": [],
   "source": [
    "# Some items won't necessarily be mappable, so use original ID\n",
    "drugs['new_id'] = drugs['id'].map(lambda i: final_drug_map.get(i, i))"
   ]
  },
  {
   "cell_type": "code",
   "execution_count": 27,
   "metadata": {
    "collapsed": true
   },
   "outputs": [],
   "source": [
    "# Map the Gold Standard indications as well\n",
    "rels['compound_new_id'] = rels['struct_id'].map(lambda i: final_drug_map.get(i, i))"
   ]
  },
  {
   "cell_type": "code",
   "execution_count": 28,
   "metadata": {
    "collapsed": true
   },
   "outputs": [],
   "source": [
    "drugs['id_source'] = drugs['new_id'].map(lambda x: 'MeSH' if x in mesh_set else 'UMLS')"
   ]
  },
  {
   "cell_type": "code",
   "execution_count": 29,
   "metadata": {
    "scrolled": true
   },
   "outputs": [
    {
     "data": {
      "text/html": [
       "<div>\n",
       "<style scoped>\n",
       "    .dataframe tbody tr th:only-of-type {\n",
       "        vertical-align: middle;\n",
       "    }\n",
       "\n",
       "    .dataframe tbody tr th {\n",
       "        vertical-align: top;\n",
       "    }\n",
       "\n",
       "    .dataframe thead th {\n",
       "        text-align: right;\n",
       "    }\n",
       "</style>\n",
       "<table border=\"1\" class=\"dataframe\">\n",
       "  <thead>\n",
       "    <tr style=\"text-align: right;\">\n",
       "      <th></th>\n",
       "      <th>id</th>\n",
       "      <th>name</th>\n",
       "      <th>label</th>\n",
       "      <th>mesh_id</th>\n",
       "      <th>new_id</th>\n",
       "      <th>id_source</th>\n",
       "    </tr>\n",
       "  </thead>\n",
       "  <tbody>\n",
       "    <tr>\n",
       "      <th>16644</th>\n",
       "      <td>C0113168</td>\n",
       "      <td>desciclovir</td>\n",
       "      <td>Chemicals &amp; Drugs</td>\n",
       "      <td>C041468</td>\n",
       "      <td>C041468</td>\n",
       "      <td>MeSH</td>\n",
       "    </tr>\n",
       "    <tr>\n",
       "      <th>16645</th>\n",
       "      <td>C0140749</td>\n",
       "      <td>Ro 14-4767-002</td>\n",
       "      <td>Chemicals &amp; Drugs</td>\n",
       "      <td>C038974</td>\n",
       "      <td>C038974</td>\n",
       "      <td>MeSH</td>\n",
       "    </tr>\n",
       "  </tbody>\n",
       "</table>\n",
       "</div>"
      ],
      "text/plain": [
       "             id            name              label  mesh_id   new_id id_source\n",
       "16644  C0113168     desciclovir  Chemicals & Drugs  C041468  C041468      MeSH\n",
       "16645  C0140749  Ro 14-4767-002  Chemicals & Drugs  C038974  C038974      MeSH"
      ]
     },
     "execution_count": 29,
     "metadata": {},
     "output_type": "execute_result"
    }
   ],
   "source": [
    "drugs.head(2)"
   ]
  },
  {
   "cell_type": "code",
   "execution_count": 30,
   "metadata": {},
   "outputs": [
    {
     "name": "stdout",
     "output_type": "stream",
     "text": [
      "16.397% Reduction in Drugs 94,761 --> 79,223\n"
     ]
    }
   ],
   "source": [
    "print('{:.3%} Reduction in Drugs {:,} --> {:,}'.format(\n",
    "    (drugs.shape[0] - drugs['new_id'].nunique())/drugs.shape[0], drugs.shape[0], drugs['new_id'].nunique()))"
   ]
  },
  {
   "cell_type": "code",
   "execution_count": 31,
   "metadata": {},
   "outputs": [
    {
     "name": "stdout",
     "output_type": "stream",
     "text": [
      "85.423% of Drugs in DC Indications mapped: 2,010 out of 2,353\n",
      "95.209% of Indications have mappable Drug: 10,414 out of 10,938\n"
     ]
    }
   ],
   "source": [
    "inds = rels.query('relationship_name == \"indication\"')\n",
    "\n",
    "drug_ids_semmed = set(drugs['new_id'])\n",
    "drugs_in_inds = set(inds['compound_new_id'].dropna())\n",
    "\n",
    "num_ind_in_semmed = len(drugs_in_inds & drug_ids_semmed)\n",
    "\n",
    "print('{:.3%} of Drugs in DC Indications mapped: {:,} out of {:,}'.format(\n",
    "    (num_ind_in_semmed / len(drugs_in_inds)), num_ind_in_semmed, len(drugs_in_inds)))\n",
    "\n",
    "ind_semmed_comp = inds.query('compound_new_id in @drug_ids_semmed').shape[0]\n",
    "\n",
    "print('{:.3%} of Indications have mappable Drug: {:,} out of {:,}'.format(\n",
    "    (ind_semmed_comp / len(inds)), ind_semmed_comp, len(inds)))\n"
   ]
  },
  {
   "cell_type": "markdown",
   "metadata": {},
   "source": [
    "Looks at the  Mesh IDs that mapped to the greatest number of CUIs and see if the mappings make sense..."
   ]
  },
  {
   "cell_type": "code",
   "execution_count": 32,
   "metadata": {},
   "outputs": [
    {
     "data": {
      "text/plain": [
       "[('D014147', 56), ('D024505', 55), ('D000111', 47)]"
      ]
     },
     "execution_count": 32,
     "metadata": {},
     "output_type": "execute_result"
    }
   ],
   "source": [
    "mesh_counts.most_common(3)"
   ]
  },
  {
   "cell_type": "code",
   "execution_count": 33,
   "metadata": {},
   "outputs": [
    {
     "data": {
      "text/html": [
       "<div>\n",
       "<style scoped>\n",
       "    .dataframe tbody tr th:only-of-type {\n",
       "        vertical-align: middle;\n",
       "    }\n",
       "\n",
       "    .dataframe tbody tr th {\n",
       "        vertical-align: top;\n",
       "    }\n",
       "\n",
       "    .dataframe thead th {\n",
       "        text-align: right;\n",
       "    }\n",
       "</style>\n",
       "<table border=\"1\" class=\"dataframe\">\n",
       "  <thead>\n",
       "    <tr style=\"text-align: right;\">\n",
       "      <th></th>\n",
       "      <th>id</th>\n",
       "      <th>name</th>\n",
       "      <th>label</th>\n",
       "      <th>mesh_id</th>\n",
       "      <th>new_id</th>\n",
       "      <th>id_source</th>\n",
       "    </tr>\n",
       "  </thead>\n",
       "  <tbody>\n",
       "    <tr>\n",
       "      <th>26009</th>\n",
       "      <td>C0592292</td>\n",
       "      <td>Zydol</td>\n",
       "      <td>Chemicals &amp; Drugs</td>\n",
       "      <td>D014147</td>\n",
       "      <td>D014147</td>\n",
       "      <td>MeSH</td>\n",
       "    </tr>\n",
       "    <tr>\n",
       "      <th>28681</th>\n",
       "      <td>C0724054</td>\n",
       "      <td>Ultram</td>\n",
       "      <td>Chemicals &amp; Drugs</td>\n",
       "      <td>D014147</td>\n",
       "      <td>D014147</td>\n",
       "      <td>MeSH</td>\n",
       "    </tr>\n",
       "    <tr>\n",
       "      <th>36318</th>\n",
       "      <td>C2350089</td>\n",
       "      <td>clorhidrato de tramadol (producto)</td>\n",
       "      <td>Chemicals &amp; Drugs</td>\n",
       "      <td>D014147</td>\n",
       "      <td>D014147</td>\n",
       "      <td>MeSH</td>\n",
       "    </tr>\n",
       "    <tr>\n",
       "      <th>68080</th>\n",
       "      <td>C0728935</td>\n",
       "      <td>K-315</td>\n",
       "      <td>Chemicals &amp; Drugs</td>\n",
       "      <td>D014147</td>\n",
       "      <td>D014147</td>\n",
       "      <td>MeSH</td>\n",
       "    </tr>\n",
       "    <tr>\n",
       "      <th>100994</th>\n",
       "      <td>C0040610</td>\n",
       "      <td>Tramadol</td>\n",
       "      <td>Chemicals &amp; Drugs</td>\n",
       "      <td>D014147</td>\n",
       "      <td>D014147</td>\n",
       "      <td>MeSH</td>\n",
       "    </tr>\n",
       "    <tr>\n",
       "      <th>110191</th>\n",
       "      <td>C0040611</td>\n",
       "      <td>Tramal</td>\n",
       "      <td>Chemicals &amp; Drugs</td>\n",
       "      <td>D014147</td>\n",
       "      <td>D014147</td>\n",
       "      <td>MeSH</td>\n",
       "    </tr>\n",
       "  </tbody>\n",
       "</table>\n",
       "</div>"
      ],
      "text/plain": [
       "              id                                name              label  \\\n",
       "26009   C0592292                               Zydol  Chemicals & Drugs   \n",
       "28681   C0724054                              Ultram  Chemicals & Drugs   \n",
       "36318   C2350089  clorhidrato de tramadol (producto)  Chemicals & Drugs   \n",
       "68080   C0728935                               K-315  Chemicals & Drugs   \n",
       "100994  C0040610                            Tramadol  Chemicals & Drugs   \n",
       "110191  C0040611                              Tramal  Chemicals & Drugs   \n",
       "\n",
       "        mesh_id   new_id id_source  \n",
       "26009   D014147  D014147      MeSH  \n",
       "28681   D014147  D014147      MeSH  \n",
       "36318   D014147  D014147      MeSH  \n",
       "68080   D014147  D014147      MeSH  \n",
       "100994  D014147  D014147      MeSH  \n",
       "110191  D014147  D014147      MeSH  "
      ]
     },
     "execution_count": 33,
     "metadata": {},
     "output_type": "execute_result"
    }
   ],
   "source": [
    "to_q = mesh_counts.most_common(3)[0][0]\n",
    "\n",
    "drugs.query('new_id == @to_q')"
   ]
  },
  {
   "cell_type": "code",
   "execution_count": 34,
   "metadata": {},
   "outputs": [
    {
     "data": {
      "text/html": [
       "<div>\n",
       "<style scoped>\n",
       "    .dataframe tbody tr th:only-of-type {\n",
       "        vertical-align: middle;\n",
       "    }\n",
       "\n",
       "    .dataframe tbody tr th {\n",
       "        vertical-align: top;\n",
       "    }\n",
       "\n",
       "    .dataframe thead th {\n",
       "        text-align: right;\n",
       "    }\n",
       "</style>\n",
       "<table border=\"1\" class=\"dataframe\">\n",
       "  <thead>\n",
       "    <tr style=\"text-align: right;\">\n",
       "      <th></th>\n",
       "      <th>id</th>\n",
       "      <th>name</th>\n",
       "      <th>label</th>\n",
       "      <th>mesh_id</th>\n",
       "      <th>new_id</th>\n",
       "      <th>id_source</th>\n",
       "    </tr>\n",
       "  </thead>\n",
       "  <tbody>\n",
       "    <tr>\n",
       "      <th>27929</th>\n",
       "      <td>C0115296</td>\n",
       "      <td>E-ferol</td>\n",
       "      <td>Chemicals &amp; Drugs</td>\n",
       "      <td>D024505</td>\n",
       "      <td>D024505</td>\n",
       "      <td>MeSH</td>\n",
       "    </tr>\n",
       "    <tr>\n",
       "      <th>94056</th>\n",
       "      <td>C0591450</td>\n",
       "      <td>Ephynal</td>\n",
       "      <td>Chemicals &amp; Drugs</td>\n",
       "      <td>D024505</td>\n",
       "      <td>D024505</td>\n",
       "      <td>MeSH</td>\n",
       "    </tr>\n",
       "    <tr>\n",
       "      <th>107206</th>\n",
       "      <td>C0087096</td>\n",
       "      <td>Tocopherols</td>\n",
       "      <td>Chemicals &amp; Drugs</td>\n",
       "      <td>D024505</td>\n",
       "      <td>D024505</td>\n",
       "      <td>MeSH</td>\n",
       "    </tr>\n",
       "  </tbody>\n",
       "</table>\n",
       "</div>"
      ],
      "text/plain": [
       "              id         name              label  mesh_id   new_id id_source\n",
       "27929   C0115296      E-ferol  Chemicals & Drugs  D024505  D024505      MeSH\n",
       "94056   C0591450      Ephynal  Chemicals & Drugs  D024505  D024505      MeSH\n",
       "107206  C0087096  Tocopherols  Chemicals & Drugs  D024505  D024505      MeSH"
      ]
     },
     "execution_count": 34,
     "metadata": {},
     "output_type": "execute_result"
    }
   ],
   "source": [
    "to_q = mesh_counts.most_common(3)[1][0]\n",
    "\n",
    "drugs.query('new_id == @to_q')"
   ]
  },
  {
   "cell_type": "code",
   "execution_count": 35,
   "metadata": {},
   "outputs": [
    {
     "data": {
      "text/html": [
       "<div>\n",
       "<style scoped>\n",
       "    .dataframe tbody tr th:only-of-type {\n",
       "        vertical-align: middle;\n",
       "    }\n",
       "\n",
       "    .dataframe tbody tr th {\n",
       "        vertical-align: top;\n",
       "    }\n",
       "\n",
       "    .dataframe thead th {\n",
       "        text-align: right;\n",
       "    }\n",
       "</style>\n",
       "<table border=\"1\" class=\"dataframe\">\n",
       "  <thead>\n",
       "    <tr style=\"text-align: right;\">\n",
       "      <th></th>\n",
       "      <th>id</th>\n",
       "      <th>name</th>\n",
       "      <th>label</th>\n",
       "      <th>mesh_id</th>\n",
       "      <th>new_id</th>\n",
       "      <th>id_source</th>\n",
       "    </tr>\n",
       "  </thead>\n",
       "  <tbody>\n",
       "    <tr>\n",
       "      <th>20046</th>\n",
       "      <td>C1449437</td>\n",
       "      <td>Jenacystein</td>\n",
       "      <td>Chemicals &amp; Drugs</td>\n",
       "      <td>D000111</td>\n",
       "      <td>D000111</td>\n",
       "      <td>MeSH</td>\n",
       "    </tr>\n",
       "    <tr>\n",
       "      <th>27415</th>\n",
       "      <td>C0591477</td>\n",
       "      <td>Fabrol</td>\n",
       "      <td>Chemicals &amp; Drugs</td>\n",
       "      <td>D000111</td>\n",
       "      <td>D000111</td>\n",
       "      <td>MeSH</td>\n",
       "    </tr>\n",
       "    <tr>\n",
       "      <th>52322</th>\n",
       "      <td>C1449416</td>\n",
       "      <td>Alveolex</td>\n",
       "      <td>Chemicals &amp; Drugs</td>\n",
       "      <td>D000111</td>\n",
       "      <td>D000111</td>\n",
       "      <td>MeSH</td>\n",
       "    </tr>\n",
       "    <tr>\n",
       "      <th>54835</th>\n",
       "      <td>C1449405</td>\n",
       "      <td>Siccoral</td>\n",
       "      <td>Chemicals &amp; Drugs</td>\n",
       "      <td>D000111</td>\n",
       "      <td>D000111</td>\n",
       "      <td>MeSH</td>\n",
       "    </tr>\n",
       "    <tr>\n",
       "      <th>83284</th>\n",
       "      <td>C0699252</td>\n",
       "      <td>Mucomyst</td>\n",
       "      <td>Chemicals &amp; Drugs</td>\n",
       "      <td>D000111</td>\n",
       "      <td>D000111</td>\n",
       "      <td>MeSH</td>\n",
       "    </tr>\n",
       "    <tr>\n",
       "      <th>101647</th>\n",
       "      <td>C0699253</td>\n",
       "      <td>Mucosolvin</td>\n",
       "      <td>Chemicals &amp; Drugs</td>\n",
       "      <td>D000111</td>\n",
       "      <td>D000111</td>\n",
       "      <td>MeSH</td>\n",
       "    </tr>\n",
       "    <tr>\n",
       "      <th>105279</th>\n",
       "      <td>C0699251</td>\n",
       "      <td>Fluimucil</td>\n",
       "      <td>Chemicals &amp; Drugs</td>\n",
       "      <td>D000111</td>\n",
       "      <td>D000111</td>\n",
       "      <td>MeSH</td>\n",
       "    </tr>\n",
       "    <tr>\n",
       "      <th>106225</th>\n",
       "      <td>C0001047</td>\n",
       "      <td>Acetylcysteine</td>\n",
       "      <td>Chemicals &amp; Drugs</td>\n",
       "      <td>D000111</td>\n",
       "      <td>D000111</td>\n",
       "      <td>MeSH</td>\n",
       "    </tr>\n",
       "  </tbody>\n",
       "</table>\n",
       "</div>"
      ],
      "text/plain": [
       "              id            name              label  mesh_id   new_id  \\\n",
       "20046   C1449437     Jenacystein  Chemicals & Drugs  D000111  D000111   \n",
       "27415   C0591477          Fabrol  Chemicals & Drugs  D000111  D000111   \n",
       "52322   C1449416        Alveolex  Chemicals & Drugs  D000111  D000111   \n",
       "54835   C1449405        Siccoral  Chemicals & Drugs  D000111  D000111   \n",
       "83284   C0699252        Mucomyst  Chemicals & Drugs  D000111  D000111   \n",
       "101647  C0699253      Mucosolvin  Chemicals & Drugs  D000111  D000111   \n",
       "105279  C0699251       Fluimucil  Chemicals & Drugs  D000111  D000111   \n",
       "106225  C0001047  Acetylcysteine  Chemicals & Drugs  D000111  D000111   \n",
       "\n",
       "       id_source  \n",
       "20046       MeSH  \n",
       "27415       MeSH  \n",
       "52322       MeSH  \n",
       "54835       MeSH  \n",
       "83284       MeSH  \n",
       "101647      MeSH  \n",
       "105279      MeSH  \n",
       "106225      MeSH  "
      ]
     },
     "execution_count": 35,
     "metadata": {},
     "output_type": "execute_result"
    }
   ],
   "source": [
    "to_q = mesh_counts.most_common(3)[2][0]\n",
    "\n",
    "drugs.query('new_id == @to_q')"
   ]
  },
  {
   "cell_type": "markdown",
   "metadata": {},
   "source": [
    "These all look pretty good.  All of the names for `D000111` are listed uner the aliases on the [Acetylcysteine MeSH page](https://meshb.nlm.nih.gov/record/ui?ui=D000111)\n",
    "\n",
    "Now let's look at a few compounds that may have a new MeSH ID distinct from their original, thanks to incorporating the DrugCentral X-refs"
   ]
  },
  {
   "cell_type": "code",
   "execution_count": 36,
   "metadata": {},
   "outputs": [
    {
     "name": "stdout",
     "output_type": "stream",
     "text": [
      "319\n"
     ]
    },
    {
     "data": {
      "text/html": [
       "<div>\n",
       "<style scoped>\n",
       "    .dataframe tbody tr th:only-of-type {\n",
       "        vertical-align: middle;\n",
       "    }\n",
       "\n",
       "    .dataframe tbody tr th {\n",
       "        vertical-align: top;\n",
       "    }\n",
       "\n",
       "    .dataframe thead th {\n",
       "        text-align: right;\n",
       "    }\n",
       "</style>\n",
       "<table border=\"1\" class=\"dataframe\">\n",
       "  <thead>\n",
       "    <tr style=\"text-align: right;\">\n",
       "      <th></th>\n",
       "      <th>id</th>\n",
       "      <th>name</th>\n",
       "      <th>label</th>\n",
       "      <th>mesh_id</th>\n",
       "      <th>new_id</th>\n",
       "      <th>id_source</th>\n",
       "    </tr>\n",
       "  </thead>\n",
       "  <tbody>\n",
       "    <tr>\n",
       "      <th>16919</th>\n",
       "      <td>C0054425</td>\n",
       "      <td>caerulein diethylamine</td>\n",
       "      <td>Chemicals &amp; Drugs</td>\n",
       "      <td>C032637</td>\n",
       "      <td>D002108</td>\n",
       "      <td>MeSH</td>\n",
       "    </tr>\n",
       "    <tr>\n",
       "      <th>16999</th>\n",
       "      <td>C0383405</td>\n",
       "      <td>Gonal F</td>\n",
       "      <td>Chemicals &amp; Drugs</td>\n",
       "      <td>C571801</td>\n",
       "      <td>D050477</td>\n",
       "      <td>MeSH</td>\n",
       "    </tr>\n",
       "    <tr>\n",
       "      <th>17185</th>\n",
       "      <td>C1257665</td>\n",
       "      <td>Aclaplastin</td>\n",
       "      <td>Chemicals &amp; Drugs</td>\n",
       "      <td>D015250</td>\n",
       "      <td>C011157</td>\n",
       "      <td>MeSH</td>\n",
       "    </tr>\n",
       "    <tr>\n",
       "      <th>17647</th>\n",
       "      <td>C1570410</td>\n",
       "      <td>dicaffeoylquinic acid</td>\n",
       "      <td>Chemicals &amp; Drugs</td>\n",
       "      <td>C472707</td>\n",
       "      <td>C100257</td>\n",
       "      <td>MeSH</td>\n",
       "    </tr>\n",
       "    <tr>\n",
       "      <th>17716</th>\n",
       "      <td>C0809900</td>\n",
       "      <td>MK-412A</td>\n",
       "      <td>Chemicals &amp; Drugs</td>\n",
       "      <td>D002710</td>\n",
       "      <td>C010882</td>\n",
       "      <td>MeSH</td>\n",
       "    </tr>\n",
       "    <tr>\n",
       "      <th>17827</th>\n",
       "      <td>C0077209</td>\n",
       "      <td>trimetrexate glucuronate</td>\n",
       "      <td>Chemicals &amp; Drugs</td>\n",
       "      <td>C056321</td>\n",
       "      <td>D016597</td>\n",
       "      <td>MeSH</td>\n",
       "    </tr>\n",
       "    <tr>\n",
       "      <th>18149</th>\n",
       "      <td>C0717550</td>\n",
       "      <td>candesartan</td>\n",
       "      <td>Chemicals &amp; Drugs</td>\n",
       "      <td>C081643</td>\n",
       "      <td>C077793</td>\n",
       "      <td>MeSH</td>\n",
       "    </tr>\n",
       "    <tr>\n",
       "      <th>18872</th>\n",
       "      <td>C0546173</td>\n",
       "      <td>Calcium ascorbate</td>\n",
       "      <td>Chemicals &amp; Drugs</td>\n",
       "      <td>C069207</td>\n",
       "      <td>D001205</td>\n",
       "      <td>MeSH</td>\n",
       "    </tr>\n",
       "    <tr>\n",
       "      <th>19803</th>\n",
       "      <td>C0591649</td>\n",
       "      <td>Innohep</td>\n",
       "      <td>Chemicals &amp; Drugs</td>\n",
       "      <td>C081247</td>\n",
       "      <td>D017985</td>\n",
       "      <td>MeSH</td>\n",
       "    </tr>\n",
       "    <tr>\n",
       "      <th>20240</th>\n",
       "      <td>C0141227</td>\n",
       "      <td>S-9780</td>\n",
       "      <td>Chemicals &amp; Drugs</td>\n",
       "      <td>C053500</td>\n",
       "      <td>D020913</td>\n",
       "      <td>MeSH</td>\n",
       "    </tr>\n",
       "  </tbody>\n",
       "</table>\n",
       "</div>"
      ],
      "text/plain": [
       "             id                      name              label  mesh_id  \\\n",
       "16919  C0054425    caerulein diethylamine  Chemicals & Drugs  C032637   \n",
       "16999  C0383405                   Gonal F  Chemicals & Drugs  C571801   \n",
       "17185  C1257665               Aclaplastin  Chemicals & Drugs  D015250   \n",
       "17647  C1570410     dicaffeoylquinic acid  Chemicals & Drugs  C472707   \n",
       "17716  C0809900                   MK-412A  Chemicals & Drugs  D002710   \n",
       "17827  C0077209  trimetrexate glucuronate  Chemicals & Drugs  C056321   \n",
       "18149  C0717550               candesartan  Chemicals & Drugs  C081643   \n",
       "18872  C0546173         Calcium ascorbate  Chemicals & Drugs  C069207   \n",
       "19803  C0591649                   Innohep  Chemicals & Drugs  C081247   \n",
       "20240  C0141227                    S-9780  Chemicals & Drugs  C053500   \n",
       "\n",
       "        new_id id_source  \n",
       "16919  D002108      MeSH  \n",
       "16999  D050477      MeSH  \n",
       "17185  C011157      MeSH  \n",
       "17647  C100257      MeSH  \n",
       "17716  C010882      MeSH  \n",
       "17827  D016597      MeSH  \n",
       "18149  C077793      MeSH  \n",
       "18872  D001205      MeSH  \n",
       "19803  D017985      MeSH  \n",
       "20240  D020913      MeSH  "
      ]
     },
     "execution_count": 36,
     "metadata": {},
     "output_type": "execute_result"
    }
   ],
   "source": [
    "new_id_not_mesh = drugs.dropna(subset=['mesh_id']).query('new_id != mesh_id')\n",
    "print(len(new_id_not_mesh))\n",
    "new_id_not_mesh.head(10)"
   ]
  },
  {
   "cell_type": "code",
   "execution_count": 37,
   "metadata": {
    "collapsed": true
   },
   "outputs": [],
   "source": [
    "diff_new_ids = new_id_not_mesh.query('id_source == \"MeSH\"')['new_id'].values"
   ]
  },
  {
   "cell_type": "code",
   "execution_count": 38,
   "metadata": {},
   "outputs": [
    {
     "data": {
      "text/plain": [
       "array(['D002108', 'D050477', 'C011157', 'C100257', 'C010882'],\n",
       "      dtype=object)"
      ]
     },
     "execution_count": 38,
     "metadata": {},
     "output_type": "execute_result"
    }
   ],
   "source": [
    "diff_new_ids[:5]"
   ]
  },
  {
   "cell_type": "code",
   "execution_count": 39,
   "metadata": {},
   "outputs": [
    {
     "data": {
      "text/html": [
       "<div>\n",
       "<style scoped>\n",
       "    .dataframe tbody tr th:only-of-type {\n",
       "        vertical-align: middle;\n",
       "    }\n",
       "\n",
       "    .dataframe tbody tr th {\n",
       "        vertical-align: top;\n",
       "    }\n",
       "\n",
       "    .dataframe thead th {\n",
       "        text-align: right;\n",
       "    }\n",
       "</style>\n",
       "<table border=\"1\" class=\"dataframe\">\n",
       "  <thead>\n",
       "    <tr style=\"text-align: right;\">\n",
       "      <th></th>\n",
       "      <th>id</th>\n",
       "      <th>struct_id</th>\n",
       "      <th>concept_id</th>\n",
       "      <th>relationship_name</th>\n",
       "      <th>concept_name</th>\n",
       "      <th>umls_cui</th>\n",
       "      <th>snomed_full_name</th>\n",
       "      <th>cui_semantic_type</th>\n",
       "      <th>snomed_conceptid</th>\n",
       "      <th>c_name</th>\n",
       "      <th>compound_new_id</th>\n",
       "    </tr>\n",
       "  </thead>\n",
       "  <tbody>\n",
       "    <tr>\n",
       "      <th>630</th>\n",
       "      <td>133039</td>\n",
       "      <td>579</td>\n",
       "      <td>21001931</td>\n",
       "      <td>indication</td>\n",
       "      <td>Diagnostic aid</td>\n",
       "      <td>C0358514</td>\n",
       "      <td>Diagnostic aid</td>\n",
       "      <td>T130</td>\n",
       "      <td>2949005.0</td>\n",
       "      <td>ceruletide</td>\n",
       "      <td>D002108</td>\n",
       "    </tr>\n",
       "  </tbody>\n",
       "</table>\n",
       "</div>"
      ],
      "text/plain": [
       "         id  struct_id  concept_id relationship_name    concept_name  \\\n",
       "630  133039        579    21001931        indication  Diagnostic aid   \n",
       "\n",
       "     umls_cui snomed_full_name cui_semantic_type  snomed_conceptid  \\\n",
       "630  C0358514   Diagnostic aid              T130         2949005.0   \n",
       "\n",
       "         c_name compound_new_id  \n",
       "630  ceruletide         D002108  "
      ]
     },
     "execution_count": 39,
     "metadata": {},
     "output_type": "execute_result"
    }
   ],
   "source": [
    "inds.query('compound_new_id == \"D002108\"')"
   ]
  },
  {
   "cell_type": "markdown",
   "metadata": {},
   "source": [
    "## 5. Diseases:\n",
    "\n",
    "With diseases we will do a little more in terms of the mapping.  Beacause diseases in both UMLS and MeSH, we will incorporate some of the mappings from Disease Ontology Slim to try and get general diseases.  The workflow will be as folows:\n",
    "\n",
    "1. Map nodes to Mesh\n",
    "2. Map ind CUI and/or SNOMED terms from DrugCentral to Mesh\n",
    "4. Incorporate DO Slim mappings\n",
    "3. Find overlap between these soruces\n"
   ]
  },
  {
   "cell_type": "code",
   "execution_count": 40,
   "metadata": {
    "collapsed": true
   },
   "outputs": [],
   "source": [
    "diseases = nodes.query('label == \"Disorders\"').copy()"
   ]
  },
  {
   "cell_type": "code",
   "execution_count": 41,
   "metadata": {},
   "outputs": [
    {
     "data": {
      "text/plain": [
       "40798"
      ]
     },
     "execution_count": 41,
     "metadata": {},
     "output_type": "execute_result"
    }
   ],
   "source": [
    "len(diseases)"
   ]
  },
  {
   "cell_type": "code",
   "execution_count": 42,
   "metadata": {
    "collapsed": true
   },
   "outputs": [],
   "source": [
    "dis_numbers = diseases.groupby('mesh_id').apply(len).sort_values(ascending=False)"
   ]
  },
  {
   "cell_type": "code",
   "execution_count": 43,
   "metadata": {},
   "outputs": [
    {
     "data": {
      "text/html": [
       "<div>\n",
       "<style scoped>\n",
       "    .dataframe tbody tr th:only-of-type {\n",
       "        vertical-align: middle;\n",
       "    }\n",
       "\n",
       "    .dataframe tbody tr th {\n",
       "        vertical-align: top;\n",
       "    }\n",
       "\n",
       "    .dataframe thead th {\n",
       "        text-align: right;\n",
       "    }\n",
       "</style>\n",
       "<table border=\"1\" class=\"dataframe\">\n",
       "  <thead>\n",
       "    <tr style=\"text-align: right;\">\n",
       "      <th></th>\n",
       "      <th>id</th>\n",
       "      <th>name</th>\n",
       "      <th>label</th>\n",
       "      <th>mesh_id</th>\n",
       "    </tr>\n",
       "  </thead>\n",
       "  <tbody>\n",
       "    <tr>\n",
       "      <th>131524</th>\n",
       "      <td>C0004114</td>\n",
       "      <td>Astrocytoma</td>\n",
       "      <td>Disorders</td>\n",
       "      <td>D001254</td>\n",
       "    </tr>\n",
       "    <tr>\n",
       "      <th>148138</th>\n",
       "      <td>C0334580</td>\n",
       "      <td>Protoplasmic astrocytoma</td>\n",
       "      <td>Disorders</td>\n",
       "      <td>D001254</td>\n",
       "    </tr>\n",
       "    <tr>\n",
       "      <th>133067</th>\n",
       "      <td>C0338070</td>\n",
       "      <td>Childhood Cerebral Astrocytoma</td>\n",
       "      <td>Disorders</td>\n",
       "      <td>D001254</td>\n",
       "    </tr>\n",
       "    <tr>\n",
       "      <th>147858</th>\n",
       "      <td>C0334583</td>\n",
       "      <td>Pilocytic Astrocytoma</td>\n",
       "      <td>Disorders</td>\n",
       "      <td>D001254</td>\n",
       "    </tr>\n",
       "    <tr>\n",
       "      <th>151600</th>\n",
       "      <td>C0205768</td>\n",
       "      <td>Subependymal Giant Cell Astrocytoma</td>\n",
       "      <td>Disorders</td>\n",
       "      <td>D001254</td>\n",
       "    </tr>\n",
       "    <tr>\n",
       "      <th>125768</th>\n",
       "      <td>C0750935</td>\n",
       "      <td>Cerebral Astrocytoma</td>\n",
       "      <td>Disorders</td>\n",
       "      <td>D001254</td>\n",
       "    </tr>\n",
       "    <tr>\n",
       "      <th>158858</th>\n",
       "      <td>C0334581</td>\n",
       "      <td>Gemistocytic astrocytoma</td>\n",
       "      <td>Disorders</td>\n",
       "      <td>D001254</td>\n",
       "    </tr>\n",
       "    <tr>\n",
       "      <th>157596</th>\n",
       "      <td>C0280783</td>\n",
       "      <td>Juvenile Pilocytic Astrocytoma</td>\n",
       "      <td>Disorders</td>\n",
       "      <td>D001254</td>\n",
       "    </tr>\n",
       "    <tr>\n",
       "      <th>159201</th>\n",
       "      <td>C0750936</td>\n",
       "      <td>Intracranial Astrocytoma</td>\n",
       "      <td>Disorders</td>\n",
       "      <td>D001254</td>\n",
       "    </tr>\n",
       "    <tr>\n",
       "      <th>148012</th>\n",
       "      <td>C0547065</td>\n",
       "      <td>Mixed oligoastrocytoma</td>\n",
       "      <td>Disorders</td>\n",
       "      <td>D001254</td>\n",
       "    </tr>\n",
       "    <tr>\n",
       "      <th>139273</th>\n",
       "      <td>C0334582</td>\n",
       "      <td>Fibrillary Astrocytoma</td>\n",
       "      <td>Disorders</td>\n",
       "      <td>D001254</td>\n",
       "    </tr>\n",
       "    <tr>\n",
       "      <th>122776</th>\n",
       "      <td>C0334579</td>\n",
       "      <td>Anaplastic astrocytoma</td>\n",
       "      <td>Disorders</td>\n",
       "      <td>D001254</td>\n",
       "    </tr>\n",
       "    <tr>\n",
       "      <th>124764</th>\n",
       "      <td>C0280785</td>\n",
       "      <td>Diffuse Astrocytoma</td>\n",
       "      <td>Disorders</td>\n",
       "      <td>D001254</td>\n",
       "    </tr>\n",
       "    <tr>\n",
       "      <th>155605</th>\n",
       "      <td>C0424072</td>\n",
       "      <td>Hallucinations, Visual, Formed</td>\n",
       "      <td>Disorders</td>\n",
       "      <td>D006212</td>\n",
       "    </tr>\n",
       "    <tr>\n",
       "      <th>141443</th>\n",
       "      <td>C0233763</td>\n",
       "      <td>Hallucinations, Visual</td>\n",
       "      <td>Disorders</td>\n",
       "      <td>D006212</td>\n",
       "    </tr>\n",
       "    <tr>\n",
       "      <th>133428</th>\n",
       "      <td>C0424083</td>\n",
       "      <td>Hallucinations, Dissociative</td>\n",
       "      <td>Disorders</td>\n",
       "      <td>D006212</td>\n",
       "    </tr>\n",
       "    <tr>\n",
       "      <th>157323</th>\n",
       "      <td>C0029226</td>\n",
       "      <td>Hallucinations, Organic</td>\n",
       "      <td>Disorders</td>\n",
       "      <td>D006212</td>\n",
       "    </tr>\n",
       "    <tr>\n",
       "      <th>134759</th>\n",
       "      <td>C0233775</td>\n",
       "      <td>Hallucinations, Mood Congruent</td>\n",
       "      <td>Disorders</td>\n",
       "      <td>D006212</td>\n",
       "    </tr>\n",
       "    <tr>\n",
       "      <th>156166</th>\n",
       "      <td>C0424068</td>\n",
       "      <td>Hallucinations, Verbal Auditory</td>\n",
       "      <td>Disorders</td>\n",
       "      <td>D006212</td>\n",
       "    </tr>\n",
       "    <tr>\n",
       "      <th>148894</th>\n",
       "      <td>C0233759</td>\n",
       "      <td>Hallucinations, Elementary</td>\n",
       "      <td>Disorders</td>\n",
       "      <td>D006212</td>\n",
       "    </tr>\n",
       "    <tr>\n",
       "      <th>131155</th>\n",
       "      <td>C0235153</td>\n",
       "      <td>Hallucinations, Sensory</td>\n",
       "      <td>Disorders</td>\n",
       "      <td>D006212</td>\n",
       "    </tr>\n",
       "    <tr>\n",
       "      <th>129431</th>\n",
       "      <td>C0233767</td>\n",
       "      <td>Hallucinations, Tactile</td>\n",
       "      <td>Disorders</td>\n",
       "      <td>D006212</td>\n",
       "    </tr>\n",
       "    <tr>\n",
       "      <th>138139</th>\n",
       "      <td>C0233765</td>\n",
       "      <td>Hallucinations, Olfactory</td>\n",
       "      <td>Disorders</td>\n",
       "      <td>D006212</td>\n",
       "    </tr>\n",
       "    <tr>\n",
       "      <th>159188</th>\n",
       "      <td>C0233766</td>\n",
       "      <td>Hallucinations, Gustatory</td>\n",
       "      <td>Disorders</td>\n",
       "      <td>D006212</td>\n",
       "    </tr>\n",
       "    <tr>\n",
       "      <th>150494</th>\n",
       "      <td>C0233773</td>\n",
       "      <td>Hallucinations, Hypnagogic</td>\n",
       "      <td>Disorders</td>\n",
       "      <td>D006212</td>\n",
       "    </tr>\n",
       "    <tr>\n",
       "      <th>142442</th>\n",
       "      <td>C0544668</td>\n",
       "      <td>Hallucinations, Kinesthetic</td>\n",
       "      <td>Disorders</td>\n",
       "      <td>D006212</td>\n",
       "    </tr>\n",
       "    <tr>\n",
       "      <th>124196</th>\n",
       "      <td>C0233762</td>\n",
       "      <td>Hallucinations, Auditory</td>\n",
       "      <td>Disorders</td>\n",
       "      <td>D006212</td>\n",
       "    </tr>\n",
       "    <tr>\n",
       "      <th>150149</th>\n",
       "      <td>C0424082</td>\n",
       "      <td>Hallucinations, Hypnapompic</td>\n",
       "      <td>Disorders</td>\n",
       "      <td>D006212</td>\n",
       "    </tr>\n",
       "    <tr>\n",
       "      <th>152972</th>\n",
       "      <td>C0233774</td>\n",
       "      <td>Hallucinations, Somatic</td>\n",
       "      <td>Disorders</td>\n",
       "      <td>D006212</td>\n",
       "    </tr>\n",
       "    <tr>\n",
       "      <th>127575</th>\n",
       "      <td>C0018524</td>\n",
       "      <td>Hallucinations</td>\n",
       "      <td>Disorders</td>\n",
       "      <td>D006212</td>\n",
       "    </tr>\n",
       "    <tr>\n",
       "      <th>...</th>\n",
       "      <td>...</td>\n",
       "      <td>...</td>\n",
       "      <td>...</td>\n",
       "      <td>...</td>\n",
       "    </tr>\n",
       "    <tr>\n",
       "      <th>126543</th>\n",
       "      <td>C0234372</td>\n",
       "      <td>Intermittent Tremor</td>\n",
       "      <td>Disorders</td>\n",
       "      <td>D014202</td>\n",
       "    </tr>\n",
       "    <tr>\n",
       "      <th>142246</th>\n",
       "      <td>C0234379</td>\n",
       "      <td>Resting Tremor</td>\n",
       "      <td>Disorders</td>\n",
       "      <td>D014202</td>\n",
       "    </tr>\n",
       "    <tr>\n",
       "      <th>129975</th>\n",
       "      <td>C0234376</td>\n",
       "      <td>Action Tremor</td>\n",
       "      <td>Disorders</td>\n",
       "      <td>D014202</td>\n",
       "    </tr>\n",
       "    <tr>\n",
       "      <th>132874</th>\n",
       "      <td>C0040822</td>\n",
       "      <td>Tremor</td>\n",
       "      <td>Disorders</td>\n",
       "      <td>D014202</td>\n",
       "    </tr>\n",
       "    <tr>\n",
       "      <th>133202</th>\n",
       "      <td>C0231695</td>\n",
       "      <td>Gait, Reeling</td>\n",
       "      <td>Disorders</td>\n",
       "      <td>D020233</td>\n",
       "    </tr>\n",
       "    <tr>\n",
       "      <th>151372</th>\n",
       "      <td>C0231696</td>\n",
       "      <td>Gait, Hemiplegic</td>\n",
       "      <td>Disorders</td>\n",
       "      <td>D020233</td>\n",
       "    </tr>\n",
       "    <tr>\n",
       "      <th>124855</th>\n",
       "      <td>C0427169</td>\n",
       "      <td>Marche a Petit Pas</td>\n",
       "      <td>Disorders</td>\n",
       "      <td>D020233</td>\n",
       "    </tr>\n",
       "    <tr>\n",
       "      <th>159739</th>\n",
       "      <td>C0231712</td>\n",
       "      <td>Duck Gait</td>\n",
       "      <td>Disorders</td>\n",
       "      <td>D020233</td>\n",
       "    </tr>\n",
       "    <tr>\n",
       "      <th>159925</th>\n",
       "      <td>C0231686</td>\n",
       "      <td>Gait, Unsteady</td>\n",
       "      <td>Disorders</td>\n",
       "      <td>D020233</td>\n",
       "    </tr>\n",
       "    <tr>\n",
       "      <th>131452</th>\n",
       "      <td>C0751830</td>\n",
       "      <td>Gait Disorders, Neurologic</td>\n",
       "      <td>Disorders</td>\n",
       "      <td>D020233</td>\n",
       "    </tr>\n",
       "    <tr>\n",
       "      <th>125578</th>\n",
       "      <td>C0337210</td>\n",
       "      <td>Gait, Stumbling</td>\n",
       "      <td>Disorders</td>\n",
       "      <td>D020233</td>\n",
       "    </tr>\n",
       "    <tr>\n",
       "      <th>138219</th>\n",
       "      <td>C0231694</td>\n",
       "      <td>Gait, Festinating</td>\n",
       "      <td>Disorders</td>\n",
       "      <td>D020233</td>\n",
       "    </tr>\n",
       "    <tr>\n",
       "      <th>139549</th>\n",
       "      <td>C0427149</td>\n",
       "      <td>Gait, Drop Foot</td>\n",
       "      <td>Disorders</td>\n",
       "      <td>D020233</td>\n",
       "    </tr>\n",
       "    <tr>\n",
       "      <th>139762</th>\n",
       "      <td>C0231688</td>\n",
       "      <td>Gait, Shuffling</td>\n",
       "      <td>Disorders</td>\n",
       "      <td>D020233</td>\n",
       "    </tr>\n",
       "    <tr>\n",
       "      <th>140272</th>\n",
       "      <td>C0751831</td>\n",
       "      <td>Gait, Frontal</td>\n",
       "      <td>Disorders</td>\n",
       "      <td>D020233</td>\n",
       "    </tr>\n",
       "    <tr>\n",
       "      <th>147001</th>\n",
       "      <td>C0231687</td>\n",
       "      <td>Gait, Spastic</td>\n",
       "      <td>Disorders</td>\n",
       "      <td>D020233</td>\n",
       "    </tr>\n",
       "    <tr>\n",
       "      <th>142929</th>\n",
       "      <td>C0231698</td>\n",
       "      <td>Gait, Scissors</td>\n",
       "      <td>Disorders</td>\n",
       "      <td>D020233</td>\n",
       "    </tr>\n",
       "    <tr>\n",
       "      <th>150155</th>\n",
       "      <td>C0752208</td>\n",
       "      <td>Pseudodystonia</td>\n",
       "      <td>Disorders</td>\n",
       "      <td>D020821</td>\n",
       "    </tr>\n",
       "    <tr>\n",
       "      <th>150105</th>\n",
       "      <td>C0752205</td>\n",
       "      <td>Dystonia, Secondary</td>\n",
       "      <td>Disorders</td>\n",
       "      <td>D020821</td>\n",
       "    </tr>\n",
       "    <tr>\n",
       "      <th>149033</th>\n",
       "      <td>C0752206</td>\n",
       "      <td>Dystonias, Sporadic</td>\n",
       "      <td>Disorders</td>\n",
       "      <td>D020821</td>\n",
       "    </tr>\n",
       "    <tr>\n",
       "      <th>148964</th>\n",
       "      <td>C0752202</td>\n",
       "      <td>Childhood Onset Dystonias</td>\n",
       "      <td>Disorders</td>\n",
       "      <td>D020821</td>\n",
       "    </tr>\n",
       "    <tr>\n",
       "      <th>153065</th>\n",
       "      <td>C0743332</td>\n",
       "      <td>Focal Dystonia</td>\n",
       "      <td>Disorders</td>\n",
       "      <td>D020821</td>\n",
       "    </tr>\n",
       "    <tr>\n",
       "      <th>151121</th>\n",
       "      <td>C0752197</td>\n",
       "      <td>Adult-Onset Dystonias</td>\n",
       "      <td>Disorders</td>\n",
       "      <td>D020821</td>\n",
       "    </tr>\n",
       "    <tr>\n",
       "      <th>142470</th>\n",
       "      <td>C0752200</td>\n",
       "      <td>Autosomal Dominant Familial Dystonia</td>\n",
       "      <td>Disorders</td>\n",
       "      <td>D020821</td>\n",
       "    </tr>\n",
       "    <tr>\n",
       "      <th>141689</th>\n",
       "      <td>C0154676</td>\n",
       "      <td>Organic writer's cramp</td>\n",
       "      <td>Disorders</td>\n",
       "      <td>D020821</td>\n",
       "    </tr>\n",
       "    <tr>\n",
       "      <th>154662</th>\n",
       "      <td>C0752203</td>\n",
       "      <td>Dystonia, Primary</td>\n",
       "      <td>Disorders</td>\n",
       "      <td>D020821</td>\n",
       "    </tr>\n",
       "    <tr>\n",
       "      <th>154812</th>\n",
       "      <td>C0752199</td>\n",
       "      <td>Adult-Onset Idiopathic Torsion Dystonias</td>\n",
       "      <td>Disorders</td>\n",
       "      <td>D020821</td>\n",
       "    </tr>\n",
       "    <tr>\n",
       "      <th>155599</th>\n",
       "      <td>C0393593</td>\n",
       "      <td>Dystonic Disorder</td>\n",
       "      <td>Disorders</td>\n",
       "      <td>D020821</td>\n",
       "    </tr>\n",
       "    <tr>\n",
       "      <th>125288</th>\n",
       "      <td>C0752207</td>\n",
       "      <td>Familial Dystonia</td>\n",
       "      <td>Disorders</td>\n",
       "      <td>D020821</td>\n",
       "    </tr>\n",
       "    <tr>\n",
       "      <th>141588</th>\n",
       "      <td>C0752198</td>\n",
       "      <td>Adult-Onset Idiopathic Focal Dystonias</td>\n",
       "      <td>Disorders</td>\n",
       "      <td>D020821</td>\n",
       "    </tr>\n",
       "  </tbody>\n",
       "</table>\n",
       "<p>160 rows × 4 columns</p>\n",
       "</div>"
      ],
      "text/plain": [
       "              id                                      name      label  mesh_id\n",
       "131524  C0004114                               Astrocytoma  Disorders  D001254\n",
       "148138  C0334580                  Protoplasmic astrocytoma  Disorders  D001254\n",
       "133067  C0338070            Childhood Cerebral Astrocytoma  Disorders  D001254\n",
       "147858  C0334583                     Pilocytic Astrocytoma  Disorders  D001254\n",
       "151600  C0205768       Subependymal Giant Cell Astrocytoma  Disorders  D001254\n",
       "125768  C0750935                      Cerebral Astrocytoma  Disorders  D001254\n",
       "158858  C0334581                  Gemistocytic astrocytoma  Disorders  D001254\n",
       "157596  C0280783            Juvenile Pilocytic Astrocytoma  Disorders  D001254\n",
       "159201  C0750936                  Intracranial Astrocytoma  Disorders  D001254\n",
       "148012  C0547065                    Mixed oligoastrocytoma  Disorders  D001254\n",
       "139273  C0334582                    Fibrillary Astrocytoma  Disorders  D001254\n",
       "122776  C0334579                    Anaplastic astrocytoma  Disorders  D001254\n",
       "124764  C0280785                       Diffuse Astrocytoma  Disorders  D001254\n",
       "155605  C0424072            Hallucinations, Visual, Formed  Disorders  D006212\n",
       "141443  C0233763                    Hallucinations, Visual  Disorders  D006212\n",
       "133428  C0424083              Hallucinations, Dissociative  Disorders  D006212\n",
       "157323  C0029226                   Hallucinations, Organic  Disorders  D006212\n",
       "134759  C0233775            Hallucinations, Mood Congruent  Disorders  D006212\n",
       "156166  C0424068           Hallucinations, Verbal Auditory  Disorders  D006212\n",
       "148894  C0233759                Hallucinations, Elementary  Disorders  D006212\n",
       "131155  C0235153                   Hallucinations, Sensory  Disorders  D006212\n",
       "129431  C0233767                   Hallucinations, Tactile  Disorders  D006212\n",
       "138139  C0233765                 Hallucinations, Olfactory  Disorders  D006212\n",
       "159188  C0233766                 Hallucinations, Gustatory  Disorders  D006212\n",
       "150494  C0233773                Hallucinations, Hypnagogic  Disorders  D006212\n",
       "142442  C0544668               Hallucinations, Kinesthetic  Disorders  D006212\n",
       "124196  C0233762                  Hallucinations, Auditory  Disorders  D006212\n",
       "150149  C0424082               Hallucinations, Hypnapompic  Disorders  D006212\n",
       "152972  C0233774                   Hallucinations, Somatic  Disorders  D006212\n",
       "127575  C0018524                            Hallucinations  Disorders  D006212\n",
       "...          ...                                       ...        ...      ...\n",
       "126543  C0234372                       Intermittent Tremor  Disorders  D014202\n",
       "142246  C0234379                            Resting Tremor  Disorders  D014202\n",
       "129975  C0234376                             Action Tremor  Disorders  D014202\n",
       "132874  C0040822                                    Tremor  Disorders  D014202\n",
       "133202  C0231695                             Gait, Reeling  Disorders  D020233\n",
       "151372  C0231696                          Gait, Hemiplegic  Disorders  D020233\n",
       "124855  C0427169                        Marche a Petit Pas  Disorders  D020233\n",
       "159739  C0231712                                 Duck Gait  Disorders  D020233\n",
       "159925  C0231686                            Gait, Unsteady  Disorders  D020233\n",
       "131452  C0751830                Gait Disorders, Neurologic  Disorders  D020233\n",
       "125578  C0337210                           Gait, Stumbling  Disorders  D020233\n",
       "138219  C0231694                         Gait, Festinating  Disorders  D020233\n",
       "139549  C0427149                           Gait, Drop Foot  Disorders  D020233\n",
       "139762  C0231688                           Gait, Shuffling  Disorders  D020233\n",
       "140272  C0751831                             Gait, Frontal  Disorders  D020233\n",
       "147001  C0231687                             Gait, Spastic  Disorders  D020233\n",
       "142929  C0231698                            Gait, Scissors  Disorders  D020233\n",
       "150155  C0752208                            Pseudodystonia  Disorders  D020821\n",
       "150105  C0752205                       Dystonia, Secondary  Disorders  D020821\n",
       "149033  C0752206                       Dystonias, Sporadic  Disorders  D020821\n",
       "148964  C0752202                 Childhood Onset Dystonias  Disorders  D020821\n",
       "153065  C0743332                            Focal Dystonia  Disorders  D020821\n",
       "151121  C0752197                     Adult-Onset Dystonias  Disorders  D020821\n",
       "142470  C0752200      Autosomal Dominant Familial Dystonia  Disorders  D020821\n",
       "141689  C0154676                    Organic writer's cramp  Disorders  D020821\n",
       "154662  C0752203                         Dystonia, Primary  Disorders  D020821\n",
       "154812  C0752199  Adult-Onset Idiopathic Torsion Dystonias  Disorders  D020821\n",
       "155599  C0393593                         Dystonic Disorder  Disorders  D020821\n",
       "125288  C0752207                         Familial Dystonia  Disorders  D020821\n",
       "141588  C0752198    Adult-Onset Idiopathic Focal Dystonias  Disorders  D020821\n",
       "\n",
       "[160 rows x 4 columns]"
      ]
     },
     "execution_count": 43,
     "metadata": {},
     "output_type": "execute_result"
    }
   ],
   "source": [
    "param = dis_numbers[:10].index.tolist()\n",
    "diseases.query('mesh_id in @param').sort_values('mesh_id')"
   ]
  },
  {
   "cell_type": "code",
   "execution_count": 44,
   "metadata": {
    "scrolled": true
   },
   "outputs": [
    {
     "name": "stderr",
     "output_type": "stream",
     "text": [
      "/opt/mmayers/software/anaconda3/envs/integrate/lib/python3.5/site-packages/IPython/core/interactiveshell.py:2862: DtypeWarning: Columns (9,10,13) have mixed types. Specify dtype option on import or set low_memory=False.\n",
      "  exec(code_obj, self.user_global_ns, self.user_ns)\n"
     ]
    }
   ],
   "source": [
    "conso = load_umls.open_mrconso()"
   ]
  },
  {
   "cell_type": "code",
   "execution_count": 45,
   "metadata": {},
   "outputs": [
    {
     "data": {
      "text/html": [
       "<div>\n",
       "<style scoped>\n",
       "    .dataframe tbody tr th:only-of-type {\n",
       "        vertical-align: middle;\n",
       "    }\n",
       "\n",
       "    .dataframe tbody tr th {\n",
       "        vertical-align: top;\n",
       "    }\n",
       "\n",
       "    .dataframe thead th {\n",
       "        text-align: right;\n",
       "    }\n",
       "</style>\n",
       "<table border=\"1\" class=\"dataframe\">\n",
       "  <thead>\n",
       "    <tr style=\"text-align: right;\">\n",
       "      <th></th>\n",
       "      <th>CUI</th>\n",
       "      <th>LAT</th>\n",
       "      <th>TS</th>\n",
       "      <th>LUI</th>\n",
       "      <th>STT</th>\n",
       "      <th>SUI</th>\n",
       "      <th>ISPREF</th>\n",
       "      <th>AUI</th>\n",
       "      <th>SAUI</th>\n",
       "      <th>SCUI</th>\n",
       "      <th>SDUI</th>\n",
       "      <th>SAB</th>\n",
       "      <th>TTY</th>\n",
       "      <th>CODE</th>\n",
       "      <th>STR</th>\n",
       "      <th>SRL</th>\n",
       "      <th>SUPPRESS</th>\n",
       "      <th>CVF</th>\n",
       "    </tr>\n",
       "  </thead>\n",
       "  <tbody>\n",
       "    <tr>\n",
       "      <th>0</th>\n",
       "      <td>C0000005</td>\n",
       "      <td>ENG</td>\n",
       "      <td>P</td>\n",
       "      <td>L0000005</td>\n",
       "      <td>PF</td>\n",
       "      <td>S0007492</td>\n",
       "      <td>Y</td>\n",
       "      <td>A26634265</td>\n",
       "      <td>NaN</td>\n",
       "      <td>M0019694</td>\n",
       "      <td>D012711</td>\n",
       "      <td>MSH</td>\n",
       "      <td>PEP</td>\n",
       "      <td>D012711</td>\n",
       "      <td>(131)I-Macroaggregated Albumin</td>\n",
       "      <td>0</td>\n",
       "      <td>N</td>\n",
       "      <td>256.0</td>\n",
       "    </tr>\n",
       "    <tr>\n",
       "      <th>1</th>\n",
       "      <td>C0000005</td>\n",
       "      <td>ENG</td>\n",
       "      <td>S</td>\n",
       "      <td>L0270109</td>\n",
       "      <td>PF</td>\n",
       "      <td>S0007491</td>\n",
       "      <td>Y</td>\n",
       "      <td>A26634266</td>\n",
       "      <td>NaN</td>\n",
       "      <td>M0019694</td>\n",
       "      <td>D012711</td>\n",
       "      <td>MSH</td>\n",
       "      <td>ET</td>\n",
       "      <td>D012711</td>\n",
       "      <td>(131)I-MAA</td>\n",
       "      <td>0</td>\n",
       "      <td>N</td>\n",
       "      <td>256.0</td>\n",
       "    </tr>\n",
       "  </tbody>\n",
       "</table>\n",
       "</div>"
      ],
      "text/plain": [
       "        CUI  LAT TS       LUI STT       SUI ISPREF        AUI  SAUI      SCUI  \\\n",
       "0  C0000005  ENG  P  L0000005  PF  S0007492      Y  A26634265   NaN  M0019694   \n",
       "1  C0000005  ENG  S  L0270109  PF  S0007491      Y  A26634266   NaN  M0019694   \n",
       "\n",
       "      SDUI  SAB  TTY     CODE                             STR  SRL SUPPRESS  \\\n",
       "0  D012711  MSH  PEP  D012711  (131)I-Macroaggregated Albumin    0        N   \n",
       "1  D012711  MSH   ET  D012711                      (131)I-MAA    0        N   \n",
       "\n",
       "     CVF  \n",
       "0  256.0  \n",
       "1  256.0  "
      ]
     },
     "execution_count": 45,
     "metadata": {},
     "output_type": "execute_result"
    }
   ],
   "source": [
    "conso.head(2)"
   ]
  },
  {
   "cell_type": "code",
   "execution_count": 46,
   "metadata": {
    "collapsed": true
   },
   "outputs": [],
   "source": [
    "snomed_xrefs = conso.query(\"SAB == 'SNOMEDCT_US'\").dropna(subset=['CUI', 'SCUI'])"
   ]
  },
  {
   "cell_type": "code",
   "execution_count": 47,
   "metadata": {},
   "outputs": [
    {
     "data": {
      "text/html": [
       "<div>\n",
       "<style scoped>\n",
       "    .dataframe tbody tr th:only-of-type {\n",
       "        vertical-align: middle;\n",
       "    }\n",
       "\n",
       "    .dataframe tbody tr th {\n",
       "        vertical-align: top;\n",
       "    }\n",
       "\n",
       "    .dataframe thead th {\n",
       "        text-align: right;\n",
       "    }\n",
       "</style>\n",
       "<table border=\"1\" class=\"dataframe\">\n",
       "  <thead>\n",
       "    <tr style=\"text-align: right;\">\n",
       "      <th></th>\n",
       "      <th>CUI</th>\n",
       "      <th>LAT</th>\n",
       "      <th>TS</th>\n",
       "      <th>LUI</th>\n",
       "      <th>STT</th>\n",
       "      <th>SUI</th>\n",
       "      <th>ISPREF</th>\n",
       "      <th>AUI</th>\n",
       "      <th>SAUI</th>\n",
       "      <th>SCUI</th>\n",
       "      <th>SDUI</th>\n",
       "      <th>SAB</th>\n",
       "      <th>TTY</th>\n",
       "      <th>CODE</th>\n",
       "      <th>STR</th>\n",
       "      <th>SRL</th>\n",
       "      <th>SUPPRESS</th>\n",
       "      <th>CVF</th>\n",
       "    </tr>\n",
       "  </thead>\n",
       "  <tbody>\n",
       "    <tr>\n",
       "      <th>20</th>\n",
       "      <td>C0000039</td>\n",
       "      <td>ENG</td>\n",
       "      <td>S</td>\n",
       "      <td>L0012507</td>\n",
       "      <td>PF</td>\n",
       "      <td>S0033298</td>\n",
       "      <td>N</td>\n",
       "      <td>A22817493</td>\n",
       "      <td>166113012.0</td>\n",
       "      <td>102735002</td>\n",
       "      <td>NaN</td>\n",
       "      <td>SNOMEDCT_US</td>\n",
       "      <td>OAP</td>\n",
       "      <td>102735002</td>\n",
       "      <td>Dipalmitoylphosphatidylcholine</td>\n",
       "      <td>9</td>\n",
       "      <td>O</td>\n",
       "      <td>256.0</td>\n",
       "    </tr>\n",
       "    <tr>\n",
       "      <th>29</th>\n",
       "      <td>C0000039</td>\n",
       "      <td>ENG</td>\n",
       "      <td>S</td>\n",
       "      <td>L3000054</td>\n",
       "      <td>PF</td>\n",
       "      <td>S3260062</td>\n",
       "      <td>Y</td>\n",
       "      <td>A22880204</td>\n",
       "      <td>544223010.0</td>\n",
       "      <td>102735002</td>\n",
       "      <td>NaN</td>\n",
       "      <td>SNOMEDCT_US</td>\n",
       "      <td>OAF</td>\n",
       "      <td>102735002</td>\n",
       "      <td>Dipalmitoylphosphatidylcholine (substance)</td>\n",
       "      <td>9</td>\n",
       "      <td>O</td>\n",
       "      <td>NaN</td>\n",
       "    </tr>\n",
       "  </tbody>\n",
       "</table>\n",
       "</div>"
      ],
      "text/plain": [
       "         CUI  LAT TS       LUI STT       SUI ISPREF        AUI         SAUI  \\\n",
       "20  C0000039  ENG  S  L0012507  PF  S0033298      N  A22817493  166113012.0   \n",
       "29  C0000039  ENG  S  L3000054  PF  S3260062      Y  A22880204  544223010.0   \n",
       "\n",
       "         SCUI SDUI          SAB  TTY       CODE  \\\n",
       "20  102735002  NaN  SNOMEDCT_US  OAP  102735002   \n",
       "29  102735002  NaN  SNOMEDCT_US  OAF  102735002   \n",
       "\n",
       "                                           STR  SRL SUPPRESS    CVF  \n",
       "20              Dipalmitoylphosphatidylcholine    9        O  256.0  \n",
       "29  Dipalmitoylphosphatidylcholine (substance)    9        O    NaN  "
      ]
     },
     "execution_count": 47,
     "metadata": {},
     "output_type": "execute_result"
    }
   ],
   "source": [
    "snomed_xrefs.head(2)"
   ]
  },
  {
   "cell_type": "code",
   "execution_count": 48,
   "metadata": {
    "collapsed": true
   },
   "outputs": [],
   "source": [
    "dis_adj_list = defaultdict(set)\n",
    "\n",
    "disease_ids = set(diseases['id'].unique())\n",
    "\n",
    "umls_to_mesh_dis = umls_to_mesh_df.query('umls in @disease_ids')\n",
    "\n",
    "for row in umls_to_mesh_dis.itertuples():\n",
    "    dis_adj_list[row.umls].add(row.mesh)\n",
    "    dis_adj_list[row.mesh].add(row.umls)"
   ]
  },
  {
   "cell_type": "code",
   "execution_count": 49,
   "metadata": {
    "collapsed": true
   },
   "outputs": [],
   "source": [
    "# Convert the snomed concept ids to string since they're strings the adj_list\n",
    "rels['snomed_conceptid'] = rels['snomed_conceptid'].map(lambda i: str(int(i)) if not pd.isnull(i) else i)\n",
    "\n",
    "sub_rels = rels.dropna(subset=['snomed_conceptid', 'umls_cui'])\n",
    "\n",
    "for row in sub_rels.itertuples():\n",
    "    dis_adj_list[row.umls_cui].add(row.snomed_conceptid)\n",
    "    dis_adj_list[row.snomed_conceptid].add(row.umls_cui)\n",
    "    # Make sure to get mesh to CUI maps for the new cuis picked up via drugcentral\n",
    "    if row.umls_cui in umls_to_mesh_1t1:\n",
    "        dis_adj_list[umls_to_mesh_1t1[row.umls_cui]].add(row.umls_cui)\n",
    "        dis_adj_list[row.umls_cui].add(umls_to_mesh_1t1[row.umls_cui])"
   ]
  },
  {
   "cell_type": "code",
   "execution_count": 50,
   "metadata": {},
   "outputs": [
    {
     "name": "stderr",
     "output_type": "stream",
     "text": [
      "  4%|▍         | 6385/163590 [00:00<00:02, 63849.15it/s]"
     ]
    },
    {
     "name": "stdout",
     "output_type": "stream",
     "text": [
      "163590\n"
     ]
    },
    {
     "name": "stderr",
     "output_type": "stream",
     "text": [
      "100%|██████████| 163590/163590 [00:00<00:00, 272249.66it/s]\n"
     ]
    }
   ],
   "source": [
    "ind_snomed = set(rels['snomed_conceptid'])\n",
    "dis_umls = set(rels['umls_cui']) | disease_ids\n",
    "\n",
    "dis_snomed_xrefs = snomed_xrefs.query('CUI in @dis_umls or SCUI in @ind_snomed')\n",
    "\n",
    "print(len(dis_snomed_xrefs))\n",
    "\n",
    "for row in tqdm(dis_snomed_xrefs.itertuples(), total=len(dis_snomed_xrefs)):\n",
    "    dis_adj_list[row.CUI].add(row.SCUI)\n",
    "    dis_adj_list[row.SCUI].add(row.CUI)\n",
    "    # Make sure to get mesh to CUI maps for the new cuis picked up via drugcentral\n",
    "    if row.CUI in umls_to_mesh_1t1:\n",
    "        dis_adj_list[umls_to_mesh_1t1[row.CUI]].add(row.CUI)\n",
    "        dis_adj_list[row.CUI].add(umls_to_mesh_1t1[row.CUI])"
   ]
  },
  {
   "cell_type": "markdown",
   "metadata": {},
   "source": [
    "### DO Slim Integration\n",
    "\n",
    "The following disease-ontology files were generated from a [fork of Daniel Himmelstein's work generating the Disease Ontology Slim](https://github.com/mmayers12/disease-ontology).  The only major differnece between Daniel's Release and this version is that I have added in the Disease Ontology terms from their 'Rare Slim' list to attempt to get some coverage of Rare Monogetic Diseases.  These can be another way to consolidate diesease into more general types\n",
    "\n",
    "First we'll need a DOID to UMLS_CUI map, WikiData can provide a quick and dirty map"
   ]
  },
  {
   "cell_type": "code",
   "execution_count": 51,
   "metadata": {
    "collapsed": true
   },
   "outputs": [],
   "source": [
    "from wikidataintegrator import wdi_core\n",
    "\n",
    "query_text = \"\"\"\n",
    "select ?doid ?umlscui\n",
    "\n",
    "WHERE\n",
    "{\n",
    "    ?s wdt:P699 ?doid .\n",
    "    ?s wdt:P2892 ?umlscui .\n",
    "}\n",
    "\"\"\"\n",
    "\n",
    "result = wdi_core.WDItemEngine.execute_sparql_query(query_text, as_dataframe=True)\n",
    "result.to_csv('../data/doid-to-umls.csv', index=False)\n",
    "doid_to_umls = result.set_index('doid')['umlscui'].to_dict()"
   ]
  },
  {
   "cell_type": "code",
   "execution_count": 52,
   "metadata": {
    "collapsed": true
   },
   "outputs": [],
   "source": [
    "slim_xref = pd.read_table('../../disease-ontology/data/xrefs-prop-slim.tsv')\n",
    "do_slim = pd.read_table('../../disease-ontology/data/slim-terms-prop.tsv')"
   ]
  },
  {
   "cell_type": "code",
   "execution_count": 53,
   "metadata": {
    "scrolled": true
   },
   "outputs": [
    {
     "data": {
      "text/html": [
       "<div>\n",
       "<style scoped>\n",
       "    .dataframe tbody tr th:only-of-type {\n",
       "        vertical-align: middle;\n",
       "    }\n",
       "\n",
       "    .dataframe tbody tr th {\n",
       "        vertical-align: top;\n",
       "    }\n",
       "\n",
       "    .dataframe thead th {\n",
       "        text-align: right;\n",
       "    }\n",
       "</style>\n",
       "<table border=\"1\" class=\"dataframe\">\n",
       "  <thead>\n",
       "    <tr style=\"text-align: right;\">\n",
       "      <th></th>\n",
       "      <th>doid_code</th>\n",
       "      <th>doid_name</th>\n",
       "      <th>resource</th>\n",
       "      <th>resource_id</th>\n",
       "    </tr>\n",
       "  </thead>\n",
       "  <tbody>\n",
       "    <tr>\n",
       "      <th>0</th>\n",
       "      <td>DOID:2531</td>\n",
       "      <td>hematologic cancer</td>\n",
       "      <td>CSP</td>\n",
       "      <td>2004-1600</td>\n",
       "    </tr>\n",
       "    <tr>\n",
       "      <th>1</th>\n",
       "      <td>DOID:2531</td>\n",
       "      <td>hematologic cancer</td>\n",
       "      <td>CSP</td>\n",
       "      <td>2004-1803</td>\n",
       "    </tr>\n",
       "  </tbody>\n",
       "</table>\n",
       "</div>"
      ],
      "text/plain": [
       "   doid_code           doid_name resource resource_id\n",
       "0  DOID:2531  hematologic cancer      CSP   2004-1600\n",
       "1  DOID:2531  hematologic cancer      CSP   2004-1803"
      ]
     },
     "execution_count": 53,
     "metadata": {},
     "output_type": "execute_result"
    }
   ],
   "source": [
    "slim_xref.head(2)"
   ]
  },
  {
   "cell_type": "code",
   "execution_count": 54,
   "metadata": {
    "scrolled": false
   },
   "outputs": [
    {
     "data": {
      "text/plain": [
       "SNOMEDCT_US_2016_03_01    3275\n",
       "OMIM                      2472\n",
       "UMLS                      2420\n",
       "NCI                       1984\n",
       "ICD10                      841\n",
       "MESH                       805\n",
       "ORDO                       685\n",
       "ICD9                       561\n",
       "EFO                        116\n",
       "KEGG                        23\n",
       "HP                          14\n",
       "CSP                         12\n",
       "MedDRA                       5\n",
       "SNOMEDCT                     2\n",
       "GARD                         1\n",
       "SNOMEDCT_US_2015_03_01       1\n",
       "NDFRT                        1\n",
       "Name: resource, dtype: int64"
      ]
     },
     "execution_count": 54,
     "metadata": {},
     "output_type": "execute_result"
    }
   ],
   "source": [
    "slim_xref['resource'].value_counts()"
   ]
  },
  {
   "cell_type": "code",
   "execution_count": 55,
   "metadata": {
    "collapsed": true
   },
   "outputs": [],
   "source": [
    "resources = ['SNOMEDCT_US_2016_03_01', 'UMLS', 'MESH', 'SNOMEDCT', 'SNOMEDCT_US_2015_03_01']\n",
    "useful_xref = slim_xref.query('resource in @resources')"
   ]
  },
  {
   "cell_type": "code",
   "execution_count": 56,
   "metadata": {
    "collapsed": true
   },
   "outputs": [],
   "source": [
    "for row in useful_xref.itertuples():\n",
    "    dis_adj_list[row.doid_code].add(row.resource_id)\n",
    "    dis_adj_list[row.resource_id].add(row.doid_code)\n",
    "    if row.resource == \"UMLS\" and row.resource_id in umls_to_mesh_1t1:\n",
    "        dis_adj_list[umls_to_mesh_1t1[row.resource_id]].add(row.resource_id)\n",
    "        dis_adj_list[row.resource_id].add(umls_to_mesh_1t1[row.resource_id])"
   ]
  },
  {
   "cell_type": "code",
   "execution_count": 57,
   "metadata": {
    "collapsed": true
   },
   "outputs": [],
   "source": [
    "do_slim['cui'] = do_slim['subsumed_id'].map(lambda d: doid_to_umls.get(d, float('nan')))\n",
    "do_slim_d = do_slim.dropna(subset=['cui'])"
   ]
  },
  {
   "cell_type": "code",
   "execution_count": 58,
   "metadata": {
    "collapsed": true
   },
   "outputs": [],
   "source": [
    "for row in do_slim_d.itertuples():\n",
    "    dis_adj_list[row.subsumed_id].add(row.cui)\n",
    "    dis_adj_list[row.cui].add(row.subsumed_id)\n",
    "    if row.cui in umls_to_mesh_1t1:\n",
    "        dis_adj_list[umls_to_mesh_1t1[row.cui]].add(row.cui)\n",
    "        dis_adj_list[row.cui].add(umls_to_mesh_1t1[row.cui])"
   ]
  },
  {
   "cell_type": "code",
   "execution_count": 59,
   "metadata": {
    "collapsed": true
   },
   "outputs": [],
   "source": [
    "do_slim_terms = do_slim.set_index('slim_id')['slim_name'].to_dict()\n",
    "slim_ids = set(do_slim_terms.keys())"
   ]
  },
  {
   "cell_type": "markdown",
   "metadata": {},
   "source": [
    "## 6. Make the final map for Diseases and Map them"
   ]
  },
  {
   "cell_type": "code",
   "execution_count": 60,
   "metadata": {},
   "outputs": [
    {
     "name": "stderr",
     "output_type": "stream",
     "text": [
      "100%|██████████| 91444/91444 [00:01<00:00, 65597.59it/s]\n"
     ]
    }
   ],
   "source": [
    "dis_subnets = get_subnets(dis_adj_list)"
   ]
  },
  {
   "cell_type": "code",
   "execution_count": 61,
   "metadata": {},
   "outputs": [
    {
     "data": {
      "text/plain": [
       "25476"
      ]
     },
     "execution_count": 61,
     "metadata": {},
     "output_type": "execute_result"
    }
   ],
   "source": [
    "len(dis_subnets)"
   ]
  },
  {
   "cell_type": "code",
   "execution_count": 62,
   "metadata": {},
   "outputs": [],
   "source": [
    "umls_set = set(diseases['id'].dropna()) | set(rels['umls_cui'].dropna())\n",
    "umls_to_val = {u: 9999999-int(u[1:]) for u in umls_set}\n",
    "\n",
    "mesh_counts = umls_keys + mesh_vals + list(rels['umls_cui'].map(lambda c: umls_to_mesh_1t1.get(c, c))) \n",
    "mesh_counts = Counter(mesh_counts)\n",
    "\n",
    "rekeyed_dis_subnets = dict()\n",
    "\n",
    "for v in dis_subnets.values():\n",
    "    # If a disease was consolidated under DO-SLIM, take the slim ID and name\n",
    "    if v & slim_ids:\n",
    "        new_key = (v & slim_ids).pop()\n",
    "        rekeyed_dis_subnets[new_key] = v\n",
    "    else:\n",
    "        # First take ones in the mesh, then by the highest number of things it consolidated\n",
    "        # Then take the lowest numbered UMLS ID...\n",
    "        sort_sub = sorted(list(v), key=lambda k: (k in mesh_set, mesh_counts[k], k in umls_set, umls_to_val.get(k, 0)), reverse=True)\n",
    "        new_key = sort_sub[0]\n",
    "        rekeyed_dis_subnets[new_key] = v"
   ]
  },
  {
   "cell_type": "code",
   "execution_count": 63,
   "metadata": {},
   "outputs": [
    {
     "data": {
      "text/plain": [
       "True"
      ]
     },
     "execution_count": 63,
     "metadata": {},
     "output_type": "execute_result"
    }
   ],
   "source": [
    "'C565169' in mesh_vals"
   ]
  },
  {
   "cell_type": "code",
   "execution_count": 64,
   "metadata": {
    "collapsed": true
   },
   "outputs": [],
   "source": [
    "# Final map is just inverse of the subnets dict\n",
    "final_dis_map = dict()\n",
    "\n",
    "for k, v in rekeyed_dis_subnets.items():\n",
    "    for val in v:\n",
    "        final_dis_map[val] = k"
   ]
  },
  {
   "cell_type": "code",
   "execution_count": 65,
   "metadata": {
    "collapsed": true
   },
   "outputs": [],
   "source": [
    "diseases['new_id'] = diseases['id'].map(lambda i: final_dis_map.get(i, i))"
   ]
  },
  {
   "cell_type": "code",
   "execution_count": 66,
   "metadata": {},
   "outputs": [
    {
     "name": "stdout",
     "output_type": "stream",
     "text": [
      "2592 original CUIs\n",
      "Mapped to 1506 MeSH IDs\n",
      "Consolidated to 642 unique entities\n"
     ]
    }
   ],
   "source": [
    "# See how many instances of diseases mapped to 1 mesh ID had their ID changed through\n",
    "# SNOMED and DO-SLIM consolidation\n",
    "print('{} original CUIs'.format(diseases.dropna(subset=['mesh_id']).query('mesh_id != new_id')['id'].nunique()))\n",
    "print('Mapped to {} MeSH IDs'.format(diseases.dropna(subset=['mesh_id']).query('mesh_id != new_id')['mesh_id'].nunique()))\n",
    "print('Consolidated to {} unique entities'.format(diseases.dropna(subset=['mesh_id']).query('mesh_id != new_id')['new_id'].nunique()))"
   ]
  },
  {
   "cell_type": "code",
   "execution_count": 67,
   "metadata": {
    "collapsed": true
   },
   "outputs": [],
   "source": [
    "def dis_source_map(x):\n",
    "    if x in mesh_set:\n",
    "        return 'MeSH'\n",
    "    elif x in umls_set:\n",
    "        return 'UMLS'\n",
    "    elif x.startswith('DOID:'):\n",
    "        return 'DO-Slim'\n",
    "    else:\n",
    "        # Just in case there's a problem...\n",
    "        return 'Uh-Oh'\n",
    "\n",
    "diseases['id_source'] = diseases['new_id'].map(lambda x: dis_source_map(x))"
   ]
  },
  {
   "cell_type": "code",
   "execution_count": 68,
   "metadata": {},
   "outputs": [
    {
     "data": {
      "text/plain": [
       "UMLS       30176\n",
       "MeSH        7611\n",
       "DO-Slim     3011\n",
       "Name: id_source, dtype: int64"
      ]
     },
     "execution_count": 68,
     "metadata": {},
     "output_type": "execute_result"
    }
   ],
   "source": [
    "diseases['id_source'].value_counts()"
   ]
  },
  {
   "cell_type": "code",
   "execution_count": 69,
   "metadata": {
    "collapsed": true
   },
   "outputs": [],
   "source": [
    "pickle.dump(final_dis_map, open('../data/disease_merge_map.pkl', 'wb'))"
   ]
  },
  {
   "cell_type": "code",
   "execution_count": 70,
   "metadata": {},
   "outputs": [
    {
     "name": "stdout",
     "output_type": "stream",
     "text": [
      "15.866% Reduction in Diseases 40,798 --> 34,325\n"
     ]
    }
   ],
   "source": [
    "print('{:.3%} Reduction in Diseases {:,} --> {:,}'.format(\n",
    "    (diseases.shape[0] - diseases['new_id'].nunique())/diseases.shape[0], diseases.shape[0], diseases['new_id'].nunique()))"
   ]
  },
  {
   "cell_type": "code",
   "execution_count": 71,
   "metadata": {},
   "outputs": [
    {
     "name": "stdout",
     "output_type": "stream",
     "text": [
      "37005\n"
     ]
    }
   ],
   "source": [
    "rels['disease_new_id'] = rels['umls_cui'].map(lambda c: final_dis_map.get(c, c))\n",
    "print(rels['disease_new_id'].count())\n",
    "bad_idx = rels[rels['disease_new_id'].isnull()].index\n",
    "\n",
    "rels.loc[bad_idx, 'disease_new_id'] = rels.loc[bad_idx, 'snomed_conceptid'].map(lambda c: final_dis_map.get(c, float('nan')))"
   ]
  },
  {
   "cell_type": "code",
   "execution_count": 72,
   "metadata": {},
   "outputs": [
    {
     "name": "stdout",
     "output_type": "stream",
     "text": [
      "80.819% of diseases in DC Indications mapped: 868 out of 1,074\n",
      "69.062% of Indications have mappable disease: 7,554 out of 10,938\n"
     ]
    }
   ],
   "source": [
    "inds = rels.query('relationship_name == \"indication\"')\n",
    "\n",
    "disease_ids_semmed = set(diseases['new_id'])\n",
    "diseases_in_inds = set(inds['disease_new_id'].dropna())\n",
    "\n",
    "num_ind_in_semmed = len(diseases_in_inds & disease_ids_semmed)\n",
    "\n",
    "print('{:.3%} of diseases in DC Indications mapped: {:,} out of {:,}'.format(\n",
    "    (num_ind_in_semmed / len(diseases_in_inds)), num_ind_in_semmed, len(diseases_in_inds)))\n",
    "\n",
    "ind_semmed_comp = inds.query('disease_new_id in @disease_ids_semmed').shape[0]\n",
    "\n",
    "print('{:.3%} of Indications have mappable disease: {:,} out of {:,}'.format(\n",
    "    (ind_semmed_comp / len(inds)), ind_semmed_comp, len(inds)))"
   ]
  },
  {
   "cell_type": "code",
   "execution_count": 73,
   "metadata": {},
   "outputs": [
    {
     "name": "stdout",
     "output_type": "stream",
     "text": [
      "76.181% of indications now have both compound and disease mappable 6,307 out of 8,279\n"
     ]
    }
   ],
   "source": [
    "inds_dd = inds.drop_duplicates(subset=['compound_new_id', 'disease_new_id'])\n",
    "\n",
    "new_cids = set(drugs['new_id'].unique())\n",
    "new_dids = set(diseases['new_id'].unique())\n",
    "\n",
    "inds_in_semmed = inds_dd.query('compound_new_id in @new_cids and disease_new_id in @new_dids')\n",
    "print('{:.3%} of indications now have both compound and disease mappable {:,} out of {:,}'.format(\n",
    "    len(inds_in_semmed) / len(inds_dd), len(inds_in_semmed), len(inds_dd)))"
   ]
  },
  {
   "cell_type": "markdown",
   "metadata": {},
   "source": [
    "### Add in Dates for Indications\n",
    "\n",
    "Since the Indications are pretty much fully mapped to the network and ready to go as a Gold Standard for machine learning, we will map approval date information to the compounds now, so it's available for future analyses."
   ]
  },
  {
   "cell_type": "code",
   "execution_count": 74,
   "metadata": {},
   "outputs": [
    {
     "data": {
      "text/html": [
       "<div>\n",
       "<style scoped>\n",
       "    .dataframe tbody tr th:only-of-type {\n",
       "        vertical-align: middle;\n",
       "    }\n",
       "\n",
       "    .dataframe tbody tr th {\n",
       "        vertical-align: top;\n",
       "    }\n",
       "\n",
       "    .dataframe thead th {\n",
       "        text-align: right;\n",
       "    }\n",
       "</style>\n",
       "<table border=\"1\" class=\"dataframe\">\n",
       "  <thead>\n",
       "    <tr style=\"text-align: right;\">\n",
       "      <th></th>\n",
       "      <th>id</th>\n",
       "      <th>struct_id</th>\n",
       "      <th>approval</th>\n",
       "      <th>type</th>\n",
       "      <th>applicant</th>\n",
       "      <th>orphan</th>\n",
       "    </tr>\n",
       "  </thead>\n",
       "  <tbody>\n",
       "    <tr>\n",
       "      <th>0</th>\n",
       "      <td>3618</td>\n",
       "      <td>322</td>\n",
       "      <td>2017-08-29</td>\n",
       "      <td>FDA</td>\n",
       "      <td>CHEMO RESEARCH SL</td>\n",
       "      <td>t</td>\n",
       "    </tr>\n",
       "    <tr>\n",
       "      <th>1</th>\n",
       "      <td>3619</td>\n",
       "      <td>5253</td>\n",
       "      <td>2017-08-29</td>\n",
       "      <td>FDA</td>\n",
       "      <td>REMPEX PHARMS INC</td>\n",
       "      <td>NaN</td>\n",
       "    </tr>\n",
       "    <tr>\n",
       "      <th>2</th>\n",
       "      <td>3620</td>\n",
       "      <td>5254</td>\n",
       "      <td>2009-08-13</td>\n",
       "      <td>China Food and Drug Administration (CFDA)</td>\n",
       "      <td>Sanhome</td>\n",
       "      <td>NaN</td>\n",
       "    </tr>\n",
       "    <tr>\n",
       "      <th>3</th>\n",
       "      <td>3622</td>\n",
       "      <td>5255</td>\n",
       "      <td>2014-02-24</td>\n",
       "      <td>China Food and Drug Administration (CFDA)</td>\n",
       "      <td>Hansoh</td>\n",
       "      <td>NaN</td>\n",
       "    </tr>\n",
       "    <tr>\n",
       "      <th>4</th>\n",
       "      <td>3623</td>\n",
       "      <td>5256</td>\n",
       "      <td>2017-09-14</td>\n",
       "      <td>FDA</td>\n",
       "      <td>BAYER HEALTHCARE PHARMS</td>\n",
       "      <td>t</td>\n",
       "    </tr>\n",
       "  </tbody>\n",
       "</table>\n",
       "</div>"
      ],
      "text/plain": [
       "     id  struct_id    approval                                       type  \\\n",
       "0  3618        322  2017-08-29                                        FDA   \n",
       "1  3619       5253  2017-08-29                                        FDA   \n",
       "2  3620       5254  2009-08-13  China Food and Drug Administration (CFDA)   \n",
       "3  3622       5255  2014-02-24  China Food and Drug Administration (CFDA)   \n",
       "4  3623       5256  2017-09-14                                        FDA   \n",
       "\n",
       "                 applicant orphan  \n",
       "0        CHEMO RESEARCH SL      t  \n",
       "1        REMPEX PHARMS INC    NaN  \n",
       "2                  Sanhome    NaN  \n",
       "3                   Hansoh    NaN  \n",
       "4  BAYER HEALTHCARE PHARMS      t  "
      ]
     },
     "execution_count": 74,
     "metadata": {},
     "output_type": "execute_result"
    }
   ],
   "source": [
    "app = pd.read_csv('../data/drugcentral_approvals_06212018.csv')\n",
    "app.head()"
   ]
  },
  {
   "cell_type": "code",
   "execution_count": 75,
   "metadata": {
    "collapsed": true
   },
   "outputs": [],
   "source": [
    "app = app.rename(columns={'approval': 'approval_date'})\n",
    "\n",
    "app = (app.dropna(subset=['approval_date']) # Remove NaN values\n",
    "          .sort_values('approval_date')     # Put the earliest approval_date first\n",
    "          .groupby('struct_id')        # Group by the compound's id\n",
    "          .first()                     # And select the first instance of that id\n",
    "          .reset_index())              # Return struct_id to a column from the index"
   ]
  },
  {
   "cell_type": "code",
   "execution_count": 76,
   "metadata": {},
   "outputs": [
    {
     "data": {
      "text/html": [
       "<div>\n",
       "<style scoped>\n",
       "    .dataframe tbody tr th:only-of-type {\n",
       "        vertical-align: middle;\n",
       "    }\n",
       "\n",
       "    .dataframe tbody tr th {\n",
       "        vertical-align: top;\n",
       "    }\n",
       "\n",
       "    .dataframe thead th {\n",
       "        text-align: right;\n",
       "    }\n",
       "</style>\n",
       "<table border=\"1\" class=\"dataframe\">\n",
       "  <thead>\n",
       "    <tr style=\"text-align: right;\">\n",
       "      <th></th>\n",
       "      <th>id</th>\n",
       "      <th>struct_id</th>\n",
       "      <th>concept_id</th>\n",
       "      <th>relationship_name</th>\n",
       "      <th>concept_name</th>\n",
       "      <th>umls_cui</th>\n",
       "      <th>snomed_full_name</th>\n",
       "      <th>cui_semantic_type</th>\n",
       "      <th>snomed_conceptid</th>\n",
       "      <th>c_name</th>\n",
       "      <th>compound_new_id</th>\n",
       "      <th>disease_new_id</th>\n",
       "      <th>approval_date</th>\n",
       "    </tr>\n",
       "  </thead>\n",
       "  <tbody>\n",
       "    <tr>\n",
       "      <th>0</th>\n",
       "      <td>173432</td>\n",
       "      <td>965</td>\n",
       "      <td>40249340</td>\n",
       "      <td>indication</td>\n",
       "      <td>Malignant tumor of breast</td>\n",
       "      <td>C0006142</td>\n",
       "      <td>Malignant tumor of breast</td>\n",
       "      <td>T191</td>\n",
       "      <td>254837009</td>\n",
       "      <td>drostanolone propionate</td>\n",
       "      <td>C007561</td>\n",
       "      <td>DOID:1612</td>\n",
       "      <td>NaN</td>\n",
       "    </tr>\n",
       "    <tr>\n",
       "      <th>1</th>\n",
       "      <td>173433</td>\n",
       "      <td>318</td>\n",
       "      <td>21000716</td>\n",
       "      <td>indication</td>\n",
       "      <td>Gout</td>\n",
       "      <td>C0018099</td>\n",
       "      <td>Gout</td>\n",
       "      <td>T047</td>\n",
       "      <td>90560007</td>\n",
       "      <td>benzbromarone</td>\n",
       "      <td>D001553</td>\n",
       "      <td>DOID:13189</td>\n",
       "      <td>NaN</td>\n",
       "    </tr>\n",
       "  </tbody>\n",
       "</table>\n",
       "</div>"
      ],
      "text/plain": [
       "       id  struct_id  concept_id relationship_name               concept_name  \\\n",
       "0  173432        965    40249340        indication  Malignant tumor of breast   \n",
       "1  173433        318    21000716        indication                       Gout   \n",
       "\n",
       "   umls_cui           snomed_full_name cui_semantic_type snomed_conceptid  \\\n",
       "0  C0006142  Malignant tumor of breast              T191        254837009   \n",
       "1  C0018099                       Gout              T047         90560007   \n",
       "\n",
       "                    c_name compound_new_id disease_new_id approval_date  \n",
       "0  drostanolone propionate         C007561      DOID:1612           NaN  \n",
       "1            benzbromarone         D001553     DOID:13189           NaN  "
      ]
     },
     "execution_count": 76,
     "metadata": {},
     "output_type": "execute_result"
    }
   ],
   "source": [
    "rels = pd.merge(rels, app[['struct_id', 'approval_date']], how='left', on='struct_id')\n",
    "rels.head(2)"
   ]
  },
  {
   "cell_type": "code",
   "execution_count": 77,
   "metadata": {
    "collapsed": true
   },
   "outputs": [],
   "source": [
    "idx = rels[~rels['approval_date'].isnull()].index\n",
    "rels.loc[idx, 'approval_year'] = rels.loc[idx, 'approval_date'].map(lambda s: s.split('-')[0])"
   ]
  },
  {
   "cell_type": "code",
   "execution_count": 78,
   "metadata": {},
   "outputs": [
    {
     "data": {
      "text/html": [
       "<div>\n",
       "<style scoped>\n",
       "    .dataframe tbody tr th:only-of-type {\n",
       "        vertical-align: middle;\n",
       "    }\n",
       "\n",
       "    .dataframe tbody tr th {\n",
       "        vertical-align: top;\n",
       "    }\n",
       "\n",
       "    .dataframe thead th {\n",
       "        text-align: right;\n",
       "    }\n",
       "</style>\n",
       "<table border=\"1\" class=\"dataframe\">\n",
       "  <thead>\n",
       "    <tr style=\"text-align: right;\">\n",
       "      <th></th>\n",
       "      <th>id</th>\n",
       "      <th>struct_id</th>\n",
       "      <th>concept_id</th>\n",
       "      <th>relationship_name</th>\n",
       "      <th>concept_name</th>\n",
       "      <th>umls_cui</th>\n",
       "      <th>snomed_full_name</th>\n",
       "      <th>cui_semantic_type</th>\n",
       "      <th>snomed_conceptid</th>\n",
       "      <th>c_name</th>\n",
       "      <th>compound_new_id</th>\n",
       "      <th>disease_new_id</th>\n",
       "      <th>approval_date</th>\n",
       "      <th>approval_year</th>\n",
       "    </tr>\n",
       "  </thead>\n",
       "  <tbody>\n",
       "    <tr>\n",
       "      <th>0</th>\n",
       "      <td>173432</td>\n",
       "      <td>965</td>\n",
       "      <td>40249340</td>\n",
       "      <td>indication</td>\n",
       "      <td>Malignant tumor of breast</td>\n",
       "      <td>C0006142</td>\n",
       "      <td>Malignant tumor of breast</td>\n",
       "      <td>T191</td>\n",
       "      <td>254837009</td>\n",
       "      <td>drostanolone propionate</td>\n",
       "      <td>C007561</td>\n",
       "      <td>DOID:1612</td>\n",
       "      <td>NaN</td>\n",
       "      <td>NaN</td>\n",
       "    </tr>\n",
       "    <tr>\n",
       "      <th>1</th>\n",
       "      <td>173433</td>\n",
       "      <td>318</td>\n",
       "      <td>21000716</td>\n",
       "      <td>indication</td>\n",
       "      <td>Gout</td>\n",
       "      <td>C0018099</td>\n",
       "      <td>Gout</td>\n",
       "      <td>T047</td>\n",
       "      <td>90560007</td>\n",
       "      <td>benzbromarone</td>\n",
       "      <td>D001553</td>\n",
       "      <td>DOID:13189</td>\n",
       "      <td>NaN</td>\n",
       "      <td>NaN</td>\n",
       "    </tr>\n",
       "  </tbody>\n",
       "</table>\n",
       "</div>"
      ],
      "text/plain": [
       "       id  struct_id  concept_id relationship_name               concept_name  \\\n",
       "0  173432        965    40249340        indication  Malignant tumor of breast   \n",
       "1  173433        318    21000716        indication                       Gout   \n",
       "\n",
       "   umls_cui           snomed_full_name cui_semantic_type snomed_conceptid  \\\n",
       "0  C0006142  Malignant tumor of breast              T191        254837009   \n",
       "1  C0018099                       Gout              T047         90560007   \n",
       "\n",
       "                    c_name compound_new_id disease_new_id approval_date  \\\n",
       "0  drostanolone propionate         C007561      DOID:1612           NaN   \n",
       "1            benzbromarone         D001553     DOID:13189           NaN   \n",
       "\n",
       "  approval_year  \n",
       "0           NaN  \n",
       "1           NaN  "
      ]
     },
     "execution_count": 78,
     "metadata": {},
     "output_type": "execute_result"
    }
   ],
   "source": [
    "rels.head(2)"
   ]
  },
  {
   "cell_type": "markdown",
   "metadata": {},
   "source": [
    "## 7. Rebuild the Nodes\n",
    "\n",
    "The node CSV will now be rebuilt with all the new ID mappings and corresponding concept names"
   ]
  },
  {
   "cell_type": "code",
   "execution_count": 79,
   "metadata": {
    "collapsed": true
   },
   "outputs": [],
   "source": [
    "all_umls = set(nodes['id'])"
   ]
  },
  {
   "cell_type": "code",
   "execution_count": 80,
   "metadata": {
    "collapsed": true
   },
   "outputs": [],
   "source": [
    "umls_set = set(nodes['id']) | set(dc_maps.query('id_type == \"UMLSCUI\"')) |  set(rels['umls_cui'])"
   ]
  },
  {
   "cell_type": "code",
   "execution_count": 81,
   "metadata": {
    "collapsed": true
   },
   "outputs": [],
   "source": [
    "def get_source(cid):\n",
    "    if cid in mesh_set:\n",
    "        return 'MeSH'\n",
    "    elif cid in umls_set:\n",
    "        return 'UMLS'\n",
    "    elif cid.startswith('DOID:'):\n",
    "        return 'DO-Slim'\n",
    "    else:\n",
    "        return 'problem...'"
   ]
  },
  {
   "cell_type": "code",
   "execution_count": 82,
   "metadata": {
    "collapsed": true
   },
   "outputs": [],
   "source": [
    "pickle.dump(umls_set, open('../data/umls_id_set.pkl', 'wb'))\n",
    "pickle.dump(mesh_set, open('../data/mesh_id_set.pkl', 'wb'))"
   ]
  },
  {
   "cell_type": "code",
   "execution_count": 83,
   "metadata": {},
   "outputs": [
    {
     "data": {
      "text/plain": [
       "UMLS    104999\n",
       "MeSH     16685\n",
       "Name: id_source, dtype: int64"
      ]
     },
     "execution_count": 83,
     "metadata": {},
     "output_type": "execute_result"
    }
   ],
   "source": [
    "new_nodes = nodes.query('label not in {}'.format(['Chemicals & Drugs', 'Disorders'])).copy()\n",
    "\n",
    "new_nodes['new_id'] = new_nodes['mesh_id'].fillna(new_nodes['id'])\n",
    "new_nodes['id_source'] = new_nodes['new_id'].apply(lambda c: get_source(c))\n",
    "new_nodes['id_source'].value_counts()"
   ]
  },
  {
   "cell_type": "code",
   "execution_count": 84,
   "metadata": {
    "collapsed": true
   },
   "outputs": [],
   "source": [
    "drug_dis = pd.concat([drugs, diseases])"
   ]
  },
  {
   "cell_type": "code",
   "execution_count": 85,
   "metadata": {
    "collapsed": true
   },
   "outputs": [],
   "source": [
    "curr_map = drug_dis.set_index('id')['new_id'].to_dict()"
   ]
  },
  {
   "cell_type": "code",
   "execution_count": 86,
   "metadata": {},
   "outputs": [
    {
     "name": "stdout",
     "output_type": "stream",
     "text": [
      "4\n"
     ]
    }
   ],
   "source": [
    "idx = drug_dis.groupby('new_id')['label'].nunique() > 1\n",
    "problems = idx[idx].index.values\n",
    "print(len(problems))"
   ]
  },
  {
   "cell_type": "code",
   "execution_count": 87,
   "metadata": {
    "collapsed": true
   },
   "outputs": [],
   "source": [
    "remap = dict()\n",
    "grpd = drug_dis.query('new_id in @problems').groupby('new_id')\n",
    "\n",
    "for grp, df in grpd:\n",
    "    for labels in df['label'].unique():\n",
    "        curr_label = df.query('label == @labels')['id'].values\n",
    "        \n",
    "        # Keep the MeSH Map for the New ID if its a Drug\n",
    "        if labels == 'Chemcials & Drugs':\n",
    "            for c in curr_label:\n",
    "                remap[c] = grp\n",
    "                \n",
    "        # Use a random Disease CUI if its a Disease\n",
    "        else:\n",
    "            new_cui = curr_label[0]\n",
    "            for c in curr_label:\n",
    "                remap[c] = new_cui\n",
    "\n",
    "drug_dis['new_id'] = drug_dis['id'].map(lambda i: remap.get(i, curr_map[i]))"
   ]
  },
  {
   "cell_type": "markdown",
   "metadata": {},
   "source": [
    "#### Go back and Fix the Indications\n",
    "\n",
    "We just changed 4 Diseases back to CUIs, so must ensure those don't affect the earlier mappings to indicaitons"
   ]
  },
  {
   "cell_type": "code",
   "execution_count": 88,
   "metadata": {},
   "outputs": [
    {
     "name": "stdout",
     "output_type": "stream",
     "text": [
      "This is a non-issue so no need to fix anything\n"
     ]
    }
   ],
   "source": [
    "if rels.query('disease_new_id in @problems').shape[0] > 0:\n",
    "    print('This is a problem')\n",
    "else:\n",
    "    print('This is a non-issue so no need to fix anything')"
   ]
  },
  {
   "cell_type": "code",
   "execution_count": 89,
   "metadata": {},
   "outputs": [
    {
     "name": "stdout",
     "output_type": "stream",
     "text": [
      "495\n"
     ]
    }
   ],
   "source": [
    "new_nodes = pd.concat([new_nodes, drug_dis])\n",
    "new_nodes = new_nodes.sort_values('label')\n",
    "\n",
    "idx = new_nodes.groupby('new_id')['label'].nunique() > 1\n",
    "problems = idx[idx].index.values\n",
    "print(len(problems))"
   ]
  },
  {
   "cell_type": "code",
   "execution_count": 90,
   "metadata": {
    "scrolled": true
   },
   "outputs": [
    {
     "data": {
      "text/html": [
       "<div>\n",
       "<style scoped>\n",
       "    .dataframe tbody tr th:only-of-type {\n",
       "        vertical-align: middle;\n",
       "    }\n",
       "\n",
       "    .dataframe tbody tr th {\n",
       "        vertical-align: top;\n",
       "    }\n",
       "\n",
       "    .dataframe thead th {\n",
       "        text-align: right;\n",
       "    }\n",
       "</style>\n",
       "<table border=\"1\" class=\"dataframe\">\n",
       "  <thead>\n",
       "    <tr style=\"text-align: right;\">\n",
       "      <th></th>\n",
       "      <th>id</th>\n",
       "      <th>name</th>\n",
       "      <th>label</th>\n",
       "      <th>mesh_id</th>\n",
       "      <th>new_id</th>\n",
       "      <th>id_source</th>\n",
       "    </tr>\n",
       "  </thead>\n",
       "  <tbody>\n",
       "    <tr>\n",
       "      <th>63178</th>\n",
       "      <td>C0124261</td>\n",
       "      <td>ivalon powder</td>\n",
       "      <td>Chemicals &amp; Drugs</td>\n",
       "      <td>C026699</td>\n",
       "      <td>C026699</td>\n",
       "      <td>MeSH</td>\n",
       "    </tr>\n",
       "    <tr>\n",
       "      <th>117014</th>\n",
       "      <td>C0064121</td>\n",
       "      <td>ivalon sponge</td>\n",
       "      <td>Devices</td>\n",
       "      <td>C026699</td>\n",
       "      <td>C026699</td>\n",
       "      <td>MeSH</td>\n",
       "    </tr>\n",
       "    <tr>\n",
       "      <th>119630</th>\n",
       "      <td>C0137919</td>\n",
       "      <td>polyvinyl alcohol foam</td>\n",
       "      <td>Devices</td>\n",
       "      <td>C026699</td>\n",
       "      <td>C026699</td>\n",
       "      <td>MeSH</td>\n",
       "    </tr>\n",
       "    <tr>\n",
       "      <th>105339</th>\n",
       "      <td>C0377284</td>\n",
       "      <td>ivalon</td>\n",
       "      <td>Chemicals &amp; Drugs</td>\n",
       "      <td>C026699</td>\n",
       "      <td>C026699</td>\n",
       "      <td>MeSH</td>\n",
       "    </tr>\n",
       "    <tr>\n",
       "      <th>20010</th>\n",
       "      <td>C0060524</td>\n",
       "      <td>fluorescein dilaurate</td>\n",
       "      <td>Chemicals &amp; Drugs</td>\n",
       "      <td>C034833</td>\n",
       "      <td>C034833</td>\n",
       "      <td>MeSH</td>\n",
       "    </tr>\n",
       "    <tr>\n",
       "      <th>248027</th>\n",
       "      <td>C0430194</td>\n",
       "      <td>Pancreolauryl test</td>\n",
       "      <td>Procedures</td>\n",
       "      <td>C034833</td>\n",
       "      <td>C034833</td>\n",
       "      <td>MeSH</td>\n",
       "    </tr>\n",
       "    <tr>\n",
       "      <th>54883</th>\n",
       "      <td>C0912748</td>\n",
       "      <td>TEC protocol</td>\n",
       "      <td>Chemicals &amp; Drugs</td>\n",
       "      <td>C405323</td>\n",
       "      <td>C405323</td>\n",
       "      <td>MeSH</td>\n",
       "    </tr>\n",
       "    <tr>\n",
       "      <th>247002</th>\n",
       "      <td>C0912750</td>\n",
       "      <td>TEC regimen</td>\n",
       "      <td>Procedures</td>\n",
       "      <td>C405323</td>\n",
       "      <td>C405323</td>\n",
       "      <td>MeSH</td>\n",
       "    </tr>\n",
       "    <tr>\n",
       "      <th>28130</th>\n",
       "      <td>C0288896</td>\n",
       "      <td>HRP 102</td>\n",
       "      <td>Chemicals &amp; Drugs</td>\n",
       "      <td>C418365</td>\n",
       "      <td>C418365</td>\n",
       "      <td>MeSH</td>\n",
       "    </tr>\n",
       "    <tr>\n",
       "      <th>96568</th>\n",
       "      <td>C0717754</td>\n",
       "      <td>estradiol-norethindrone</td>\n",
       "      <td>Chemicals &amp; Drugs</td>\n",
       "      <td>C418365</td>\n",
       "      <td>C418365</td>\n",
       "      <td>MeSH</td>\n",
       "    </tr>\n",
       "  </tbody>\n",
       "</table>\n",
       "</div>"
      ],
      "text/plain": [
       "              id                     name              label  mesh_id  \\\n",
       "63178   C0124261            ivalon powder  Chemicals & Drugs  C026699   \n",
       "117014  C0064121            ivalon sponge            Devices  C026699   \n",
       "119630  C0137919   polyvinyl alcohol foam            Devices  C026699   \n",
       "105339  C0377284                   ivalon  Chemicals & Drugs  C026699   \n",
       "20010   C0060524    fluorescein dilaurate  Chemicals & Drugs  C034833   \n",
       "248027  C0430194       Pancreolauryl test         Procedures  C034833   \n",
       "54883   C0912748             TEC protocol  Chemicals & Drugs  C405323   \n",
       "247002  C0912750              TEC regimen         Procedures  C405323   \n",
       "28130   C0288896                  HRP 102  Chemicals & Drugs  C418365   \n",
       "96568   C0717754  estradiol-norethindrone  Chemicals & Drugs  C418365   \n",
       "\n",
       "         new_id id_source  \n",
       "63178   C026699      MeSH  \n",
       "117014  C026699      MeSH  \n",
       "119630  C026699      MeSH  \n",
       "105339  C026699      MeSH  \n",
       "20010   C034833      MeSH  \n",
       "248027  C034833      MeSH  \n",
       "54883   C405323      MeSH  \n",
       "247002  C405323      MeSH  \n",
       "28130   C418365      MeSH  \n",
       "96568   C418365      MeSH  "
      ]
     },
     "execution_count": 90,
     "metadata": {},
     "output_type": "execute_result"
    }
   ],
   "source": [
    "new_nodes.query('new_id in {}'.format(problems.tolist())).sort_values('new_id').head(10)"
   ]
  },
  {
   "cell_type": "markdown",
   "metadata": {},
   "source": [
    "### Fix other node-type conflicts\n",
    "\n",
    "Since the UMLS to MeSH map has no regard for semmantic type of the node, some concepts may have been condensed across semmantic types.\n",
    "\n",
    "All the Drug and Disease overlaps should be solved, so now move onto other nodetype conflicts.\n",
    "\n",
    "Conflicts will be solved in this manner:\n",
    "\n",
    "1. If one of the types is a Drug or a Disease, that one gets the MeSH ID\n",
    "2. If no Drug or Disease, the one that has the largest number of nodes will recieve the MeSH ID\n",
    "3. Remaining Nodetypes will be separated and assume the CUI of the node with the highest degree of connection in the network\n",
    "\n",
    "\n",
    "Take, for example, `Ivalon`.  It has 4 original CUIs that mapped to the same MeSH ID.  Two of which carried the semmantic type `Chemicals & Drugs` and two `Devices`.  The mesh_id will be kept for the `Chemicals & Drugs` version of the Nodes, which will be merged.  The `Devices` versions of the nodes will be merged, whichever CUI has the most has the greatest number of edges will be the CUI used for this merged node.  \n",
    "\n",
    "`Chemicals & Drugs` and `Disorders` will always take the meshID before other semmantic types.  Otherwise, the MeSH id will be assignged to the semanitc type had the most CUIs merged into 1 node. The other semmatic types will again have the CUI selected based on edge count."
   ]
  },
  {
   "cell_type": "code",
   "execution_count": 91,
   "metadata": {
    "collapsed": true
   },
   "outputs": [],
   "source": [
    "edges = gt.remove_colons(pd.read_csv('../data/edges_VER31_R.csv', converters={'pmids':eval}))"
   ]
  },
  {
   "cell_type": "code",
   "execution_count": 92,
   "metadata": {
    "collapsed": true
   },
   "outputs": [],
   "source": [
    "cui_counts = edges['start_id'].value_counts().add(edges['end_id'].value_counts(), fill_value=0).to_dict()"
   ]
  },
  {
   "cell_type": "code",
   "execution_count": 93,
   "metadata": {},
   "outputs": [
    {
     "name": "stderr",
     "output_type": "stream",
     "text": [
      "100%|██████████| 495/495 [00:02<00:00, 210.17it/s]\n"
     ]
    }
   ],
   "source": [
    "# For now, just return conflicting nodes to thier old semmantic type\n",
    "grpd = new_nodes.query('new_id in @problems').groupby('new_id')\n",
    "remap = dict()\n",
    "\n",
    "for msh_id, df in tqdm(grpd, total=len(grpd)):\n",
    "\n",
    "    # Get all the labels and counts for those labels\n",
    "    labels = df['label'].unique().tolist()\n",
    "    counts = df['label'].value_counts().to_dict()\n",
    "    \n",
    "    # Sort the by the Number of different nodes mapped to that label\n",
    "    labels = sorted(labels, key=lambda l: counts[l], reverse=True)\n",
    "    \n",
    "    # Chemicals and Drugs and Diseases have higher priorities in the context of machine learning\n",
    "    # So any item that could be either of those types will be set to them automatically.\n",
    "    drug_or_dis = False\n",
    "    \n",
    "    # Select the Chemicals & Drugs nodes to have the MeSH ID if possible\n",
    "    if 'Chemicals & Drugs' in labels:\n",
    "        labels.remove('Chemicals & Drugs')\n",
    "        curr_label = df.query('label == \"Chemicals & Drugs\"')['id'].values\n",
    "        drug_or_dis = True\n",
    "        for c in curr_label:\n",
    "            remap[c] = msh_id    \n",
    "    \n",
    "    # Otherwise, elect the Disorders nodes to have the MeSH ID if possible\n",
    "    elif 'Disorders' in labels:\n",
    "        labels.remove('Disorders')\n",
    "        curr_label = df.query('label == \"Disorders\"')['id'].values\n",
    "        drug_or_dis = True\n",
    "        for c in curr_label:\n",
    "            remap[c] = msh_id    \n",
    "    \n",
    "    # Finally assign a merged CUI based on edge counts\n",
    "    for i, label in enumerate(labels):\n",
    "        curr_label = df.query('label == @label')['id'].values\n",
    "        \n",
    "        # Give highest counts of nodes the MeSH ID, if not already assigned to a Drug or Disease\n",
    "        if i == 0 and not drug_or_dis:\n",
    "            new_cui = msh_id\n",
    "        else:\n",
    "            # For types that won't get a MeSH ID, \n",
    "            # get the CUI that has largest number of instances in the edges\n",
    "            new_cui = sorted(curr_label, key=lambda v: cui_counts.get(v, 0), reverse=True)[0]\n",
    "        for c in curr_label:\n",
    "            remap[c] = new_cui"
   ]
  },
  {
   "cell_type": "code",
   "execution_count": 94,
   "metadata": {},
   "outputs": [
    {
     "name": "stdout",
     "output_type": "stream",
     "text": [
      "0\n"
     ]
    }
   ],
   "source": [
    "# Perform the new Mapping\n",
    "curr_map = new_nodes.set_index('id')['new_id'].to_dict()\n",
    "new_nodes['new_id'] = nodes['id'].map(lambda i: remap.get(i, curr_map[i]))\n",
    "\n",
    "\n",
    "# Ensure there are now no problems\n",
    "idx = new_nodes.groupby('new_id')['label'].nunique() > 1\n",
    "problems = idx[idx].index.values\n",
    "print(len(problems))"
   ]
  },
  {
   "cell_type": "code",
   "execution_count": 95,
   "metadata": {},
   "outputs": [
    {
     "name": "stdout",
     "output_type": "stream",
     "text": [
      "10.333% reduction in the number of NODES\n",
      "257,243 --> 230,661\n"
     ]
    }
   ],
   "source": [
    "num_old_ids = new_nodes['id'].nunique()\n",
    "num_new_ids = new_nodes['new_id'].nunique()\n",
    "\n",
    "print('{:.3%} reduction in the number of NODES\\n{:,} --> {:,}'.format((num_old_ids-num_new_ids)/num_old_ids, num_old_ids, num_new_ids))"
   ]
  },
  {
   "cell_type": "code",
   "execution_count": 96,
   "metadata": {},
   "outputs": [
    {
     "data": {
      "text/plain": [
       "UMLS       148283\n",
       "MeSH       105949\n",
       "DO-Slim      3011\n",
       "Name: id_source, dtype: int64"
      ]
     },
     "execution_count": 96,
     "metadata": {},
     "output_type": "execute_result"
    }
   ],
   "source": [
    "new_nodes['id_source'] = new_nodes['new_id'].apply(lambda c: get_source(c))\n",
    "new_nodes['id_source'].value_counts()"
   ]
  },
  {
   "cell_type": "code",
   "execution_count": 97,
   "metadata": {
    "collapsed": true
   },
   "outputs": [],
   "source": [
    "cui_to_name = nodes.set_index('id')['name'].to_dict()\n",
    "cui_to_name = {**cui_to_name, **rels.set_index('umls_cui')['concept_name'].to_dict()}\n",
    "cui_to_name = {**cui_to_name, **rels.set_index('compound_new_id')['c_name'].to_dict()}\n",
    "\n",
    "msh_to_name = pickle.load(open('../data/MeSH_DescUID_to_Name.pkl', 'rb'))\n",
    "# The mappings from UMLS are less reliable, so use the ones that came from MeSH itself first\n",
    "msh_to_name = {**pickle.load(open('../data/MeSH_id_to_name_via_UMLS.pkl', 'rb')), **msh_to_name}\n",
    "\n",
    "id_to_name = {**struct_id_to_name, **do_slim_terms, **cui_to_name, **msh_to_name}"
   ]
  },
  {
   "cell_type": "code",
   "execution_count": 98,
   "metadata": {},
   "outputs": [
    {
     "data": {
      "text/plain": [
       "True"
      ]
     },
     "execution_count": 98,
     "metadata": {},
     "output_type": "execute_result"
    }
   ],
   "source": [
    "# All new IDs should have a mapped name\n",
    "set(new_nodes['new_id']).issubset(set(id_to_name.keys()))"
   ]
  },
  {
   "cell_type": "code",
   "execution_count": 99,
   "metadata": {
    "collapsed": true
   },
   "outputs": [],
   "source": [
    "new_nodes['name'] = new_nodes['new_id'].map(lambda i: id_to_name[i])"
   ]
  },
  {
   "cell_type": "code",
   "execution_count": 100,
   "metadata": {
    "collapsed": true
   },
   "outputs": [],
   "source": [
    "pickle.dump(id_to_name, open('../data/all_ids_to_names.pkl', 'wb'))"
   ]
  },
  {
   "cell_type": "code",
   "execution_count": 101,
   "metadata": {
    "collapsed": true
   },
   "outputs": [],
   "source": [
    "final_node_map = new_nodes.set_index('id')['new_id'].to_dict()"
   ]
  },
  {
   "cell_type": "markdown",
   "metadata": {},
   "source": [
    "## 8. Map all the edges\n",
    "\n",
    "Now that we have a finalized original to new ID map, we can straight map all the ids in the edges file.\n",
    "\n",
    "If any edges are now duplicated, PMIDs in support for those edges will be merged into a set."
   ]
  },
  {
   "cell_type": "code",
   "execution_count": 102,
   "metadata": {
    "collapsed": true
   },
   "outputs": [],
   "source": [
    "edges['start_id'] = edges['start_id'].map(lambda c: final_node_map[c])\n",
    "edges['end_id'] = edges['end_id'].map(lambda c: final_node_map[c])"
   ]
  },
  {
   "cell_type": "code",
   "execution_count": 103,
   "metadata": {},
   "outputs": [
    {
     "name": "stdout",
     "output_type": "stream",
     "text": [
      "CPU times: user 33min 31s, sys: 41.5 s, total: 34min 13s\n",
      "Wall time: 34min 13s\n"
     ]
    }
   ],
   "source": [
    "%%time\n",
    "\n",
    "num_before = len(edges)\n",
    "\n",
    "# Some edges now duplicated, de-duplicate and combine pmids\n",
    "grpd = edges.groupby(['start_id', 'end_id', 'type'])\n",
    "edges = grpd['pmids'].apply(lambda Series: set.union(*Series.values)).reset_index()\n",
    "\n",
    "# re-count the pmid numbers\n",
    "edges['n_pmids'] = edges['pmids'].apply(len)\n",
    "\n",
    "num_after = len(edges)"
   ]
  },
  {
   "cell_type": "code",
   "execution_count": 104,
   "metadata": {},
   "outputs": [
    {
     "name": "stdout",
     "output_type": "stream",
     "text": [
      "19,555,814 Edges before node consolidation\n",
      "18,145,463 Edges after node consolidation\n",
      "A 7.212% reduction in edges\n"
     ]
    }
   ],
   "source": [
    "print('{:,} Edges before node consolidation'.format(num_before))\n",
    "print('{:,} Edges after node consolidation'.format(num_after))\n",
    "print('A {:.3%} reduction in edges'.format((num_before - num_after) / num_before))"
   ]
  },
  {
   "cell_type": "markdown",
   "metadata": {},
   "source": [
    "### Save the files for the network"
   ]
  },
  {
   "cell_type": "code",
   "execution_count": 105,
   "metadata": {
    "collapsed": true
   },
   "outputs": [],
   "source": [
    "# Get rid of the old ids in the nodes\n",
    "new_nodes.drop('id', axis=1, inplace=True)\n",
    "new_nodes = new_nodes.rename(columns={'new_id': 'id'})[['id', 'name', 'label', 'id_source']]\n",
    "new_nodes = new_nodes.drop_duplicates(subset='id')\n",
    "\n",
    "# Sort values before writing to disk\n",
    "new_nodes = new_nodes.sort_values('label')\n",
    "edges = edges.sort_values('type')\n",
    "\n",
    "# Add in colons required by neo4j\n",
    "new_nodes = gt.add_colons(new_nodes)\n",
    "edges = gt.add_colons(edges)\n",
    "\n",
    "new_nodes.to_csv('../data/nodes_VER31_R_nodes_consolidated.csv', index=False)\n",
    "edges.to_csv('../data/edges_VER31_R_nodes_consolidated.csv', index=False)\n",
    "pickle.dump(final_node_map, open('../data/node_id_merge_map.pkl', 'wb'))"
   ]
  },
  {
   "cell_type": "markdown",
   "metadata": {},
   "source": [
    "### Save the relationship files for a Machine Learning Gold Standard"
   ]
  },
  {
   "cell_type": "code",
   "execution_count": 106,
   "metadata": {},
   "outputs": [
    {
     "data": {
      "text/html": [
       "<div>\n",
       "<style scoped>\n",
       "    .dataframe tbody tr th:only-of-type {\n",
       "        vertical-align: middle;\n",
       "    }\n",
       "\n",
       "    .dataframe tbody tr th {\n",
       "        vertical-align: top;\n",
       "    }\n",
       "\n",
       "    .dataframe thead th {\n",
       "        text-align: right;\n",
       "    }\n",
       "</style>\n",
       "<table border=\"1\" class=\"dataframe\">\n",
       "  <thead>\n",
       "    <tr style=\"text-align: right;\">\n",
       "      <th></th>\n",
       "      <th>id</th>\n",
       "      <th>struct_id</th>\n",
       "      <th>concept_id</th>\n",
       "      <th>relationship_name</th>\n",
       "      <th>concept_name</th>\n",
       "      <th>umls_cui</th>\n",
       "      <th>snomed_full_name</th>\n",
       "      <th>cui_semantic_type</th>\n",
       "      <th>snomed_conceptid</th>\n",
       "      <th>c_name</th>\n",
       "      <th>compound_new_id</th>\n",
       "      <th>disease_new_id</th>\n",
       "      <th>approval_date</th>\n",
       "      <th>approval_year</th>\n",
       "    </tr>\n",
       "  </thead>\n",
       "  <tbody>\n",
       "    <tr>\n",
       "      <th>0</th>\n",
       "      <td>173432</td>\n",
       "      <td>965</td>\n",
       "      <td>40249340</td>\n",
       "      <td>indication</td>\n",
       "      <td>Malignant tumor of breast</td>\n",
       "      <td>C0006142</td>\n",
       "      <td>Malignant tumor of breast</td>\n",
       "      <td>T191</td>\n",
       "      <td>254837009</td>\n",
       "      <td>drostanolone propionate</td>\n",
       "      <td>C007561</td>\n",
       "      <td>DOID:1612</td>\n",
       "      <td>NaN</td>\n",
       "      <td>NaN</td>\n",
       "    </tr>\n",
       "    <tr>\n",
       "      <th>1</th>\n",
       "      <td>173433</td>\n",
       "      <td>318</td>\n",
       "      <td>21000716</td>\n",
       "      <td>indication</td>\n",
       "      <td>Gout</td>\n",
       "      <td>C0018099</td>\n",
       "      <td>Gout</td>\n",
       "      <td>T047</td>\n",
       "      <td>90560007</td>\n",
       "      <td>benzbromarone</td>\n",
       "      <td>D001553</td>\n",
       "      <td>DOID:13189</td>\n",
       "      <td>NaN</td>\n",
       "      <td>NaN</td>\n",
       "    </tr>\n",
       "  </tbody>\n",
       "</table>\n",
       "</div>"
      ],
      "text/plain": [
       "       id  struct_id  concept_id relationship_name               concept_name  \\\n",
       "0  173432        965    40249340        indication  Malignant tumor of breast   \n",
       "1  173433        318    21000716        indication                       Gout   \n",
       "\n",
       "   umls_cui           snomed_full_name cui_semantic_type snomed_conceptid  \\\n",
       "0  C0006142  Malignant tumor of breast              T191        254837009   \n",
       "1  C0018099                       Gout              T047         90560007   \n",
       "\n",
       "                    c_name compound_new_id disease_new_id approval_date  \\\n",
       "0  drostanolone propionate         C007561      DOID:1612           NaN   \n",
       "1            benzbromarone         D001553     DOID:13189           NaN   \n",
       "\n",
       "  approval_year  \n",
       "0           NaN  \n",
       "1           NaN  "
      ]
     },
     "execution_count": 106,
     "metadata": {},
     "output_type": "execute_result"
    }
   ],
   "source": [
    "rels.head(2)"
   ]
  },
  {
   "cell_type": "code",
   "execution_count": 107,
   "metadata": {
    "collapsed": true
   },
   "outputs": [],
   "source": [
    "# Do some rennaming of the columns before saving\n",
    "rels = rels.rename(columns={'c_name': 'compound_name',\n",
    "                            'concept_name': 'disease_name',\n",
    "                            'compound_new_id': 'compound_semmed_id',\n",
    "                            'disease_new_id': 'disease_semmed_id'})"
   ]
  },
  {
   "cell_type": "code",
   "execution_count": 108,
   "metadata": {
    "collapsed": true
   },
   "outputs": [],
   "source": [
    "# Only want indications for the gold standard\n",
    "# Keep Duplicates in RELs just in case they're insightful, but indicaitons should have no dups.\n",
    "inds = rels.query('relationship_name == \"indication\"').drop_duplicates(subset=['compound_semmed_id', 'disease_semmed_id'])\n",
    "\n",
    "rels.to_csv('../data/gold_standard_relationships_nodemerge.csv', index=False)\n",
    "inds.to_csv('../data/indications_nodemerge.csv', index=False)"
   ]
  }
 ],
 "metadata": {
  "kernelspec": {
   "display_name": "Python 3",
   "language": "python",
   "name": "python3"
  },
  "language_info": {
   "codemirror_mode": {
    "name": "ipython",
    "version": 3
   },
   "file_extension": ".py",
   "mimetype": "text/x-python",
   "name": "python",
   "nbconvert_exporter": "python",
   "pygments_lexer": "ipython3",
   "version": "3.5.3"
  }
 },
 "nbformat": 4,
 "nbformat_minor": 2
}
