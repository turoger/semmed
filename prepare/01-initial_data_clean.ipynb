{
 "cells": [
  {
   "cell_type": "markdown",
   "metadata": {},
   "source": [
    "# Initial Data Cleaning of Semmed DB\n",
    "\n",
    "This notebook will go through the SemmedDB database and clean it of most of the errors before it can be\n",
    "processed into a hetnet.\n",
    "\n",
    "\n",
    "There are two main problems found when first looking into semmedDB:\n",
    "\n",
    "1. There are several rows where there are multiple subjects or objects, sepearted by a pipe `|` character.\n",
    "2. The database is not entirely in CUI space, some concepts are given entrez gene ids.\n",
    "\n",
    "\n",
    "There are also two minor problems that we will help clear up:\n",
    "\n",
    "1. There is a third minor problem of data corruption, however this is on less than 0.001% of the data, so when identified, these will just be removed.\n",
    "2. Finally, some of the CUIs contained in SemmedDB are either depricated or have been merged with other CUIs.  These will be resolved"
   ]
  },
  {
   "cell_type": "code",
   "execution_count": 1,
   "metadata": {},
   "outputs": [],
   "source": [
    "import os\n",
    "import pickle\n",
    "%matplotlib inline\n",
    "import pandas as pd\n",
    "import seaborn as sns\n",
    "import matplotlib.pyplot as plt\n",
    "\n",
    "import sys\n",
    "sys.path.append('../tools')\n",
    "import load_umls\n",
    "\n",
    "from collections import defaultdict as ddict"
   ]
  },
  {
   "cell_type": "code",
   "execution_count": 2,
   "metadata": {},
   "outputs": [
    {
     "name": "stderr",
     "output_type": "stream",
     "text": [
      "/home/rogertu/anaconda3/envs/semmed/lib/python3.5/site-packages/IPython/core/interactiveshell.py:2785: DtypeWarning: Columns (11) have mixed types. Specify dtype option on import or set low_memory=False.\n",
      "  interactivity=interactivity, compiler=compiler, result=result)\n"
     ]
    }
   ],
   "source": [
    "sem_df = pd.read_csv('../data/semmedVER43_R.csv',encoding='latin1')"
   ]
  },
  {
   "cell_type": "code",
   "execution_count": 3,
   "metadata": {},
   "outputs": [],
   "source": [
    "sem_df = sem_df.drop(columns = ['extra00','extra01','extra02'])"
   ]
  },
  {
   "cell_type": "code",
   "execution_count": 4,
   "metadata": {},
   "outputs": [
    {
     "data": {
      "text/html": [
       "<div>\n",
       "<style scoped>\n",
       "    .dataframe tbody tr th:only-of-type {\n",
       "        vertical-align: middle;\n",
       "    }\n",
       "\n",
       "    .dataframe tbody tr th {\n",
       "        vertical-align: top;\n",
       "    }\n",
       "\n",
       "    .dataframe thead th {\n",
       "        text-align: right;\n",
       "    }\n",
       "</style>\n",
       "<table border=\"1\" class=\"dataframe\">\n",
       "  <thead>\n",
       "    <tr style=\"text-align: right;\">\n",
       "      <th></th>\n",
       "      <th>PREDICATION_ID</th>\n",
       "      <th>SENTENCE_ID</th>\n",
       "      <th>PMID</th>\n",
       "      <th>PREDICATE</th>\n",
       "      <th>SUBJECT_CUI</th>\n",
       "      <th>SUBJECT_NAME</th>\n",
       "      <th>SUBJECT_SEMTYPE</th>\n",
       "      <th>SUBJECT_NOVELTY</th>\n",
       "      <th>OBJECT_CUI</th>\n",
       "      <th>OBJECT_NAME</th>\n",
       "      <th>OBJECT_SEMTYPE</th>\n",
       "      <th>OBJECT_NOVELTY</th>\n",
       "    </tr>\n",
       "  </thead>\n",
       "  <tbody>\n",
       "    <tr>\n",
       "      <th>0</th>\n",
       "      <td>10592604</td>\n",
       "      <td>16</td>\n",
       "      <td>16530475</td>\n",
       "      <td>PROCESS_OF</td>\n",
       "      <td>C0003725</td>\n",
       "      <td>Arboviruses</td>\n",
       "      <td>virs</td>\n",
       "      <td>1</td>\n",
       "      <td>C0999630</td>\n",
       "      <td>Lepus capensis</td>\n",
       "      <td>mamm</td>\n",
       "      <td>1</td>\n",
       "    </tr>\n",
       "    <tr>\n",
       "      <th>1</th>\n",
       "      <td>10592697</td>\n",
       "      <td>17</td>\n",
       "      <td>16530475</td>\n",
       "      <td>ISA</td>\n",
       "      <td>C0039258</td>\n",
       "      <td>Tahyna virus</td>\n",
       "      <td>virs</td>\n",
       "      <td>1</td>\n",
       "      <td>C0446169</td>\n",
       "      <td>California Group Viruses</td>\n",
       "      <td>virs</td>\n",
       "      <td>1</td>\n",
       "    </tr>\n",
       "    <tr>\n",
       "      <th>2</th>\n",
       "      <td>10592728</td>\n",
       "      <td>17</td>\n",
       "      <td>16530475</td>\n",
       "      <td>ISA</td>\n",
       "      <td>C0318627</td>\n",
       "      <td>Eyach virus</td>\n",
       "      <td>virs</td>\n",
       "      <td>1</td>\n",
       "      <td>C0206590</td>\n",
       "      <td>Coltivirus</td>\n",
       "      <td>virs</td>\n",
       "      <td>1</td>\n",
       "    </tr>\n",
       "    <tr>\n",
       "      <th>3</th>\n",
       "      <td>10592759</td>\n",
       "      <td>17</td>\n",
       "      <td>16530475</td>\n",
       "      <td>ISA</td>\n",
       "      <td>C0446169</td>\n",
       "      <td>California Group Viruses</td>\n",
       "      <td>virs</td>\n",
       "      <td>1</td>\n",
       "      <td>C0003725</td>\n",
       "      <td>Arboviruses</td>\n",
       "      <td>virs</td>\n",
       "      <td>1</td>\n",
       "    </tr>\n",
       "    <tr>\n",
       "      <th>4</th>\n",
       "      <td>10592832</td>\n",
       "      <td>18</td>\n",
       "      <td>16530475</td>\n",
       "      <td>PROCESS_OF</td>\n",
       "      <td>C0012634</td>\n",
       "      <td>Disease</td>\n",
       "      <td>dsyn</td>\n",
       "      <td>0</td>\n",
       "      <td>C0020114</td>\n",
       "      <td>Human</td>\n",
       "      <td>humn</td>\n",
       "      <td>0</td>\n",
       "    </tr>\n",
       "  </tbody>\n",
       "</table>\n",
       "</div>"
      ],
      "text/plain": [
       "   PREDICATION_ID  SENTENCE_ID      PMID   PREDICATE SUBJECT_CUI  \\\n",
       "0        10592604           16  16530475  PROCESS_OF    C0003725   \n",
       "1        10592697           17  16530475         ISA    C0039258   \n",
       "2        10592728           17  16530475         ISA    C0318627   \n",
       "3        10592759           17  16530475         ISA    C0446169   \n",
       "4        10592832           18  16530475  PROCESS_OF    C0012634   \n",
       "\n",
       "               SUBJECT_NAME SUBJECT_SEMTYPE  SUBJECT_NOVELTY OBJECT_CUI  \\\n",
       "0               Arboviruses            virs                1   C0999630   \n",
       "1              Tahyna virus            virs                1   C0446169   \n",
       "2               Eyach virus            virs                1   C0206590   \n",
       "3  California Group Viruses            virs                1   C0003725   \n",
       "4                   Disease            dsyn                0   C0020114   \n",
       "\n",
       "                OBJECT_NAME OBJECT_SEMTYPE OBJECT_NOVELTY  \n",
       "0            Lepus capensis           mamm              1  \n",
       "1  California Group Viruses           virs              1  \n",
       "2                Coltivirus           virs              1  \n",
       "3               Arboviruses           virs              1  \n",
       "4                     Human           humn              0  "
      ]
     },
     "execution_count": 4,
     "metadata": {},
     "output_type": "execute_result"
    }
   ],
   "source": [
    "sem_df.head()"
   ]
  },
  {
   "cell_type": "code",
   "execution_count": 5,
   "metadata": {},
   "outputs": [
    {
     "name": "stdout",
     "output_type": "stream",
     "text": [
      "Rows: 112,796,186\n",
      "Cols: 12\n"
     ]
    }
   ],
   "source": [
    "print('Rows: {:,}'.format(sem_df.shape[0]))\n",
    "print('Cols: {}'.format(sem_df.shape[1]))"
   ]
  },
  {
   "cell_type": "markdown",
   "metadata": {},
   "source": [
    "#### Version 31 Stats\n",
    "* Rows: 96,363,098\n",
    "* Cols: 12"
   ]
  },
  {
   "cell_type": "code",
   "execution_count": 6,
   "metadata": {},
   "outputs": [
    {
     "name": "stdout",
     "output_type": "stream",
     "text": [
      "20,750,278\n",
      "20,750,278\n",
      "Done!\n"
     ]
    }
   ],
   "source": [
    "# Get all the pmids and save them to a file\n",
    "pmids = set(sem_df['PMID'])\n",
    "out = []\n",
    "print('{:,}'.format(len(pmids)))\n",
    "for pmid in pmids:\n",
    "    try:\n",
    "        # PMIDs should be convertable to int, if not, probably corrupted so don't add\n",
    "        out.append(int(pmid))\n",
    "    except:\n",
    "        pass\n",
    "print('{:,}'.format(len(out)))\n",
    "with open('../data/pmid_list_ver43.txt', 'w') as out_file:\n",
    "    for pmid in out:\n",
    "        out_file.write(str(pmid)+'\\n')\n",
    "print('Done!')"
   ]
  },
  {
   "cell_type": "code",
   "execution_count": 7,
   "metadata": {},
   "outputs": [],
   "source": [
    "# Clear memory\n",
    "pmids=None"
   ]
  },
  {
   "cell_type": "markdown",
   "metadata": {},
   "source": [
    "#### Version 31\n",
    "* initial PMID 17,899,155\n",
    "* After removal 17,898,897\n"
   ]
  },
  {
   "cell_type": "markdown",
   "metadata": {},
   "source": [
    "# Expanding the pipes in subjects and objects\n",
    "\n",
    "One of the first things that was noticed upon look at the data in semmedDB was that some subjects and objects of extracted statments contained the pipe character `|` as an indicator of multiple concepts in the sentence."
   ]
  },
  {
   "cell_type": "markdown",
   "metadata": {},
   "source": [
    "## Examining Pipes in Subject/Object IDs\n",
    "\n",
    "First thing to do is just examine some of these pipes and took at their corresponding sentences in the database, see if they do infact correspond to two concepts.\n",
    "\n",
    "initially: There are 3,645,614 lines that contain a pipe in the subject"
   ]
  },
  {
   "cell_type": "code",
   "execution_count": 8,
   "metadata": {},
   "outputs": [
    {
     "name": "stdout",
     "output_type": "stream",
     "text": [
      "There are 4,181,817 lines that contain a pipe in the subject\n"
     ]
    }
   ],
   "source": [
    "multi_subject = sem_df[sem_df['SUBJECT_CUI'].str.contains('|', regex=False)]\n",
    "print(\"There are {:,} lines that contain a pipe in the subject\".format(multi_subject.shape[0]))\n",
    "\n",
    "sentence_ids = multi_subject['SENTENCE_ID'].values"
   ]
  },
  {
   "cell_type": "code",
   "execution_count": 9,
   "metadata": {},
   "outputs": [
    {
     "data": {
      "text/html": [
       "<div>\n",
       "<style scoped>\n",
       "    .dataframe tbody tr th:only-of-type {\n",
       "        vertical-align: middle;\n",
       "    }\n",
       "\n",
       "    .dataframe tbody tr th {\n",
       "        vertical-align: top;\n",
       "    }\n",
       "\n",
       "    .dataframe thead th {\n",
       "        text-align: right;\n",
       "    }\n",
       "</style>\n",
       "<table border=\"1\" class=\"dataframe\">\n",
       "  <thead>\n",
       "    <tr style=\"text-align: right;\">\n",
       "      <th></th>\n",
       "      <th>PREDICATION_ID</th>\n",
       "      <th>SENTENCE_ID</th>\n",
       "      <th>PMID</th>\n",
       "      <th>PREDICATE</th>\n",
       "      <th>SUBJECT_CUI</th>\n",
       "      <th>SUBJECT_NAME</th>\n",
       "      <th>SUBJECT_SEMTYPE</th>\n",
       "      <th>SUBJECT_NOVELTY</th>\n",
       "      <th>OBJECT_CUI</th>\n",
       "      <th>OBJECT_NAME</th>\n",
       "      <th>OBJECT_SEMTYPE</th>\n",
       "      <th>OBJECT_NOVELTY</th>\n",
       "    </tr>\n",
       "  </thead>\n",
       "  <tbody>\n",
       "    <tr>\n",
       "      <th>8</th>\n",
       "      <td>10593243</td>\n",
       "      <td>26</td>\n",
       "      <td>16530476</td>\n",
       "      <td>PART_OF</td>\n",
       "      <td>C0056207|3075</td>\n",
       "      <td>COMPLEMENT FACTOR H|CFH</td>\n",
       "      <td>aapp</td>\n",
       "      <td>1</td>\n",
       "      <td>C0006034</td>\n",
       "      <td>Borrelia burgdorferi</td>\n",
       "      <td>bact</td>\n",
       "      <td>1</td>\n",
       "    </tr>\n",
       "    <tr>\n",
       "      <th>47</th>\n",
       "      <td>10597756</td>\n",
       "      <td>105</td>\n",
       "      <td>16530483</td>\n",
       "      <td>INTERACTS_WITH</td>\n",
       "      <td>C0027893|4852</td>\n",
       "      <td>neuropeptide Y|NPY</td>\n",
       "      <td>gngm</td>\n",
       "      <td>1</td>\n",
       "      <td>C0039194</td>\n",
       "      <td>T-Lymphocyte</td>\n",
       "      <td>cell</td>\n",
       "      <td>1</td>\n",
       "    </tr>\n",
       "    <tr>\n",
       "      <th>48</th>\n",
       "      <td>10597803</td>\n",
       "      <td>105</td>\n",
       "      <td>16530483</td>\n",
       "      <td>STIMULATES</td>\n",
       "      <td>C0027893|4852</td>\n",
       "      <td>neuropeptide Y|NPY</td>\n",
       "      <td>aapp</td>\n",
       "      <td>1</td>\n",
       "      <td>C0003315</td>\n",
       "      <td>Antigen-Presenting Cells</td>\n",
       "      <td>cell</td>\n",
       "      <td>1</td>\n",
       "    </tr>\n",
       "    <tr>\n",
       "      <th>53</th>\n",
       "      <td>10598263</td>\n",
       "      <td>112</td>\n",
       "      <td>16530485</td>\n",
       "      <td>CAUSES</td>\n",
       "      <td>C0812258|1869|7332</td>\n",
       "      <td>E2F1 gene|E2F1|UBE2L3</td>\n",
       "      <td>gngm</td>\n",
       "      <td>1</td>\n",
       "      <td>C0162638</td>\n",
       "      <td>Apoptosis</td>\n",
       "      <td>celf</td>\n",
       "      <td>1</td>\n",
       "    </tr>\n",
       "    <tr>\n",
       "      <th>54</th>\n",
       "      <td>10598476</td>\n",
       "      <td>116</td>\n",
       "      <td>16530485</td>\n",
       "      <td>INTERACTS_WITH</td>\n",
       "      <td>C0812258|1869|7332</td>\n",
       "      <td>E2F1 gene|E2F1|UBE2L3</td>\n",
       "      <td>gngm</td>\n",
       "      <td>1</td>\n",
       "      <td>C0013227</td>\n",
       "      <td>Pharmaceutical Preparations</td>\n",
       "      <td>phsu</td>\n",
       "      <td>0</td>\n",
       "    </tr>\n",
       "  </tbody>\n",
       "</table>\n",
       "</div>"
      ],
      "text/plain": [
       "    PREDICATION_ID  SENTENCE_ID      PMID       PREDICATE         SUBJECT_CUI  \\\n",
       "8         10593243           26  16530476         PART_OF       C0056207|3075   \n",
       "47        10597756          105  16530483  INTERACTS_WITH       C0027893|4852   \n",
       "48        10597803          105  16530483      STIMULATES       C0027893|4852   \n",
       "53        10598263          112  16530485          CAUSES  C0812258|1869|7332   \n",
       "54        10598476          116  16530485  INTERACTS_WITH  C0812258|1869|7332   \n",
       "\n",
       "               SUBJECT_NAME SUBJECT_SEMTYPE  SUBJECT_NOVELTY OBJECT_CUI  \\\n",
       "8   COMPLEMENT FACTOR H|CFH            aapp                1   C0006034   \n",
       "47       neuropeptide Y|NPY            gngm                1   C0039194   \n",
       "48       neuropeptide Y|NPY            aapp                1   C0003315   \n",
       "53    E2F1 gene|E2F1|UBE2L3            gngm                1   C0162638   \n",
       "54    E2F1 gene|E2F1|UBE2L3            gngm                1   C0013227   \n",
       "\n",
       "                    OBJECT_NAME OBJECT_SEMTYPE OBJECT_NOVELTY  \n",
       "8          Borrelia burgdorferi           bact              1  \n",
       "47                 T-Lymphocyte           cell              1  \n",
       "48     Antigen-Presenting Cells           cell              1  \n",
       "53                    Apoptosis           celf              1  \n",
       "54  Pharmaceutical Preparations           phsu              0  "
      ]
     },
     "execution_count": 9,
     "metadata": {},
     "output_type": "execute_result"
    }
   ],
   "source": [
    "multi_subject.iloc[:5]"
   ]
  },
  {
   "cell_type": "code",
   "execution_count": 10,
   "metadata": {},
   "outputs": [],
   "source": [
    "# clear the variable\n",
    "multi_subject = None "
   ]
  },
  {
   "cell_type": "markdown",
   "metadata": {},
   "source": [
    "Before we go any further, lets drop any rows that conatin NaN values, as these are corrupted rows that have no good data"
   ]
  },
  {
   "cell_type": "code",
   "execution_count": 11,
   "metadata": {},
   "outputs": [
    {
     "name": "stdout",
     "output_type": "stream",
     "text": [
      "Rows before NaN removal 112,796,186\n",
      "Rows after NaN removal 112,796,186\n"
     ]
    }
   ],
   "source": [
    "# Remove any NaN values\n",
    "print('Rows before NaN removal {:,}'.format(sem_df.shape[0]))\n",
    "sem_df = sem_df.dropna()\n",
    "print('Rows after NaN removal {:,}'.format(sem_df.shape[0]))"
   ]
  },
  {
   "cell_type": "markdown",
   "metadata": {},
   "source": [
    "No rows were removed"
   ]
  },
  {
   "cell_type": "code",
   "execution_count": 12,
   "metadata": {},
   "outputs": [],
   "source": [
    "# series of True/False, True if condition is satisfied. Dimensiosn are the same for both.\n",
    "multi_start = sem_df['SUBJECT_CUI'].str.contains('|', regex=False)\n",
    "multi_end = sem_df['OBJECT_CUI'].str.contains('|', regex=False)"
   ]
  },
  {
   "cell_type": "code",
   "execution_count": 13,
   "metadata": {
    "scrolled": true
   },
   "outputs": [
    {
     "data": {
      "text/plain": [
       "(112796186,)"
      ]
     },
     "execution_count": 13,
     "metadata": {},
     "output_type": "execute_result"
    }
   ],
   "source": [
    "multi_start.shape"
   ]
  },
  {
   "cell_type": "code",
   "execution_count": 14,
   "metadata": {},
   "outputs": [
    {
     "data": {
      "text/plain": [
       "(112796186,)"
      ]
     },
     "execution_count": 14,
     "metadata": {},
     "output_type": "execute_result"
    }
   ],
   "source": [
    "multi_end.shape"
   ]
  },
  {
   "cell_type": "code",
   "execution_count": 15,
   "metadata": {},
   "outputs": [
    {
     "data": {
      "text/plain": [
       "4181817"
      ]
     },
     "execution_count": 15,
     "metadata": {},
     "output_type": "execute_result"
    }
   ],
   "source": [
    "sum(multi_start)"
   ]
  },
  {
   "cell_type": "code",
   "execution_count": 16,
   "metadata": {},
   "outputs": [
    {
     "data": {
      "text/plain": [
       "3792760"
      ]
     },
     "execution_count": 16,
     "metadata": {},
     "output_type": "execute_result"
    }
   ],
   "source": [
    "sum(multi_end)"
   ]
  },
  {
   "cell_type": "code",
   "execution_count": 17,
   "metadata": {},
   "outputs": [
    {
     "name": "stdout",
     "output_type": "stream",
     "text": [
      "Rows with multiple subjects or objects 7,590,109\n",
      "Rows with only 1 subject AND only 1 object 105,206,077\n"
     ]
    }
   ],
   "source": [
    "pipe_lines = sem_df[multi_start | multi_end]\n",
    "good_lines = sem_df[~multi_start & ~multi_end]\n",
    "print('Rows with multiple subjects or objects {:,}'.format(len(pipe_lines)))\n",
    "print('Rows with only 1 subject AND only 1 object {:,}'.format(len(good_lines)))"
   ]
  },
  {
   "cell_type": "code",
   "execution_count": 18,
   "metadata": {},
   "outputs": [
    {
     "data": {
      "text/plain": [
       "True"
      ]
     },
     "execution_count": 18,
     "metadata": {},
     "output_type": "execute_result"
    }
   ],
   "source": [
    "len(pipe_lines)+len(good_lines)==len(sem_df)"
   ]
  },
  {
   "cell_type": "markdown",
   "metadata": {},
   "source": [
    "Lines with a pipe in the subject OR a pipe in the object can be delt with in a rather straightforward manner. \n",
    "\n",
    "Those with a pipe in both the subject AND the object will require a slightly different algorithm, so we'll separate those out."
   ]
  },
  {
   "cell_type": "code",
   "execution_count": 19,
   "metadata": {},
   "outputs": [],
   "source": [
    "# get indices for those only with a multi start, multi end, and those with bith a multi start and multi end\n",
    "multi_start_subset = multi_start[multi_start | multi_end] # OR statement removes the non-piped entries\n",
    "multi_end_subset = multi_end[multi_start | multi_end]\n",
    "multi_both_subset = multi_start_subset & multi_end_subset"
   ]
  },
  {
   "cell_type": "code",
   "execution_count": 20,
   "metadata": {},
   "outputs": [
    {
     "name": "stdout",
     "output_type": "stream",
     "text": [
      "start:  4181817\n",
      "end:  3792760\n",
      "both:  384468\n"
     ]
    }
   ],
   "source": [
    "print('start: ', sum(multi_start_subset))\n",
    "print('end: ', sum(multi_end_subset))\n",
    "print('both: ', sum(multi_both_subset))"
   ]
  },
  {
   "cell_type": "code",
   "execution_count": 21,
   "metadata": {},
   "outputs": [],
   "source": [
    "start_only_subset = multi_start_subset & ~multi_end_subset\n",
    "end_only_subset = multi_end_subset & ~multi_start_subset"
   ]
  },
  {
   "cell_type": "code",
   "execution_count": 22,
   "metadata": {},
   "outputs": [
    {
     "name": "stdout",
     "output_type": "stream",
     "text": [
      "3797349\n",
      "3408292\n"
     ]
    }
   ],
   "source": [
    "print(sum(start_only_subset))\n",
    "print(sum(end_only_subset))"
   ]
  },
  {
   "cell_type": "code",
   "execution_count": 23,
   "metadata": {},
   "outputs": [],
   "source": [
    "# Clear variables\n",
    "multi_start = None\n",
    "multi_end = None\n",
    "multi_start_subset = None\n",
    "multi_end_subset = None"
   ]
  },
  {
   "cell_type": "markdown",
   "metadata": {},
   "source": [
    "### Splitting the IDs of the Subjects OR Objects\n",
    "\n",
    "To split the IDs, the IDs and names will be split into `n+1` rows where `n` is the number of pipes `|`, then the data from the rest of the columns will be duplicated across these new rows."
   ]
  },
  {
   "cell_type": "code",
   "execution_count": 24,
   "metadata": {},
   "outputs": [],
   "source": [
    "from itertools import chain"
   ]
  },
  {
   "cell_type": "code",
   "execution_count": 25,
   "metadata": {},
   "outputs": [],
   "source": [
    "# Split the IDs and Names\n",
    "start_id_split = pipe_lines.loc[start_only_subset, 'SUBJECT_CUI'].str.split('|')\n",
    "start_name_split = pipe_lines.loc[start_only_subset, 'SUBJECT_NAME'].str.split('|')"
   ]
  },
  {
   "cell_type": "code",
   "execution_count": 26,
   "metadata": {},
   "outputs": [
    {
     "data": {
      "text/plain": [
       "8           [C0056207, 3075]\n",
       "47          [C0027893, 4852]\n",
       "48          [C0027893, 4852]\n",
       "53    [C0812258, 1869, 7332]\n",
       "54    [C0812258, 1869, 7332]\n",
       "Name: SUBJECT_CUI, dtype: object"
      ]
     },
     "execution_count": 26,
     "metadata": {},
     "output_type": "execute_result"
    }
   ],
   "source": [
    "start_id_split.head()"
   ]
  },
  {
   "cell_type": "code",
   "execution_count": 27,
   "metadata": {},
   "outputs": [
    {
     "data": {
      "text/plain": [
       "(3797349,)"
      ]
     },
     "execution_count": 27,
     "metadata": {},
     "output_type": "execute_result"
    }
   ],
   "source": [
    "start_id_split.shape"
   ]
  },
  {
   "cell_type": "code",
   "execution_count": 28,
   "metadata": {},
   "outputs": [
    {
     "data": {
      "text/plain": [
       "(3797349,)"
      ]
     },
     "execution_count": 28,
     "metadata": {},
     "output_type": "execute_result"
    }
   ],
   "source": [
    "start_name_split.shape"
   ]
  },
  {
   "cell_type": "code",
   "execution_count": 29,
   "metadata": {},
   "outputs": [],
   "source": [
    "# Get the number of items after splitting\n",
    "start_lens = start_id_split.apply(len)"
   ]
  },
  {
   "cell_type": "code",
   "execution_count": 30,
   "metadata": {},
   "outputs": [],
   "source": [
    "# Need the column names for duplicating the data\n",
    "all_cols = list(pipe_lines.columns)\n",
    "\n",
    "# Copy the columns and only keep those where the data will be duped\n",
    "start_cols = all_cols[:]"
   ]
  },
  {
   "cell_type": "code",
   "execution_count": 31,
   "metadata": {},
   "outputs": [],
   "source": [
    "# Need the column names for duplicating the data\n",
    "all_cols = list(pipe_lines.columns)\n",
    "\n",
    "# Copy the columns and only keep those where the data will be duped\n",
    "start_cols = all_cols[:]\n",
    "start_cols.remove('SUBJECT_CUI')\n",
    "start_cols.remove('SUBJECT_NAME')"
   ]
  },
  {
   "cell_type": "code",
   "execution_count": 32,
   "metadata": {},
   "outputs": [],
   "source": [
    "# Retaining the same order, duplicate the data times of the new number of rows after the split\n",
    "new_starts = dict()\n",
    "for c in start_cols:\n",
    "    tmp = pipe_lines.loc[start_only_subset, c].apply(lambda x: [x]) * start_lens\n",
    "    new_starts[c] = [x for x in chain(*tmp.values)]"
   ]
  },
  {
   "cell_type": "code",
   "execution_count": 33,
   "metadata": {},
   "outputs": [
    {
     "data": {
      "text/html": [
       "<div>\n",
       "<style scoped>\n",
       "    .dataframe tbody tr th:only-of-type {\n",
       "        vertical-align: middle;\n",
       "    }\n",
       "\n",
       "    .dataframe tbody tr th {\n",
       "        vertical-align: top;\n",
       "    }\n",
       "\n",
       "    .dataframe thead th {\n",
       "        text-align: right;\n",
       "    }\n",
       "</style>\n",
       "<table border=\"1\" class=\"dataframe\">\n",
       "  <thead>\n",
       "    <tr style=\"text-align: right;\">\n",
       "      <th></th>\n",
       "      <th>OBJECT_CUI</th>\n",
       "      <th>OBJECT_NAME</th>\n",
       "      <th>OBJECT_NOVELTY</th>\n",
       "      <th>OBJECT_SEMTYPE</th>\n",
       "      <th>PMID</th>\n",
       "      <th>PREDICATE</th>\n",
       "      <th>PREDICATION_ID</th>\n",
       "      <th>SENTENCE_ID</th>\n",
       "      <th>SUBJECT_NOVELTY</th>\n",
       "      <th>SUBJECT_SEMTYPE</th>\n",
       "    </tr>\n",
       "  </thead>\n",
       "  <tbody>\n",
       "    <tr>\n",
       "      <th>0</th>\n",
       "      <td>C0006034</td>\n",
       "      <td>Borrelia burgdorferi</td>\n",
       "      <td>1</td>\n",
       "      <td>bact</td>\n",
       "      <td>16530476</td>\n",
       "      <td>PART_OF</td>\n",
       "      <td>10593243</td>\n",
       "      <td>26</td>\n",
       "      <td>1</td>\n",
       "      <td>aapp</td>\n",
       "    </tr>\n",
       "    <tr>\n",
       "      <th>1</th>\n",
       "      <td>C0006034</td>\n",
       "      <td>Borrelia burgdorferi</td>\n",
       "      <td>1</td>\n",
       "      <td>bact</td>\n",
       "      <td>16530476</td>\n",
       "      <td>PART_OF</td>\n",
       "      <td>10593243</td>\n",
       "      <td>26</td>\n",
       "      <td>1</td>\n",
       "      <td>aapp</td>\n",
       "    </tr>\n",
       "    <tr>\n",
       "      <th>2</th>\n",
       "      <td>C0039194</td>\n",
       "      <td>T-Lymphocyte</td>\n",
       "      <td>1</td>\n",
       "      <td>cell</td>\n",
       "      <td>16530483</td>\n",
       "      <td>INTERACTS_WITH</td>\n",
       "      <td>10597756</td>\n",
       "      <td>105</td>\n",
       "      <td>1</td>\n",
       "      <td>gngm</td>\n",
       "    </tr>\n",
       "    <tr>\n",
       "      <th>3</th>\n",
       "      <td>C0039194</td>\n",
       "      <td>T-Lymphocyte</td>\n",
       "      <td>1</td>\n",
       "      <td>cell</td>\n",
       "      <td>16530483</td>\n",
       "      <td>INTERACTS_WITH</td>\n",
       "      <td>10597756</td>\n",
       "      <td>105</td>\n",
       "      <td>1</td>\n",
       "      <td>gngm</td>\n",
       "    </tr>\n",
       "    <tr>\n",
       "      <th>4</th>\n",
       "      <td>C0003315</td>\n",
       "      <td>Antigen-Presenting Cells</td>\n",
       "      <td>1</td>\n",
       "      <td>cell</td>\n",
       "      <td>16530483</td>\n",
       "      <td>STIMULATES</td>\n",
       "      <td>10597803</td>\n",
       "      <td>105</td>\n",
       "      <td>1</td>\n",
       "      <td>aapp</td>\n",
       "    </tr>\n",
       "    <tr>\n",
       "      <th>5</th>\n",
       "      <td>C0003315</td>\n",
       "      <td>Antigen-Presenting Cells</td>\n",
       "      <td>1</td>\n",
       "      <td>cell</td>\n",
       "      <td>16530483</td>\n",
       "      <td>STIMULATES</td>\n",
       "      <td>10597803</td>\n",
       "      <td>105</td>\n",
       "      <td>1</td>\n",
       "      <td>aapp</td>\n",
       "    </tr>\n",
       "    <tr>\n",
       "      <th>6</th>\n",
       "      <td>C0162638</td>\n",
       "      <td>Apoptosis</td>\n",
       "      <td>1</td>\n",
       "      <td>celf</td>\n",
       "      <td>16530485</td>\n",
       "      <td>CAUSES</td>\n",
       "      <td>10598263</td>\n",
       "      <td>112</td>\n",
       "      <td>1</td>\n",
       "      <td>gngm</td>\n",
       "    </tr>\n",
       "    <tr>\n",
       "      <th>7</th>\n",
       "      <td>C0162638</td>\n",
       "      <td>Apoptosis</td>\n",
       "      <td>1</td>\n",
       "      <td>celf</td>\n",
       "      <td>16530485</td>\n",
       "      <td>CAUSES</td>\n",
       "      <td>10598263</td>\n",
       "      <td>112</td>\n",
       "      <td>1</td>\n",
       "      <td>gngm</td>\n",
       "    </tr>\n",
       "    <tr>\n",
       "      <th>8</th>\n",
       "      <td>C0162638</td>\n",
       "      <td>Apoptosis</td>\n",
       "      <td>1</td>\n",
       "      <td>celf</td>\n",
       "      <td>16530485</td>\n",
       "      <td>CAUSES</td>\n",
       "      <td>10598263</td>\n",
       "      <td>112</td>\n",
       "      <td>1</td>\n",
       "      <td>gngm</td>\n",
       "    </tr>\n",
       "    <tr>\n",
       "      <th>9</th>\n",
       "      <td>C0013227</td>\n",
       "      <td>Pharmaceutical Preparations</td>\n",
       "      <td>0</td>\n",
       "      <td>phsu</td>\n",
       "      <td>16530485</td>\n",
       "      <td>INTERACTS_WITH</td>\n",
       "      <td>10598476</td>\n",
       "      <td>116</td>\n",
       "      <td>1</td>\n",
       "      <td>gngm</td>\n",
       "    </tr>\n",
       "  </tbody>\n",
       "</table>\n",
       "</div>"
      ],
      "text/plain": [
       "  OBJECT_CUI                  OBJECT_NAME OBJECT_NOVELTY OBJECT_SEMTYPE  \\\n",
       "0   C0006034         Borrelia burgdorferi              1           bact   \n",
       "1   C0006034         Borrelia burgdorferi              1           bact   \n",
       "2   C0039194                 T-Lymphocyte              1           cell   \n",
       "3   C0039194                 T-Lymphocyte              1           cell   \n",
       "4   C0003315     Antigen-Presenting Cells              1           cell   \n",
       "5   C0003315     Antigen-Presenting Cells              1           cell   \n",
       "6   C0162638                    Apoptosis              1           celf   \n",
       "7   C0162638                    Apoptosis              1           celf   \n",
       "8   C0162638                    Apoptosis              1           celf   \n",
       "9   C0013227  Pharmaceutical Preparations              0           phsu   \n",
       "\n",
       "       PMID       PREDICATE  PREDICATION_ID  SENTENCE_ID  SUBJECT_NOVELTY  \\\n",
       "0  16530476         PART_OF        10593243           26                1   \n",
       "1  16530476         PART_OF        10593243           26                1   \n",
       "2  16530483  INTERACTS_WITH        10597756          105                1   \n",
       "3  16530483  INTERACTS_WITH        10597756          105                1   \n",
       "4  16530483      STIMULATES        10597803          105                1   \n",
       "5  16530483      STIMULATES        10597803          105                1   \n",
       "6  16530485          CAUSES        10598263          112                1   \n",
       "7  16530485          CAUSES        10598263          112                1   \n",
       "8  16530485          CAUSES        10598263          112                1   \n",
       "9  16530485  INTERACTS_WITH        10598476          116                1   \n",
       "\n",
       "  SUBJECT_SEMTYPE  \n",
       "0            aapp  \n",
       "1            aapp  \n",
       "2            gngm  \n",
       "3            gngm  \n",
       "4            aapp  \n",
       "5            aapp  \n",
       "6            gngm  \n",
       "7            gngm  \n",
       "8            gngm  \n",
       "9            gngm  "
      ]
     },
     "execution_count": 33,
     "metadata": {},
     "output_type": "execute_result"
    }
   ],
   "source": [
    "# Now we have the expanded rows with everthing except the subject CUIs and Names\n",
    "fixed_starts = pd.DataFrame(new_starts)\n",
    "fixed_starts.head(10)"
   ]
  },
  {
   "cell_type": "code",
   "execution_count": 34,
   "metadata": {},
   "outputs": [],
   "source": [
    "# Add in the subject CUIs and Names\n",
    "fixed_starts['SUBJECT_CUI'] = [x for x in chain(*start_id_split.values)]\n",
    "fixed_starts['SUBJECT_NAME'] = [x for x in chain(*start_name_split.values)]\n",
    "\n",
    "fixed_starts = fixed_starts[all_cols]"
   ]
  },
  {
   "cell_type": "code",
   "execution_count": 35,
   "metadata": {},
   "outputs": [
    {
     "data": {
      "text/html": [
       "<div>\n",
       "<style scoped>\n",
       "    .dataframe tbody tr th:only-of-type {\n",
       "        vertical-align: middle;\n",
       "    }\n",
       "\n",
       "    .dataframe tbody tr th {\n",
       "        vertical-align: top;\n",
       "    }\n",
       "\n",
       "    .dataframe thead th {\n",
       "        text-align: right;\n",
       "    }\n",
       "</style>\n",
       "<table border=\"1\" class=\"dataframe\">\n",
       "  <thead>\n",
       "    <tr style=\"text-align: right;\">\n",
       "      <th></th>\n",
       "      <th>PREDICATION_ID</th>\n",
       "      <th>SENTENCE_ID</th>\n",
       "      <th>PMID</th>\n",
       "      <th>PREDICATE</th>\n",
       "      <th>SUBJECT_CUI</th>\n",
       "      <th>SUBJECT_NAME</th>\n",
       "      <th>SUBJECT_SEMTYPE</th>\n",
       "      <th>SUBJECT_NOVELTY</th>\n",
       "      <th>OBJECT_CUI</th>\n",
       "      <th>OBJECT_NAME</th>\n",
       "      <th>OBJECT_SEMTYPE</th>\n",
       "      <th>OBJECT_NOVELTY</th>\n",
       "    </tr>\n",
       "  </thead>\n",
       "  <tbody>\n",
       "    <tr>\n",
       "      <th>0</th>\n",
       "      <td>10593243</td>\n",
       "      <td>26</td>\n",
       "      <td>16530476</td>\n",
       "      <td>PART_OF</td>\n",
       "      <td>C0056207</td>\n",
       "      <td>COMPLEMENT FACTOR H</td>\n",
       "      <td>aapp</td>\n",
       "      <td>1</td>\n",
       "      <td>C0006034</td>\n",
       "      <td>Borrelia burgdorferi</td>\n",
       "      <td>bact</td>\n",
       "      <td>1</td>\n",
       "    </tr>\n",
       "    <tr>\n",
       "      <th>1</th>\n",
       "      <td>10593243</td>\n",
       "      <td>26</td>\n",
       "      <td>16530476</td>\n",
       "      <td>PART_OF</td>\n",
       "      <td>3075</td>\n",
       "      <td>CFH</td>\n",
       "      <td>aapp</td>\n",
       "      <td>1</td>\n",
       "      <td>C0006034</td>\n",
       "      <td>Borrelia burgdorferi</td>\n",
       "      <td>bact</td>\n",
       "      <td>1</td>\n",
       "    </tr>\n",
       "    <tr>\n",
       "      <th>2</th>\n",
       "      <td>10597756</td>\n",
       "      <td>105</td>\n",
       "      <td>16530483</td>\n",
       "      <td>INTERACTS_WITH</td>\n",
       "      <td>C0027893</td>\n",
       "      <td>neuropeptide Y</td>\n",
       "      <td>gngm</td>\n",
       "      <td>1</td>\n",
       "      <td>C0039194</td>\n",
       "      <td>T-Lymphocyte</td>\n",
       "      <td>cell</td>\n",
       "      <td>1</td>\n",
       "    </tr>\n",
       "    <tr>\n",
       "      <th>3</th>\n",
       "      <td>10597756</td>\n",
       "      <td>105</td>\n",
       "      <td>16530483</td>\n",
       "      <td>INTERACTS_WITH</td>\n",
       "      <td>4852</td>\n",
       "      <td>NPY</td>\n",
       "      <td>gngm</td>\n",
       "      <td>1</td>\n",
       "      <td>C0039194</td>\n",
       "      <td>T-Lymphocyte</td>\n",
       "      <td>cell</td>\n",
       "      <td>1</td>\n",
       "    </tr>\n",
       "    <tr>\n",
       "      <th>4</th>\n",
       "      <td>10597803</td>\n",
       "      <td>105</td>\n",
       "      <td>16530483</td>\n",
       "      <td>STIMULATES</td>\n",
       "      <td>C0027893</td>\n",
       "      <td>neuropeptide Y</td>\n",
       "      <td>aapp</td>\n",
       "      <td>1</td>\n",
       "      <td>C0003315</td>\n",
       "      <td>Antigen-Presenting Cells</td>\n",
       "      <td>cell</td>\n",
       "      <td>1</td>\n",
       "    </tr>\n",
       "  </tbody>\n",
       "</table>\n",
       "</div>"
      ],
      "text/plain": [
       "   PREDICATION_ID  SENTENCE_ID      PMID       PREDICATE SUBJECT_CUI  \\\n",
       "0        10593243           26  16530476         PART_OF    C0056207   \n",
       "1        10593243           26  16530476         PART_OF        3075   \n",
       "2        10597756          105  16530483  INTERACTS_WITH    C0027893   \n",
       "3        10597756          105  16530483  INTERACTS_WITH        4852   \n",
       "4        10597803          105  16530483      STIMULATES    C0027893   \n",
       "\n",
       "          SUBJECT_NAME SUBJECT_SEMTYPE  SUBJECT_NOVELTY OBJECT_CUI  \\\n",
       "0  COMPLEMENT FACTOR H            aapp                1   C0006034   \n",
       "1                  CFH            aapp                1   C0006034   \n",
       "2       neuropeptide Y            gngm                1   C0039194   \n",
       "3                  NPY            gngm                1   C0039194   \n",
       "4       neuropeptide Y            aapp                1   C0003315   \n",
       "\n",
       "                OBJECT_NAME OBJECT_SEMTYPE OBJECT_NOVELTY  \n",
       "0      Borrelia burgdorferi           bact              1  \n",
       "1      Borrelia burgdorferi           bact              1  \n",
       "2              T-Lymphocyte           cell              1  \n",
       "3              T-Lymphocyte           cell              1  \n",
       "4  Antigen-Presenting Cells           cell              1  "
      ]
     },
     "execution_count": 35,
     "metadata": {},
     "output_type": "execute_result"
    }
   ],
   "source": [
    "fixed_starts.head(5)"
   ]
  },
  {
   "cell_type": "code",
   "execution_count": 36,
   "metadata": {},
   "outputs": [],
   "source": [
    "start_only_subset = None"
   ]
  },
  {
   "cell_type": "markdown",
   "metadata": {
    "collapsed": true
   },
   "source": [
    "#### Fixing the lines where the Objects contain pipes"
   ]
  },
  {
   "cell_type": "code",
   "execution_count": 37,
   "metadata": {},
   "outputs": [],
   "source": [
    "end_id_split = pipe_lines.loc[end_only_subset, 'OBJECT_CUI'].str.split('|')\n",
    "end_name_split = pipe_lines.loc[end_only_subset, 'OBJECT_NAME'].str.split('|')"
   ]
  },
  {
   "cell_type": "code",
   "execution_count": 38,
   "metadata": {},
   "outputs": [
    {
     "data": {
      "text/plain": [
       "(3408292,)"
      ]
     },
     "execution_count": 38,
     "metadata": {},
     "output_type": "execute_result"
    }
   ],
   "source": [
    "end_id_split.shape"
   ]
  },
  {
   "cell_type": "code",
   "execution_count": 39,
   "metadata": {},
   "outputs": [
    {
     "data": {
      "text/plain": [
       "(3408292,)"
      ]
     },
     "execution_count": 39,
     "metadata": {},
     "output_type": "execute_result"
    }
   ],
   "source": [
    "end_name_split.shape"
   ]
  },
  {
   "cell_type": "markdown",
   "metadata": {},
   "source": [
    "When examining the data, we can see that some of the lines were not parsed correctly.  This must have happened before the data was downloaded, because mysql shows the same issues when the dump is loaded and queried. \n",
    "\n",
    "These line will be dropped since there aren't many and they're pretty much garbage."
   ]
  },
  {
   "cell_type": "code",
   "execution_count": 40,
   "metadata": {},
   "outputs": [
    {
     "name": "stdout",
     "output_type": "stream",
     "text": [
      "There are 6 lines with data corrupted in this manner\n"
     ]
    },
    {
     "data": {
      "text/html": [
       "<div>\n",
       "<style scoped>\n",
       "    .dataframe tbody tr th:only-of-type {\n",
       "        vertical-align: middle;\n",
       "    }\n",
       "\n",
       "    .dataframe tbody tr th {\n",
       "        vertical-align: top;\n",
       "    }\n",
       "\n",
       "    .dataframe thead th {\n",
       "        text-align: right;\n",
       "    }\n",
       "</style>\n",
       "<table border=\"1\" class=\"dataframe\">\n",
       "  <thead>\n",
       "    <tr style=\"text-align: right;\">\n",
       "      <th></th>\n",
       "      <th>PREDICATION_ID</th>\n",
       "      <th>SENTENCE_ID</th>\n",
       "      <th>PMID</th>\n",
       "      <th>PREDICATE</th>\n",
       "      <th>SUBJECT_CUI</th>\n",
       "      <th>SUBJECT_NAME</th>\n",
       "      <th>SUBJECT_SEMTYPE</th>\n",
       "      <th>SUBJECT_NOVELTY</th>\n",
       "      <th>OBJECT_CUI</th>\n",
       "      <th>OBJECT_NAME</th>\n",
       "      <th>OBJECT_SEMTYPE</th>\n",
       "      <th>OBJECT_NOVELTY</th>\n",
       "    </tr>\n",
       "  </thead>\n",
       "  <tbody>\n",
       "    <tr>\n",
       "      <th>7154043</th>\n",
       "      <td>80264874</td>\n",
       "      <td>35392205</td>\n",
       "      <td>26191840</td>\n",
       "      <td>PREP</td>\n",
       "      <td>1756</td>\n",
       "      <td>DMD</td>\n",
       "      <td>gngm</td>\n",
       "      <td>1</td>\n",
       "      <td>1|medd</td>\n",
       "      <td>C0175723</td>\n",
       "      <td>medd</td>\n",
       "      <td>1</td>\n",
       "    </tr>\n",
       "    <tr>\n",
       "      <th>7154067</th>\n",
       "      <td>80264901</td>\n",
       "      <td>35392205</td>\n",
       "      <td>26191840</td>\n",
       "      <td>PREP</td>\n",
       "      <td>1756</td>\n",
       "      <td>DMD</td>\n",
       "      <td>gngm</td>\n",
       "      <td>1</td>\n",
       "      <td>1|medd</td>\n",
       "      <td>C0175723</td>\n",
       "      <td>medd</td>\n",
       "      <td>1</td>\n",
       "    </tr>\n",
       "    <tr>\n",
       "      <th>35698402</th>\n",
       "      <td>109882731</td>\n",
       "      <td>83393692</td>\n",
       "      <td>11116804</td>\n",
       "      <td>241</td>\n",
       "      <td>C0024141</td>\n",
       "      <td>Lupus Erythematosus, Systemic</td>\n",
       "      <td>dsyn</td>\n",
       "      <td>1</td>\n",
       "      <td>235|Patients</td>\n",
       "      <td>1|podg|humn</td>\n",
       "      <td>C0030705</td>\n",
       "      <td>1</td>\n",
       "    </tr>\n",
       "    <tr>\n",
       "      <th>48339696</th>\n",
       "      <td>123980473</td>\n",
       "      <td>106727258</td>\n",
       "      <td>15221490</td>\n",
       "      <td>PREP</td>\n",
       "      <td>C0334168</td>\n",
       "      <td>New bone formation</td>\n",
       "      <td>ortf</td>\n",
       "      <td>1</td>\n",
       "      <td>1|anim</td>\n",
       "      <td>C0599779</td>\n",
       "      <td>anim</td>\n",
       "      <td>1</td>\n",
       "    </tr>\n",
       "    <tr>\n",
       "      <th>60007190</th>\n",
       "      <td>137779669</td>\n",
       "      <td>253076136</td>\n",
       "      <td>27557071</td>\n",
       "      <td>NOM</td>\n",
       "      <td>C0600324</td>\n",
       "      <td>Serodiagnosis</td>\n",
       "      <td>lbpr</td>\n",
       "      <td>1</td>\n",
       "      <td>1|dsyn</td>\n",
       "      <td>C0085293</td>\n",
       "      <td>dsyn</td>\n",
       "      <td>1</td>\n",
       "    </tr>\n",
       "    <tr>\n",
       "      <th>80202343</th>\n",
       "      <td>160180312</td>\n",
       "      <td>297142654</td>\n",
       "      <td>23023178</td>\n",
       "      <td>VERB</td>\n",
       "      <td>C0019291</td>\n",
       "      <td>Hernia, Hiatal</td>\n",
       "      <td>dsyn</td>\n",
       "      <td>1</td>\n",
       "      <td>1|humn</td>\n",
       "      <td>C0030705</td>\n",
       "      <td>podg,humn</td>\n",
       "      <td>1</td>\n",
       "    </tr>\n",
       "  </tbody>\n",
       "</table>\n",
       "</div>"
      ],
      "text/plain": [
       "          PREDICATION_ID  SENTENCE_ID      PMID PREDICATE SUBJECT_CUI  \\\n",
       "7154043         80264874     35392205  26191840      PREP        1756   \n",
       "7154067         80264901     35392205  26191840      PREP        1756   \n",
       "35698402       109882731     83393692  11116804       241    C0024141   \n",
       "48339696       123980473    106727258  15221490      PREP    C0334168   \n",
       "60007190       137779669    253076136  27557071       NOM    C0600324   \n",
       "80202343       160180312    297142654  23023178      VERB    C0019291   \n",
       "\n",
       "                           SUBJECT_NAME SUBJECT_SEMTYPE  SUBJECT_NOVELTY  \\\n",
       "7154043                             DMD            gngm                1   \n",
       "7154067                             DMD            gngm                1   \n",
       "35698402  Lupus Erythematosus, Systemic            dsyn                1   \n",
       "48339696             New bone formation            ortf                1   \n",
       "60007190                  Serodiagnosis            lbpr                1   \n",
       "80202343                 Hernia, Hiatal            dsyn                1   \n",
       "\n",
       "            OBJECT_CUI  OBJECT_NAME OBJECT_SEMTYPE OBJECT_NOVELTY  \n",
       "7154043         1|medd     C0175723           medd              1  \n",
       "7154067         1|medd     C0175723           medd              1  \n",
       "35698402  235|Patients  1|podg|humn       C0030705              1  \n",
       "48339696        1|anim     C0599779           anim              1  \n",
       "60007190        1|dsyn     C0085293           dsyn              1  \n",
       "80202343        1|humn     C0030705      podg,humn              1  "
      ]
     },
     "execution_count": 40,
     "metadata": {},
     "output_type": "execute_result"
    }
   ],
   "source": [
    "end_lens = end_id_split.apply(len)\n",
    "end_lens1 = end_name_split.apply(len)\n",
    "\n",
    "print('There are {} lines with data corrupted in this manner'.format(sum(end_lens != end_lens1)))\n",
    "\n",
    "pipe_lines.loc[end_only_subset][(end_lens != end_lens1)]"
   ]
  },
  {
   "cell_type": "code",
   "execution_count": 41,
   "metadata": {},
   "outputs": [],
   "source": [
    "# get the index for the bad lines\n",
    "bad_lines = pipe_lines.loc[end_only_subset][(end_lens != end_lens1)].index\n",
    "\n",
    "# Remove them from the main dataframe\n",
    "pipe_lines = pipe_lines.drop(bad_lines)\n",
    "\n",
    "# Remove from the indicies that still need to be used as well...\n",
    "end_only_subset = end_only_subset.drop(bad_lines)\n",
    "multi_both_subset = multi_both_subset.drop(bad_lines)"
   ]
  },
  {
   "cell_type": "markdown",
   "metadata": {},
   "source": [
    "Now the splitting algorithm is identical to that used for the Subject lines"
   ]
  },
  {
   "cell_type": "code",
   "execution_count": 42,
   "metadata": {},
   "outputs": [],
   "source": [
    "end_id_split = pipe_lines.loc[end_only_subset, 'OBJECT_CUI'].str.split('|')\n",
    "end_name_split = pipe_lines.loc[end_only_subset, 'OBJECT_NAME'].str.split('|')\n",
    "end_lens = end_id_split.apply(len)"
   ]
  },
  {
   "cell_type": "code",
   "execution_count": 43,
   "metadata": {},
   "outputs": [],
   "source": [
    "end_cols = all_cols[:]\n",
    "end_cols.remove('OBJECT_CUI')\n",
    "end_cols.remove('OBJECT_NAME')"
   ]
  },
  {
   "cell_type": "code",
   "execution_count": 44,
   "metadata": {},
   "outputs": [],
   "source": [
    "new_ends = dict()\n",
    "for c in end_cols:\n",
    "    tmp = pipe_lines.loc[end_only_subset, c].apply(lambda x: [x]) * end_lens\n",
    "    new_ends[c] = [x for x in chain(*tmp.values)]"
   ]
  },
  {
   "cell_type": "code",
   "execution_count": 45,
   "metadata": {},
   "outputs": [],
   "source": [
    "fixed_ends = pd.DataFrame(new_ends)\n",
    "fixed_ends['OBJECT_CUI'] = [x for x in chain(*end_id_split.values)]\n",
    "fixed_ends['OBJECT_NAME'] = [x for x in chain(*end_name_split.values)]\n",
    "\n",
    "fixed_ends = fixed_ends[all_cols]"
   ]
  },
  {
   "cell_type": "code",
   "execution_count": 46,
   "metadata": {},
   "outputs": [
    {
     "data": {
      "text/html": [
       "<div>\n",
       "<style scoped>\n",
       "    .dataframe tbody tr th:only-of-type {\n",
       "        vertical-align: middle;\n",
       "    }\n",
       "\n",
       "    .dataframe tbody tr th {\n",
       "        vertical-align: top;\n",
       "    }\n",
       "\n",
       "    .dataframe thead th {\n",
       "        text-align: right;\n",
       "    }\n",
       "</style>\n",
       "<table border=\"1\" class=\"dataframe\">\n",
       "  <thead>\n",
       "    <tr style=\"text-align: right;\">\n",
       "      <th></th>\n",
       "      <th>PREDICATION_ID</th>\n",
       "      <th>SENTENCE_ID</th>\n",
       "      <th>PMID</th>\n",
       "      <th>PREDICATE</th>\n",
       "      <th>SUBJECT_CUI</th>\n",
       "      <th>SUBJECT_NAME</th>\n",
       "      <th>SUBJECT_SEMTYPE</th>\n",
       "      <th>SUBJECT_NOVELTY</th>\n",
       "      <th>OBJECT_CUI</th>\n",
       "      <th>OBJECT_NAME</th>\n",
       "      <th>OBJECT_SEMTYPE</th>\n",
       "      <th>OBJECT_NOVELTY</th>\n",
       "    </tr>\n",
       "  </thead>\n",
       "  <tbody>\n",
       "    <tr>\n",
       "      <th>0</th>\n",
       "      <td>10603809</td>\n",
       "      <td>199</td>\n",
       "      <td>16530496</td>\n",
       "      <td>USES</td>\n",
       "      <td>C0087111</td>\n",
       "      <td>Therapeutic procedure</td>\n",
       "      <td>topp</td>\n",
       "      <td>0</td>\n",
       "      <td>C0020063</td>\n",
       "      <td>PTH protein, human</td>\n",
       "      <td>aapp</td>\n",
       "      <td>1</td>\n",
       "    </tr>\n",
       "    <tr>\n",
       "      <th>1</th>\n",
       "      <td>10603809</td>\n",
       "      <td>199</td>\n",
       "      <td>16530496</td>\n",
       "      <td>USES</td>\n",
       "      <td>C0087111</td>\n",
       "      <td>Therapeutic procedure</td>\n",
       "      <td>topp</td>\n",
       "      <td>0</td>\n",
       "      <td>5741</td>\n",
       "      <td>PTH</td>\n",
       "      <td>aapp</td>\n",
       "      <td>1</td>\n",
       "    </tr>\n",
       "    <tr>\n",
       "      <th>2</th>\n",
       "      <td>10604007</td>\n",
       "      <td>200</td>\n",
       "      <td>16530497</td>\n",
       "      <td>ASSOCIATED_WITH</td>\n",
       "      <td>C0699748</td>\n",
       "      <td>Pathogenesis</td>\n",
       "      <td>patf</td>\n",
       "      <td>1</td>\n",
       "      <td>C1414461</td>\n",
       "      <td>ESR1 gene</td>\n",
       "      <td>gngm</td>\n",
       "      <td>1</td>\n",
       "    </tr>\n",
       "    <tr>\n",
       "      <th>3</th>\n",
       "      <td>10604007</td>\n",
       "      <td>200</td>\n",
       "      <td>16530497</td>\n",
       "      <td>ASSOCIATED_WITH</td>\n",
       "      <td>C0699748</td>\n",
       "      <td>Pathogenesis</td>\n",
       "      <td>patf</td>\n",
       "      <td>1</td>\n",
       "      <td>2099</td>\n",
       "      <td>ESR1</td>\n",
       "      <td>gngm</td>\n",
       "      <td>1</td>\n",
       "    </tr>\n",
       "    <tr>\n",
       "      <th>4</th>\n",
       "      <td>10604038</td>\n",
       "      <td>200</td>\n",
       "      <td>16530497</td>\n",
       "      <td>ASSOCIATED_WITH</td>\n",
       "      <td>C0699748</td>\n",
       "      <td>Pathogenesis</td>\n",
       "      <td>patf</td>\n",
       "      <td>1</td>\n",
       "      <td>C1414462</td>\n",
       "      <td>ESR2 gene</td>\n",
       "      <td>gngm</td>\n",
       "      <td>1</td>\n",
       "    </tr>\n",
       "  </tbody>\n",
       "</table>\n",
       "</div>"
      ],
      "text/plain": [
       "   PREDICATION_ID  SENTENCE_ID      PMID        PREDICATE SUBJECT_CUI  \\\n",
       "0        10603809          199  16530496             USES    C0087111   \n",
       "1        10603809          199  16530496             USES    C0087111   \n",
       "2        10604007          200  16530497  ASSOCIATED_WITH    C0699748   \n",
       "3        10604007          200  16530497  ASSOCIATED_WITH    C0699748   \n",
       "4        10604038          200  16530497  ASSOCIATED_WITH    C0699748   \n",
       "\n",
       "            SUBJECT_NAME SUBJECT_SEMTYPE  SUBJECT_NOVELTY OBJECT_CUI  \\\n",
       "0  Therapeutic procedure            topp                0   C0020063   \n",
       "1  Therapeutic procedure            topp                0       5741   \n",
       "2           Pathogenesis            patf                1   C1414461   \n",
       "3           Pathogenesis            patf                1       2099   \n",
       "4           Pathogenesis            patf                1   C1414462   \n",
       "\n",
       "          OBJECT_NAME OBJECT_SEMTYPE OBJECT_NOVELTY  \n",
       "0  PTH protein, human           aapp              1  \n",
       "1                 PTH           aapp              1  \n",
       "2           ESR1 gene           gngm              1  \n",
       "3                ESR1           gngm              1  \n",
       "4           ESR2 gene           gngm              1  "
      ]
     },
     "execution_count": 46,
     "metadata": {},
     "output_type": "execute_result"
    }
   ],
   "source": [
    "fixed_ends.head()"
   ]
  },
  {
   "cell_type": "code",
   "execution_count": 47,
   "metadata": {},
   "outputs": [
    {
     "data": {
      "text/plain": [
       "(7472299, 12)"
      ]
     },
     "execution_count": 47,
     "metadata": {},
     "output_type": "execute_result"
    }
   ],
   "source": [
    "fixed_ends.shape"
   ]
  },
  {
   "cell_type": "code",
   "execution_count": 48,
   "metadata": {},
   "outputs": [],
   "source": [
    "end_only_subset = None"
   ]
  },
  {
   "cell_type": "markdown",
   "metadata": {},
   "source": [
    "### Splitting of lines where both the subject and object contain pipes\n",
    "\n",
    "These differ slightly in the way that they will have to be treated.  First, the number of pipe in the subject and object can be different.  The total number of new lines to be created is `(n+1) * (m+1)` where `n` is the number of pipes in the subject and `m` is the number of pipes in the object.\n",
    "\n",
    "Secondly, every possible combination of subject and object will need to be made.  Given subjects `A` and `B`, and objects `X` and `Y`, and predicate `p` you will need rows for the following combinatinos `ApX`, `ApY`, `BpX`, `BpY`."
   ]
  },
  {
   "cell_type": "code",
   "execution_count": 49,
   "metadata": {},
   "outputs": [],
   "source": [
    "start_id_split = pipe_lines.loc[multi_both_subset, 'SUBJECT_CUI'].str.split('|')\n",
    "start_name_split = pipe_lines.loc[multi_both_subset, 'SUBJECT_NAME'].str.split('|')\n",
    "start_lens = start_id_split.apply(len)\n",
    "\n",
    "end_id_split = pipe_lines.loc[multi_both_subset, 'OBJECT_CUI'].str.split('|')\n",
    "end_name_split = pipe_lines.loc[multi_both_subset, 'OBJECT_NAME'].str.split('|')\n",
    "end_lens = end_id_split.apply(len)"
   ]
  },
  {
   "cell_type": "code",
   "execution_count": 50,
   "metadata": {},
   "outputs": [
    {
     "data": {
      "text/plain": [
       "True"
      ]
     },
     "execution_count": 50,
     "metadata": {},
     "output_type": "execute_result"
    }
   ],
   "source": [
    "# Quick check to see if the name split is equal for start\n",
    "[len(i) for i in start_name_split] == [len(i) for i in start_id_split]"
   ]
  },
  {
   "cell_type": "code",
   "execution_count": 51,
   "metadata": {
    "scrolled": true
   },
   "outputs": [
    {
     "data": {
      "text/plain": [
       "False"
      ]
     },
     "execution_count": 51,
     "metadata": {},
     "output_type": "execute_result"
    }
   ],
   "source": [
    "# Quick check to see if the name split is equal for end. In our case its not\n",
    "[len(i) for i in end_name_split] == [len(i) for i in end_id_split]"
   ]
  },
  {
   "cell_type": "code",
   "execution_count": 52,
   "metadata": {},
   "outputs": [],
   "source": [
    "end_name_split_len = [len(i) for i in end_name_split]\n",
    "end_id_split_len = [len(i) for i in end_id_split]"
   ]
  },
  {
   "cell_type": "code",
   "execution_count": 53,
   "metadata": {},
   "outputs": [
    {
     "name": "stdout",
     "output_type": "stream",
     "text": [
      "index:  376203 \n",
      "len end name split:  1 \n",
      "len end id split:  2 \n",
      "split id entry:  ['1', 'neop'] \n",
      "split name entry:  ['C0017636']\n"
     ]
    }
   ],
   "source": [
    "# Lets find out why its false.\n",
    "for j,v in enumerate(end_name_split_len):\n",
    "    if v==end_id_split_len[j]:\n",
    "        pass\n",
    "    else:\n",
    "        print('index: ',j,\n",
    "              '\\nlen end name split: ',v,\n",
    "              '\\nlen end id split: ',end_id_split_len[j],\n",
    "              '\\nsplit id entry: ',list(end_id_split)[j],\n",
    "              '\\nsplit name entry: ',list(end_name_split)[j])"
   ]
  },
  {
   "cell_type": "code",
   "execution_count": 54,
   "metadata": {
    "scrolled": true
   },
   "outputs": [
    {
     "name": "stdout",
     "output_type": "stream",
     "text": [
      "['C0017636']\n",
      "111403679    [C0017636, C0017636]\n",
      "Name: OBJECT_NAME, dtype: object\n"
     ]
    }
   ],
   "source": [
    "# replace entry with equal length named entry\n",
    "for j,v in enumerate(end_name_split_len):\n",
    "    if v!=end_id_split_len[j]:\n",
    "        len_id = end_id_split_len[j]\n",
    "        len_name = end_name_split_len[j]\n",
    "        \n",
    "        end_id_entry = list(end_id_split)[j]\n",
    "        end_name_entry = list(end_name_split)[j]\n",
    "        \n",
    "        print(end_name_entry)\n",
    "        end_name_split.iloc[j]=len_id*[end_name_entry[0]]\n",
    "     \n",
    "        print(end_name_split.iloc[[j]])"
   ]
  },
  {
   "cell_type": "code",
   "execution_count": 55,
   "metadata": {},
   "outputs": [],
   "source": [
    "end_lens = end_id_split.apply(len)"
   ]
  },
  {
   "cell_type": "code",
   "execution_count": 56,
   "metadata": {},
   "outputs": [],
   "source": [
    "# Multiply the start splits by the end length, so you get end_len*start_len total rows\n",
    "start_id_split = start_id_split * end_lens\n",
    "start_name_split = start_name_split * end_lens\n",
    "\n",
    "end_id_split = end_id_split * start_lens\n",
    "end_name_split = end_name_split * start_lens"
   ]
  },
  {
   "cell_type": "code",
   "execution_count": 57,
   "metadata": {},
   "outputs": [],
   "source": [
    "# only sort the starts so that you get all possible combinations....\n",
    "# For example right now we have start = [A, B, C, A, B, C] and end = [X, Y, X, Y, X, Y]\n",
    "# By sorting the start we will have start = [A, A, B, B, C, C] and end = [X, Y, X, Y, X, Y]\n",
    "# Therefore when combined element-wise, all possible combinatinos will arise\n",
    "\n",
    "sorting_df = pd.DataFrame()\n",
    "sorting_df['ID'] = start_id_split\n",
    "sorting_df['NAME'] = start_name_split\n",
    "\n",
    "sorted_start_id_split = sorting_df['ID'].apply(lambda x: sorted(x))\n",
    "# Need to sort the names based on IDs so that the same name still corresponds to the same ID\n",
    "sorted_start_name_split = sorting_df.apply(lambda row: [x for y,x in sorted(zip(row['ID'], row['NAME']))], axis = 1)"
   ]
  },
  {
   "cell_type": "code",
   "execution_count": 58,
   "metadata": {},
   "outputs": [
    {
     "data": {
      "text/html": [
       "<div>\n",
       "<style scoped>\n",
       "    .dataframe tbody tr th:only-of-type {\n",
       "        vertical-align: middle;\n",
       "    }\n",
       "\n",
       "    .dataframe tbody tr th {\n",
       "        vertical-align: top;\n",
       "    }\n",
       "\n",
       "    .dataframe thead th {\n",
       "        text-align: right;\n",
       "    }\n",
       "</style>\n",
       "<table border=\"1\" class=\"dataframe\">\n",
       "  <thead>\n",
       "    <tr style=\"text-align: right;\">\n",
       "      <th></th>\n",
       "      <th>ID</th>\n",
       "      <th>NAME</th>\n",
       "    </tr>\n",
       "  </thead>\n",
       "  <tbody>\n",
       "    <tr>\n",
       "      <th>117</th>\n",
       "      <td>[C1414462, 2100, C1414462, 2100]</td>\n",
       "      <td>[ESR2 gene, ESR2, ESR2 gene, ESR2]</td>\n",
       "    </tr>\n",
       "    <tr>\n",
       "      <th>441</th>\n",
       "      <td>[C0166418, 5465, C0166418, 5465]</td>\n",
       "      <td>[Peroxisome Proliferator-Activated Receptors, ...</td>\n",
       "    </tr>\n",
       "    <tr>\n",
       "      <th>974</th>\n",
       "      <td>[C0051980, 959, C0051980, 959]</td>\n",
       "      <td>[anti-IgM, CD40LG, anti-IgM, CD40LG]</td>\n",
       "    </tr>\n",
       "    <tr>\n",
       "      <th>1492</th>\n",
       "      <td>[C1419746, 9252, C1419746, 9252, C1419746, 925...</td>\n",
       "      <td>[RPS6KA5 gene, RPS6KA5, RPS6KA5 gene, RPS6KA5,...</td>\n",
       "    </tr>\n",
       "    <tr>\n",
       "      <th>2034</th>\n",
       "      <td>[C0020063, 5741, C0020063, 5741]</td>\n",
       "      <td>[PTH protein, human, PTH, PTH protein, human, ...</td>\n",
       "    </tr>\n",
       "  </tbody>\n",
       "</table>\n",
       "</div>"
      ],
      "text/plain": [
       "                                                     ID  \\\n",
       "117                    [C1414462, 2100, C1414462, 2100]   \n",
       "441                    [C0166418, 5465, C0166418, 5465]   \n",
       "974                      [C0051980, 959, C0051980, 959]   \n",
       "1492  [C1419746, 9252, C1419746, 9252, C1419746, 925...   \n",
       "2034                   [C0020063, 5741, C0020063, 5741]   \n",
       "\n",
       "                                                   NAME  \n",
       "117                  [ESR2 gene, ESR2, ESR2 gene, ESR2]  \n",
       "441   [Peroxisome Proliferator-Activated Receptors, ...  \n",
       "974                [anti-IgM, CD40LG, anti-IgM, CD40LG]  \n",
       "1492  [RPS6KA5 gene, RPS6KA5, RPS6KA5 gene, RPS6KA5,...  \n",
       "2034  [PTH protein, human, PTH, PTH protein, human, ...  "
      ]
     },
     "execution_count": 58,
     "metadata": {},
     "output_type": "execute_result"
    }
   ],
   "source": [
    "sorting_df.head()"
   ]
  },
  {
   "cell_type": "code",
   "execution_count": 59,
   "metadata": {},
   "outputs": [
    {
     "data": {
      "text/plain": [
       "117                      [2100, 2100, C1414462, C1414462]\n",
       "441                      [5465, 5465, C0166418, C0166418]\n",
       "974                        [959, 959, C0051980, C0051980]\n",
       "1492    [9252, 9252, 9252, 9252, 9252, 9252, 9252, 925...\n",
       "2034                     [5741, 5741, C0020063, C0020063]\n",
       "Name: ID, dtype: object"
      ]
     },
     "execution_count": 59,
     "metadata": {},
     "output_type": "execute_result"
    }
   ],
   "source": [
    "sorted_start_id_split.head()"
   ]
  },
  {
   "cell_type": "code",
   "execution_count": 60,
   "metadata": {},
   "outputs": [
    {
     "data": {
      "text/plain": [
       "117                    [ESR2, ESR2, ESR2 gene, ESR2 gene]\n",
       "441     [PPARA, PPARA, Peroxisome Proliferator-Activat...\n",
       "974                  [CD40LG, CD40LG, anti-IgM, anti-IgM]\n",
       "1492    [RPS6KA5, RPS6KA5, RPS6KA5, RPS6KA5, RPS6KA5, ...\n",
       "2034    [PTH, PTH, PTH protein, human, PTH protein, hu...\n",
       "dtype: object"
      ]
     },
     "execution_count": 60,
     "metadata": {},
     "output_type": "execute_result"
    }
   ],
   "source": [
    "sorted_start_name_split.head()"
   ]
  },
  {
   "cell_type": "markdown",
   "metadata": {},
   "source": [
    "Now the algorithm continues in a similar manner to that of the Only subject or Only Object corrections"
   ]
  },
  {
   "cell_type": "code",
   "execution_count": 61,
   "metadata": {},
   "outputs": [],
   "source": [
    "both_cols = all_cols[:]\n",
    "both_cols.remove('SUBJECT_CUI')\n",
    "both_cols.remove('SUBJECT_NAME')\n",
    "both_cols.remove('OBJECT_CUI')\n",
    "both_cols.remove('OBJECT_NAME')"
   ]
  },
  {
   "cell_type": "code",
   "execution_count": 62,
   "metadata": {},
   "outputs": [],
   "source": [
    "new_both = dict()\n",
    "for c in both_cols:\n",
    "    tmp = pipe_lines.loc[multi_both_subset, c].apply(lambda x: [x]) * (start_lens * end_lens)\n",
    "    new_both[c] = [x for x in chain(*tmp.values)]"
   ]
  },
  {
   "cell_type": "code",
   "execution_count": 63,
   "metadata": {},
   "outputs": [
    {
     "data": {
      "text/plain": [
       "array([list(['ESR1 gene', 'ESR1', 'ESR1 gene', 'ESR1']),\n",
       "       list(['PLA2G2A', 'PLA2G10', 'PLA2G2A', 'PLA2G10']),\n",
       "       list(['cyclin D2', 'CCND2', 'cyclin D2', 'CCND2']), ...,\n",
       "       list(['PPARGC1A gene', 'PPARGC1A', 'PPARGC1A gene', 'PPARGC1A']),\n",
       "       list(['TNFSF13B gene', 'TNFSF13B', 'TNFSF13B gene', 'TNFSF13B']),\n",
       "       list(['STAT3 gene', 'STAT3', 'STAT3 gene', 'STAT3'])], dtype=object)"
      ]
     },
     "execution_count": 63,
     "metadata": {},
     "output_type": "execute_result"
    }
   ],
   "source": [
    "end_name_split.values"
   ]
  },
  {
   "cell_type": "code",
   "execution_count": 64,
   "metadata": {},
   "outputs": [],
   "source": [
    "ob_nm = [x for x in chain(*end_name_split.values)]\n",
    "ob_id = [x for x in chain(*end_id_split.values)]\n",
    "sub_nm =[x for x in chain(*sorted_start_name_split.values)]\n",
    "sub_id = [x for x in chain(*sorted_start_id_split.values)]"
   ]
  },
  {
   "cell_type": "code",
   "execution_count": 65,
   "metadata": {},
   "outputs": [
    {
     "name": "stdout",
     "output_type": "stream",
     "text": [
      "object name len:  384468\n",
      "object id len:  384468\n",
      "sub name len:  384468\n",
      "sub id len:  384468\n"
     ]
    }
   ],
   "source": [
    "# quick check if the # of indices are the same\n",
    "print('object name len: ', len(end_name_split))\n",
    "print('object id len: ', len(end_id_split))\n",
    "print('sub name len: ', len(sorted_start_name_split))\n",
    "print('sub id len: ', len(sorted_start_id_split))"
   ]
  },
  {
   "cell_type": "code",
   "execution_count": 66,
   "metadata": {},
   "outputs": [
    {
     "name": "stdout",
     "output_type": "stream",
     "text": [
      "object name len:  1948232\n",
      "object id len:  1948232\n",
      "sub name len:  1948232\n",
      "sub id len:  1948232\n"
     ]
    }
   ],
   "source": [
    "# quick check when unrolled, if all the indicies are the same\n",
    "print('object name len: ', len(ob_nm))\n",
    "print('object id len: ', len(ob_id))\n",
    "print('sub name len: ', len(sub_nm))\n",
    "print('sub id len: ', len(sub_id))"
   ]
  },
  {
   "cell_type": "code",
   "execution_count": 67,
   "metadata": {},
   "outputs": [],
   "source": [
    "fixed_both = pd.DataFrame(new_both)\n",
    "\n",
    "fixed_both['SUBJECT_CUI'] = [x for x in chain(*sorted_start_id_split.values)]\n",
    "fixed_both['SUBJECT_NAME'] = [x for x in chain(*sorted_start_name_split.values)]\n",
    "\n",
    "fixed_both['OBJECT_CUI'] = [x for x in chain(*end_id_split.values)]\n",
    "fixed_both['OBJECT_NAME'] = [x for x in chain(*end_name_split.values)]\n",
    "\n",
    "fixed_both = fixed_both[all_cols]"
   ]
  },
  {
   "cell_type": "code",
   "execution_count": 68,
   "metadata": {},
   "outputs": [
    {
     "data": {
      "text/html": [
       "<div>\n",
       "<style scoped>\n",
       "    .dataframe tbody tr th:only-of-type {\n",
       "        vertical-align: middle;\n",
       "    }\n",
       "\n",
       "    .dataframe tbody tr th {\n",
       "        vertical-align: top;\n",
       "    }\n",
       "\n",
       "    .dataframe thead th {\n",
       "        text-align: right;\n",
       "    }\n",
       "</style>\n",
       "<table border=\"1\" class=\"dataframe\">\n",
       "  <thead>\n",
       "    <tr style=\"text-align: right;\">\n",
       "      <th></th>\n",
       "      <th>PREDICATION_ID</th>\n",
       "      <th>SENTENCE_ID</th>\n",
       "      <th>PMID</th>\n",
       "      <th>PREDICATE</th>\n",
       "      <th>SUBJECT_CUI</th>\n",
       "      <th>SUBJECT_NAME</th>\n",
       "      <th>SUBJECT_SEMTYPE</th>\n",
       "      <th>SUBJECT_NOVELTY</th>\n",
       "      <th>OBJECT_CUI</th>\n",
       "      <th>OBJECT_NAME</th>\n",
       "      <th>OBJECT_SEMTYPE</th>\n",
       "      <th>OBJECT_NOVELTY</th>\n",
       "    </tr>\n",
       "  </thead>\n",
       "  <tbody>\n",
       "    <tr>\n",
       "      <th>0</th>\n",
       "      <td>10604461</td>\n",
       "      <td>206</td>\n",
       "      <td>16530497</td>\n",
       "      <td>INTERACTS_WITH</td>\n",
       "      <td>2100</td>\n",
       "      <td>ESR2</td>\n",
       "      <td>gngm</td>\n",
       "      <td>1</td>\n",
       "      <td>C1414461</td>\n",
       "      <td>ESR1 gene</td>\n",
       "      <td>gngm</td>\n",
       "      <td>1</td>\n",
       "    </tr>\n",
       "    <tr>\n",
       "      <th>1</th>\n",
       "      <td>10604461</td>\n",
       "      <td>206</td>\n",
       "      <td>16530497</td>\n",
       "      <td>INTERACTS_WITH</td>\n",
       "      <td>2100</td>\n",
       "      <td>ESR2</td>\n",
       "      <td>gngm</td>\n",
       "      <td>1</td>\n",
       "      <td>2099</td>\n",
       "      <td>ESR1</td>\n",
       "      <td>gngm</td>\n",
       "      <td>1</td>\n",
       "    </tr>\n",
       "    <tr>\n",
       "      <th>2</th>\n",
       "      <td>10604461</td>\n",
       "      <td>206</td>\n",
       "      <td>16530497</td>\n",
       "      <td>INTERACTS_WITH</td>\n",
       "      <td>C1414462</td>\n",
       "      <td>ESR2 gene</td>\n",
       "      <td>gngm</td>\n",
       "      <td>1</td>\n",
       "      <td>C1414461</td>\n",
       "      <td>ESR1 gene</td>\n",
       "      <td>gngm</td>\n",
       "      <td>1</td>\n",
       "    </tr>\n",
       "    <tr>\n",
       "      <th>3</th>\n",
       "      <td>10604461</td>\n",
       "      <td>206</td>\n",
       "      <td>16530497</td>\n",
       "      <td>INTERACTS_WITH</td>\n",
       "      <td>C1414462</td>\n",
       "      <td>ESR2 gene</td>\n",
       "      <td>gngm</td>\n",
       "      <td>1</td>\n",
       "      <td>2099</td>\n",
       "      <td>ESR1</td>\n",
       "      <td>gngm</td>\n",
       "      <td>1</td>\n",
       "    </tr>\n",
       "    <tr>\n",
       "      <th>4</th>\n",
       "      <td>10645011</td>\n",
       "      <td>923</td>\n",
       "      <td>16530726</td>\n",
       "      <td>INHIBITS</td>\n",
       "      <td>5465</td>\n",
       "      <td>PPARA</td>\n",
       "      <td>aapp</td>\n",
       "      <td>1</td>\n",
       "      <td>5320</td>\n",
       "      <td>PLA2G2A</td>\n",
       "      <td>gngm</td>\n",
       "      <td>1</td>\n",
       "    </tr>\n",
       "  </tbody>\n",
       "</table>\n",
       "</div>"
      ],
      "text/plain": [
       "   PREDICATION_ID  SENTENCE_ID      PMID       PREDICATE SUBJECT_CUI  \\\n",
       "0        10604461          206  16530497  INTERACTS_WITH        2100   \n",
       "1        10604461          206  16530497  INTERACTS_WITH        2100   \n",
       "2        10604461          206  16530497  INTERACTS_WITH    C1414462   \n",
       "3        10604461          206  16530497  INTERACTS_WITH    C1414462   \n",
       "4        10645011          923  16530726        INHIBITS        5465   \n",
       "\n",
       "  SUBJECT_NAME SUBJECT_SEMTYPE  SUBJECT_NOVELTY OBJECT_CUI OBJECT_NAME  \\\n",
       "0         ESR2            gngm                1   C1414461   ESR1 gene   \n",
       "1         ESR2            gngm                1       2099        ESR1   \n",
       "2    ESR2 gene            gngm                1   C1414461   ESR1 gene   \n",
       "3    ESR2 gene            gngm                1       2099        ESR1   \n",
       "4        PPARA            aapp                1       5320     PLA2G2A   \n",
       "\n",
       "  OBJECT_SEMTYPE OBJECT_NOVELTY  \n",
       "0           gngm              1  \n",
       "1           gngm              1  \n",
       "2           gngm              1  \n",
       "3           gngm              1  \n",
       "4           gngm              1  "
      ]
     },
     "execution_count": 68,
     "metadata": {},
     "output_type": "execute_result"
    }
   ],
   "source": [
    "fixed_both.head()"
   ]
  },
  {
   "cell_type": "code",
   "execution_count": 69,
   "metadata": {},
   "outputs": [],
   "source": [
    "# Clear Variables\n",
    "start_id_split = None\n",
    "start_name_split = None\n",
    "end_id_split = None\n",
    "end_name_split = None\n",
    "sorted_start_name_split = None\n",
    "sorted_start_id_split = None"
   ]
  },
  {
   "cell_type": "markdown",
   "metadata": {},
   "source": [
    "Recombine these lines into the new dataframe. \n",
    "\n",
    "VER31: 104,929,678 rows"
   ]
  },
  {
   "cell_type": "code",
   "execution_count": 70,
   "metadata": {},
   "outputs": [],
   "source": [
    "sem_df = pd.concat([good_lines, fixed_starts, fixed_ends, fixed_both]).reset_index(drop=True)"
   ]
  },
  {
   "cell_type": "code",
   "execution_count": 71,
   "metadata": {},
   "outputs": [],
   "source": [
    "# Clear Variables\n",
    "good_lines = None\n",
    "fixed_starts = None\n",
    "fixed_ends = None\n",
    "fixed_both = None"
   ]
  },
  {
   "cell_type": "code",
   "execution_count": 72,
   "metadata": {},
   "outputs": [
    {
     "name": "stdout",
     "output_type": "stream",
     "text": [
      "The data now contains 122,935,992 rows\n"
     ]
    }
   ],
   "source": [
    "print('The data now contains {:,} rows'.format(sem_df.shape[0]))"
   ]
  },
  {
   "cell_type": "markdown",
   "metadata": {},
   "source": [
    "# NORMALIZE IDS FOR GENES to CUIs\n",
    "\n",
    "Sometimes genes appear with a CUI as an identifier, other times they have an entrez gene id."
   ]
  },
  {
   "cell_type": "code",
   "execution_count": 73,
   "metadata": {},
   "outputs": [
    {
     "data": {
      "text/html": [
       "<div>\n",
       "<style scoped>\n",
       "    .dataframe tbody tr th:only-of-type {\n",
       "        vertical-align: middle;\n",
       "    }\n",
       "\n",
       "    .dataframe tbody tr th {\n",
       "        vertical-align: top;\n",
       "    }\n",
       "\n",
       "    .dataframe thead th {\n",
       "        text-align: right;\n",
       "    }\n",
       "</style>\n",
       "<table border=\"1\" class=\"dataframe\">\n",
       "  <thead>\n",
       "    <tr style=\"text-align: right;\">\n",
       "      <th></th>\n",
       "      <th>PREDICATION_ID</th>\n",
       "      <th>SENTENCE_ID</th>\n",
       "      <th>PMID</th>\n",
       "      <th>PREDICATE</th>\n",
       "      <th>SUBJECT_CUI</th>\n",
       "      <th>SUBJECT_NAME</th>\n",
       "      <th>SUBJECT_SEMTYPE</th>\n",
       "      <th>SUBJECT_NOVELTY</th>\n",
       "      <th>OBJECT_CUI</th>\n",
       "      <th>OBJECT_NAME</th>\n",
       "      <th>OBJECT_SEMTYPE</th>\n",
       "      <th>OBJECT_NOVELTY</th>\n",
       "    </tr>\n",
       "  </thead>\n",
       "  <tbody>\n",
       "    <tr>\n",
       "      <th>105219320</th>\n",
       "      <td>29597661</td>\n",
       "      <td>54478476</td>\n",
       "      <td>1259607</td>\n",
       "      <td>AUGMENTS</td>\n",
       "      <td>C1337111</td>\n",
       "      <td>POMC gene</td>\n",
       "      <td>gngm</td>\n",
       "      <td>1</td>\n",
       "      <td>C0040132</td>\n",
       "      <td>Thyroid Gland</td>\n",
       "      <td>bpoc</td>\n",
       "      <td>1</td>\n",
       "    </tr>\n",
       "    <tr>\n",
       "      <th>105231299</th>\n",
       "      <td>67156299</td>\n",
       "      <td>121330064</td>\n",
       "      <td>18977407</td>\n",
       "      <td>AFFECTS</td>\n",
       "      <td>C1337111</td>\n",
       "      <td>POMC gene</td>\n",
       "      <td>gngm</td>\n",
       "      <td>1</td>\n",
       "      <td>C0031715</td>\n",
       "      <td>Phosphorylation</td>\n",
       "      <td>moft</td>\n",
       "      <td>1</td>\n",
       "    </tr>\n",
       "  </tbody>\n",
       "</table>\n",
       "</div>"
      ],
      "text/plain": [
       "           PREDICATION_ID  SENTENCE_ID      PMID PREDICATE SUBJECT_CUI  \\\n",
       "105219320        29597661     54478476   1259607  AUGMENTS    C1337111   \n",
       "105231299        67156299    121330064  18977407   AFFECTS    C1337111   \n",
       "\n",
       "          SUBJECT_NAME SUBJECT_SEMTYPE  SUBJECT_NOVELTY OBJECT_CUI  \\\n",
       "105219320    POMC gene            gngm                1   C0040132   \n",
       "105231299    POMC gene            gngm                1   C0031715   \n",
       "\n",
       "               OBJECT_NAME OBJECT_SEMTYPE OBJECT_NOVELTY  \n",
       "105219320    Thyroid Gland           bpoc              1  \n",
       "105231299  Phosphorylation           moft              1  "
      ]
     },
     "execution_count": 73,
     "metadata": {},
     "output_type": "execute_result"
    }
   ],
   "source": [
    "# POMC Gene is 5443 and has CUI C1337111\n",
    "sem_df.query('SUBJECT_CUI == \"C1337111\"').head(2)"
   ]
  },
  {
   "cell_type": "code",
   "execution_count": 74,
   "metadata": {
    "scrolled": true
   },
   "outputs": [
    {
     "data": {
      "text/html": [
       "<div>\n",
       "<style scoped>\n",
       "    .dataframe tbody tr th:only-of-type {\n",
       "        vertical-align: middle;\n",
       "    }\n",
       "\n",
       "    .dataframe tbody tr th {\n",
       "        vertical-align: top;\n",
       "    }\n",
       "\n",
       "    .dataframe thead th {\n",
       "        text-align: right;\n",
       "    }\n",
       "</style>\n",
       "<table border=\"1\" class=\"dataframe\">\n",
       "  <thead>\n",
       "    <tr style=\"text-align: right;\">\n",
       "      <th></th>\n",
       "      <th>PREDICATION_ID</th>\n",
       "      <th>SENTENCE_ID</th>\n",
       "      <th>PMID</th>\n",
       "      <th>PREDICATE</th>\n",
       "      <th>SUBJECT_CUI</th>\n",
       "      <th>SUBJECT_NAME</th>\n",
       "      <th>SUBJECT_SEMTYPE</th>\n",
       "      <th>SUBJECT_NOVELTY</th>\n",
       "      <th>OBJECT_CUI</th>\n",
       "      <th>OBJECT_NAME</th>\n",
       "      <th>OBJECT_SEMTYPE</th>\n",
       "      <th>OBJECT_NOVELTY</th>\n",
       "    </tr>\n",
       "  </thead>\n",
       "  <tbody>\n",
       "    <tr>\n",
       "      <th>406208</th>\n",
       "      <td>72228418</td>\n",
       "      <td>18820740</td>\n",
       "      <td>26476089</td>\n",
       "      <td>NEG_INTERACTS_WITH</td>\n",
       "      <td>5443</td>\n",
       "      <td>POMC</td>\n",
       "      <td>gngm</td>\n",
       "      <td>1</td>\n",
       "      <td>C0002520</td>\n",
       "      <td>Amino Acids</td>\n",
       "      <td>aapp</td>\n",
       "      <td>1</td>\n",
       "    </tr>\n",
       "    <tr>\n",
       "      <th>406231</th>\n",
       "      <td>72228448</td>\n",
       "      <td>18820740</td>\n",
       "      <td>26476089</td>\n",
       "      <td>NEG_INTERACTS_WITH</td>\n",
       "      <td>5443</td>\n",
       "      <td>POMC</td>\n",
       "      <td>gngm</td>\n",
       "      <td>1</td>\n",
       "      <td>C0033684</td>\n",
       "      <td>Proteins</td>\n",
       "      <td>aapp</td>\n",
       "      <td>0</td>\n",
       "    </tr>\n",
       "  </tbody>\n",
       "</table>\n",
       "</div>"
      ],
      "text/plain": [
       "        PREDICATION_ID  SENTENCE_ID      PMID           PREDICATE SUBJECT_CUI  \\\n",
       "406208        72228418     18820740  26476089  NEG_INTERACTS_WITH        5443   \n",
       "406231        72228448     18820740  26476089  NEG_INTERACTS_WITH        5443   \n",
       "\n",
       "       SUBJECT_NAME SUBJECT_SEMTYPE  SUBJECT_NOVELTY OBJECT_CUI  OBJECT_NAME  \\\n",
       "406208         POMC            gngm                1   C0002520  Amino Acids   \n",
       "406231         POMC            gngm                1   C0033684     Proteins   \n",
       "\n",
       "       OBJECT_SEMTYPE OBJECT_NOVELTY  \n",
       "406208           aapp              1  \n",
       "406231           aapp              0  "
      ]
     },
     "execution_count": 74,
     "metadata": {},
     "output_type": "execute_result"
    }
   ],
   "source": [
    "sem_df.query('SUBJECT_CUI == \"5443\"').head(2)"
   ]
  },
  {
   "cell_type": "code",
   "execution_count": 75,
   "metadata": {
    "scrolled": true
   },
   "outputs": [
    {
     "data": {
      "text/plain": [
       "(122935992, 12)"
      ]
     },
     "execution_count": 75,
     "metadata": {},
     "output_type": "execute_result"
    }
   ],
   "source": [
    "#expand the sem_df to remove the lists within the series\n",
    "sem_df.shape"
   ]
  },
  {
   "cell_type": "code",
   "execution_count": 76,
   "metadata": {},
   "outputs": [
    {
     "data": {
      "text/plain": [
       "(122935992, 12)"
      ]
     },
     "execution_count": 76,
     "metadata": {},
     "output_type": "execute_result"
    }
   ],
   "source": [
    "sem_df.explode(column='SUBJECT_CUI').shape"
   ]
  },
  {
   "cell_type": "code",
   "execution_count": 77,
   "metadata": {
    "scrolled": false
   },
   "outputs": [
    {
     "data": {
      "text/plain": [
       "(122935992, 12)"
      ]
     },
     "execution_count": 77,
     "metadata": {},
     "output_type": "execute_result"
    }
   ],
   "source": [
    "sem_df.explode(column='SUBJECT_CUI').explode(column='OBJECT_CUI').shape"
   ]
  },
  {
   "cell_type": "markdown",
   "metadata": {},
   "source": [
    "## Strategy for normalizing to CUI\n",
    "\n",
    "mygene.info has umls data now so we will use this as a reliable, up-to-date soruce for mapping.  For those that cannot be acquired by mygene.info, we will use HGNC Mappings as UMLS contains those values"
   ]
  },
  {
   "cell_type": "code",
   "execution_count": 78,
   "metadata": {},
   "outputs": [],
   "source": [
    "import mygene\n",
    "mg = mygene.MyGeneInfo()"
   ]
  },
  {
   "cell_type": "code",
   "execution_count": 79,
   "metadata": {},
   "outputs": [],
   "source": [
    "gene_lines = ~sem_df['SUBJECT_CUI'].str.startswith('C')\n",
    "genes_entrez = set(sem_df.loc[gene_lines, 'SUBJECT_CUI'])\n",
    "\n",
    "gene_lines1 = ~sem_df['OBJECT_CUI'].str.startswith('C')\n",
    "genes_entrez.update(set(sem_df.loc[gene_lines1, 'OBJECT_CUI']))\n",
    "\n",
    "genes_need_fixing = gene_lines | gene_lines1"
   ]
  },
  {
   "cell_type": "code",
   "execution_count": 80,
   "metadata": {
    "scrolled": true
   },
   "outputs": [
    {
     "name": "stdout",
     "output_type": "stream",
     "text": [
      "21428 genes appear with Entrez IDs that will need to be mapped\n"
     ]
    }
   ],
   "source": [
    "print(\"{} genes appear with Entrez IDs that will need to be mapped\".format(len(genes_entrez)))"
   ]
  },
  {
   "cell_type": "code",
   "execution_count": 81,
   "metadata": {},
   "outputs": [
    {
     "name": "stdout",
     "output_type": "stream",
     "text": [
      "querying 1-1000...done.\n",
      "querying 1001-2000...done.\n",
      "querying 2001-3000...done.\n",
      "querying 3001-4000...done.\n",
      "querying 4001-5000...done.\n",
      "querying 5001-6000...done.\n",
      "querying 6001-7000...done.\n",
      "querying 7001-8000...done.\n",
      "querying 8001-9000...done.\n",
      "querying 9001-10000...done.\n",
      "querying 10001-11000...done.\n",
      "querying 11001-12000...done.\n",
      "querying 12001-13000...done.\n",
      "querying 13001-14000...done.\n",
      "querying 14001-15000...done.\n",
      "querying 15001-16000...done.\n",
      "querying 16001-17000...done.\n",
      "querying 17001-18000...done.\n",
      "querying 18001-19000...done.\n",
      "querying 19001-20000...done.\n",
      "querying 20001-21000...done.\n",
      "querying 21001-21428...done.\n"
     ]
    }
   ],
   "source": [
    "# Query Mygene.info and make the result a DataFrame\n",
    "mg_result = mg.getgenes(list(genes_entrez), fields='symbol,namel,umls,HGNC', dotfield=True)\n",
    "mg_result = pd.DataFrame(mg_result)\n",
    "mg_result.columns = [c.replace('.', '_') for c in mg_result.columns]"
   ]
  },
  {
   "cell_type": "code",
   "execution_count": 82,
   "metadata": {},
   "outputs": [
    {
     "name": "stdout",
     "output_type": "stream",
     "text": [
      "20495 out of 21428 Entrez IDs can be mapped to CUI via mygene.info\n"
     ]
    }
   ],
   "source": [
    "e_to_cui = mg_result.dropna(subset=['umls_cui']).set_index('query')['umls_cui'].to_dict()\n",
    "print(\"{} out of {} Entrez IDs can be mapped to CUI via mygene.info\".format(len(e_to_cui), len(genes_entrez)))"
   ]
  },
  {
   "cell_type": "code",
   "execution_count": 83,
   "metadata": {},
   "outputs": [],
   "source": [
    "mg = None"
   ]
  },
  {
   "cell_type": "markdown",
   "metadata": {},
   "source": [
    "### Get some more mappings from umls\n",
    "\n",
    "Although UMLS does not have direct Entrez Gene IDs mappings to UMLS CUIs, it does have HGNC IDs.  Some Entrez to HGNC values were picked up from mygene, so they will be used to further increase the maps size."
   ]
  },
  {
   "cell_type": "code",
   "execution_count": 84,
   "metadata": {},
   "outputs": [],
   "source": [
    "# Fix mygene result so it has HGNC: at start of HGNC ids\n",
    "mg_result['HGNC'] = 'HGNC:' + mg_result['HGNC']"
   ]
  },
  {
   "cell_type": "code",
   "execution_count": 85,
   "metadata": {},
   "outputs": [
    {
     "data": {
      "text/plain": [
       "25"
      ]
     },
     "execution_count": 85,
     "metadata": {},
     "output_type": "execute_result"
    }
   ],
   "source": [
    "need_map = genes_entrez - set(e_to_cui.keys())\n",
    "e_to_hgnc = mg_result.query('query in @need_map').dropna(subset=['HGNC']).set_index('query')['HGNC'].to_dict()\n",
    "\n",
    "hgnc_ids = list(e_to_hgnc.values())\n",
    "\n",
    "len(hgnc_ids)"
   ]
  },
  {
   "cell_type": "code",
   "execution_count": 86,
   "metadata": {},
   "outputs": [
    {
     "name": "stderr",
     "output_type": "stream",
     "text": [
      "/home/rogertu/anaconda3/envs/semmed/lib/python3.5/site-packages/IPython/core/interactiveshell.py:2963: DtypeWarning: Columns (9,10) have mixed types. Specify dtype option on import or set low_memory=False.\n",
      "  exec(code_obj, self.user_global_ns, self.user_ns)\n"
     ]
    },
    {
     "data": {
      "text/plain": [
       "14"
      ]
     },
     "execution_count": 86,
     "metadata": {},
     "output_type": "execute_result"
    }
   ],
   "source": [
    "# Get the values from the UMLS metathesaurus\n",
    "conso = load_umls.open_mrconso()\n",
    "q_res = conso.query('SCUI in @hgnc_ids and TTY == \"MTH_ACR\"')\n",
    "len(q_res)"
   ]
  },
  {
   "cell_type": "code",
   "execution_count": 87,
   "metadata": {},
   "outputs": [],
   "source": [
    "hgnc_to_cui = q_res.set_index('SCUI')['CUI'].to_dict()\n",
    "e_to_cui_1 = {k: hgnc_to_cui[v] for k, v in e_to_hgnc.items() if v in hgnc_to_cui.keys()}\n",
    "\n",
    "e_to_cui = {**e_to_cui_1, **e_to_cui}"
   ]
  },
  {
   "cell_type": "code",
   "execution_count": 88,
   "metadata": {},
   "outputs": [
    {
     "name": "stdout",
     "output_type": "stream",
     "text": [
      "20509 out of 21428 Entrez IDs now mapped\n"
     ]
    }
   ],
   "source": [
    "print(\"{} out of {} Entrez IDs now mapped\".format(len(e_to_cui), len(genes_entrez)))"
   ]
  },
  {
   "cell_type": "code",
   "execution_count": 89,
   "metadata": {},
   "outputs": [],
   "source": [
    "# Everytime we map to e_to_cui we get multiple items. Need to explode the df everytime after mapping it.\n",
    "counting_dict = ddict(int)\n",
    "for i in list(e_to_cui.values()):\n",
    "    if type(i)==list:\n",
    "        counting_dict[tuple(i)]+=1"
   ]
  },
  {
   "cell_type": "code",
   "execution_count": 90,
   "metadata": {},
   "outputs": [
    {
     "data": {
      "text/plain": [
       "defaultdict(int,\n",
       "            {('C1416655', 'C0920288'): 1,\n",
       "             ('C1425504', 'C1422570'): 1,\n",
       "             ('C1425505', 'C1422567'): 1,\n",
       "             ('C1537454', 'C4722638'): 3})"
      ]
     },
     "execution_count": 90,
     "metadata": {},
     "output_type": "execute_result"
    }
   ],
   "source": [
    "# lists in e_to_cui and the number of times e's are mapped to the cui\n",
    "counting_dict"
   ]
  },
  {
   "cell_type": "markdown",
   "metadata": {},
   "source": [
    "### Generate a CUI to name map\n",
    "\n",
    "\n",
    "Once the Entrez IDs are changed to CUIs, the names will not be the true name that is associated with that CUI.  We will use the UMLS API to get the correct names. This will ensure the correct UMLS name appears with the CUI.\n"
   ]
  },
  {
   "cell_type": "code",
   "execution_count": 91,
   "metadata": {},
   "outputs": [],
   "source": [
    "# First get the names from semmed for everything that already has a CUI\n",
    "d = sem_df[sem_df['SUBJECT_CUI'].str.startswith('C')].set_index('SUBJECT_CUI')['SUBJECT_NAME'].to_dict()\n",
    "od = sem_df[sem_df['OBJECT_CUI'].str.startswith('C')].set_index('OBJECT_CUI')['OBJECT_NAME'].to_dict()\n",
    "\n",
    "c_to_name_dict = {**d, **od}"
   ]
  },
  {
   "cell_type": "code",
   "execution_count": 92,
   "metadata": {},
   "outputs": [
    {
     "data": {
      "text/plain": [
       "322978"
      ]
     },
     "execution_count": 92,
     "metadata": {},
     "output_type": "execute_result"
    }
   ],
   "source": [
    "len(c_to_name_dict)"
   ]
  },
  {
   "cell_type": "code",
   "execution_count": 93,
   "metadata": {},
   "outputs": [],
   "source": [
    "# generate a list of cui values that isn't a list of list otherwise it cannot be hashed\n",
    "e_to_cui_vals = []\n",
    "for i in (list(e_to_cui.values())):\n",
    "    if type(i) == str: \n",
    "        e_to_cui_vals.append(i)\n",
    "    else:\n",
    "        for j in i:\n",
    "            e_to_cui_vals.append(j)"
   ]
  },
  {
   "cell_type": "code",
   "execution_count": 94,
   "metadata": {
    "scrolled": true
   },
   "outputs": [
    {
     "data": {
      "text/plain": [
       "3895"
      ]
     },
     "execution_count": 94,
     "metadata": {},
     "output_type": "execute_result"
    }
   ],
   "source": [
    "# list comprehension because some values are lists which cannot be hashed\n",
    "need_name = set(e_to_cui_vals) - set(c_to_name_dict.keys())\n",
    "len(need_name)"
   ]
  },
  {
   "cell_type": "code",
   "execution_count": 95,
   "metadata": {},
   "outputs": [
    {
     "data": {
      "text/plain": [
       "3862"
      ]
     },
     "execution_count": 95,
     "metadata": {},
     "output_type": "execute_result"
    }
   ],
   "source": [
    "# Get as many names as possible directly from UMLS\n",
    "# ISPREF == Y gets preferred names for preferred name\n",
    "c_to_name_1 = conso.query('CUI in @need_name and ISPREF == \"Y\"').set_index('CUI')['STR'].to_dict()\n",
    "len(c_to_name_1)"
   ]
  },
  {
   "cell_type": "code",
   "execution_count": 96,
   "metadata": {},
   "outputs": [
    {
     "data": {
      "text/plain": [
       "33"
      ]
     },
     "execution_count": 96,
     "metadata": {},
     "output_type": "execute_result"
    }
   ],
   "source": [
    "# Add the two dictionaries together. The missing values can be used to query\n",
    "c_to_name_dict = {**c_to_name_1, **c_to_name_dict}\n",
    "to_query = set(e_to_cui_vals) - set(c_to_name_dict.keys())\n",
    "len(to_query)"
   ]
  },
  {
   "cell_type": "code",
   "execution_count": 97,
   "metadata": {},
   "outputs": [
    {
     "name": "stdout",
     "output_type": "stream",
     "text": [
      "['C1425504', 'C1422570']\n",
      "['C1416655', 'C0920288']\n",
      "['C1537454', 'C4722638']\n",
      "['C1537454', 'C4722638']\n",
      "['C1537454', 'C4722638']\n",
      "['C1425505', 'C1422567']\n"
     ]
    }
   ],
   "source": [
    "# Check to see if there is a list in the data\n",
    "mg_umls_cui=[]\n",
    "\n",
    "for i in mg_result.umls_cui:\n",
    "    if type(i)==list:\n",
    "        print(i)"
   ]
  },
  {
   "cell_type": "code",
   "execution_count": 98,
   "metadata": {},
   "outputs": [],
   "source": [
    "#from mg_results, query for rows that are lists. Split the dataframe by those rows and add them back\n",
    "# get a column of the types. We want to expand the type of 'lists'\n",
    "mg_result['umls_cui_len'] = mg_result.umls_cui.apply(lambda x: type(x))"
   ]
  },
  {
   "cell_type": "code",
   "execution_count": 99,
   "metadata": {},
   "outputs": [
    {
     "data": {
      "text/html": [
       "<div>\n",
       "<style scoped>\n",
       "    .dataframe tbody tr th:only-of-type {\n",
       "        vertical-align: middle;\n",
       "    }\n",
       "\n",
       "    .dataframe tbody tr th {\n",
       "        vertical-align: top;\n",
       "    }\n",
       "\n",
       "    .dataframe thead th {\n",
       "        text-align: right;\n",
       "    }\n",
       "</style>\n",
       "<table border=\"1\" class=\"dataframe\">\n",
       "  <thead>\n",
       "    <tr style=\"text-align: right;\">\n",
       "      <th></th>\n",
       "      <th>HGNC</th>\n",
       "      <th>_id</th>\n",
       "      <th>_version</th>\n",
       "      <th>notfound</th>\n",
       "      <th>query</th>\n",
       "      <th>symbol</th>\n",
       "      <th>umls_cui</th>\n",
       "      <th>umls_protein_cui</th>\n",
       "      <th>umls_cui_len</th>\n",
       "    </tr>\n",
       "  </thead>\n",
       "  <tbody>\n",
       "    <tr>\n",
       "      <th>0</th>\n",
       "      <td>HGNC:2518</td>\n",
       "      <td>1497</td>\n",
       "      <td>2.0</td>\n",
       "      <td>NaN</td>\n",
       "      <td>1497</td>\n",
       "      <td>CTNS</td>\n",
       "      <td>C1413803</td>\n",
       "      <td>NaN</td>\n",
       "      <td>&lt;class 'str'&gt;</td>\n",
       "    </tr>\n",
       "    <tr>\n",
       "      <th>1</th>\n",
       "      <td>HGNC:15595</td>\n",
       "      <td>84561</td>\n",
       "      <td>2.0</td>\n",
       "      <td>NaN</td>\n",
       "      <td>84561</td>\n",
       "      <td>SLC12A8</td>\n",
       "      <td>C1423604</td>\n",
       "      <td>NaN</td>\n",
       "      <td>&lt;class 'str'&gt;</td>\n",
       "    </tr>\n",
       "    <tr>\n",
       "      <th>2</th>\n",
       "      <td>HGNC:53531</td>\n",
       "      <td>100008588</td>\n",
       "      <td>2.0</td>\n",
       "      <td>NaN</td>\n",
       "      <td>100008588</td>\n",
       "      <td>RNA18SN5</td>\n",
       "      <td>C4555093</td>\n",
       "      <td>NaN</td>\n",
       "      <td>&lt;class 'str'&gt;</td>\n",
       "    </tr>\n",
       "    <tr>\n",
       "      <th>3</th>\n",
       "      <td>HGNC:674</td>\n",
       "      <td>393</td>\n",
       "      <td>2.0</td>\n",
       "      <td>NaN</td>\n",
       "      <td>393</td>\n",
       "      <td>ARHGAP4</td>\n",
       "      <td>C1412521</td>\n",
       "      <td>NaN</td>\n",
       "      <td>&lt;class 'str'&gt;</td>\n",
       "    </tr>\n",
       "    <tr>\n",
       "      <th>4</th>\n",
       "      <td>HGNC:43874</td>\n",
       "      <td>100507257</td>\n",
       "      <td>1.0</td>\n",
       "      <td>NaN</td>\n",
       "      <td>100507257</td>\n",
       "      <td>MEG9</td>\n",
       "      <td>C3470947</td>\n",
       "      <td>NaN</td>\n",
       "      <td>&lt;class 'str'&gt;</td>\n",
       "    </tr>\n",
       "  </tbody>\n",
       "</table>\n",
       "</div>"
      ],
      "text/plain": [
       "         HGNC        _id  _version notfound      query    symbol  umls_cui  \\\n",
       "0   HGNC:2518       1497       2.0      NaN       1497      CTNS  C1413803   \n",
       "1  HGNC:15595      84561       2.0      NaN      84561   SLC12A8  C1423604   \n",
       "2  HGNC:53531  100008588       2.0      NaN  100008588  RNA18SN5  C4555093   \n",
       "3    HGNC:674        393       2.0      NaN        393   ARHGAP4  C1412521   \n",
       "4  HGNC:43874  100507257       1.0      NaN  100507257      MEG9  C3470947   \n",
       "\n",
       "  umls_protein_cui   umls_cui_len  \n",
       "0              NaN  <class 'str'>  \n",
       "1              NaN  <class 'str'>  \n",
       "2              NaN  <class 'str'>  \n",
       "3              NaN  <class 'str'>  \n",
       "4              NaN  <class 'str'>  "
      ]
     },
     "execution_count": 99,
     "metadata": {},
     "output_type": "execute_result"
    }
   ],
   "source": [
    "mg_result.head()"
   ]
  },
  {
   "cell_type": "code",
   "execution_count": 100,
   "metadata": {
    "scrolled": true
   },
   "outputs": [],
   "source": [
    "# Most names are the Gene symbol + 'gene' so we'll use that for the remainder\n",
    "name_from_mygene = (\n",
    "    pd\n",
    "    .concat( # concatenates types of lists and not_lists\n",
    "        [mg_result[mg_result['umls_cui_len']!=list],\n",
    "         mg_result[mg_result['umls_cui_len']==list].explode('umls_cui')] # expanded mg_results\n",
    "    )\n",
    "    .query('umls_cui in @to_query')\n",
    "    .set_index('umls_cui')['symbol']\n",
    "    .to_dict()\n",
    ")\n",
    "# returns a dict{umls_cui:symbol}"
   ]
  },
  {
   "cell_type": "code",
   "execution_count": 101,
   "metadata": {},
   "outputs": [],
   "source": [
    "# Make sure those mapped from mygene via HGNC have names\n",
    "to_query_1 = [k for k, v in hgnc_to_cui.items() if v in to_query]"
   ]
  },
  {
   "cell_type": "code",
   "execution_count": 102,
   "metadata": {},
   "outputs": [],
   "source": [
    "\n",
    "hgnc_to_name = (\n",
    "    pd\n",
    "    .concat( # concatenates types of lists and not_lists\n",
    "        [mg_result[mg_result['umls_cui_len']!=list],\n",
    "         mg_result[mg_result['umls_cui_len']==list].explode('umls_cui')] # expanded mg_results\n",
    "    )\n",
    "    .query('HGNC in @to_query_1').set_index('HGNC')['symbol'].to_dict()\n",
    ")"
   ]
  },
  {
   "cell_type": "code",
   "execution_count": 103,
   "metadata": {},
   "outputs": [
    {
     "data": {
      "text/plain": [
       "{}"
      ]
     },
     "execution_count": 103,
     "metadata": {},
     "output_type": "execute_result"
    }
   ],
   "source": [
    "# nothing is matched\n",
    "hgnc_to_name"
   ]
  },
  {
   "cell_type": "code",
   "execution_count": 104,
   "metadata": {},
   "outputs": [],
   "source": [
    "name_from_mygene.update({hgnc_to_cui[k]: v for k, v in hgnc_to_name.items()})\n",
    "\n",
    "name_from_mygene = {k: v+' gene' for k, v in name_from_mygene.items()}"
   ]
  },
  {
   "cell_type": "code",
   "execution_count": 105,
   "metadata": {
    "scrolled": true
   },
   "outputs": [
    {
     "data": {
      "text/plain": [
       "{'C1415391': 'H1-10 gene',\n",
       " 'C1415392': 'H2AC8 gene',\n",
       " 'C1415393': 'H2AC13 gene',\n",
       " 'C1415395': 'H2AC14 gene',\n",
       " 'C1415400': 'H2AC6 gene',\n",
       " 'C1415402': 'H2AC17 gene',\n",
       " 'C1415404': 'H2AC11 gene',\n",
       " 'C1415405': 'H2AC20 gene',\n",
       " 'C1415410': 'H2BC8 gene',\n",
       " 'C1415412': 'H2BC13 gene',\n",
       " 'C1415413': 'H2BC15 gene',\n",
       " 'C1415414': 'H2BC14 gene',\n",
       " 'C1415416': 'H2BC7 gene',\n",
       " 'C1415417': 'H2BC6 gene',\n",
       " 'C1415419': 'H2BC9 gene',\n",
       " 'C1415420': 'H2BC10 gene',\n",
       " 'C1415422': 'H2BC17 gene',\n",
       " 'C1415425': 'H2BC11 gene',\n",
       " 'C1415426': 'H2BS1 gene',\n",
       " 'C1422138': 'H2AC12 gene',\n",
       " 'C1422664': 'H2AJ gene',\n",
       " 'C1425743': 'H2AC1 gene',\n",
       " 'C1425744': 'H2BC1 gene',\n",
       " 'C1426978': 'H2AW gene',\n",
       " 'C1426979': 'H2AC21 gene',\n",
       " 'C1426986': 'H2BC19P gene',\n",
       " 'C1539441': 'DENND10 gene',\n",
       " 'C1824474': 'LINC02875 gene',\n",
       " 'C1825439': 'H1-7 gene',\n",
       " 'C1825474': 'H1-9P gene',\n",
       " 'C2829551': 'H2AZP1 gene',\n",
       " 'C3815640': 'LDC1P gene',\n",
       " 'C3891383': 'COMETT gene'}"
      ]
     },
     "execution_count": 105,
     "metadata": {},
     "output_type": "execute_result"
    }
   ],
   "source": [
    "name_from_mygene"
   ]
  },
  {
   "cell_type": "code",
   "execution_count": 106,
   "metadata": {},
   "outputs": [
    {
     "data": {
      "text/plain": [
       "0"
      ]
     },
     "execution_count": 106,
     "metadata": {},
     "output_type": "execute_result"
    }
   ],
   "source": [
    "# Ensure that all mappable genes now have a mappable name\n",
    "c_to_name_dict = {**name_from_mygene, **c_to_name_dict}\n",
    "to_query = set(e_to_cui_vals) - set(c_to_name_dict.keys())\n",
    "len(to_query)"
   ]
  },
  {
   "cell_type": "code",
   "execution_count": 107,
   "metadata": {},
   "outputs": [
    {
     "data": {
      "text/plain": [
       "326873"
      ]
     },
     "execution_count": 107,
     "metadata": {},
     "output_type": "execute_result"
    }
   ],
   "source": [
    "len(c_to_name_dict)"
   ]
  },
  {
   "cell_type": "code",
   "execution_count": 108,
   "metadata": {},
   "outputs": [],
   "source": [
    "pickle.dump(c_to_name_dict, open( \"../data/cui_to_name.pkl\", \"wb\" ) )\n",
    "pickle.dump(e_to_cui, open( \"../data/entrez_to_cui.pkl\", \"wb\" ) )"
   ]
  },
  {
   "cell_type": "code",
   "execution_count": 109,
   "metadata": {},
   "outputs": [
    {
     "data": {
      "text/plain": [
       "'POMC gene'"
      ]
     },
     "execution_count": 109,
     "metadata": {},
     "output_type": "execute_result"
    }
   ],
   "source": [
    "# Check that the mapper produces the correct name when given the CUI for POMC gene\n",
    "c_to_name_dict[e_to_cui['5443']]"
   ]
  },
  {
   "cell_type": "code",
   "execution_count": 110,
   "metadata": {},
   "outputs": [],
   "source": [
    "# clear variables to make space in memory\n",
    "mg_result = None\n",
    "to_query_1 = None\n",
    "name_from_mygene = None\n",
    "hgnc_to_cui = None"
   ]
  },
  {
   "cell_type": "markdown",
   "metadata": {},
   "source": [
    "### Apply the Changes"
   ]
  },
  {
   "cell_type": "code",
   "execution_count": 111,
   "metadata": {},
   "outputs": [
    {
     "data": {
      "text/html": [
       "<div>\n",
       "<style scoped>\n",
       "    .dataframe tbody tr th:only-of-type {\n",
       "        vertical-align: middle;\n",
       "    }\n",
       "\n",
       "    .dataframe tbody tr th {\n",
       "        vertical-align: top;\n",
       "    }\n",
       "\n",
       "    .dataframe thead th {\n",
       "        text-align: right;\n",
       "    }\n",
       "</style>\n",
       "<table border=\"1\" class=\"dataframe\">\n",
       "  <thead>\n",
       "    <tr style=\"text-align: right;\">\n",
       "      <th></th>\n",
       "      <th>PREDICATION_ID</th>\n",
       "      <th>SENTENCE_ID</th>\n",
       "      <th>PMID</th>\n",
       "      <th>PREDICATE</th>\n",
       "      <th>SUBJECT_CUI</th>\n",
       "      <th>SUBJECT_NAME</th>\n",
       "      <th>SUBJECT_SEMTYPE</th>\n",
       "      <th>SUBJECT_NOVELTY</th>\n",
       "      <th>OBJECT_CUI</th>\n",
       "      <th>OBJECT_NAME</th>\n",
       "      <th>OBJECT_SEMTYPE</th>\n",
       "      <th>OBJECT_NOVELTY</th>\n",
       "    </tr>\n",
       "  </thead>\n",
       "  <tbody>\n",
       "    <tr>\n",
       "      <th>7</th>\n",
       "      <td>10593208</td>\n",
       "      <td>26</td>\n",
       "      <td>16530476</td>\n",
       "      <td>PART_OF</td>\n",
       "      <td>C0242210</td>\n",
       "      <td>Binding Protein</td>\n",
       "      <td>bacs</td>\n",
       "      <td>1</td>\n",
       "      <td>2273</td>\n",
       "      <td>FHL1</td>\n",
       "      <td>aapp</td>\n",
       "      <td>1</td>\n",
       "    </tr>\n",
       "    <tr>\n",
       "      <th>9</th>\n",
       "      <td>10593621</td>\n",
       "      <td>34</td>\n",
       "      <td>16530477</td>\n",
       "      <td>PART_OF</td>\n",
       "      <td>7523</td>\n",
       "      <td>XS</td>\n",
       "      <td>gngm</td>\n",
       "      <td>1</td>\n",
       "      <td>C0006034</td>\n",
       "      <td>Borrelia burgdorferi</td>\n",
       "      <td>bact</td>\n",
       "      <td>1</td>\n",
       "    </tr>\n",
       "    <tr>\n",
       "      <th>10</th>\n",
       "      <td>10593815</td>\n",
       "      <td>39</td>\n",
       "      <td>16530477</td>\n",
       "      <td>PRODUCES</td>\n",
       "      <td>7523</td>\n",
       "      <td>XS</td>\n",
       "      <td>gngm</td>\n",
       "      <td>1</td>\n",
       "      <td>C0019878</td>\n",
       "      <td>homocysteine</td>\n",
       "      <td>aapp</td>\n",
       "      <td>1</td>\n",
       "    </tr>\n",
       "    <tr>\n",
       "      <th>66</th>\n",
       "      <td>10600813</td>\n",
       "      <td>151</td>\n",
       "      <td>16530491</td>\n",
       "      <td>LOCATION_OF</td>\n",
       "      <td>C0013935</td>\n",
       "      <td>Embryo</td>\n",
       "      <td>emst</td>\n",
       "      <td>1</td>\n",
       "      <td>5539</td>\n",
       "      <td>PPY</td>\n",
       "      <td>aapp</td>\n",
       "      <td>1</td>\n",
       "    </tr>\n",
       "    <tr>\n",
       "      <th>68</th>\n",
       "      <td>10600962</td>\n",
       "      <td>153</td>\n",
       "      <td>16530491</td>\n",
       "      <td>PART_OF</td>\n",
       "      <td>5539</td>\n",
       "      <td>PPY</td>\n",
       "      <td>gngm</td>\n",
       "      <td>1</td>\n",
       "      <td>C0026591</td>\n",
       "      <td>Mothers</td>\n",
       "      <td>humn</td>\n",
       "      <td>1</td>\n",
       "    </tr>\n",
       "    <tr>\n",
       "      <th>70</th>\n",
       "      <td>10601037</td>\n",
       "      <td>153</td>\n",
       "      <td>16530491</td>\n",
       "      <td>LOCATION_OF</td>\n",
       "      <td>C0010834</td>\n",
       "      <td>Cytoplasm</td>\n",
       "      <td>celc</td>\n",
       "      <td>1</td>\n",
       "      <td>5539</td>\n",
       "      <td>PPY</td>\n",
       "      <td>aapp</td>\n",
       "      <td>1</td>\n",
       "    </tr>\n",
       "    <tr>\n",
       "      <th>72</th>\n",
       "      <td>10601184</td>\n",
       "      <td>155</td>\n",
       "      <td>16530491</td>\n",
       "      <td>LOCATION_OF</td>\n",
       "      <td>C0021358</td>\n",
       "      <td>Inferior Colliculus</td>\n",
       "      <td>bpoc</td>\n",
       "      <td>1</td>\n",
       "      <td>5539</td>\n",
       "      <td>PPY</td>\n",
       "      <td>aapp</td>\n",
       "      <td>1</td>\n",
       "    </tr>\n",
       "    <tr>\n",
       "      <th>300</th>\n",
       "      <td>10634790</td>\n",
       "      <td>767</td>\n",
       "      <td>16530706</td>\n",
       "      <td>PREDISPOSES</td>\n",
       "      <td>8720</td>\n",
       "      <td>MBTPS1</td>\n",
       "      <td>gngm</td>\n",
       "      <td>1</td>\n",
       "      <td>C0178874</td>\n",
       "      <td>Neoplasm progression</td>\n",
       "      <td>neop</td>\n",
       "      <td>1</td>\n",
       "    </tr>\n",
       "    <tr>\n",
       "      <th>301</th>\n",
       "      <td>10634871</td>\n",
       "      <td>768</td>\n",
       "      <td>16530706</td>\n",
       "      <td>ASSOCIATED_WITH</td>\n",
       "      <td>8720</td>\n",
       "      <td>MBTPS1</td>\n",
       "      <td>gngm</td>\n",
       "      <td>1</td>\n",
       "      <td>C1326912</td>\n",
       "      <td>Tumorigenesis</td>\n",
       "      <td>neop</td>\n",
       "      <td>1</td>\n",
       "    </tr>\n",
       "    <tr>\n",
       "      <th>303</th>\n",
       "      <td>10635049</td>\n",
       "      <td>771</td>\n",
       "      <td>16530706</td>\n",
       "      <td>AUGMENTS</td>\n",
       "      <td>7422</td>\n",
       "      <td>VEGFA</td>\n",
       "      <td>gngm</td>\n",
       "      <td>1</td>\n",
       "      <td>C0005847</td>\n",
       "      <td>Blood Vessels</td>\n",
       "      <td>bpoc</td>\n",
       "      <td>1</td>\n",
       "    </tr>\n",
       "  </tbody>\n",
       "</table>\n",
       "</div>"
      ],
      "text/plain": [
       "     PREDICATION_ID  SENTENCE_ID      PMID        PREDICATE SUBJECT_CUI  \\\n",
       "7          10593208           26  16530476          PART_OF    C0242210   \n",
       "9          10593621           34  16530477          PART_OF        7523   \n",
       "10         10593815           39  16530477         PRODUCES        7523   \n",
       "66         10600813          151  16530491      LOCATION_OF    C0013935   \n",
       "68         10600962          153  16530491          PART_OF        5539   \n",
       "70         10601037          153  16530491      LOCATION_OF    C0010834   \n",
       "72         10601184          155  16530491      LOCATION_OF    C0021358   \n",
       "300        10634790          767  16530706      PREDISPOSES        8720   \n",
       "301        10634871          768  16530706  ASSOCIATED_WITH        8720   \n",
       "303        10635049          771  16530706         AUGMENTS        7422   \n",
       "\n",
       "            SUBJECT_NAME SUBJECT_SEMTYPE  SUBJECT_NOVELTY OBJECT_CUI  \\\n",
       "7        Binding Protein            bacs                1       2273   \n",
       "9                     XS            gngm                1   C0006034   \n",
       "10                    XS            gngm                1   C0019878   \n",
       "66                Embryo            emst                1       5539   \n",
       "68                   PPY            gngm                1   C0026591   \n",
       "70             Cytoplasm            celc                1       5539   \n",
       "72   Inferior Colliculus            bpoc                1       5539   \n",
       "300               MBTPS1            gngm                1   C0178874   \n",
       "301               MBTPS1            gngm                1   C1326912   \n",
       "303                VEGFA            gngm                1   C0005847   \n",
       "\n",
       "              OBJECT_NAME OBJECT_SEMTYPE OBJECT_NOVELTY  \n",
       "7                    FHL1           aapp              1  \n",
       "9    Borrelia burgdorferi           bact              1  \n",
       "10           homocysteine           aapp              1  \n",
       "66                    PPY           aapp              1  \n",
       "68                Mothers           humn              1  \n",
       "70                    PPY           aapp              1  \n",
       "72                    PPY           aapp              1  \n",
       "300  Neoplasm progression           neop              1  \n",
       "301         Tumorigenesis           neop              1  \n",
       "303         Blood Vessels           bpoc              1  "
      ]
     },
     "execution_count": 111,
     "metadata": {},
     "output_type": "execute_result"
    }
   ],
   "source": [
    "genes_need_fixing = gene_lines | gene_lines1\n",
    "\n",
    "sem_df[genes_need_fixing].head(10)"
   ]
  },
  {
   "cell_type": "code",
   "execution_count": 112,
   "metadata": {},
   "outputs": [
    {
     "name": "stdout",
     "output_type": "stream",
     "text": [
      "The history saving thread hit an unexpected error (OperationalError('database is locked',)).History will not be written to the database.\n"
     ]
    },
    {
     "data": {
      "text/plain": [
       "defaultdict(int, {})"
      ]
     },
     "execution_count": 112,
     "metadata": {},
     "output_type": "execute_result"
    }
   ],
   "source": [
    "# check for lists in sem_df. Here are the counts in Subjects\n",
    "type_in_sub = ddict(int)\n",
    "for i in list(sem_df[genes_need_fixing]['SUBJECT_CUI']):\n",
    "    if type(i)==list:\n",
    "        i=tuple(i)\n",
    "        type_in_sub[i]+=1\n",
    "        \n",
    "type_in_sub"
   ]
  },
  {
   "cell_type": "code",
   "execution_count": 113,
   "metadata": {},
   "outputs": [
    {
     "data": {
      "text/plain": [
       "defaultdict(int, {})"
      ]
     },
     "execution_count": 113,
     "metadata": {},
     "output_type": "execute_result"
    }
   ],
   "source": [
    "# check for lists in sem_df. Here are the counts in Objects\n",
    "type_in_obj = ddict(int)\n",
    "for i in list(sem_df[genes_need_fixing]['OBJECT_CUI']):\n",
    "    if type(i)==list:\n",
    "        i=tuple(i)\n",
    "        type_in_obj[i]+=1\n",
    "\n",
    "type_in_obj "
   ]
  },
  {
   "cell_type": "code",
   "execution_count": 114,
   "metadata": {},
   "outputs": [
    {
     "data": {
      "text/plain": [
       "(122935992, 12)"
      ]
     },
     "execution_count": 114,
     "metadata": {},
     "output_type": "execute_result"
    }
   ],
   "source": [
    "sem_df.shape"
   ]
  },
  {
   "cell_type": "code",
   "execution_count": 115,
   "metadata": {},
   "outputs": [
    {
     "data": {
      "text/plain": [
       "(122935992, 12)"
      ]
     },
     "execution_count": 115,
     "metadata": {},
     "output_type": "execute_result"
    }
   ],
   "source": [
    "sem_df.explode('SUBJECT_CUI').shape"
   ]
  },
  {
   "cell_type": "code",
   "execution_count": 116,
   "metadata": {},
   "outputs": [
    {
     "data": {
      "text/plain": [
       "(122935992, 12)"
      ]
     },
     "execution_count": 116,
     "metadata": {},
     "output_type": "execute_result"
    }
   ],
   "source": [
    "sem_df.explode('SUBJECT_CUI').explode('OBJECT_CUI').shape"
   ]
  },
  {
   "cell_type": "code",
   "execution_count": 117,
   "metadata": {},
   "outputs": [],
   "source": [
    "sem_df=sem_df.explode('SUBJECT_CUI').explode('OBJECT_CUI')"
   ]
  },
  {
   "cell_type": "code",
   "execution_count": null,
   "metadata": {},
   "outputs": [],
   "source": [
    "gene_lines = ~sem_df['SUBJECT_CUI'].str.startswith('C')\n",
    "genes_entrez = set(sem_df.loc[gene_lines, 'SUBJECT_CUI'])\n",
    "\n",
    "gene_lines1 = ~sem_df['OBJECT_CUI'].str.startswith('C')\n",
    "genes_entrez.update(set(sem_df.loc[gene_lines1, 'OBJECT_CUI']))\n",
    "\n",
    "genes_need_fixing = gene_lines | gene_lines1"
   ]
  },
  {
   "cell_type": "code",
   "execution_count": null,
   "metadata": {},
   "outputs": [],
   "source": [
    "genes_need_fixing"
   ]
  },
  {
   "cell_type": "code",
   "execution_count": null,
   "metadata": {},
   "outputs": [],
   "source": [
    "# converts subjects/object from e_to_cui to cui_ids.\n",
    "# added explode to remove lists\n",
    "sem_df.loc[genes_need_fixing, 'SUBJECT_CUI'] = sem_df.loc[genes_need_fixing, 'SUBJECT_CUI'].apply(lambda e: e_to_cui.get(e,e))\n",
    "sem_df.loc[genes_need_fixing, 'OBJECT_CUI'] = sem_df.loc[genes_need_fixing, 'OBJECT_CUI'].apply(lambda e: e_to_cui.get(e,e))"
   ]
  },
  {
   "cell_type": "code",
   "execution_count": null,
   "metadata": {},
   "outputs": [],
   "source": [
    "sem_df.shape"
   ]
  },
  {
   "cell_type": "code",
   "execution_count": 122,
   "metadata": {},
   "outputs": [],
   "source": [
    "sem_df = sem_df.explode('SUBJECT_CUI')"
   ]
  },
  {
   "cell_type": "code",
   "execution_count": 123,
   "metadata": {},
   "outputs": [
    {
     "data": {
      "text/plain": [
       "(122942852, 12)"
      ]
     },
     "execution_count": 123,
     "metadata": {},
     "output_type": "execute_result"
    }
   ],
   "source": [
    "# after explosion\n",
    "sem_df.shape"
   ]
  },
  {
   "cell_type": "code",
   "execution_count": 124,
   "metadata": {},
   "outputs": [],
   "source": [
    "# after second explosion\n",
    "sem_df = sem_df.explode('OBJECT_CUI')"
   ]
  },
  {
   "cell_type": "code",
   "execution_count": 125,
   "metadata": {},
   "outputs": [
    {
     "data": {
      "text/plain": [
       "(122964075, 12)"
      ]
     },
     "execution_count": 125,
     "metadata": {},
     "output_type": "execute_result"
    }
   ],
   "source": [
    "sem_df.shape"
   ]
  },
  {
   "cell_type": "code",
   "execution_count": 126,
   "metadata": {},
   "outputs": [],
   "source": [
    "gene_lines = ~sem_df['SUBJECT_CUI'].str.startswith('C')\n",
    "genes_entrez = set(sem_df.loc[gene_lines, 'SUBJECT_CUI'])\n",
    "\n",
    "gene_lines1 = ~sem_df['OBJECT_CUI'].str.startswith('C')\n",
    "genes_entrez.update(set(sem_df.loc[gene_lines1, 'OBJECT_CUI']))\n",
    "\n",
    "genes_need_fixing = gene_lines | gene_lines1"
   ]
  },
  {
   "cell_type": "code",
   "execution_count": 127,
   "metadata": {},
   "outputs": [],
   "source": [
    "# converts subject/object from cui to names\n",
    "sem_df.loc[genes_need_fixing, 'SUBJECT_NAME'] = sem_df.loc[genes_need_fixing, 'SUBJECT_CUI'].apply(lambda e: c_to_name_dict.get(e,e))\n",
    "sem_df.loc[genes_need_fixing, 'OBJECT_NAME'] = sem_df.loc[genes_need_fixing, 'OBJECT_CUI'].apply(lambda e: c_to_name_dict.get(e,e))"
   ]
  },
  {
   "cell_type": "code",
   "execution_count": 128,
   "metadata": {},
   "outputs": [
    {
     "data": {
      "text/html": [
       "<div>\n",
       "<style scoped>\n",
       "    .dataframe tbody tr th:only-of-type {\n",
       "        vertical-align: middle;\n",
       "    }\n",
       "\n",
       "    .dataframe tbody tr th {\n",
       "        vertical-align: top;\n",
       "    }\n",
       "\n",
       "    .dataframe thead th {\n",
       "        text-align: right;\n",
       "    }\n",
       "</style>\n",
       "<table border=\"1\" class=\"dataframe\">\n",
       "  <thead>\n",
       "    <tr style=\"text-align: right;\">\n",
       "      <th></th>\n",
       "      <th>PREDICATION_ID</th>\n",
       "      <th>SENTENCE_ID</th>\n",
       "      <th>PMID</th>\n",
       "      <th>PREDICATE</th>\n",
       "      <th>SUBJECT_CUI</th>\n",
       "      <th>SUBJECT_NAME</th>\n",
       "      <th>SUBJECT_SEMTYPE</th>\n",
       "      <th>SUBJECT_NOVELTY</th>\n",
       "      <th>OBJECT_CUI</th>\n",
       "      <th>OBJECT_NAME</th>\n",
       "      <th>OBJECT_SEMTYPE</th>\n",
       "      <th>OBJECT_NOVELTY</th>\n",
       "    </tr>\n",
       "  </thead>\n",
       "  <tbody>\n",
       "    <tr>\n",
       "      <th>9</th>\n",
       "      <td>10593621</td>\n",
       "      <td>34</td>\n",
       "      <td>16530477</td>\n",
       "      <td>PART_OF</td>\n",
       "      <td>7523</td>\n",
       "      <td>7523</td>\n",
       "      <td>gngm</td>\n",
       "      <td>1</td>\n",
       "      <td>C0006034</td>\n",
       "      <td>Borrelia burgdorferi</td>\n",
       "      <td>bact</td>\n",
       "      <td>1</td>\n",
       "    </tr>\n",
       "    <tr>\n",
       "      <th>10</th>\n",
       "      <td>10593815</td>\n",
       "      <td>39</td>\n",
       "      <td>16530477</td>\n",
       "      <td>PRODUCES</td>\n",
       "      <td>7523</td>\n",
       "      <td>7523</td>\n",
       "      <td>gngm</td>\n",
       "      <td>1</td>\n",
       "      <td>C0019878</td>\n",
       "      <td>homocysteine</td>\n",
       "      <td>aapp</td>\n",
       "      <td>1</td>\n",
       "    </tr>\n",
       "    <tr>\n",
       "      <th>8615</th>\n",
       "      <td>11811555</td>\n",
       "      <td>21179</td>\n",
       "      <td>16534425</td>\n",
       "      <td>ASSOCIATED_WITH</td>\n",
       "      <td>50941</td>\n",
       "      <td>50941</td>\n",
       "      <td>gngm</td>\n",
       "      <td>1</td>\n",
       "      <td>C0021390</td>\n",
       "      <td>Inflammatory Bowel Diseases</td>\n",
       "      <td>dsyn</td>\n",
       "      <td>1</td>\n",
       "    </tr>\n",
       "    <tr>\n",
       "      <th>10932</th>\n",
       "      <td>12165524</td>\n",
       "      <td>27984</td>\n",
       "      <td>16535373</td>\n",
       "      <td>PART_OF</td>\n",
       "      <td>6268</td>\n",
       "      <td>6268</td>\n",
       "      <td>gngm</td>\n",
       "      <td>1</td>\n",
       "      <td>C0085470</td>\n",
       "      <td>Pseudomonas putida</td>\n",
       "      <td>bact</td>\n",
       "      <td>1</td>\n",
       "    </tr>\n",
       "    <tr>\n",
       "      <th>10933</th>\n",
       "      <td>12165566</td>\n",
       "      <td>27984</td>\n",
       "      <td>16535373</td>\n",
       "      <td>INTERACTS_WITH</td>\n",
       "      <td>C0015690</td>\n",
       "      <td>Fatty Acids, Unsaturated</td>\n",
       "      <td>lipd</td>\n",
       "      <td>1</td>\n",
       "      <td>6268</td>\n",
       "      <td>6268</td>\n",
       "      <td>gngm</td>\n",
       "      <td>1</td>\n",
       "    </tr>\n",
       "    <tr>\n",
       "      <th>10934</th>\n",
       "      <td>12165655</td>\n",
       "      <td>27985</td>\n",
       "      <td>16535373</td>\n",
       "      <td>PART_OF</td>\n",
       "      <td>6268</td>\n",
       "      <td>6268</td>\n",
       "      <td>gngm</td>\n",
       "      <td>1</td>\n",
       "      <td>C0085470</td>\n",
       "      <td>Pseudomonas putida</td>\n",
       "      <td>bact</td>\n",
       "      <td>1</td>\n",
       "    </tr>\n",
       "    <tr>\n",
       "      <th>11149</th>\n",
       "      <td>12197584</td>\n",
       "      <td>28648</td>\n",
       "      <td>16535458</td>\n",
       "      <td>USES</td>\n",
       "      <td>C0042196</td>\n",
       "      <td>Vaccination</td>\n",
       "      <td>topp</td>\n",
       "      <td>1</td>\n",
       "      <td>474222</td>\n",
       "      <td>474222</td>\n",
       "      <td>aapp</td>\n",
       "      <td>1</td>\n",
       "    </tr>\n",
       "    <tr>\n",
       "      <th>16638</th>\n",
       "      <td>13017663</td>\n",
       "      <td>43841</td>\n",
       "      <td>16538004</td>\n",
       "      <td>LOCATION_OF</td>\n",
       "      <td>C0043381</td>\n",
       "      <td>Y Chromosome</td>\n",
       "      <td>celc</td>\n",
       "      <td>1</td>\n",
       "      <td>560</td>\n",
       "      <td>560</td>\n",
       "      <td>aapp</td>\n",
       "      <td>1</td>\n",
       "    </tr>\n",
       "    <tr>\n",
       "      <th>16666</th>\n",
       "      <td>13020696</td>\n",
       "      <td>43873</td>\n",
       "      <td>16538008</td>\n",
       "      <td>LOCATION_OF</td>\n",
       "      <td>C0043381</td>\n",
       "      <td>Y Chromosome</td>\n",
       "      <td>celc</td>\n",
       "      <td>1</td>\n",
       "      <td>560</td>\n",
       "      <td>560</td>\n",
       "      <td>aapp</td>\n",
       "      <td>1</td>\n",
       "    </tr>\n",
       "    <tr>\n",
       "      <th>17533</th>\n",
       "      <td>13135322</td>\n",
       "      <td>45778</td>\n",
       "      <td>16538385</td>\n",
       "      <td>CAUSES</td>\n",
       "      <td>780896</td>\n",
       "      <td>780896</td>\n",
       "      <td>gngm</td>\n",
       "      <td>1</td>\n",
       "      <td>C0162638</td>\n",
       "      <td>Apoptosis</td>\n",
       "      <td>celf</td>\n",
       "      <td>1</td>\n",
       "    </tr>\n",
       "  </tbody>\n",
       "</table>\n",
       "</div>"
      ],
      "text/plain": [
       "       PREDICATION_ID  SENTENCE_ID      PMID        PREDICATE SUBJECT_CUI  \\\n",
       "9            10593621           34  16530477          PART_OF        7523   \n",
       "10           10593815           39  16530477         PRODUCES        7523   \n",
       "8615         11811555        21179  16534425  ASSOCIATED_WITH       50941   \n",
       "10932        12165524        27984  16535373          PART_OF        6268   \n",
       "10933        12165566        27984  16535373   INTERACTS_WITH    C0015690   \n",
       "10934        12165655        27985  16535373          PART_OF        6268   \n",
       "11149        12197584        28648  16535458             USES    C0042196   \n",
       "16638        13017663        43841  16538004      LOCATION_OF    C0043381   \n",
       "16666        13020696        43873  16538008      LOCATION_OF    C0043381   \n",
       "17533        13135322        45778  16538385           CAUSES      780896   \n",
       "\n",
       "                   SUBJECT_NAME SUBJECT_SEMTYPE  SUBJECT_NOVELTY OBJECT_CUI  \\\n",
       "9                          7523            gngm                1   C0006034   \n",
       "10                         7523            gngm                1   C0019878   \n",
       "8615                      50941            gngm                1   C0021390   \n",
       "10932                      6268            gngm                1   C0085470   \n",
       "10933  Fatty Acids, Unsaturated            lipd                1       6268   \n",
       "10934                      6268            gngm                1   C0085470   \n",
       "11149               Vaccination            topp                1     474222   \n",
       "16638              Y Chromosome            celc                1        560   \n",
       "16666              Y Chromosome            celc                1        560   \n",
       "17533                    780896            gngm                1   C0162638   \n",
       "\n",
       "                       OBJECT_NAME OBJECT_SEMTYPE OBJECT_NOVELTY  \n",
       "9             Borrelia burgdorferi           bact              1  \n",
       "10                    homocysteine           aapp              1  \n",
       "8615   Inflammatory Bowel Diseases           dsyn              1  \n",
       "10932           Pseudomonas putida           bact              1  \n",
       "10933                         6268           gngm              1  \n",
       "10934           Pseudomonas putida           bact              1  \n",
       "11149                       474222           aapp              1  \n",
       "16638                          560           aapp              1  \n",
       "16666                          560           aapp              1  \n",
       "17533                    Apoptosis           celf              1  "
      ]
     },
     "execution_count": 128,
     "metadata": {},
     "output_type": "execute_result"
    }
   ],
   "source": [
    "sem_df[genes_need_fixing].head(10)"
   ]
  },
  {
   "cell_type": "markdown",
   "metadata": {
    "collapsed": true
   },
   "source": [
    "### The lines that got no Query Result\n",
    "\n",
    "Some of the ID produced no query result.  They should still have a SUBJECT_CUI with only a number. We'll examine those and see if they produce any insight."
   ]
  },
  {
   "cell_type": "code",
   "execution_count": 129,
   "metadata": {
    "scrolled": true
   },
   "outputs": [
    {
     "data": {
      "text/html": [
       "<div>\n",
       "<style scoped>\n",
       "    .dataframe tbody tr th:only-of-type {\n",
       "        vertical-align: middle;\n",
       "    }\n",
       "\n",
       "    .dataframe tbody tr th {\n",
       "        vertical-align: top;\n",
       "    }\n",
       "\n",
       "    .dataframe thead th {\n",
       "        text-align: right;\n",
       "    }\n",
       "</style>\n",
       "<table border=\"1\" class=\"dataframe\">\n",
       "  <thead>\n",
       "    <tr style=\"text-align: right;\">\n",
       "      <th></th>\n",
       "      <th>PREDICATION_ID</th>\n",
       "      <th>SENTENCE_ID</th>\n",
       "      <th>PMID</th>\n",
       "      <th>PREDICATE</th>\n",
       "      <th>SUBJECT_CUI</th>\n",
       "      <th>SUBJECT_NAME</th>\n",
       "      <th>SUBJECT_SEMTYPE</th>\n",
       "      <th>SUBJECT_NOVELTY</th>\n",
       "      <th>OBJECT_CUI</th>\n",
       "      <th>OBJECT_NAME</th>\n",
       "      <th>OBJECT_SEMTYPE</th>\n",
       "      <th>OBJECT_NOVELTY</th>\n",
       "    </tr>\n",
       "  </thead>\n",
       "  <tbody>\n",
       "    <tr>\n",
       "      <th>9</th>\n",
       "      <td>10593621</td>\n",
       "      <td>34</td>\n",
       "      <td>16530477</td>\n",
       "      <td>PART_OF</td>\n",
       "      <td>7523</td>\n",
       "      <td>7523</td>\n",
       "      <td>gngm</td>\n",
       "      <td>1</td>\n",
       "      <td>C0006034</td>\n",
       "      <td>Borrelia burgdorferi</td>\n",
       "      <td>bact</td>\n",
       "      <td>1</td>\n",
       "    </tr>\n",
       "    <tr>\n",
       "      <th>10</th>\n",
       "      <td>10593815</td>\n",
       "      <td>39</td>\n",
       "      <td>16530477</td>\n",
       "      <td>PRODUCES</td>\n",
       "      <td>7523</td>\n",
       "      <td>7523</td>\n",
       "      <td>gngm</td>\n",
       "      <td>1</td>\n",
       "      <td>C0019878</td>\n",
       "      <td>homocysteine</td>\n",
       "      <td>aapp</td>\n",
       "      <td>1</td>\n",
       "    </tr>\n",
       "    <tr>\n",
       "      <th>8615</th>\n",
       "      <td>11811555</td>\n",
       "      <td>21179</td>\n",
       "      <td>16534425</td>\n",
       "      <td>ASSOCIATED_WITH</td>\n",
       "      <td>50941</td>\n",
       "      <td>50941</td>\n",
       "      <td>gngm</td>\n",
       "      <td>1</td>\n",
       "      <td>C0021390</td>\n",
       "      <td>Inflammatory Bowel Diseases</td>\n",
       "      <td>dsyn</td>\n",
       "      <td>1</td>\n",
       "    </tr>\n",
       "    <tr>\n",
       "      <th>10932</th>\n",
       "      <td>12165524</td>\n",
       "      <td>27984</td>\n",
       "      <td>16535373</td>\n",
       "      <td>PART_OF</td>\n",
       "      <td>6268</td>\n",
       "      <td>6268</td>\n",
       "      <td>gngm</td>\n",
       "      <td>1</td>\n",
       "      <td>C0085470</td>\n",
       "      <td>Pseudomonas putida</td>\n",
       "      <td>bact</td>\n",
       "      <td>1</td>\n",
       "    </tr>\n",
       "    <tr>\n",
       "      <th>10933</th>\n",
       "      <td>12165566</td>\n",
       "      <td>27984</td>\n",
       "      <td>16535373</td>\n",
       "      <td>INTERACTS_WITH</td>\n",
       "      <td>C0015690</td>\n",
       "      <td>Fatty Acids, Unsaturated</td>\n",
       "      <td>lipd</td>\n",
       "      <td>1</td>\n",
       "      <td>6268</td>\n",
       "      <td>6268</td>\n",
       "      <td>gngm</td>\n",
       "      <td>1</td>\n",
       "    </tr>\n",
       "    <tr>\n",
       "      <th>10934</th>\n",
       "      <td>12165655</td>\n",
       "      <td>27985</td>\n",
       "      <td>16535373</td>\n",
       "      <td>PART_OF</td>\n",
       "      <td>6268</td>\n",
       "      <td>6268</td>\n",
       "      <td>gngm</td>\n",
       "      <td>1</td>\n",
       "      <td>C0085470</td>\n",
       "      <td>Pseudomonas putida</td>\n",
       "      <td>bact</td>\n",
       "      <td>1</td>\n",
       "    </tr>\n",
       "    <tr>\n",
       "      <th>11149</th>\n",
       "      <td>12197584</td>\n",
       "      <td>28648</td>\n",
       "      <td>16535458</td>\n",
       "      <td>USES</td>\n",
       "      <td>C0042196</td>\n",
       "      <td>Vaccination</td>\n",
       "      <td>topp</td>\n",
       "      <td>1</td>\n",
       "      <td>474222</td>\n",
       "      <td>474222</td>\n",
       "      <td>aapp</td>\n",
       "      <td>1</td>\n",
       "    </tr>\n",
       "    <tr>\n",
       "      <th>16638</th>\n",
       "      <td>13017663</td>\n",
       "      <td>43841</td>\n",
       "      <td>16538004</td>\n",
       "      <td>LOCATION_OF</td>\n",
       "      <td>C0043381</td>\n",
       "      <td>Y Chromosome</td>\n",
       "      <td>celc</td>\n",
       "      <td>1</td>\n",
       "      <td>560</td>\n",
       "      <td>560</td>\n",
       "      <td>aapp</td>\n",
       "      <td>1</td>\n",
       "    </tr>\n",
       "    <tr>\n",
       "      <th>16666</th>\n",
       "      <td>13020696</td>\n",
       "      <td>43873</td>\n",
       "      <td>16538008</td>\n",
       "      <td>LOCATION_OF</td>\n",
       "      <td>C0043381</td>\n",
       "      <td>Y Chromosome</td>\n",
       "      <td>celc</td>\n",
       "      <td>1</td>\n",
       "      <td>560</td>\n",
       "      <td>560</td>\n",
       "      <td>aapp</td>\n",
       "      <td>1</td>\n",
       "    </tr>\n",
       "    <tr>\n",
       "      <th>17533</th>\n",
       "      <td>13135322</td>\n",
       "      <td>45778</td>\n",
       "      <td>16538385</td>\n",
       "      <td>CAUSES</td>\n",
       "      <td>780896</td>\n",
       "      <td>780896</td>\n",
       "      <td>gngm</td>\n",
       "      <td>1</td>\n",
       "      <td>C0162638</td>\n",
       "      <td>Apoptosis</td>\n",
       "      <td>celf</td>\n",
       "      <td>1</td>\n",
       "    </tr>\n",
       "  </tbody>\n",
       "</table>\n",
       "</div>"
      ],
      "text/plain": [
       "       PREDICATION_ID  SENTENCE_ID      PMID        PREDICATE SUBJECT_CUI  \\\n",
       "9            10593621           34  16530477          PART_OF        7523   \n",
       "10           10593815           39  16530477         PRODUCES        7523   \n",
       "8615         11811555        21179  16534425  ASSOCIATED_WITH       50941   \n",
       "10932        12165524        27984  16535373          PART_OF        6268   \n",
       "10933        12165566        27984  16535373   INTERACTS_WITH    C0015690   \n",
       "10934        12165655        27985  16535373          PART_OF        6268   \n",
       "11149        12197584        28648  16535458             USES    C0042196   \n",
       "16638        13017663        43841  16538004      LOCATION_OF    C0043381   \n",
       "16666        13020696        43873  16538008      LOCATION_OF    C0043381   \n",
       "17533        13135322        45778  16538385           CAUSES      780896   \n",
       "\n",
       "                   SUBJECT_NAME SUBJECT_SEMTYPE  SUBJECT_NOVELTY OBJECT_CUI  \\\n",
       "9                          7523            gngm                1   C0006034   \n",
       "10                         7523            gngm                1   C0019878   \n",
       "8615                      50941            gngm                1   C0021390   \n",
       "10932                      6268            gngm                1   C0085470   \n",
       "10933  Fatty Acids, Unsaturated            lipd                1       6268   \n",
       "10934                      6268            gngm                1   C0085470   \n",
       "11149               Vaccination            topp                1     474222   \n",
       "16638              Y Chromosome            celc                1        560   \n",
       "16666              Y Chromosome            celc                1        560   \n",
       "17533                    780896            gngm                1   C0162638   \n",
       "\n",
       "                       OBJECT_NAME OBJECT_SEMTYPE OBJECT_NOVELTY  \n",
       "9             Borrelia burgdorferi           bact              1  \n",
       "10                    homocysteine           aapp              1  \n",
       "8615   Inflammatory Bowel Diseases           dsyn              1  \n",
       "10932           Pseudomonas putida           bact              1  \n",
       "10933                         6268           gngm              1  \n",
       "10934           Pseudomonas putida           bact              1  \n",
       "11149                       474222           aapp              1  \n",
       "16638                          560           aapp              1  \n",
       "16666                          560           aapp              1  \n",
       "17533                    Apoptosis           celf              1  "
      ]
     },
     "execution_count": 129,
     "metadata": {},
     "output_type": "execute_result"
    }
   ],
   "source": [
    "gene_lines2 = ~sem_df['SUBJECT_CUI'].str.startswith('C')\n",
    "gene_lines3 = ~sem_df['OBJECT_CUI'].str.startswith('C')\n",
    "\n",
    "genes_need_fixing1 = gene_lines2 | gene_lines3\n",
    "\n",
    "sem_df[genes_need_fixing1].head(10)"
   ]
  },
  {
   "cell_type": "code",
   "execution_count": 130,
   "metadata": {},
   "outputs": [
    {
     "data": {
      "text/plain": [
       "(145656, 12)"
      ]
     },
     "execution_count": 130,
     "metadata": {},
     "output_type": "execute_result"
    }
   ],
   "source": [
    "sem_df[genes_need_fixing1].shape"
   ]
  },
  {
   "cell_type": "code",
   "execution_count": 131,
   "metadata": {},
   "outputs": [
    {
     "data": {
      "text/plain": [
       "145656"
      ]
     },
     "execution_count": 131,
     "metadata": {},
     "output_type": "execute_result"
    }
   ],
   "source": [
    "len(sem_df[genes_need_fixing1])"
   ]
  },
  {
   "cell_type": "markdown",
   "metadata": {},
   "source": [
    "For now we will save these to their own file and remove them from the 'cleaned' data."
   ]
  },
  {
   "cell_type": "code",
   "execution_count": 132,
   "metadata": {},
   "outputs": [],
   "source": [
    "sem_df[genes_need_fixing1].to_csv('../data/semmedVER43_R_no_CUI.csv', index=False)"
   ]
  },
  {
   "cell_type": "code",
   "execution_count": 133,
   "metadata": {},
   "outputs": [],
   "source": [
    "sem_df = sem_df.drop(sem_df[genes_need_fixing1].index)\n",
    "sem_df.to_csv('../data/semmedVER43_R_clean.csv', index=False)"
   ]
  },
  {
   "cell_type": "markdown",
   "metadata": {},
   "source": [
    "## Remove Depricated CUIs\n",
    "\n",
    "Some CUIs in the database are depreicated.  They may have newer versions to which they have not yet been mapped.  However, UMLS has record of these deprecated values that can be used to map "
   ]
  },
  {
   "cell_type": "code",
   "execution_count": 134,
   "metadata": {},
   "outputs": [
    {
     "name": "stderr",
     "output_type": "stream",
     "text": [
      "/home/rogertu/anaconda3/envs/semmed/lib/python3.5/site-packages/IPython/core/interactiveshell.py:2963: DtypeWarning: Columns (4) have mixed types. Specify dtype option on import or set low_memory=False.\n",
      "  exec(code_obj, self.user_global_ns, self.user_ns)\n"
     ]
    },
    {
     "data": {
      "text/html": [
       "<div>\n",
       "<style scoped>\n",
       "    .dataframe tbody tr th:only-of-type {\n",
       "        vertical-align: middle;\n",
       "    }\n",
       "\n",
       "    .dataframe tbody tr th {\n",
       "        vertical-align: top;\n",
       "    }\n",
       "\n",
       "    .dataframe thead th {\n",
       "        text-align: right;\n",
       "    }\n",
       "</style>\n",
       "<table border=\"1\" class=\"dataframe\">\n",
       "  <thead>\n",
       "    <tr style=\"text-align: right;\">\n",
       "      <th></th>\n",
       "      <th>CUI1</th>\n",
       "      <th>VER</th>\n",
       "      <th>REL</th>\n",
       "      <th>RELA</th>\n",
       "      <th>MAPREASON</th>\n",
       "      <th>CUI2</th>\n",
       "      <th>MAPIN</th>\n",
       "    </tr>\n",
       "  </thead>\n",
       "  <tbody>\n",
       "    <tr>\n",
       "      <th>0</th>\n",
       "      <td>C0000002</td>\n",
       "      <td>2000AC</td>\n",
       "      <td>SY</td>\n",
       "      <td>NaN</td>\n",
       "      <td>NaN</td>\n",
       "      <td>C0007404</td>\n",
       "      <td>Y</td>\n",
       "    </tr>\n",
       "    <tr>\n",
       "      <th>1</th>\n",
       "      <td>C0000003</td>\n",
       "      <td>1999AA</td>\n",
       "      <td>SY</td>\n",
       "      <td>NaN</td>\n",
       "      <td>NaN</td>\n",
       "      <td>C0010504</td>\n",
       "      <td>Y</td>\n",
       "    </tr>\n",
       "  </tbody>\n",
       "</table>\n",
       "</div>"
      ],
      "text/plain": [
       "       CUI1     VER REL  RELA MAPREASON      CUI2 MAPIN\n",
       "0  C0000002  2000AC  SY   NaN       NaN  C0007404     Y\n",
       "1  C0000003  1999AA  SY   NaN       NaN  C0010504     Y"
      ]
     },
     "execution_count": 134,
     "metadata": {},
     "output_type": "execute_result"
    }
   ],
   "source": [
    "# Get the map from old CUIs to new CUIs\n",
    "retired_cui = load_umls.open_mrcui()\n",
    "retired_cui.head(2)"
   ]
  },
  {
   "cell_type": "code",
   "execution_count": 135,
   "metadata": {},
   "outputs": [
    {
     "name": "stdout",
     "output_type": "stream",
     "text": [
      "1 concepts identifiers could not be mapped to a name\n"
     ]
    }
   ],
   "source": [
    "# Make a mapper from the old to the new\n",
    "cui_map = retired_cui.set_index('CUI1')['CUI2'].to_dict()\n",
    "\n",
    "# Ensure we have names for all the new values\n",
    "no_name = set(cui_map.values()) - set(c_to_name_dict.keys())\n",
    "if len(no_name) > 0:\n",
    "    query_result = conso.query('CUI in @no_name and ISPREF == \"Y\"').set_index('CUI')['STR'].to_dict()\n",
    "    c_to_name_dict.update(query_result)\n",
    "    pickle.dump(c_to_name_dict, open( \"../data/cui_to_name.pkl\", \"wb\" ) )\n",
    "print('{} concepts identifiers could not be mapped to a name'.format(len(no_name) - len(query_result)))"
   ]
  },
  {
   "cell_type": "code",
   "execution_count": 136,
   "metadata": {},
   "outputs": [
    {
     "data": {
      "text/plain": [
       "'25,264,949 Unique S-P-O triples before de-deprecation'"
      ]
     },
     "execution_count": 136,
     "metadata": {},
     "output_type": "execute_result"
    }
   ],
   "source": [
    "# How many unique s-p-o triples before de-depreication?\n",
    "'{:,} Unique S-P-O triples before de-deprecation'.format(len(sem_df.drop_duplicates(subset=['SUBJECT_CUI', 'PREDICATE', 'OBJECT_CUI'])))"
   ]
  },
  {
   "cell_type": "code",
   "execution_count": 137,
   "metadata": {},
   "outputs": [
    {
     "data": {
      "text/plain": [
       "'24,964,980 Unique S-P-O triples after de-deprecation'"
      ]
     },
     "execution_count": 137,
     "metadata": {},
     "output_type": "execute_result"
    }
   ],
   "source": [
    "# Map the depricated values to their new CUIs\n",
    "sem_df['SUBJECT_CUI'] = sem_df['SUBJECT_CUI'].apply(lambda c: cui_map.get(c, c))\n",
    "sem_df['OBJECT_CUI'] = sem_df['OBJECT_CUI'].apply(lambda c: cui_map.get(c, c))\n",
    "\n",
    "# Any removed CUIs should be taken out\n",
    "sem_df = sem_df.dropna(subset=['SUBJECT_CUI', 'OBJECT_CUI'])\n",
    "\n",
    "# Ensure the names are now corrected\n",
    "sem_df['SUBJECT_NAME'] = sem_df['SUBJECT_CUI'].apply(lambda c: c_to_name_dict.get(c, c))\n",
    "sem_df['OBJECT_NAME'] = sem_df['OBJECT_CUI'].apply(lambda c: c_to_name_dict.get(c, c))\n",
    "\n",
    "# How many unique spo triples after the corrections?\n",
    "'{:,} Unique S-P-O triples after de-deprecation'.format(len(sem_df.drop_duplicates(subset=['SUBJECT_CUI', 'PREDICATE', 'OBJECT_CUI'])))"
   ]
  },
  {
   "cell_type": "code",
   "execution_count": 138,
   "metadata": {},
   "outputs": [],
   "source": [
    "sem_df.to_csv('../data/semmedVER43_R_clean_de-depricate.csv', index=False)"
   ]
  }
 ],
 "metadata": {
  "kernelspec": {
   "display_name": "Python 3",
   "language": "python",
   "name": "python3"
  },
  "language_info": {
   "codemirror_mode": {
    "name": "ipython",
    "version": 3
   },
   "file_extension": ".py",
   "mimetype": "text/x-python",
   "name": "python",
   "nbconvert_exporter": "python",
   "pygments_lexer": "ipython3",
   "version": "3.5.5"
  }
 },
 "nbformat": 4,
 "nbformat_minor": 1
}
