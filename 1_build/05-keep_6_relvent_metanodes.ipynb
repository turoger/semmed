{
 "cells": [
  {
   "cell_type": "markdown",
   "metadata": {},
   "source": [
    "# Make a 6-Metanode-network"
   ]
  },
  {
   "cell_type": "code",
   "execution_count": 1,
   "metadata": {
    "collapsed": true
   },
   "outputs": [],
   "source": [
    "import sys\n",
    "sys.path.append('../../hetnet-ml/src')\n",
    "\n",
    "import pandas as pd\n",
    "import graph_tools as gt\n",
    "from hetio.hetnet import MetaGraph"
   ]
  },
  {
   "cell_type": "code",
   "execution_count": 2,
   "metadata": {
    "collapsed": true
   },
   "outputs": [],
   "source": [
    "def num_metapaths(nodes, edges):\n",
    "    abv, met = gt.get_abbrev_dict_and_edge_tuples(gt.add_colons(nodes), gt.add_colons(edges))\n",
    "    return len(MetaGraph.from_edge_tuples(met, abv).extract_metapaths('Chemicals & Drugs', 'Disorders', 4))"
   ]
  },
  {
   "cell_type": "code",
   "execution_count": 3,
   "metadata": {
    "collapsed": true
   },
   "outputs": [],
   "source": [
    "nodes = gt.remove_colons(pd.read_csv('../data/nodes_VER31_R_consolidated_condensed_filtered_001.csv'))\n",
    "edges = gt.remove_colons(pd.read_csv('../data/edges_VER31_R_consolidated_condensed_filtered_001.csv'))"
   ]
  },
  {
   "cell_type": "code",
   "execution_count": 4,
   "metadata": {},
   "outputs": [
    {
     "name": "stdout",
     "output_type": "stream",
     "text": [
      "8,745 Potnential Metapaths\n"
     ]
    }
   ],
   "source": [
    "print('{:,} Potnential Metapaths'.format(num_metapaths(nodes, edges)))"
   ]
  },
  {
   "cell_type": "markdown",
   "metadata": {
    "collapsed": true
   },
   "source": [
    "Some nodes really have little to do with bio-medical knowledge and these will also be removed.\n",
    "\n",
    "- REMOVE NODES:\n",
    "    - Organizations\n",
    "    - Activities & Behaviors\n",
    "    - Concepts & Ideas\n",
    "    - Procedures\n",
    "    - Devices\n",
    "    - Living Beings\n",
    "\n",
    "NOTE: While `Living Beings` seems like it would be useful, many of these are far too general, making for replationships and paths that are not meaningful (`Researcher - Asscoided With - Amino Acids` for example).  It is too difficult to filter out the general terms from the more specific, so all Living Beings will be removed"
   ]
  },
  {
   "cell_type": "markdown",
   "metadata": {},
   "source": [
    "### Removal of un-needed metanodes"
   ]
  },
  {
   "cell_type": "code",
   "execution_count": 5,
   "metadata": {
    "collapsed": true
   },
   "outputs": [],
   "source": [
    "# Remove nodes of types that are less-useful\n",
    "remove_types = ['Organizations', 'Activities & Behaviors', 'Concepts & Ideas', 'Procedures', 'Devices', 'Living Beings']\n",
    "idx = gt.remove_colons(nodes).query('label in @remove_types').index\n",
    "nodes.drop(idx, inplace=True)"
   ]
  },
  {
   "cell_type": "code",
   "execution_count": 6,
   "metadata": {},
   "outputs": [
    {
     "name": "stdout",
     "output_type": "stream",
     "text": [
      "148,381 Unique IDs in the nodes\n",
      "135,879 Unique IDs found wihtin the remaining edges\n"
     ]
    }
   ],
   "source": [
    "# Make sure that \n",
    "ok_ids = nodes['id'].unique()\n",
    "edges = edges.query('start_id in @ok_ids and end_id in @ok_ids')\n",
    "\n",
    "print('{:,} Unique IDs in the nodes'.format(len(ok_ids)))\n",
    "print('{:,} Unique IDs found wihtin the remaining edges'.format(len(set(edges['start_id']).union(set(edges['end_id'])))))"
   ]
  },
  {
   "cell_type": "code",
   "execution_count": 7,
   "metadata": {},
   "outputs": [
    {
     "name": "stdout",
     "output_type": "stream",
     "text": [
      "Remvoed IDs from nodes that no longer have edges...\n",
      "135,879 IDs found in edges\n",
      "135,879 IDs found in nodes\n"
     ]
    }
   ],
   "source": [
    "ok_ids = list(set(edges['start_id']).union(set(edges['end_id'])))\n",
    "nodes = nodes.query('id in @ok_ids')\n",
    "\n",
    "print('Remvoed IDs from nodes that no longer have edges...')\n",
    "print('{:,} IDs found in edges'.format(len(ok_ids)))\n",
    "print('{:,} IDs found in nodes'.format(len(set(edges['start_id']).union(set(edges['end_id'])))))"
   ]
  },
  {
   "cell_type": "code",
   "execution_count": 8,
   "metadata": {},
   "outputs": [
    {
     "name": "stdout",
     "output_type": "stream",
     "text": [
      "After cutting down to 6 Most Revelent Metanodes... \n",
      "2,439 Potnential Metapaths\n"
     ]
    }
   ],
   "source": [
    "print('After cutting down to 6 Most Revelent Metanodes... ')\n",
    "print('{:,} Potnential Metapaths'.format(num_metapaths(nodes, edges)))"
   ]
  },
  {
   "cell_type": "code",
   "execution_count": 9,
   "metadata": {
    "scrolled": false
   },
   "outputs": [
    {
     "data": {
      "text/plain": [
       "Chemicals & Drugs              64641\n",
       "Disorders                      29882\n",
       "Genes & Molecular Sequences    19054\n",
       "Anatomy                        14241\n",
       "Physiology                      7013\n",
       "Phenomena                       1048\n",
       "Name: label, dtype: int64"
      ]
     },
     "execution_count": 9,
     "metadata": {},
     "output_type": "execute_result"
    }
   ],
   "source": [
    "nodes['label'].value_counts()"
   ]
  },
  {
   "cell_type": "code",
   "execution_count": 10,
   "metadata": {
    "scrolled": true
   },
   "outputs": [
    {
     "data": {
      "text/plain": [
       "30"
      ]
     },
     "execution_count": 10,
     "metadata": {},
     "output_type": "execute_result"
    }
   ],
   "source": [
    "edges['type'].nunique()"
   ]
  },
  {
   "cell_type": "code",
   "execution_count": 11,
   "metadata": {
    "scrolled": false
   },
   "outputs": [
    {
     "data": {
      "text/plain": [
       "LOCATION_OF_AloCD         949442\n",
       "REGULATES_CDreg>CD        810322\n",
       "INTERACTS_WITH_CDiwG      677059\n",
       "TREATS_CDtDO              518241\n",
       "LOCATION_OF_AloG          513366\n",
       "ASSOCIATED_WITH_DOawDO    460999\n",
       "LOCATION_OF_AloDO         450282\n",
       "STIMULATES_CDstG          373995\n",
       "AFFECTS_CDafA             308558\n",
       "ASSOCIATED_WITH_GawDO     258232\n",
       "AFFECTS_GafPS             240690\n",
       "INHIBITS_GinCD            239618\n",
       "LOCATION_OF_AloA          223253\n",
       "AUGMENTS_CDagPS           218588\n",
       "INTERACTS_WITH_GiwG       200611\n",
       "REGULATES_Greg>G          200257\n",
       "RELATED_TO_CDrtCD         178639\n",
       "DISRUPTS_CDdsPS           174447\n",
       "AUGMENTS_GagDO            129113\n",
       "AFFECTS_GafA              123446\n",
       "AFFECTS_PSafDO            111961\n",
       "INHIBITS_GinDO            105307\n",
       "AFFECTS_PSafPS             75484\n",
       "AFFECTS_CDafPH             71088\n",
       "CAUSES_DOcPS               49057\n",
       "ASSOCIATED_WITH_PSawCD     32321\n",
       "AFFECTS_PHafDO             29140\n",
       "LOCATION_OF_AloPS          27199\n",
       "AFFECTS_PHafPS             21182\n",
       "AFFECTS_PHafG              12378\n",
       "Name: type, dtype: int64"
      ]
     },
     "execution_count": 11,
     "metadata": {},
     "output_type": "execute_result"
    }
   ],
   "source": [
    "edges['type'].value_counts()"
   ]
  },
  {
   "cell_type": "code",
   "execution_count": 12,
   "metadata": {
    "collapsed": true
   },
   "outputs": [],
   "source": [
    "gt.add_colons(nodes).to_csv('../data/nodes_VER31_R_cons_6_metanode.csv', index=False)\n",
    "gt.add_colons(edges).to_csv('../data/edges_VER31_R_cons_6_metanode.csv', index=False)"
   ]
  }
 ],
 "metadata": {
  "kernelspec": {
   "display_name": "Python 3",
   "language": "python",
   "name": "python3"
  },
  "language_info": {
   "codemirror_mode": {
    "name": "ipython",
    "version": 3
   },
   "file_extension": ".py",
   "mimetype": "text/x-python",
   "name": "python",
   "nbconvert_exporter": "python",
   "pygments_lexer": "ipython3",
   "version": "3.5.3"
  }
 },
 "nbformat": 4,
 "nbformat_minor": 2
}
