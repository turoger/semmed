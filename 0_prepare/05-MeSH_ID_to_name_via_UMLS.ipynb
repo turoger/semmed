{
 "cells": [
  {
   "cell_type": "markdown",
   "metadata": {},
   "source": [
    "## Go from MeSH IDs to Names via UMLS\n",
    "\n",
    "In the notebook `03-umls_cui_to_mesh_descriptorID` we got a map from UMLS CUI to MeSH IDs.  We also grabbed some concept names in case we'd need them later.  However, there's no guarnetee that these are the 'preferred' names, so here we'll go a bit deeper and try to get the preferred ones first"
   ]
  },
  {
   "cell_type": "code",
   "execution_count": 1,
   "metadata": {},
   "outputs": [],
   "source": [
    "import pickle\n",
    "import pandas as pd\n",
    "\n",
    "import sys\n",
    "sys.path.append('../tools/')\n",
    "import load_umls"
   ]
  },
  {
   "cell_type": "code",
   "execution_count": 2,
   "metadata": {},
   "outputs": [
    {
     "name": "stderr",
     "output_type": "stream",
     "text": [
      "/home/rogertu/anaconda3/envs/semmed/lib/python3.5/site-packages/IPython/core/interactiveshell.py:3265: DtypeWarning: Columns (9,10) have mixed types. Specify dtype option on import or set low_memory=False.\n",
      "  exec(code_obj, self.user_global_ns, self.user_ns)\n"
     ]
    }
   ],
   "source": [
    "conso = load_umls.open_mrconso()"
   ]
  },
  {
   "cell_type": "code",
   "execution_count": 3,
   "metadata": {},
   "outputs": [
    {
     "data": {
      "text/html": [
       "<div>\n",
       "<style scoped>\n",
       "    .dataframe tbody tr th:only-of-type {\n",
       "        vertical-align: middle;\n",
       "    }\n",
       "\n",
       "    .dataframe tbody tr th {\n",
       "        vertical-align: top;\n",
       "    }\n",
       "\n",
       "    .dataframe thead th {\n",
       "        text-align: right;\n",
       "    }\n",
       "</style>\n",
       "<table border=\"1\" class=\"dataframe\">\n",
       "  <thead>\n",
       "    <tr style=\"text-align: right;\">\n",
       "      <th></th>\n",
       "      <th>CUI</th>\n",
       "      <th>LAT</th>\n",
       "      <th>TS</th>\n",
       "      <th>LUI</th>\n",
       "      <th>STT</th>\n",
       "      <th>SUI</th>\n",
       "      <th>ISPREF</th>\n",
       "      <th>AUI</th>\n",
       "      <th>SAUI</th>\n",
       "      <th>SCUI</th>\n",
       "      <th>SDUI</th>\n",
       "      <th>SAB</th>\n",
       "      <th>TTY</th>\n",
       "      <th>CODE</th>\n",
       "      <th>STR</th>\n",
       "      <th>SRL</th>\n",
       "      <th>SUPPRESS</th>\n",
       "      <th>CVF</th>\n",
       "    </tr>\n",
       "  </thead>\n",
       "  <tbody>\n",
       "    <tr>\n",
       "      <th>0</th>\n",
       "      <td>C0000005</td>\n",
       "      <td>ENG</td>\n",
       "      <td>P</td>\n",
       "      <td>L0000005</td>\n",
       "      <td>PF</td>\n",
       "      <td>S0007492</td>\n",
       "      <td>Y</td>\n",
       "      <td>A26634265</td>\n",
       "      <td>NaN</td>\n",
       "      <td>M0019694</td>\n",
       "      <td>D012711</td>\n",
       "      <td>MSH</td>\n",
       "      <td>PEP</td>\n",
       "      <td>D012711</td>\n",
       "      <td>(131)I-Macroaggregated Albumin</td>\n",
       "      <td>0</td>\n",
       "      <td>N</td>\n",
       "      <td>256.0</td>\n",
       "    </tr>\n",
       "    <tr>\n",
       "      <th>1</th>\n",
       "      <td>C0000005</td>\n",
       "      <td>ENG</td>\n",
       "      <td>S</td>\n",
       "      <td>L0270109</td>\n",
       "      <td>PF</td>\n",
       "      <td>S0007491</td>\n",
       "      <td>Y</td>\n",
       "      <td>A26634266</td>\n",
       "      <td>NaN</td>\n",
       "      <td>M0019694</td>\n",
       "      <td>D012711</td>\n",
       "      <td>MSH</td>\n",
       "      <td>ET</td>\n",
       "      <td>D012711</td>\n",
       "      <td>(131)I-MAA</td>\n",
       "      <td>0</td>\n",
       "      <td>N</td>\n",
       "      <td>256.0</td>\n",
       "    </tr>\n",
       "  </tbody>\n",
       "</table>\n",
       "</div>"
      ],
      "text/plain": [
       "        CUI  LAT TS       LUI STT       SUI ISPREF        AUI  SAUI      SCUI  \\\n",
       "0  C0000005  ENG  P  L0000005  PF  S0007492      Y  A26634265   NaN  M0019694   \n",
       "1  C0000005  ENG  S  L0270109  PF  S0007491      Y  A26634266   NaN  M0019694   \n",
       "\n",
       "      SDUI  SAB  TTY     CODE                             STR  SRL SUPPRESS  \\\n",
       "0  D012711  MSH  PEP  D012711  (131)I-Macroaggregated Albumin    0        N   \n",
       "1  D012711  MSH   ET  D012711                      (131)I-MAA    0        N   \n",
       "\n",
       "     CVF  \n",
       "0  256.0  \n",
       "1  256.0  "
      ]
     },
     "execution_count": 3,
     "metadata": {},
     "output_type": "execute_result"
    }
   ],
   "source": [
    "conso.head(2)"
   ]
  },
  {
   "cell_type": "code",
   "execution_count": 4,
   "metadata": {},
   "outputs": [],
   "source": [
    "msh_rows = conso.query('SAB == \"MSH\"')"
   ]
  },
  {
   "cell_type": "code",
   "execution_count": 5,
   "metadata": {},
   "outputs": [
    {
     "data": {
      "text/plain": [
       "997781"
      ]
     },
     "execution_count": 5,
     "metadata": {},
     "output_type": "execute_result"
    }
   ],
   "source": [
    "len(msh_rows)"
   ]
  },
  {
   "cell_type": "markdown",
   "metadata": {},
   "source": [
    "TTY values give hints to what are the preferred naames...  \n",
    "Primarily, MH and NM are very close to a 1 to 1 relationship of id to value\n",
    "\n",
    "See [abbreviations here](https://www.nlm.nih.gov/research/umls/knowledge_sources/metathesaurus/release/abbreviations.html) for meanings of all the abbreviations"
   ]
  },
  {
   "cell_type": "code",
   "execution_count": 6,
   "metadata": {},
   "outputs": [
    {
     "name": "stdout",
     "output_type": "stream",
     "text": [
      "Ratio of names to unique IDs for TYY == \"PXQ\": 3.0392156862745097\n",
      "Ratio of names to unique IDs for TYY == \"PEP\": 2.6377830533235938\n",
      "Ratio of names to unique IDs for TYY == \"PCE\": 1.6984903395068591\n",
      "Ratio of names to unique IDs for TYY == \"HT\": 1.0\n",
      "Ratio of names to unique IDs for TYY == \"QEV\": 1.0263157894736843\n",
      "Ratio of names to unique IDs for TYY == \"NM\": 1.0\n",
      "Ratio of names to unique IDs for TYY == \"MH\": 1.0\n"
     ]
    }
   ],
   "source": [
    "for tty in ['PXQ', 'PEP', 'PCE', 'HT', 'QEV',  'NM', 'MH']:\n",
    "\n",
    "    print('Ratio of names to unique IDs for TYY == \"{}\": '.format(tty), end='')\n",
    "    q_res = msh_rows.query('LAT == \"ENG\" and TTY == @tty')\n",
    "    print('{}'.format(q_res.shape[0] / q_res['SDUI'].nunique()))"
   ]
  },
  {
   "cell_type": "code",
   "execution_count": 7,
   "metadata": {},
   "outputs": [
    {
     "data": {
      "text/plain": [
       "True"
      ]
     },
     "execution_count": 7,
     "metadata": {},
     "output_type": "execute_result"
    }
   ],
   "source": [
    "msh_to_name = {}\n",
    "\n",
    "# Least to most important / redundant\n",
    "for tty in ['PXQ', 'PEP', 'PCE', 'HT', 'QEV',  'NM', 'MH']:\n",
    "    q_res = msh_rows.query('LAT == \"ENG\" and TTY == @tty')\n",
    "    msh_to_name.update(q_res.set_index('SDUI')['STR'].to_dict())\n",
    "len(msh_to_name) == msh_rows['SDUI'].nunique()"
   ]
  },
  {
   "cell_type": "markdown",
   "metadata": {},
   "source": [
    "Add in the old mappings, (overwritten by the new ones), in case any happened to be missed"
   ]
  },
  {
   "cell_type": "code",
   "execution_count": 8,
   "metadata": {},
   "outputs": [],
   "source": [
    "msh_to_name_old = pickle.load(open('../data/MeSH_to_name_quick_n_dirty.pkl', 'rb'))"
   ]
  },
  {
   "cell_type": "code",
   "execution_count": 9,
   "metadata": {},
   "outputs": [],
   "source": [
    "msh_to_name_final = {**msh_to_name_old, **msh_to_name}"
   ]
  },
  {
   "cell_type": "code",
   "execution_count": 10,
   "metadata": {},
   "outputs": [
    {
     "name": "stdout",
     "output_type": "stream",
     "text": [
      "Quick and Dirty MeSH concepts mapped to names: 347,511\n",
      "MeSH concepts mapped to names now: 347,565\n",
      "Total MeSH concepts with mapped names: 347,565\n"
     ]
    }
   ],
   "source": [
    "print('Quick and Dirty MeSH concepts mapped to names: {:,}'.format(len(msh_to_name_old)))\n",
    "print('MeSH concepts mapped to names now: {:,}'.format(len(msh_to_name)))\n",
    "print('Total MeSH concepts with mapped names: {:,}'.format(len(msh_to_name_final)))"
   ]
  },
  {
   "cell_type": "code",
   "execution_count": 11,
   "metadata": {},
   "outputs": [],
   "source": [
    "pickle.dump(msh_to_name_final, open('../data/MeSH_id_to_name_via_UMLS.pkl', 'wb'))"
   ]
  }
 ],
 "metadata": {
  "kernelspec": {
   "display_name": "Python 3 (ipykernel)",
   "language": "python",
   "name": "python3"
  },
  "language_info": {
   "codemirror_mode": {
    "name": "ipython",
    "version": 3
   },
   "file_extension": ".py",
   "mimetype": "text/x-python",
   "name": "python",
   "nbconvert_exporter": "python",
   "pygments_lexer": "ipython3",
   "version": "3.10.6"
  }
 },
 "nbformat": 4,
 "nbformat_minor": 4
}
