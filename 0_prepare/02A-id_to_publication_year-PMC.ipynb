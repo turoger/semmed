{
 "cells": [
  {
   "cell_type": "markdown",
   "metadata": {},
   "source": [
    "# PMID to Year Map -- Pubmed Central"
   ]
  },
  {
   "cell_type": "code",
   "execution_count": 1,
   "metadata": {},
   "outputs": [],
   "source": [
    "import pandas as pd\n",
    "from tqdm import tqdm"
   ]
  },
  {
   "cell_type": "code",
   "execution_count": 2,
   "metadata": {},
   "outputs": [
    {
     "name": "stdout",
     "output_type": "stream",
     "text": [
      "--2021-08-05 01:17:37--  ftp://ftp.ncbi.nlm.nih.gov/pub/pmc/PMC-ids.csv.gz\n",
      "           => ‘../data/PMC-ids-csv.gz’\n",
      "Resolving ftp.ncbi.nlm.nih.gov (ftp.ncbi.nlm.nih.gov)... 130.14.250.7, 130.14.250.11, 2607:f220:41e:250::10, ...\n",
      "Connecting to ftp.ncbi.nlm.nih.gov (ftp.ncbi.nlm.nih.gov)|130.14.250.7|:21... connected.\n",
      "Logging in as anonymous ... Logged in!\n",
      "==> SYST ... done.    ==> PWD ... done.\n",
      "==> TYPE I ... done.  ==> CWD (1) /pub/pmc ... done.\n",
      "==> SIZE PMC-ids.csv.gz ... 143894054\n",
      "==> PASV ... done.    ==> RETR PMC-ids.csv.gz ... done.\n",
      "Length: 143894054 (137M) (unauthoritative)\n",
      "\n",
      "PMC-ids.csv.gz      100%[===================>] 137.23M  6.51MB/s    in 19s     \n",
      "\n",
      "2021-08-05 01:17:57 (7.33 MB/s) - ‘../data/PMC-ids-csv.gz’ saved [143894054]\n",
      "\n"
     ]
    }
   ],
   "source": [
    "!wget -O ../data/PMC-ids-csv.gz ftp://ftp.ncbi.nlm.nih.gov/pub/pmc/PMC-ids.csv.gz"
   ]
  },
  {
   "cell_type": "code",
   "execution_count": 3,
   "metadata": {},
   "outputs": [
    {
     "name": "stdout",
     "output_type": "stream",
     "text": [
      "20,750,278\n"
     ]
    }
   ],
   "source": [
    "pmids = []\n",
    "with open('../data/pmid_list_ver43.txt', 'r') as fin:\n",
    "    for line in fin.readlines():\n",
    "        pmids.append(line.strip())\n",
    "print('{:,}'.format(len(pmids)))"
   ]
  },
  {
   "cell_type": "code",
   "execution_count": 4,
   "metadata": {},
   "outputs": [
    {
     "name": "stderr",
     "output_type": "stream",
     "text": [
      "/home/rogertu/anaconda3/envs/semmed/lib/python3.5/site-packages/IPython/core/interactiveshell.py:2785: DtypeWarning: Columns (4,5,10) have mixed types. Specify dtype option on import or set low_memory=False.\n",
      "  interactivity=interactivity, compiler=compiler, result=result)\n"
     ]
    }
   ],
   "source": [
    "df = pd.read_csv('../data/PMC-ids-csv.gz')"
   ]
  },
  {
   "cell_type": "code",
   "execution_count": 5,
   "metadata": {},
   "outputs": [
    {
     "data": {
      "text/html": [
       "<div>\n",
       "<style scoped>\n",
       "    .dataframe tbody tr th:only-of-type {\n",
       "        vertical-align: middle;\n",
       "    }\n",
       "\n",
       "    .dataframe tbody tr th {\n",
       "        vertical-align: top;\n",
       "    }\n",
       "\n",
       "    .dataframe thead th {\n",
       "        text-align: right;\n",
       "    }\n",
       "</style>\n",
       "<table border=\"1\" class=\"dataframe\">\n",
       "  <thead>\n",
       "    <tr style=\"text-align: right;\">\n",
       "      <th></th>\n",
       "      <th>Journal Title</th>\n",
       "      <th>ISSN</th>\n",
       "      <th>eISSN</th>\n",
       "      <th>Year</th>\n",
       "      <th>Volume</th>\n",
       "      <th>Issue</th>\n",
       "      <th>Page</th>\n",
       "      <th>DOI</th>\n",
       "      <th>PMCID</th>\n",
       "      <th>PMID</th>\n",
       "      <th>Manuscript Id</th>\n",
       "      <th>Release Date</th>\n",
       "    </tr>\n",
       "  </thead>\n",
       "  <tbody>\n",
       "    <tr>\n",
       "      <th>0</th>\n",
       "      <td>Breast Cancer Res</td>\n",
       "      <td>1465-5411</td>\n",
       "      <td>1465-542X</td>\n",
       "      <td>2000</td>\n",
       "      <td>3</td>\n",
       "      <td>1</td>\n",
       "      <td>55</td>\n",
       "      <td>10.1186/bcr271</td>\n",
       "      <td>PMC13900</td>\n",
       "      <td>11250746.0</td>\n",
       "      <td>NaN</td>\n",
       "      <td>live</td>\n",
       "    </tr>\n",
       "    <tr>\n",
       "      <th>1</th>\n",
       "      <td>Breast Cancer Res</td>\n",
       "      <td>1465-5411</td>\n",
       "      <td>1465-542X</td>\n",
       "      <td>2000</td>\n",
       "      <td>3</td>\n",
       "      <td>1</td>\n",
       "      <td>61</td>\n",
       "      <td>10.1186/bcr272</td>\n",
       "      <td>PMC13901</td>\n",
       "      <td>11250747.0</td>\n",
       "      <td>NaN</td>\n",
       "      <td>live</td>\n",
       "    </tr>\n",
       "    <tr>\n",
       "      <th>2</th>\n",
       "      <td>Breast Cancer Res</td>\n",
       "      <td>1465-5411</td>\n",
       "      <td>1465-542X</td>\n",
       "      <td>2000</td>\n",
       "      <td>3</td>\n",
       "      <td>1</td>\n",
       "      <td>66</td>\n",
       "      <td>10.1186/bcr273</td>\n",
       "      <td>PMC13902</td>\n",
       "      <td>11250748.0</td>\n",
       "      <td>NaN</td>\n",
       "      <td>live</td>\n",
       "    </tr>\n",
       "    <tr>\n",
       "      <th>3</th>\n",
       "      <td>Breast Cancer Res</td>\n",
       "      <td>1465-5411</td>\n",
       "      <td>1465-542X</td>\n",
       "      <td>1999</td>\n",
       "      <td>2</td>\n",
       "      <td>1</td>\n",
       "      <td>59</td>\n",
       "      <td>10.1186/bcr29</td>\n",
       "      <td>PMC13911</td>\n",
       "      <td>11056684.0</td>\n",
       "      <td>NaN</td>\n",
       "      <td>live</td>\n",
       "    </tr>\n",
       "    <tr>\n",
       "      <th>4</th>\n",
       "      <td>Breast Cancer Res</td>\n",
       "      <td>1465-5411</td>\n",
       "      <td>1465-542X</td>\n",
       "      <td>1999</td>\n",
       "      <td>2</td>\n",
       "      <td>1</td>\n",
       "      <td>64</td>\n",
       "      <td>10.1186/bcr30</td>\n",
       "      <td>PMC13912</td>\n",
       "      <td>11400682.0</td>\n",
       "      <td>NaN</td>\n",
       "      <td>live</td>\n",
       "    </tr>\n",
       "  </tbody>\n",
       "</table>\n",
       "</div>"
      ],
      "text/plain": [
       "       Journal Title       ISSN      eISSN  Year Volume Issue Page  \\\n",
       "0  Breast Cancer Res  1465-5411  1465-542X  2000      3     1   55   \n",
       "1  Breast Cancer Res  1465-5411  1465-542X  2000      3     1   61   \n",
       "2  Breast Cancer Res  1465-5411  1465-542X  2000      3     1   66   \n",
       "3  Breast Cancer Res  1465-5411  1465-542X  1999      2     1   59   \n",
       "4  Breast Cancer Res  1465-5411  1465-542X  1999      2     1   64   \n",
       "\n",
       "              DOI     PMCID        PMID Manuscript Id Release Date  \n",
       "0  10.1186/bcr271  PMC13900  11250746.0           NaN         live  \n",
       "1  10.1186/bcr272  PMC13901  11250747.0           NaN         live  \n",
       "2  10.1186/bcr273  PMC13902  11250748.0           NaN         live  \n",
       "3   10.1186/bcr29  PMC13911  11056684.0           NaN         live  \n",
       "4   10.1186/bcr30  PMC13912  11400682.0           NaN         live  "
      ]
     },
     "execution_count": 5,
     "metadata": {},
     "output_type": "execute_result"
    }
   ],
   "source": [
    "df.head()"
   ]
  },
  {
   "cell_type": "code",
   "execution_count": 6,
   "metadata": {},
   "outputs": [
    {
     "data": {
      "text/plain": [
       "Journal Title     object\n",
       "ISSN              object\n",
       "eISSN             object\n",
       "Year               int64\n",
       "Volume            object\n",
       "Issue             object\n",
       "Page              object\n",
       "DOI               object\n",
       "PMCID             object\n",
       "PMID             float64\n",
       "Manuscript Id     object\n",
       "Release Date      object\n",
       "dtype: object"
      ]
     },
     "execution_count": 6,
     "metadata": {},
     "output_type": "execute_result"
    }
   ],
   "source": [
    "df.dtypes"
   ]
  },
  {
   "cell_type": "code",
   "execution_count": 7,
   "metadata": {},
   "outputs": [
    {
     "name": "stdout",
     "output_type": "stream",
     "text": [
      "7,297,822\n",
      "6,632,786\n"
     ]
    }
   ],
   "source": [
    "print('{:,}'.format(len(df)))\n",
    "print('{:,}'.format(df['PMID'].count()))"
   ]
  },
  {
   "cell_type": "code",
   "execution_count": 8,
   "metadata": {},
   "outputs": [
    {
     "data": {
      "text/html": [
       "<div>\n",
       "<style scoped>\n",
       "    .dataframe tbody tr th:only-of-type {\n",
       "        vertical-align: middle;\n",
       "    }\n",
       "\n",
       "    .dataframe tbody tr th {\n",
       "        vertical-align: top;\n",
       "    }\n",
       "\n",
       "    .dataframe thead th {\n",
       "        text-align: right;\n",
       "    }\n",
       "</style>\n",
       "<table border=\"1\" class=\"dataframe\">\n",
       "  <thead>\n",
       "    <tr style=\"text-align: right;\">\n",
       "      <th></th>\n",
       "      <th>Journal Title</th>\n",
       "      <th>ISSN</th>\n",
       "      <th>eISSN</th>\n",
       "      <th>Year</th>\n",
       "      <th>Volume</th>\n",
       "      <th>Issue</th>\n",
       "      <th>Page</th>\n",
       "      <th>DOI</th>\n",
       "      <th>PMCID</th>\n",
       "      <th>PMID</th>\n",
       "      <th>Manuscript Id</th>\n",
       "      <th>Release Date</th>\n",
       "    </tr>\n",
       "  </thead>\n",
       "  <tbody>\n",
       "    <tr>\n",
       "      <th>0</th>\n",
       "      <td>Breast Cancer Res</td>\n",
       "      <td>1465-5411</td>\n",
       "      <td>1465-542X</td>\n",
       "      <td>2000</td>\n",
       "      <td>3</td>\n",
       "      <td>1</td>\n",
       "      <td>55</td>\n",
       "      <td>10.1186/bcr271</td>\n",
       "      <td>PMC13900</td>\n",
       "      <td>11250746</td>\n",
       "      <td>NaN</td>\n",
       "      <td>live</td>\n",
       "    </tr>\n",
       "    <tr>\n",
       "      <th>1</th>\n",
       "      <td>Breast Cancer Res</td>\n",
       "      <td>1465-5411</td>\n",
       "      <td>1465-542X</td>\n",
       "      <td>2000</td>\n",
       "      <td>3</td>\n",
       "      <td>1</td>\n",
       "      <td>61</td>\n",
       "      <td>10.1186/bcr272</td>\n",
       "      <td>PMC13901</td>\n",
       "      <td>11250747</td>\n",
       "      <td>NaN</td>\n",
       "      <td>live</td>\n",
       "    </tr>\n",
       "  </tbody>\n",
       "</table>\n",
       "</div>"
      ],
      "text/plain": [
       "       Journal Title       ISSN      eISSN  Year Volume Issue Page  \\\n",
       "0  Breast Cancer Res  1465-5411  1465-542X  2000      3     1   55   \n",
       "1  Breast Cancer Res  1465-5411  1465-542X  2000      3     1   61   \n",
       "\n",
       "              DOI     PMCID      PMID Manuscript Id Release Date  \n",
       "0  10.1186/bcr271  PMC13900  11250746           NaN         live  \n",
       "1  10.1186/bcr272  PMC13901  11250747           NaN         live  "
      ]
     },
     "execution_count": 8,
     "metadata": {},
     "output_type": "execute_result"
    }
   ],
   "source": [
    "df = df.dropna(subset=['PMID'])\n",
    "df['PMID'] = df['PMID'].astype(int).astype(str)\n",
    "\n",
    "df.head(2)"
   ]
  },
  {
   "cell_type": "code",
   "execution_count": 9,
   "metadata": {},
   "outputs": [],
   "source": [
    "pmid_to_year = df.set_index('PMID')['Year'].to_dict()"
   ]
  },
  {
   "cell_type": "code",
   "execution_count": 10,
   "metadata": {},
   "outputs": [
    {
     "name": "stdout",
     "output_type": "stream",
     "text": [
      "15,906,124\n"
     ]
    }
   ],
   "source": [
    "mapped = set(pmid_to_year.keys())\n",
    "no_map = set(pmids) - mapped\n",
    "print('{:,}'.format(len(no_map)))"
   ]
  },
  {
   "cell_type": "code",
   "execution_count": 11,
   "metadata": {},
   "outputs": [],
   "source": [
    "import pickle\n",
    "pickle.dump(pmid_to_year, open('../data/pmid_to_year_PMC.pkl', 'wb'))"
   ]
  },
  {
   "cell_type": "code",
   "execution_count": 13,
   "metadata": {},
   "outputs": [],
   "source": [
    "pickle.dump(no_map, open('../data/no_map_PMC.pkl', 'wb'))"
   ]
  }
 ],
 "metadata": {
  "kernelspec": {
   "display_name": "Python 3 (ipykernel)",
   "language": "python",
   "name": "python3"
  },
  "language_info": {
   "codemirror_mode": {
    "name": "ipython",
    "version": 3
   },
   "file_extension": ".py",
   "mimetype": "text/x-python",
   "name": "python",
   "nbconvert_exporter": "python",
   "pygments_lexer": "ipython3",
   "version": "3.10.6"
  }
 },
 "nbformat": 4,
 "nbformat_minor": 4
}
