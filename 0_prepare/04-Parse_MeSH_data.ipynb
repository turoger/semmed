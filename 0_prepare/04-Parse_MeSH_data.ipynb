{
 "cells": [
  {
   "cell_type": "code",
   "execution_count": 1,
   "metadata": {},
   "outputs": [
    {
     "name": "stdout",
     "output_type": "stream",
     "text": [
      "--2021-08-14 15:35:27--  ftp://nlmpubs.nlm.nih.gov/online/mesh/MESH_FILES/xmlmesh/supp2021.xml\n",
      "           => ‘../data/supp2021.xml’\n",
      "Resolving nlmpubs.nlm.nih.gov (nlmpubs.nlm.nih.gov)... 130.14.173.134\n",
      "Connecting to nlmpubs.nlm.nih.gov (nlmpubs.nlm.nih.gov)|130.14.173.134|:21... connected.\n",
      "Logging in as anonymous ... Logged in!\n",
      "==> SYST ... done.    ==> PWD ... done.\n",
      "==> TYPE I ... done.  ==> CWD (1) /online/mesh/MESH_FILES/xmlmesh ... done.\n",
      "==> SIZE supp2021.xml ... 716875513\n",
      "==> PASV ... done.    ==> RETR supp2021.xml ... done.\n",
      "Length: 716875513 (684M) (unauthoritative)\n",
      "\n",
      "supp2021.xml        100%[===================>] 683.67M  43.5MB/s    in 18s     \n",
      "\n",
      "2021-08-14 15:35:47 (37.7 MB/s) - ‘../data/supp2021.xml’ saved [716875513]\n",
      "\n",
      "--2021-08-14 15:35:49--  ftp://nlmpubs.nlm.nih.gov/online/mesh/MESH_FILES/xmlmesh/desc2021.xml\n",
      "           => ‘../data/desc2021.xml’\n",
      "Resolving nlmpubs.nlm.nih.gov (nlmpubs.nlm.nih.gov)... 130.14.173.134\n",
      "Connecting to nlmpubs.nlm.nih.gov (nlmpubs.nlm.nih.gov)|130.14.173.134|:21... connected.\n",
      "Logging in as anonymous ... Logged in!\n",
      "==> SYST ... done.    ==> PWD ... done.\n",
      "==> TYPE I ... done.  ==> CWD (1) /online/mesh/MESH_FILES/xmlmesh ... done.\n",
      "==> SIZE desc2021.xml ... 300409046\n",
      "==> PASV ... done.    ==> RETR desc2021.xml ... done.\n",
      "Length: 300409046 (286M) (unauthoritative)\n",
      "\n",
      "desc2021.xml        100%[===================>] 286.49M  8.53MB/s    in 47s     \n",
      "\n",
      "2021-08-14 15:36:38 (6.07 MB/s) - ‘../data/desc2021.xml’ saved [300409046]\n",
      "\n"
     ]
    }
   ],
   "source": [
    "!wget -O ../data/supp2021.xml ftp://nlmpubs.nlm.nih.gov/online/mesh/MESH_FILES/xmlmesh/supp2021.xml\n",
    "!wget -O ../data/desc2021.xml ftp://nlmpubs.nlm.nih.gov/online/mesh/MESH_FILES/xmlmesh/desc2021.xml"
   ]
  },
  {
   "cell_type": "code",
   "execution_count": 2,
   "metadata": {},
   "outputs": [],
   "source": [
    "import pickle\n",
    "import xml.etree.ElementTree as ET\n",
    "from collections import defaultdict"
   ]
  },
  {
   "cell_type": "markdown",
   "metadata": {},
   "source": [
    "## Go from MeSH Descriptor IDs or MeSH Supplemental IDs to name"
   ]
  },
  {
   "cell_type": "code",
   "execution_count": 3,
   "metadata": {},
   "outputs": [],
   "source": [
    "root = ET.parse('../data/desc2021.xml').getroot()\n",
    "root1 = ET.parse('../data/supp2021.xml').getroot()"
   ]
  },
  {
   "cell_type": "code",
   "execution_count": 4,
   "metadata": {},
   "outputs": [],
   "source": [
    "id_to_name = dict()\n",
    "for descriptor in root.getchildren():\n",
    "    for child in descriptor.getchildren():\n",
    "        if child.tag == 'DescriptorUI':\n",
    "            uid = child.text\n",
    "        if child.tag == 'DescriptorName':\n",
    "            name = child.getchildren()[0].text\n",
    "    id_to_name[uid] = name"
   ]
  },
  {
   "cell_type": "code",
   "execution_count": 5,
   "metadata": {},
   "outputs": [],
   "source": [
    "for supplement in root1.getchildren():\n",
    "    for child in supplement.getchildren():\n",
    "        if child.tag == 'SupplementalRecordUI':\n",
    "            uid = child.text\n",
    "        if child.tag == 'SupplementalRecordName':\n",
    "            name = child.getchildren()[0].text\n",
    "    id_to_name[uid] = name"
   ]
  },
  {
   "cell_type": "code",
   "execution_count": 6,
   "metadata": {},
   "outputs": [
    {
     "data": {
      "text/plain": [
       "347626"
      ]
     },
     "execution_count": 6,
     "metadata": {},
     "output_type": "execute_result"
    }
   ],
   "source": [
    "len(id_to_name)"
   ]
  },
  {
   "cell_type": "code",
   "execution_count": 7,
   "metadata": {},
   "outputs": [],
   "source": [
    "pickle.dump(id_to_name, open('../data/MeSH_DescUID_to_Name.pkl', 'wb'))"
   ]
  },
  {
   "cell_type": "markdown",
   "metadata": {},
   "source": [
    "## Also get tree-values for childern"
   ]
  },
  {
   "cell_type": "code",
   "execution_count": 8,
   "metadata": {},
   "outputs": [],
   "source": [
    "id_to_treenumbs = defaultdict(list)\n",
    "for descriptor in root.getchildren():\n",
    "    for child in descriptor.getchildren():\n",
    "        if child.tag == 'DescriptorUI':\n",
    "            uid = child.text\n",
    "        if child.tag == 'TreeNumberList':\n",
    "            for tn in child.getchildren():\n",
    "                id_to_treenumbs[uid].append(tn.text)"
   ]
  },
  {
   "cell_type": "code",
   "execution_count": 9,
   "metadata": {},
   "outputs": [],
   "source": [
    "pickle.dump(id_to_treenumbs, open('../data/MeSH_DescUID_to_TreeNumbs.pkl', 'wb'))"
   ]
  }
 ],
 "metadata": {
  "kernelspec": {
   "display_name": "Python 3 (ipykernel)",
   "language": "python",
   "name": "python3"
  },
  "language_info": {
   "codemirror_mode": {
    "name": "ipython",
    "version": 3
   },
   "file_extension": ".py",
   "mimetype": "text/x-python",
   "name": "python",
   "nbconvert_exporter": "python",
   "pygments_lexer": "ipython3",
   "version": "3.10.6"
  }
 },
 "nbformat": 4,
 "nbformat_minor": 4
}
