{
 "cells": [
  {
   "cell_type": "markdown",
   "metadata": {},
   "source": [
    "# PMID to Year Map -- Europepmc\n",
    "\n",
    "https://europepmc.org/downloads"
   ]
  },
  {
   "cell_type": "code",
   "execution_count": 1,
   "metadata": {},
   "outputs": [],
   "source": [
    "import os\n",
    "import pandas as pd\n",
    "from tqdm import tqdm\n",
    "import gzip\n",
    "import xml.etree.ElementTree as ET"
   ]
  },
  {
   "cell_type": "code",
   "execution_count": 2,
   "metadata": {},
   "outputs": [
    {
     "name": "stdout",
     "output_type": "stream",
     "text": [
      "--2021-08-05 01:22:37--  http://europepmc.org/ftp/pmclitemetadata/PMCLiteMetadata.tgz\n",
      "Resolving europepmc.org (europepmc.org)... 193.62.193.83\n",
      "Connecting to europepmc.org (europepmc.org)|193.62.193.83|:80... connected.\n",
      "HTTP request sent, awaiting response... 200 OK\n",
      "Length: 1276354235 (1.2G) [application/x-gzip]\n",
      "Saving to: ‘../data/PMCLiteMetadata.tgz’\n",
      "\n",
      "../data/PMCLiteMeta 100%[===================>]   1.19G  7.78MB/s    in 4m 49s  \n",
      "\n",
      "2021-08-05 01:27:27 (4.21 MB/s) - ‘../data/PMCLiteMetadata.tgz’ saved [1276354235/1276354235]\n",
      "\n"
     ]
    }
   ],
   "source": [
    "!wget -O ../data/PMCLiteMetadata.tgz http://europepmc.org/ftp/pmclitemetadata/PMCLiteMetadata.tgz"
   ]
  },
  {
   "cell_type": "code",
   "execution_count": 3,
   "metadata": {},
   "outputs": [
    {
     "name": "stdout",
     "output_type": "stream",
     "text": [
      "out/\n",
      "out/PMC.10.xml\n",
      "out/PMC.11.xml\n",
      "out/PMC.12.xml\n",
      "out/PMC.13.xml\n",
      "out/PMC.14.xml\n",
      "out/PMC.15.xml\n",
      "out/PMC.16.xml\n",
      "out/PMC.17.xml\n",
      "out/PMC.18.xml\n",
      "out/PMC.19.xml\n",
      "out/PMC.1.xml\n",
      "out/PMC.20.xml\n",
      "out/PMC.21.xml\n",
      "out/PMC.22.xml\n",
      "out/PMC.23.xml\n",
      "out/PMC.24.xml\n",
      "out/PMC.2.xml\n",
      "out/PMC.3.xml\n",
      "out/PMC.4.xml\n",
      "out/PMC.5.xml\n",
      "out/PMC.6.xml\n",
      "out/PMC.7.xml\n",
      "out/PMC.8.xml\n",
      "out/PMC.9.xml\n",
      "out/PMC.0.xml\n",
      "out/test.txt\n"
     ]
    }
   ],
   "source": [
    "!tar -xvzf ../data/PMCLiteMetadata.tgz -C ../data"
   ]
  },
  {
   "cell_type": "code",
   "execution_count": 4,
   "metadata": {},
   "outputs": [],
   "source": [
    "import xml.etree.ElementTree as ET\n",
    "\n",
    "class XML2DataFrame:\n",
    "\n",
    "    def __init__(self, xml_file):\n",
    "        self.root = ET.parse(xml_file).getroot()\n",
    "\n",
    "    def parse_root(self, root):\n",
    "        \"\"\"Return a list of dictionaries from the text\n",
    "         and attributes of the children under this XML root.\"\"\"\n",
    "        return [self.parse_element(child) for child in root.getchildren()]\n",
    "\n",
    "    def parse_element(self, element):\n",
    "        \"\"\" Collect {key:attribute} and {tag:text} from thie XML\n",
    "         element and all its children into a single dictionary of strings.\"\"\"\n",
    "        parsed = {c.tag: c.text for c in element.getchildren()}\n",
    "        return parsed\n",
    " \n",
    "    def process_data(self):\n",
    "        \"\"\" Initiate the root XML, parse it, and return a dataframe\"\"\"\n",
    "        structure_data = self.parse_root(self.root)\n",
    "        return pd.DataFrame(structure_data)\n"
   ]
  },
  {
   "cell_type": "code",
   "execution_count": 5,
   "metadata": {},
   "outputs": [
    {
     "name": "stderr",
     "output_type": "stream",
     "text": [
      "100%|██████████| 25/25 [11:11<00:00, 26.88s/it]\n",
      "/home/rogertu/anaconda3/envs/semmed/lib/python3.5/site-packages/ipykernel_launcher.py:10: FutureWarning: Sorting because non-concatenation axis is not aligned. A future version\n",
      "of pandas will change to not sort by default.\n",
      "\n",
      "To accept the future behavior, pass 'sort=False'.\n",
      "\n",
      "To retain the current behavior and silence the warning, pass 'sort=True'.\n",
      "\n",
      "  # Remove the CWD from sys.path while we load stuff.\n"
     ]
    }
   ],
   "source": [
    "frames = []\n",
    "base = '../data/out'\n",
    "files = sorted([f for f in os.listdir(base) if f.endswith('.xml')], key=lambda x: int(x.split('.')[1]))\n",
    "\n",
    "for file in tqdm(files):\n",
    "    xml2df = XML2DataFrame(os.path.join(base, file))\n",
    "    xml_dataframe = xml2df.process_data()\n",
    "    frames.append(xml_dataframe)\n",
    "\n",
    "result = pd.concat(frames)"
   ]
  },
  {
   "cell_type": "code",
   "execution_count": 6,
   "metadata": {
    "scrolled": true
   },
   "outputs": [
    {
     "data": {
      "text/html": [
       "<div>\n",
       "<style scoped>\n",
       "    .dataframe tbody tr th:only-of-type {\n",
       "        vertical-align: middle;\n",
       "    }\n",
       "\n",
       "    .dataframe tbody tr th {\n",
       "        vertical-align: top;\n",
       "    }\n",
       "\n",
       "    .dataframe thead th {\n",
       "        text-align: right;\n",
       "    }\n",
       "</style>\n",
       "<table border=\"1\" class=\"dataframe\">\n",
       "  <thead>\n",
       "    <tr style=\"text-align: right;\">\n",
       "      <th></th>\n",
       "      <th>AuthorList</th>\n",
       "      <th>CitedByCount</th>\n",
       "      <th>DOI</th>\n",
       "      <th>FirstIndexDate</th>\n",
       "      <th>FirstPublicationDate</th>\n",
       "      <th>HasBook</th>\n",
       "      <th>HasLabsLinks</th>\n",
       "      <th>HasPDF</th>\n",
       "      <th>HasReferences</th>\n",
       "      <th>HasSuppl</th>\n",
       "      <th>...</th>\n",
       "      <th>PageInfo</th>\n",
       "      <th>PubType</th>\n",
       "      <th>PubYear</th>\n",
       "      <th>PublicationStatus</th>\n",
       "      <th>Title</th>\n",
       "      <th>id</th>\n",
       "      <th>pmcid</th>\n",
       "      <th>pmid</th>\n",
       "      <th>source</th>\n",
       "      <th>title</th>\n",
       "    </tr>\n",
       "  </thead>\n",
       "  <tbody>\n",
       "    <tr>\n",
       "      <th>0</th>\n",
       "      <td>\\n</td>\n",
       "      <td>74</td>\n",
       "      <td>10.1073/pnas.96.21.11740</td>\n",
       "      <td>2009-12-23</td>\n",
       "      <td>1999-10-01</td>\n",
       "      <td>N</td>\n",
       "      <td>Y</td>\n",
       "      <td>Y</td>\n",
       "      <td>Y</td>\n",
       "      <td>N</td>\n",
       "      <td>...</td>\n",
       "      <td>11740-5</td>\n",
       "      <td>\"journal article\"</td>\n",
       "      <td>1999</td>\n",
       "      <td>ppublish</td>\n",
       "      <td>NaN</td>\n",
       "      <td>10518520</td>\n",
       "      <td>PMC18356</td>\n",
       "      <td>10518520</td>\n",
       "      <td>MED</td>\n",
       "      <td>A multiplasmid approach to preparing large lib...</td>\n",
       "    </tr>\n",
       "    <tr>\n",
       "      <th>1</th>\n",
       "      <td>\\n</td>\n",
       "      <td>206</td>\n",
       "      <td>10.1073/pnas.98.2.759</td>\n",
       "      <td>2010-09-15</td>\n",
       "      <td>2001-01-09</td>\n",
       "      <td>N</td>\n",
       "      <td>Y</td>\n",
       "      <td>Y</td>\n",
       "      <td>Y</td>\n",
       "      <td>N</td>\n",
       "      <td>...</td>\n",
       "      <td>759-64</td>\n",
       "      <td>\"journal article\",\"research support, non-u.s. ...</td>\n",
       "      <td>2001</td>\n",
       "      <td>ppublish</td>\n",
       "      <td>NaN</td>\n",
       "      <td>11149940</td>\n",
       "      <td>PMC14661</td>\n",
       "      <td>11149940</td>\n",
       "      <td>MED</td>\n",
       "      <td>Essential role of the small GTPase Rac in dise...</td>\n",
       "    </tr>\n",
       "  </tbody>\n",
       "</table>\n",
       "<p>2 rows × 27 columns</p>\n",
       "</div>"
      ],
      "text/plain": [
       "  AuthorList CitedByCount                       DOI FirstIndexDate  \\\n",
       "0         \\n           74  10.1073/pnas.96.21.11740     2009-12-23   \n",
       "1         \\n          206     10.1073/pnas.98.2.759     2010-09-15   \n",
       "\n",
       "  FirstPublicationDate HasBook HasLabsLinks HasPDF HasReferences HasSuppl  \\\n",
       "0           1999-10-01       N            Y      Y             Y        N   \n",
       "1           2001-01-09       N            Y      Y             Y        N   \n",
       "\n",
       "   ... PageInfo                                            PubType PubYear  \\\n",
       "0  ...  11740-5                                  \"journal article\"    1999   \n",
       "1  ...   759-64  \"journal article\",\"research support, non-u.s. ...    2001   \n",
       "\n",
       "  PublicationStatus Title        id     pmcid      pmid source  \\\n",
       "0          ppublish   NaN  10518520  PMC18356  10518520    MED   \n",
       "1          ppublish   NaN  11149940  PMC14661  11149940    MED   \n",
       "\n",
       "                                               title  \n",
       "0  A multiplasmid approach to preparing large lib...  \n",
       "1  Essential role of the small GTPase Rac in dise...  \n",
       "\n",
       "[2 rows x 27 columns]"
      ]
     },
     "execution_count": 6,
     "metadata": {},
     "output_type": "execute_result"
    }
   ],
   "source": [
    "result.head(2)"
   ]
  },
  {
   "cell_type": "code",
   "execution_count": 7,
   "metadata": {},
   "outputs": [
    {
     "name": "stdout",
     "output_type": "stream",
     "text": [
      "7,030,873\n"
     ]
    }
   ],
   "source": [
    "print('{:,}'.format(len(result)))"
   ]
  },
  {
   "cell_type": "code",
   "execution_count": 8,
   "metadata": {},
   "outputs": [],
   "source": [
    "pmid_mapper = result.set_index('pmid')['PubYear'].to_dict()"
   ]
  },
  {
   "cell_type": "code",
   "execution_count": 9,
   "metadata": {
    "scrolled": true
   },
   "outputs": [
    {
     "name": "stdout",
     "output_type": "stream",
     "text": [
      "15,906,124\n"
     ]
    }
   ],
   "source": [
    "import pickle\n",
    "prev_no_map = pickle.load(open('../data/no_map_PMC.pkl', 'rb'))\n",
    "print('{:,}'.format(len(prev_no_map)))"
   ]
  },
  {
   "cell_type": "code",
   "execution_count": 10,
   "metadata": {},
   "outputs": [
    {
     "name": "stdout",
     "output_type": "stream",
     "text": [
      "15,904,514\n"
     ]
    }
   ],
   "source": [
    "mapped = set(pmid_mapper.keys())\n",
    "new_no_map = prev_no_map - mapped\n",
    "print('{:,}'.format(len(new_no_map)))"
   ]
  },
  {
   "cell_type": "code",
   "execution_count": 11,
   "metadata": {},
   "outputs": [],
   "source": [
    "pickle.dump(pmid_mapper, open('../data/pmid_to_year_Eur.pkl', 'wb'))\n",
    "pickle.dump(new_no_map, open('../data/no_map_Eur.pkl', 'wb'))"
   ]
  }
 ],
 "metadata": {
  "kernelspec": {
   "display_name": "Python 3 (ipykernel)",
   "language": "python",
   "name": "python3"
  },
  "language_info": {
   "codemirror_mode": {
    "name": "ipython",
    "version": 3
   },
   "file_extension": ".py",
   "mimetype": "text/x-python",
   "name": "python",
   "nbconvert_exporter": "python",
   "pygments_lexer": "ipython3",
   "version": "3.10.6"
  }
 },
 "nbformat": 4,
 "nbformat_minor": 4
}
