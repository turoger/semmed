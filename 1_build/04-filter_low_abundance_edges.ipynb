{
 "cells": [
  {
   "cell_type": "code",
   "execution_count": 1,
   "metadata": {
    "collapsed": true
   },
   "outputs": [],
   "source": [
    "import os\n",
    "import sys\n",
    "sys.path.append('../../hetnet-ml/src')\n",
    "import graph_tools as gt\n",
    "import pickle\n",
    "%matplotlib inline\n",
    "import pandas as pd\n",
    "import numpy as np\n",
    "import seaborn as sns\n",
    "from tqdm import tqdm\n",
    "import matplotlib.pyplot as plt"
   ]
  },
  {
   "cell_type": "code",
   "execution_count": 2,
   "metadata": {
    "collapsed": true
   },
   "outputs": [],
   "source": [
    "nodes = pd.read_csv('../data/nodes_VER31_R_consolidated_condensed.csv')\n",
    "edges = pd.read_csv('../data/edges_VER31_R_consolidated_condensed.csv')\n",
    "\n",
    "# remove : character from column names to make them queryable\n",
    "nodes = gt.remove_colons(nodes)\n",
    "edges = gt.remove_colons(edges)"
   ]
  },
  {
   "cell_type": "code",
   "execution_count": 3,
   "metadata": {},
   "outputs": [
    {
     "name": "stdout",
     "output_type": "stream",
     "text": [
      "79,223 Compounds x 34,325 Diseases = 2,719,329,475 C-D pairs\n"
     ]
    }
   ],
   "source": [
    "comps = (nodes['label'] == 'Chemicals & Drugs').sum() \n",
    "diseases = (nodes['label'] == 'Disorders').sum()\n",
    "\n",
    "print('{:,} Compounds x {:,} Diseases = {:,} C-D pairs'.format(comps, diseases, comps*diseases))"
   ]
  },
  {
   "cell_type": "code",
   "execution_count": 4,
   "metadata": {},
   "outputs": [
    {
     "data": {
      "text/html": [
       "<div>\n",
       "<style scoped>\n",
       "    .dataframe tbody tr th:only-of-type {\n",
       "        vertical-align: middle;\n",
       "    }\n",
       "\n",
       "    .dataframe tbody tr th {\n",
       "        vertical-align: top;\n",
       "    }\n",
       "\n",
       "    .dataframe thead th {\n",
       "        text-align: right;\n",
       "    }\n",
       "</style>\n",
       "<table border=\"1\" class=\"dataframe\">\n",
       "  <thead>\n",
       "    <tr style=\"text-align: right;\">\n",
       "      <th></th>\n",
       "      <th>id</th>\n",
       "      <th>name</th>\n",
       "      <th>label</th>\n",
       "      <th>id_source</th>\n",
       "    </tr>\n",
       "  </thead>\n",
       "  <tbody>\n",
       "    <tr>\n",
       "      <th>0</th>\n",
       "      <td>C0418940</td>\n",
       "      <td>Change of employment</td>\n",
       "      <td>Activities &amp; Behaviors</td>\n",
       "      <td>UMLS</td>\n",
       "    </tr>\n",
       "    <tr>\n",
       "      <th>1</th>\n",
       "      <td>D006686</td>\n",
       "      <td>Hobbies</td>\n",
       "      <td>Activities &amp; Behaviors</td>\n",
       "      <td>MeSH</td>\n",
       "    </tr>\n",
       "  </tbody>\n",
       "</table>\n",
       "</div>"
      ],
      "text/plain": [
       "         id                  name                   label id_source\n",
       "0  C0418940  Change of employment  Activities & Behaviors      UMLS\n",
       "1   D006686               Hobbies  Activities & Behaviors      MeSH"
      ]
     },
     "execution_count": 4,
     "metadata": {},
     "output_type": "execute_result"
    }
   ],
   "source": [
    "nodes.head(2)"
   ]
  },
  {
   "cell_type": "code",
   "execution_count": 5,
   "metadata": {},
   "outputs": [
    {
     "data": {
      "text/html": [
       "<div>\n",
       "<style scoped>\n",
       "    .dataframe tbody tr th:only-of-type {\n",
       "        vertical-align: middle;\n",
       "    }\n",
       "\n",
       "    .dataframe tbody tr th {\n",
       "        vertical-align: top;\n",
       "    }\n",
       "\n",
       "    .dataframe thead th {\n",
       "        text-align: right;\n",
       "    }\n",
       "</style>\n",
       "<table border=\"1\" class=\"dataframe\">\n",
       "  <thead>\n",
       "    <tr style=\"text-align: right;\">\n",
       "      <th></th>\n",
       "      <th>start_id</th>\n",
       "      <th>end_id</th>\n",
       "      <th>type</th>\n",
       "      <th>pmids</th>\n",
       "      <th>n_pmids</th>\n",
       "    </tr>\n",
       "  </thead>\n",
       "  <tbody>\n",
       "    <tr>\n",
       "      <th>0</th>\n",
       "      <td>C0441648</td>\n",
       "      <td>D014838</td>\n",
       "      <td>ADMINISTERED_TO_ABatLB</td>\n",
       "      <td>{18423504}</td>\n",
       "      <td>1</td>\n",
       "    </tr>\n",
       "    <tr>\n",
       "      <th>1</th>\n",
       "      <td>C0441648</td>\n",
       "      <td>D002648</td>\n",
       "      <td>ADMINISTERED_TO_ABatLB</td>\n",
       "      <td>{28507890, 15608027, 29402495}</td>\n",
       "      <td>3</td>\n",
       "    </tr>\n",
       "  </tbody>\n",
       "</table>\n",
       "</div>"
      ],
      "text/plain": [
       "   start_id   end_id                    type                           pmids  \\\n",
       "0  C0441648  D014838  ADMINISTERED_TO_ABatLB                      {18423504}   \n",
       "1  C0441648  D002648  ADMINISTERED_TO_ABatLB  {28507890, 15608027, 29402495}   \n",
       "\n",
       "   n_pmids  \n",
       "0        1  \n",
       "1        3  "
      ]
     },
     "execution_count": 5,
     "metadata": {},
     "output_type": "execute_result"
    }
   ],
   "source": [
    "edges.head(2)"
   ]
  },
  {
   "cell_type": "code",
   "execution_count": 6,
   "metadata": {},
   "outputs": [
    {
     "data": {
      "text/plain": [
       "LOCATION_OF_AloCD         976627\n",
       "REGULATES_CDreg>CD        822256\n",
       "INTERACTS_WITH_CDiwG      685425\n",
       "LOCATION_OF_AloG          530568\n",
       "TREATS_CDtDO              523202\n",
       "ASSOCIATED_WITH_DOawDO    465285\n",
       "LOCATION_OF_AloDO         458458\n",
       "PRODUCES_LBpdCD           454085\n",
       "AFFECTS_DOafLB            429212\n",
       "STIMULATES_CDstG          377490\n",
       "TREATS_PRtDO              345634\n",
       "AFFECTS_CDafA             317921\n",
       "ASSOCIATED_WITH_GawDO     259812\n",
       "AFFECTS_GafPS             250153\n",
       "USES_PRuCD                249391\n",
       "INHIBITS_GinCD            241332\n",
       "LOCATION_OF_AloA          227011\n",
       "AUGMENTS_CDagPS           226235\n",
       "PART_OF_GpoLB             216165\n",
       "INTERACTS_WITH_GiwG       204609\n",
       "Name: type, dtype: int64"
      ]
     },
     "execution_count": 6,
     "metadata": {},
     "output_type": "execute_result"
    }
   ],
   "source": [
    "counts = edges[\"type\"].value_counts()\n",
    "counts.head(20)"
   ]
  },
  {
   "cell_type": "code",
   "execution_count": 7,
   "metadata": {},
   "outputs": [
    {
     "data": {
      "image/png": "[encoded data removed]",
      "text/plain": [
       "<Figure size 432x288 with 1 Axes>"
      ]
     },
     "metadata": {},
     "output_type": "display_data"
    }
   ],
   "source": [
    "counts[:20].plot(kind='bar');"
   ]
  },
  {
   "cell_type": "markdown",
   "metadata": {},
   "source": [
    "# Filter out the lower count edge types"
   ]
  },
  {
   "cell_type": "code",
   "execution_count": 8,
   "metadata": {},
   "outputs": [
    {
     "data": {
      "text/plain": [
       "'12,270,779'"
      ]
     },
     "execution_count": 8,
     "metadata": {},
     "output_type": "execute_result"
    }
   ],
   "source": [
    "'{:,}'.format(edges.shape[0])"
   ]
  },
  {
   "cell_type": "code",
   "execution_count": 9,
   "metadata": {},
   "outputs": [
    {
     "name": "stdout",
     "output_type": "stream",
     "text": [
      "Number of edge types with this cutoff: 70\n",
      "Number of edges that remain with this cutoff: 11,458,208\n"
     ]
    }
   ],
   "source": [
    "cutoff = .001\n",
    "\n",
    "print(\"Number of edge types with this cutoff: {}\".format((counts > cutoff*len(edges)).sum()))\n",
    "print(\"Number of edges that remain with this cutoff: {:,}\".format(counts[counts > cutoff*len(edges)].sum()))"
   ]
  },
  {
   "cell_type": "code",
   "execution_count": 10,
   "metadata": {
    "collapsed": true
   },
   "outputs": [],
   "source": [
    "ok_edges = list(counts[counts > cutoff*len(edges)].index)"
   ]
  },
  {
   "cell_type": "code",
   "execution_count": 11,
   "metadata": {
    "collapsed": true
   },
   "outputs": [],
   "source": [
    "result = edges.query('type in @ok_edges')"
   ]
  },
  {
   "cell_type": "code",
   "execution_count": 12,
   "metadata": {},
   "outputs": [
    {
     "data": {
      "text/plain": [
       "'11,458,208'"
      ]
     },
     "execution_count": 12,
     "metadata": {},
     "output_type": "execute_result"
    }
   ],
   "source": [
    "'{:,}'.format(result.shape[0])"
   ]
  },
  {
   "cell_type": "markdown",
   "metadata": {},
   "source": [
    "# Some quick validation that all ids are the same between nodes and edges"
   ]
  },
  {
   "cell_type": "code",
   "execution_count": 13,
   "metadata": {
    "collapsed": true
   },
   "outputs": [],
   "source": [
    "edge_ids = set(result['start_id'].unique()).union(set(result['end_id'].unique()))"
   ]
  },
  {
   "cell_type": "code",
   "execution_count": 14,
   "metadata": {
    "collapsed": true
   },
   "outputs": [],
   "source": [
    "node_ids = set(nodes['id'].unique())"
   ]
  },
  {
   "cell_type": "code",
   "execution_count": 15,
   "metadata": {
    "collapsed": true
   },
   "outputs": [],
   "source": [
    "not_in_edges = node_ids - edge_ids"
   ]
  },
  {
   "cell_type": "code",
   "execution_count": 16,
   "metadata": {
    "collapsed": true
   },
   "outputs": [],
   "source": [
    "not_in_edges = list(not_in_edges)"
   ]
  },
  {
   "cell_type": "code",
   "execution_count": 17,
   "metadata": {
    "collapsed": true
   },
   "outputs": [],
   "source": [
    "idx = nodes.query('id in @not_in_edges').index\n",
    "nodes = nodes.drop(idx)"
   ]
  },
  {
   "cell_type": "code",
   "execution_count": 18,
   "metadata": {},
   "outputs": [
    {
     "data": {
      "text/plain": [
       "215648"
      ]
     },
     "execution_count": 18,
     "metadata": {},
     "output_type": "execute_result"
    }
   ],
   "source": [
    "len(nodes)"
   ]
  },
  {
   "cell_type": "code",
   "execution_count": 19,
   "metadata": {},
   "outputs": [
    {
     "data": {
      "image/png": "[encoded data removed]",
      "text/plain": [
       "<Figure size 432x288 with 1 Axes>"
      ]
     },
     "metadata": {},
     "output_type": "display_data"
    }
   ],
   "source": [
    "nodes['label'].value_counts().plot(kind='bar');"
   ]
  },
  {
   "cell_type": "markdown",
   "metadata": {},
   "source": [
    "# Look at the resulting network to see if other changes are necessary"
   ]
  },
  {
   "cell_type": "code",
   "execution_count": 20,
   "metadata": {
    "collapsed": true
   },
   "outputs": [],
   "source": [
    "combo = gt.combine_nodes_and_edges(gt.add_colons(nodes), gt.add_colons(result[['start_id', 'end_id', 'type', 'n_pmids']]))\n",
    "combo = gt.remove_colons(combo)"
   ]
  },
  {
   "cell_type": "code",
   "execution_count": 21,
   "metadata": {},
   "outputs": [
    {
     "data": {
      "text/html": [
       "<div>\n",
       "<style scoped>\n",
       "    .dataframe tbody tr th:only-of-type {\n",
       "        vertical-align: middle;\n",
       "    }\n",
       "\n",
       "    .dataframe tbody tr th {\n",
       "        vertical-align: top;\n",
       "    }\n",
       "\n",
       "    .dataframe thead th {\n",
       "        text-align: right;\n",
       "    }\n",
       "</style>\n",
       "<table border=\"1\" class=\"dataframe\">\n",
       "  <thead>\n",
       "    <tr style=\"text-align: right;\">\n",
       "      <th></th>\n",
       "      <th>start_id</th>\n",
       "      <th>end_id</th>\n",
       "      <th>type</th>\n",
       "      <th>n_pmids</th>\n",
       "      <th>start_name</th>\n",
       "      <th>end_name</th>\n",
       "      <th>start_label</th>\n",
       "      <th>end_label</th>\n",
       "    </tr>\n",
       "  </thead>\n",
       "  <tbody>\n",
       "    <tr>\n",
       "      <th>446</th>\n",
       "      <td>D020927</td>\n",
       "      <td>C0682053</td>\n",
       "      <td>ADMINISTERED_TO_CDatLB</td>\n",
       "      <td>1</td>\n",
       "      <td>Dexmedetomidine</td>\n",
       "      <td>Toddler</td>\n",
       "      <td>Chemicals &amp; Drugs</td>\n",
       "      <td>Living Beings</td>\n",
       "    </tr>\n",
       "    <tr>\n",
       "      <th>447</th>\n",
       "      <td>D019695</td>\n",
       "      <td>D014838</td>\n",
       "      <td>ADMINISTERED_TO_CDatLB</td>\n",
       "      <td>2</td>\n",
       "      <td>Glycyrrhizic Acid</td>\n",
       "      <td>Volunteers</td>\n",
       "      <td>Chemicals &amp; Drugs</td>\n",
       "      <td>Living Beings</td>\n",
       "    </tr>\n",
       "  </tbody>\n",
       "</table>\n",
       "</div>"
      ],
      "text/plain": [
       "    start_id    end_id                    type  n_pmids         start_name  \\\n",
       "446  D020927  C0682053  ADMINISTERED_TO_CDatLB        1    Dexmedetomidine   \n",
       "447  D019695   D014838  ADMINISTERED_TO_CDatLB        2  Glycyrrhizic Acid   \n",
       "\n",
       "       end_name        start_label      end_label  \n",
       "446     Toddler  Chemicals & Drugs  Living Beings  \n",
       "447  Volunteers  Chemicals & Drugs  Living Beings  "
      ]
     },
     "execution_count": 21,
     "metadata": {},
     "output_type": "execute_result"
    }
   ],
   "source": [
    "combo.head(2)"
   ]
  },
  {
   "cell_type": "code",
   "execution_count": 22,
   "metadata": {},
   "outputs": [
    {
     "data": {
      "text/html": [
       "<div>\n",
       "<style scoped>\n",
       "    .dataframe tbody tr th:only-of-type {\n",
       "        vertical-align: middle;\n",
       "    }\n",
       "\n",
       "    .dataframe tbody tr th {\n",
       "        vertical-align: top;\n",
       "    }\n",
       "\n",
       "    .dataframe thead th {\n",
       "        text-align: right;\n",
       "    }\n",
       "</style>\n",
       "<table border=\"1\" class=\"dataframe\">\n",
       "  <thead>\n",
       "    <tr style=\"text-align: right;\">\n",
       "      <th></th>\n",
       "      <th>start_id</th>\n",
       "      <th>end_id</th>\n",
       "      <th>type</th>\n",
       "      <th>n_pmids</th>\n",
       "      <th>start_name</th>\n",
       "      <th>end_name</th>\n",
       "      <th>start_label</th>\n",
       "      <th>end_label</th>\n",
       "    </tr>\n",
       "  </thead>\n",
       "  <tbody>\n",
       "    <tr>\n",
       "      <th>1933955</th>\n",
       "      <td>DOID:5559</td>\n",
       "      <td>DOID:5559</td>\n",
       "      <td>ASSOCIATED_WITH_DOawDO</td>\n",
       "      <td>68380</td>\n",
       "      <td>mediastinal cancer</td>\n",
       "      <td>mediastinal cancer</td>\n",
       "      <td>Disorders</td>\n",
       "      <td>Disorders</td>\n",
       "    </tr>\n",
       "  </tbody>\n",
       "</table>\n",
       "</div>"
      ],
      "text/plain": [
       "          start_id     end_id                    type  n_pmids  \\\n",
       "1933955  DOID:5559  DOID:5559  ASSOCIATED_WITH_DOawDO    68380   \n",
       "\n",
       "                 start_name            end_name start_label  end_label  \n",
       "1933955  mediastinal cancer  mediastinal cancer   Disorders  Disorders  "
      ]
     },
     "execution_count": 22,
     "metadata": {},
     "output_type": "execute_result"
    }
   ],
   "source": [
    "max_edge = combo[\"n_pmids\"].max()\n",
    "combo.query('n_pmids == @max_edge')"
   ]
  },
  {
   "cell_type": "code",
   "execution_count": 23,
   "metadata": {
    "collapsed": true
   },
   "outputs": [],
   "source": [
    "frame = pd.DataFrame()\n",
    "for i in range(10):\n",
    "\n",
    "    to_plot = combo.query('n_pmids > @i')['type'].value_counts()\n",
    "    to_plot = to_plot / to_plot.sum()\n",
    "    frame[i+1] = to_plot"
   ]
  },
  {
   "cell_type": "code",
   "execution_count": 24,
   "metadata": {
    "scrolled": false
   },
   "outputs": [
    {
     "data": {
      "image/png": "[encoded data removed]",
      "text/plain": [
       "<Figure size 864x1440 with 1 Axes>"
      ]
     },
     "metadata": {},
     "output_type": "display_data"
    }
   ],
   "source": [
    "fig = frame.T.plot.bar(stacked=True, figsize=(12, 20))\n",
    "handels, labels = fig.axes.get_legend_handles_labels()\n",
    "plt.legend(handels[::-1], labels[::-1], loc=7, bbox_to_anchor=(1.3, 0.5))\n",
    "plt.ylim(0, 1)\n",
    "plt.xticks(rotation=0)\n",
    "plt.title('Makeup of edges at different PMID cutoffs', size=24)\n",
    "plt.xlabel('Minimum number of PMIDs per edge', size=20)\n",
    "plt.ylabel('Fraction of total edges', size = 20);"
   ]
  },
  {
   "cell_type": "code",
   "execution_count": 25,
   "metadata": {
    "scrolled": false
   },
   "outputs": [
    {
     "data": {
      "text/html": [
       "<div>\n",
       "<style scoped>\n",
       "    .dataframe tbody tr th:only-of-type {\n",
       "        vertical-align: middle;\n",
       "    }\n",
       "\n",
       "    .dataframe tbody tr th {\n",
       "        vertical-align: top;\n",
       "    }\n",
       "\n",
       "    .dataframe thead th {\n",
       "        text-align: right;\n",
       "    }\n",
       "</style>\n",
       "<table border=\"1\" class=\"dataframe\">\n",
       "  <thead>\n",
       "    <tr style=\"text-align: right;\">\n",
       "      <th></th>\n",
       "      <th>n_pmids</th>\n",
       "      <th>start_name</th>\n",
       "      <th>type</th>\n",
       "      <th>end_name</th>\n",
       "    </tr>\n",
       "  </thead>\n",
       "  <tbody>\n",
       "    <tr>\n",
       "      <th>1933955</th>\n",
       "      <td>68380</td>\n",
       "      <td>mediastinal cancer</td>\n",
       "      <td>ASSOCIATED_WITH_DOawDO</td>\n",
       "      <td>mediastinal cancer</td>\n",
       "    </tr>\n",
       "    <tr>\n",
       "      <th>7880591</th>\n",
       "      <td>46560</td>\n",
       "      <td>Brain</td>\n",
       "      <td>OCCURS_IN_AoiLB</td>\n",
       "      <td>Rats</td>\n",
       "    </tr>\n",
       "    <tr>\n",
       "      <th>7841809</th>\n",
       "      <td>46527</td>\n",
       "      <td>Liver</td>\n",
       "      <td>OCCURS_IN_AoiLB</td>\n",
       "      <td>Rats</td>\n",
       "    </tr>\n",
       "    <tr>\n",
       "      <th>832731</th>\n",
       "      <td>36514</td>\n",
       "      <td>mediastinal cancer</td>\n",
       "      <td>AFFECTS_DOafLB</td>\n",
       "      <td>Child</td>\n",
       "    </tr>\n",
       "    <tr>\n",
       "      <th>12056658</th>\n",
       "      <td>34650</td>\n",
       "      <td>Clinical Study</td>\n",
       "      <td>USES_PRuDV</td>\n",
       "      <td>Study models</td>\n",
       "    </tr>\n",
       "    <tr>\n",
       "      <th>6213576</th>\n",
       "      <td>31926</td>\n",
       "      <td>Tissues</td>\n",
       "      <td>LOCATION_OF_AloDO</td>\n",
       "      <td>mediastinal cancer</td>\n",
       "    </tr>\n",
       "    <tr>\n",
       "      <th>837102</th>\n",
       "      <td>27306</td>\n",
       "      <td>mediastinal cancer</td>\n",
       "      <td>AFFECTS_DOafLB</td>\n",
       "      <td>Mice</td>\n",
       "    </tr>\n",
       "    <tr>\n",
       "      <th>812330</th>\n",
       "      <td>26719</td>\n",
       "      <td>breast cancer</td>\n",
       "      <td>AFFECTS_DOafLB</td>\n",
       "      <td>Women</td>\n",
       "    </tr>\n",
       "    <tr>\n",
       "      <th>5077133</th>\n",
       "      <td>24634</td>\n",
       "      <td>Serum</td>\n",
       "      <td>LOCATION_OF_AloCD</td>\n",
       "      <td>Creatinine</td>\n",
       "    </tr>\n",
       "    <tr>\n",
       "      <th>5300514</th>\n",
       "      <td>22235</td>\n",
       "      <td>Plasma</td>\n",
       "      <td>LOCATION_OF_AloCD</td>\n",
       "      <td>Glucose</td>\n",
       "    </tr>\n",
       "    <tr>\n",
       "      <th>833469</th>\n",
       "      <td>21907</td>\n",
       "      <td>mediastinal cancer</td>\n",
       "      <td>AFFECTS_DOafLB</td>\n",
       "      <td>Women</td>\n",
       "    </tr>\n",
       "    <tr>\n",
       "      <th>5081972</th>\n",
       "      <td>21894</td>\n",
       "      <td>Serum</td>\n",
       "      <td>LOCATION_OF_AloCD</td>\n",
       "      <td>Antibodies</td>\n",
       "    </tr>\n",
       "    <tr>\n",
       "      <th>11410801</th>\n",
       "      <td>20622</td>\n",
       "      <td>Radiotherapy</td>\n",
       "      <td>TREATS_PRtDO</td>\n",
       "      <td>mediastinal cancer</td>\n",
       "    </tr>\n",
       "    <tr>\n",
       "      <th>7880614</th>\n",
       "      <td>19634</td>\n",
       "      <td>Brain</td>\n",
       "      <td>OCCURS_IN_AoiLB</td>\n",
       "      <td>Mice</td>\n",
       "    </tr>\n",
       "    <tr>\n",
       "      <th>6105683</th>\n",
       "      <td>19539</td>\n",
       "      <td>Liver</td>\n",
       "      <td>LOCATION_OF_AloDO</td>\n",
       "      <td>Wounds and Injuries</td>\n",
       "    </tr>\n",
       "    <tr>\n",
       "      <th>11501906</th>\n",
       "      <td>18763</td>\n",
       "      <td>Drug Therapy</td>\n",
       "      <td>TREATS_PRtDO</td>\n",
       "      <td>mediastinal cancer</td>\n",
       "    </tr>\n",
       "    <tr>\n",
       "      <th>7813286</th>\n",
       "      <td>18294</td>\n",
       "      <td>Heart</td>\n",
       "      <td>OCCURS_IN_AoiLB</td>\n",
       "      <td>Rats</td>\n",
       "    </tr>\n",
       "    <tr>\n",
       "      <th>7184875</th>\n",
       "      <td>18284</td>\n",
       "      <td>Liver</td>\n",
       "      <td>LOCATION_OF_AloPR</td>\n",
       "      <td>Biopsy</td>\n",
       "    </tr>\n",
       "    <tr>\n",
       "      <th>6228904</th>\n",
       "      <td>17963</td>\n",
       "      <td>Lung</td>\n",
       "      <td>LOCATION_OF_AloDO</td>\n",
       "      <td>mediastinal cancer</td>\n",
       "    </tr>\n",
       "    <tr>\n",
       "      <th>832438</th>\n",
       "      <td>17875</td>\n",
       "      <td>mediastinal cancer</td>\n",
       "      <td>AFFECTS_DOafLB</td>\n",
       "      <td>Men</td>\n",
       "    </tr>\n",
       "    <tr>\n",
       "      <th>4965180</th>\n",
       "      <td>17496</td>\n",
       "      <td>Blood Vessels</td>\n",
       "      <td>LOCATION_OF_AloA</td>\n",
       "      <td>Myocytes, Smooth Muscle</td>\n",
       "    </tr>\n",
       "    <tr>\n",
       "      <th>837815</th>\n",
       "      <td>17320</td>\n",
       "      <td>asthma</td>\n",
       "      <td>AFFECTS_DOafLB</td>\n",
       "      <td>Child</td>\n",
       "    </tr>\n",
       "    <tr>\n",
       "      <th>7278851</th>\n",
       "      <td>17237</td>\n",
       "      <td>Hospitals</td>\n",
       "      <td>LOCATION_OF_ORloPR</td>\n",
       "      <td>Clinical Study</td>\n",
       "    </tr>\n",
       "    <tr>\n",
       "      <th>6181240</th>\n",
       "      <td>16552</td>\n",
       "      <td>Head and neck structure</td>\n",
       "      <td>LOCATION_OF_AloDO</td>\n",
       "      <td>mediastinal cancer</td>\n",
       "    </tr>\n",
       "    <tr>\n",
       "      <th>1811632</th>\n",
       "      <td>16231</td>\n",
       "      <td>Lesion</td>\n",
       "      <td>ASSOCIATED_WITH_DOawDO</td>\n",
       "      <td>mediastinal cancer</td>\n",
       "    </tr>\n",
       "    <tr>\n",
       "      <th>6118243</th>\n",
       "      <td>16106</td>\n",
       "      <td>Breast</td>\n",
       "      <td>LOCATION_OF_AloDO</td>\n",
       "      <td>mediastinal cancer</td>\n",
       "    </tr>\n",
       "    <tr>\n",
       "      <th>11546193</th>\n",
       "      <td>16033</td>\n",
       "      <td>Surgical Procedures, Operative</td>\n",
       "      <td>TREATS_PRtDO</td>\n",
       "      <td>mediastinal cancer</td>\n",
       "    </tr>\n",
       "    <tr>\n",
       "      <th>7759837</th>\n",
       "      <td>15557</td>\n",
       "      <td>Hepatocytes</td>\n",
       "      <td>OCCURS_IN_AoiLB</td>\n",
       "      <td>Rats</td>\n",
       "    </tr>\n",
       "    <tr>\n",
       "      <th>10073925</th>\n",
       "      <td>15539</td>\n",
       "      <td>Aspartic Acid</td>\n",
       "      <td>RELATED_TO_CDrtCD</td>\n",
       "      <td>N-Methylaspartate</td>\n",
       "    </tr>\n",
       "    <tr>\n",
       "      <th>7845452</th>\n",
       "      <td>15483</td>\n",
       "      <td>Liver</td>\n",
       "      <td>OCCURS_IN_AoiLB</td>\n",
       "      <td>Mice</td>\n",
       "    </tr>\n",
       "    <tr>\n",
       "      <th>7473881</th>\n",
       "      <td>15185</td>\n",
       "      <td>Assay</td>\n",
       "      <td>METHOD_OF_PRmoPR</td>\n",
       "      <td>Detection</td>\n",
       "    </tr>\n",
       "    <tr>\n",
       "      <th>8374046</th>\n",
       "      <td>14889</td>\n",
       "      <td>Pregnancy, function</td>\n",
       "      <td>PROCESS_OF_PSproLB</td>\n",
       "      <td>Women</td>\n",
       "    </tr>\n",
       "    <tr>\n",
       "      <th>10006642</th>\n",
       "      <td>14841</td>\n",
       "      <td>DNA</td>\n",
       "      <td>RELATED_TO_CDrtCD</td>\n",
       "      <td>Plasmids</td>\n",
       "    </tr>\n",
       "    <tr>\n",
       "      <th>6231369</th>\n",
       "      <td>13710</td>\n",
       "      <td>Lung</td>\n",
       "      <td>LOCATION_OF_AloDO</td>\n",
       "      <td>Wounds and Injuries</td>\n",
       "    </tr>\n",
       "    <tr>\n",
       "      <th>1918559</th>\n",
       "      <td>13682</td>\n",
       "      <td>breast cancer</td>\n",
       "      <td>ASSOCIATED_WITH_DOawDO</td>\n",
       "      <td>mediastinal cancer</td>\n",
       "    </tr>\n",
       "    <tr>\n",
       "      <th>5426589</th>\n",
       "      <td>13406</td>\n",
       "      <td>Cytoplasm</td>\n",
       "      <td>LOCATION_OF_AloCD</td>\n",
       "      <td>Calcium</td>\n",
       "    </tr>\n",
       "    <tr>\n",
       "      <th>5057472</th>\n",
       "      <td>13218</td>\n",
       "      <td>Femur</td>\n",
       "      <td>LOCATION_OF_AloA</td>\n",
       "      <td>Neck</td>\n",
       "    </tr>\n",
       "    <tr>\n",
       "      <th>834452</th>\n",
       "      <td>12761</td>\n",
       "      <td>mediastinal cancer</td>\n",
       "      <td>AFFECTS_DOafLB</td>\n",
       "      <td>Adult</td>\n",
       "    </tr>\n",
       "    <tr>\n",
       "      <th>5766064</th>\n",
       "      <td>12623</td>\n",
       "      <td>Muscle, Smooth</td>\n",
       "      <td>LOCATION_OF_AloCD</td>\n",
       "      <td>Actins</td>\n",
       "    </tr>\n",
       "    <tr>\n",
       "      <th>753373</th>\n",
       "      <td>12560</td>\n",
       "      <td>obesity</td>\n",
       "      <td>AFFECTS_DOafLB</td>\n",
       "      <td>Women</td>\n",
       "    </tr>\n",
       "    <tr>\n",
       "      <th>700059</th>\n",
       "      <td>12554</td>\n",
       "      <td>pre-eclampsia</td>\n",
       "      <td>AFFECTS_DOafLB</td>\n",
       "      <td>Women</td>\n",
       "    </tr>\n",
       "    <tr>\n",
       "      <th>7817898</th>\n",
       "      <td>12376</td>\n",
       "      <td>Entire hippocampus</td>\n",
       "      <td>OCCURS_IN_AoiLB</td>\n",
       "      <td>Rats</td>\n",
       "    </tr>\n",
       "    <tr>\n",
       "      <th>753632</th>\n",
       "      <td>12365</td>\n",
       "      <td>obesity</td>\n",
       "      <td>AFFECTS_DOafLB</td>\n",
       "      <td>Child</td>\n",
       "    </tr>\n",
       "    <tr>\n",
       "      <th>6229008</th>\n",
       "      <td>12137</td>\n",
       "      <td>Lung</td>\n",
       "      <td>LOCATION_OF_AloDO</td>\n",
       "      <td>breast cancer</td>\n",
       "    </tr>\n",
       "    <tr>\n",
       "      <th>7210197</th>\n",
       "      <td>12035</td>\n",
       "      <td>Brain</td>\n",
       "      <td>LOCATION_OF_AloPR</td>\n",
       "      <td>Magnetic Resonance Imaging</td>\n",
       "    </tr>\n",
       "    <tr>\n",
       "      <th>7364553</th>\n",
       "      <td>11933</td>\n",
       "      <td>Diagnostic Imaging</td>\n",
       "      <td>METHOD_OF_PRmoPR</td>\n",
       "      <td>Tomography</td>\n",
       "    </tr>\n",
       "    <tr>\n",
       "      <th>7431810</th>\n",
       "      <td>11710</td>\n",
       "      <td>Detection</td>\n",
       "      <td>METHOD_OF_PRmoPR</td>\n",
       "      <td>Polymerase Chain Reaction</td>\n",
       "    </tr>\n",
       "    <tr>\n",
       "      <th>7283684</th>\n",
       "      <td>11697</td>\n",
       "      <td>Laboratories</td>\n",
       "      <td>LOCATION_OF_ORloPR</td>\n",
       "      <td>Clinical Study</td>\n",
       "    </tr>\n",
       "    <tr>\n",
       "      <th>847058</th>\n",
       "      <td>11458</td>\n",
       "      <td>juvenile myoclonic epilepsy</td>\n",
       "      <td>AFFECTS_DOafLB</td>\n",
       "      <td>Child</td>\n",
       "    </tr>\n",
       "    <tr>\n",
       "      <th>7442329</th>\n",
       "      <td>11322</td>\n",
       "      <td>Detection</td>\n",
       "      <td>METHOD_OF_PRmoPR</td>\n",
       "      <td>Chromatography, High Pressure Liquid</td>\n",
       "    </tr>\n",
       "    <tr>\n",
       "      <th>11403234</th>\n",
       "      <td>11174</td>\n",
       "      <td>Excision</td>\n",
       "      <td>TREATS_PRtDO</td>\n",
       "      <td>mediastinal cancer</td>\n",
       "    </tr>\n",
       "    <tr>\n",
       "      <th>7024222</th>\n",
       "      <td>10984</td>\n",
       "      <td>16s</td>\n",
       "      <td>LOCATION_OF_AloG</td>\n",
       "      <td>Genes, rRNA</td>\n",
       "    </tr>\n",
       "    <tr>\n",
       "      <th>7826046</th>\n",
       "      <td>10834</td>\n",
       "      <td>Embryonic Structures</td>\n",
       "      <td>OCCURS_IN_AoiLB</td>\n",
       "      <td>Mice</td>\n",
       "    </tr>\n",
       "    <tr>\n",
       "      <th>7868605</th>\n",
       "      <td>10766</td>\n",
       "      <td>Kidney</td>\n",
       "      <td>OCCURS_IN_AoiLB</td>\n",
       "      <td>Rats</td>\n",
       "    </tr>\n",
       "    <tr>\n",
       "      <th>6600279</th>\n",
       "      <td>10644</td>\n",
       "      <td>Cytoplasm</td>\n",
       "      <td>LOCATION_OF_AloG</td>\n",
       "      <td>CA2 gene</td>\n",
       "    </tr>\n",
       "    <tr>\n",
       "      <th>5078417</th>\n",
       "      <td>10413</td>\n",
       "      <td>Serum</td>\n",
       "      <td>LOCATION_OF_AloCD</td>\n",
       "      <td>Cholesterol</td>\n",
       "    </tr>\n",
       "    <tr>\n",
       "      <th>837103</th>\n",
       "      <td>10058</td>\n",
       "      <td>mediastinal cancer</td>\n",
       "      <td>AFFECTS_DOafLB</td>\n",
       "      <td>Rats</td>\n",
       "    </tr>\n",
       "    <tr>\n",
       "      <th>7284704</th>\n",
       "      <td>9916</td>\n",
       "      <td>Laboratories</td>\n",
       "      <td>LOCATION_OF_ORloPR</td>\n",
       "      <td>research study</td>\n",
       "    </tr>\n",
       "    <tr>\n",
       "      <th>6205285</th>\n",
       "      <td>9484</td>\n",
       "      <td>Urinary Bladder</td>\n",
       "      <td>LOCATION_OF_AloDO</td>\n",
       "      <td>mediastinal cancer</td>\n",
       "    </tr>\n",
       "    <tr>\n",
       "      <th>7458684</th>\n",
       "      <td>9469</td>\n",
       "      <td>Excision</td>\n",
       "      <td>METHOD_OF_PRmoPR</td>\n",
       "      <td>Surgical Procedures, Operative</td>\n",
       "    </tr>\n",
       "  </tbody>\n",
       "</table>\n",
       "</div>"
      ],
      "text/plain": [
       "          n_pmids                      start_name                    type  \\\n",
       "1933955     68380              mediastinal cancer  ASSOCIATED_WITH_DOawDO   \n",
       "7880591     46560                           Brain         OCCURS_IN_AoiLB   \n",
       "7841809     46527                           Liver         OCCURS_IN_AoiLB   \n",
       "832731      36514              mediastinal cancer          AFFECTS_DOafLB   \n",
       "12056658    34650                  Clinical Study              USES_PRuDV   \n",
       "6213576     31926                         Tissues       LOCATION_OF_AloDO   \n",
       "837102      27306              mediastinal cancer          AFFECTS_DOafLB   \n",
       "812330      26719                   breast cancer          AFFECTS_DOafLB   \n",
       "5077133     24634                           Serum       LOCATION_OF_AloCD   \n",
       "5300514     22235                          Plasma       LOCATION_OF_AloCD   \n",
       "833469      21907              mediastinal cancer          AFFECTS_DOafLB   \n",
       "5081972     21894                           Serum       LOCATION_OF_AloCD   \n",
       "11410801    20622                    Radiotherapy            TREATS_PRtDO   \n",
       "7880614     19634                           Brain         OCCURS_IN_AoiLB   \n",
       "6105683     19539                           Liver       LOCATION_OF_AloDO   \n",
       "11501906    18763                    Drug Therapy            TREATS_PRtDO   \n",
       "7813286     18294                           Heart         OCCURS_IN_AoiLB   \n",
       "7184875     18284                           Liver       LOCATION_OF_AloPR   \n",
       "6228904     17963                            Lung       LOCATION_OF_AloDO   \n",
       "832438      17875              mediastinal cancer          AFFECTS_DOafLB   \n",
       "4965180     17496                   Blood Vessels        LOCATION_OF_AloA   \n",
       "837815      17320                          asthma          AFFECTS_DOafLB   \n",
       "7278851     17237                       Hospitals      LOCATION_OF_ORloPR   \n",
       "6181240     16552         Head and neck structure       LOCATION_OF_AloDO   \n",
       "1811632     16231                          Lesion  ASSOCIATED_WITH_DOawDO   \n",
       "6118243     16106                          Breast       LOCATION_OF_AloDO   \n",
       "11546193    16033  Surgical Procedures, Operative            TREATS_PRtDO   \n",
       "7759837     15557                     Hepatocytes         OCCURS_IN_AoiLB   \n",
       "10073925    15539                   Aspartic Acid       RELATED_TO_CDrtCD   \n",
       "7845452     15483                           Liver         OCCURS_IN_AoiLB   \n",
       "7473881     15185                           Assay        METHOD_OF_PRmoPR   \n",
       "8374046     14889             Pregnancy, function      PROCESS_OF_PSproLB   \n",
       "10006642    14841                             DNA       RELATED_TO_CDrtCD   \n",
       "6231369     13710                            Lung       LOCATION_OF_AloDO   \n",
       "1918559     13682                   breast cancer  ASSOCIATED_WITH_DOawDO   \n",
       "5426589     13406                       Cytoplasm       LOCATION_OF_AloCD   \n",
       "5057472     13218                           Femur        LOCATION_OF_AloA   \n",
       "834452      12761              mediastinal cancer          AFFECTS_DOafLB   \n",
       "5766064     12623                  Muscle, Smooth       LOCATION_OF_AloCD   \n",
       "753373      12560                         obesity          AFFECTS_DOafLB   \n",
       "700059      12554                   pre-eclampsia          AFFECTS_DOafLB   \n",
       "7817898     12376              Entire hippocampus         OCCURS_IN_AoiLB   \n",
       "753632      12365                         obesity          AFFECTS_DOafLB   \n",
       "6229008     12137                            Lung       LOCATION_OF_AloDO   \n",
       "7210197     12035                           Brain       LOCATION_OF_AloPR   \n",
       "7364553     11933              Diagnostic Imaging        METHOD_OF_PRmoPR   \n",
       "7431810     11710                       Detection        METHOD_OF_PRmoPR   \n",
       "7283684     11697                    Laboratories      LOCATION_OF_ORloPR   \n",
       "847058      11458     juvenile myoclonic epilepsy          AFFECTS_DOafLB   \n",
       "7442329     11322                       Detection        METHOD_OF_PRmoPR   \n",
       "11403234    11174                        Excision            TREATS_PRtDO   \n",
       "7024222     10984                             16s        LOCATION_OF_AloG   \n",
       "7826046     10834            Embryonic Structures         OCCURS_IN_AoiLB   \n",
       "7868605     10766                          Kidney         OCCURS_IN_AoiLB   \n",
       "6600279     10644                       Cytoplasm        LOCATION_OF_AloG   \n",
       "5078417     10413                           Serum       LOCATION_OF_AloCD   \n",
       "837103      10058              mediastinal cancer          AFFECTS_DOafLB   \n",
       "7284704      9916                    Laboratories      LOCATION_OF_ORloPR   \n",
       "6205285      9484                 Urinary Bladder       LOCATION_OF_AloDO   \n",
       "7458684      9469                        Excision        METHOD_OF_PRmoPR   \n",
       "\n",
       "                                      end_name  \n",
       "1933955                     mediastinal cancer  \n",
       "7880591                                   Rats  \n",
       "7841809                                   Rats  \n",
       "832731                                   Child  \n",
       "12056658                          Study models  \n",
       "6213576                     mediastinal cancer  \n",
       "837102                                    Mice  \n",
       "812330                                   Women  \n",
       "5077133                             Creatinine  \n",
       "5300514                                Glucose  \n",
       "833469                                   Women  \n",
       "5081972                             Antibodies  \n",
       "11410801                    mediastinal cancer  \n",
       "7880614                                   Mice  \n",
       "6105683                    Wounds and Injuries  \n",
       "11501906                    mediastinal cancer  \n",
       "7813286                                   Rats  \n",
       "7184875                                 Biopsy  \n",
       "6228904                     mediastinal cancer  \n",
       "832438                                     Men  \n",
       "4965180                Myocytes, Smooth Muscle  \n",
       "837815                                   Child  \n",
       "7278851                         Clinical Study  \n",
       "6181240                     mediastinal cancer  \n",
       "1811632                     mediastinal cancer  \n",
       "6118243                     mediastinal cancer  \n",
       "11546193                    mediastinal cancer  \n",
       "7759837                                   Rats  \n",
       "10073925                     N-Methylaspartate  \n",
       "7845452                                   Mice  \n",
       "7473881                              Detection  \n",
       "8374046                                  Women  \n",
       "10006642                              Plasmids  \n",
       "6231369                    Wounds and Injuries  \n",
       "1918559                     mediastinal cancer  \n",
       "5426589                                Calcium  \n",
       "5057472                                   Neck  \n",
       "834452                                   Adult  \n",
       "5766064                                 Actins  \n",
       "753373                                   Women  \n",
       "700059                                   Women  \n",
       "7817898                                   Rats  \n",
       "753632                                   Child  \n",
       "6229008                          breast cancer  \n",
       "7210197             Magnetic Resonance Imaging  \n",
       "7364553                             Tomography  \n",
       "7431810              Polymerase Chain Reaction  \n",
       "7283684                         Clinical Study  \n",
       "847058                                   Child  \n",
       "7442329   Chromatography, High Pressure Liquid  \n",
       "11403234                    mediastinal cancer  \n",
       "7024222                            Genes, rRNA  \n",
       "7826046                                   Mice  \n",
       "7868605                                   Rats  \n",
       "6600279                               CA2 gene  \n",
       "5078417                            Cholesterol  \n",
       "837103                                    Rats  \n",
       "7284704                         research study  \n",
       "6205285                     mediastinal cancer  \n",
       "7458684         Surgical Procedures, Operative  "
      ]
     },
     "execution_count": 25,
     "metadata": {},
     "output_type": "execute_result"
    }
   ],
   "source": [
    "combo.sort_values('n_pmids', ascending=False)[['n_pmids', 'start_name', 'type', 'end_name']].iloc[:60]"
   ]
  },
  {
   "cell_type": "code",
   "execution_count": 26,
   "metadata": {},
   "outputs": [
    {
     "data": {
      "text/plain": [
       "RELATED_TO_CDrtCD         3757\n",
       "INTERACTS_WITH_GiwG       3621\n",
       "REGULATES_Greg>G          3322\n",
       "compared_with_PRcpwPR     1769\n",
       "ASSOCIATED_WITH_DOawDO     942\n",
       "ISA_LBi>LB                 827\n",
       "REGULATES_CDreg>CD         555\n",
       "METHOD_OF_PRmoPR           241\n",
       "INTERACTS_WITH_LBiwLB      165\n",
       "LOCATION_OF_AloA           161\n",
       "AFFECTS_PSafPS              83\n",
       "PRECEDES_PRpc>PR            56\n",
       "USES_DVuDV                  35\n",
       "PROCESS_OF_LBpro>LB          3\n",
       "Name: type, dtype: int64"
      ]
     },
     "execution_count": 26,
     "metadata": {},
     "output_type": "execute_result"
    }
   ],
   "source": [
    "combo.query('start_id == end_id')['type'].value_counts()"
   ]
  },
  {
   "cell_type": "markdown",
   "metadata": {},
   "source": [
    "There are some instances of self-referrential edges.  These should be removed as they are not vaild in DWPC feature extraction."
   ]
  },
  {
   "cell_type": "code",
   "execution_count": 27,
   "metadata": {
    "collapsed": true
   },
   "outputs": [],
   "source": [
    "result = gt.remove_colons(result)\n",
    "idx = result.query('start_id == end_id').index\n",
    "result = result.drop(idx)"
   ]
  },
  {
   "cell_type": "code",
   "execution_count": 28,
   "metadata": {
    "collapsed": true
   },
   "outputs": [],
   "source": [
    "node_degrees = pd.concat([combo['start_name'], combo['end_name']]).value_counts()"
   ]
  },
  {
   "cell_type": "code",
   "execution_count": 29,
   "metadata": {},
   "outputs": [
    {
     "data": {
      "text/plain": [
       "Mice                              44586\n",
       "mediastinal cancer                44346\n",
       "Rats                              44077\n",
       "Child                             36217\n",
       "Women                             30889\n",
       "Tissues                           30087\n",
       "Growth                            26297\n",
       "Brain                             25935\n",
       "Adult                             25012\n",
       "Liver                             24669\n",
       "Surgical Procedures, Operative    23593\n",
       "Men                               22350\n",
       "Cell Line                         22096\n",
       "Dogs                              21438\n",
       "Apoptosis                         20391\n",
       "Family                            19649\n",
       "Rabbits                           18548\n",
       "TNF gene                          18476\n",
       "Infant                            18418\n",
       "Neurons                           17984\n",
       "Antibodies                        17534\n",
       "Wounds and Injuries               17365\n",
       "Lung                              17354\n",
       "Cytoplasm                         17230\n",
       "DNA                               17101\n",
       "Blood                             17017\n",
       "Excision                          16991\n",
       "Heart                             16518\n",
       "Control Groups                    16357\n",
       "Base Sequence                     16092\n",
       "melanoma                          15983\n",
       "breast cancer                     15827\n",
       "Lesion                            15620\n",
       "Membrane                          15532\n",
       "cohort                            15531\n",
       "Inflammation                      15525\n",
       "Kidney                            15499\n",
       "Detection                         15330\n",
       "Homologous Gene                   15033\n",
       "Escherichia coli                  14990\n",
       "Amino Acids                       14948\n",
       "Injection procedure               14893\n",
       "Glucose                           14784\n",
       "Muscles                           14683\n",
       "RNA, Messenger                    14577\n",
       "Infant, Newborn                   14482\n",
       "ATP8A2 gene                       14403\n",
       "AKT1 gene                         14346\n",
       "receptor                          14236\n",
       "Organ                             14079\n",
       "Adolescent                        14067\n",
       "CA2 gene                          14059\n",
       "Macrophages                       13969\n",
       "Bacteria                          13851\n",
       "Fibroblasts                       13830\n",
       "pre-eclampsia                     13827\n",
       "Communicable Diseases             13604\n",
       "Swine                             13590\n",
       "Genes, p53                        13584\n",
       "Cell Proliferation                13506\n",
       "dtype: int64"
      ]
     },
     "execution_count": 29,
     "metadata": {},
     "output_type": "execute_result"
    }
   ],
   "source": [
    "node_degrees[:60]"
   ]
  },
  {
   "cell_type": "markdown",
   "metadata": {},
   "source": [
    "Even though in a previous notebook, some of the General terms were filtered out... there are still plenty of terms that appear to be too general to be useful.  From the top 100 of these, we will filter many of them out."
   ]
  },
  {
   "cell_type": "code",
   "execution_count": 30,
   "metadata": {
    "collapsed": true
   },
   "outputs": [],
   "source": [
    "#These are from the 100 most common nodes, removing things that are too general to be useful\n",
    "\n",
    "too_general = ['Patients', 'Cells', 'Syndrome', 'Therapeutics', 'Proteins', 'Pharmaceutical Preparations',\n",
    " 'Mice', 'Human', 'Child', 'Genes', 'Woman', 'Tissues', 'Growth', 'Individual', 'Antibodies',\n",
    " 'Surgical Procedures, Operative', 'Adult', 'Enzymes', 'Symptoms', 'Animals', 'Cell Line', 'Wounds and Injuries', 'Complication',\n",
    " 'House mice', 'Functional disorder', 'Infant', 'Family', 'Persons', 'Male population group', 'Monoclonal Antibodies',\n",
    " 'Toxic effect', 'Infection', 'DNA', 'Control Groups', 'Injection procedure', 'Ions', 'Transcription, Genetic',\n",
    " 'Organ', 'TRANSCRIPTION FACTOR', 'cohort']"
   ]
  },
  {
   "cell_type": "code",
   "execution_count": 31,
   "metadata": {},
   "outputs": [
    {
     "data": {
      "text/html": [
       "<div>\n",
       "<style scoped>\n",
       "    .dataframe tbody tr th:only-of-type {\n",
       "        vertical-align: middle;\n",
       "    }\n",
       "\n",
       "    .dataframe tbody tr th {\n",
       "        vertical-align: top;\n",
       "    }\n",
       "\n",
       "    .dataframe thead th {\n",
       "        text-align: right;\n",
       "    }\n",
       "</style>\n",
       "<table border=\"1\" class=\"dataframe\">\n",
       "  <thead>\n",
       "    <tr style=\"text-align: right;\">\n",
       "      <th></th>\n",
       "      <th>id</th>\n",
       "      <th>name</th>\n",
       "      <th>label</th>\n",
       "      <th>id_source</th>\n",
       "    </tr>\n",
       "  </thead>\n",
       "  <tbody>\n",
       "    <tr>\n",
       "      <th>5102</th>\n",
       "      <td>D014024</td>\n",
       "      <td>Tissues</td>\n",
       "      <td>Anatomy</td>\n",
       "      <td>MeSH</td>\n",
       "    </tr>\n",
       "    <tr>\n",
       "      <th>5172</th>\n",
       "      <td>C0178784</td>\n",
       "      <td>Organ</td>\n",
       "      <td>Anatomy</td>\n",
       "      <td>UMLS</td>\n",
       "    </tr>\n",
       "    <tr>\n",
       "      <th>5573</th>\n",
       "      <td>D002460</td>\n",
       "      <td>Cell Line</td>\n",
       "      <td>Anatomy</td>\n",
       "      <td>MeSH</td>\n",
       "    </tr>\n",
       "    <tr>\n",
       "      <th>5926</th>\n",
       "      <td>D002477</td>\n",
       "      <td>Cells</td>\n",
       "      <td>Anatomy</td>\n",
       "      <td>MeSH</td>\n",
       "    </tr>\n",
       "    <tr>\n",
       "      <th>60088</th>\n",
       "      <td>D004247</td>\n",
       "      <td>DNA</td>\n",
       "      <td>Chemicals &amp; Drugs</td>\n",
       "      <td>MeSH</td>\n",
       "    </tr>\n",
       "    <tr>\n",
       "      <th>62401</th>\n",
       "      <td>D004364</td>\n",
       "      <td>Pharmaceutical Preparations</td>\n",
       "      <td>Chemicals &amp; Drugs</td>\n",
       "      <td>MeSH</td>\n",
       "    </tr>\n",
       "    <tr>\n",
       "      <th>66224</th>\n",
       "      <td>D004798</td>\n",
       "      <td>Enzymes</td>\n",
       "      <td>Chemicals &amp; Drugs</td>\n",
       "      <td>MeSH</td>\n",
       "    </tr>\n",
       "    <tr>\n",
       "      <th>69073</th>\n",
       "      <td>D007477</td>\n",
       "      <td>Ions</td>\n",
       "      <td>Chemicals &amp; Drugs</td>\n",
       "      <td>MeSH</td>\n",
       "    </tr>\n",
       "    <tr>\n",
       "      <th>69568</th>\n",
       "      <td>D000906</td>\n",
       "      <td>Antibodies</td>\n",
       "      <td>Chemicals &amp; Drugs</td>\n",
       "      <td>MeSH</td>\n",
       "    </tr>\n",
       "    <tr>\n",
       "      <th>73273</th>\n",
       "      <td>D011506</td>\n",
       "      <td>Proteins</td>\n",
       "      <td>Chemicals &amp; Drugs</td>\n",
       "      <td>MeSH</td>\n",
       "    </tr>\n",
       "    <tr>\n",
       "      <th>104371</th>\n",
       "      <td>D014947</td>\n",
       "      <td>Wounds and Injuries</td>\n",
       "      <td>Disorders</td>\n",
       "      <td>MeSH</td>\n",
       "    </tr>\n",
       "    <tr>\n",
       "      <th>138480</th>\n",
       "      <td>D005796</td>\n",
       "      <td>Genes</td>\n",
       "      <td>Genes &amp; Molecular Sequences</td>\n",
       "      <td>MeSH</td>\n",
       "    </tr>\n",
       "    <tr>\n",
       "      <th>158511</th>\n",
       "      <td>D051379</td>\n",
       "      <td>Mice</td>\n",
       "      <td>Living Beings</td>\n",
       "      <td>MeSH</td>\n",
       "    </tr>\n",
       "    <tr>\n",
       "      <th>165457</th>\n",
       "      <td>D005190</td>\n",
       "      <td>Family</td>\n",
       "      <td>Living Beings</td>\n",
       "      <td>MeSH</td>\n",
       "    </tr>\n",
       "    <tr>\n",
       "      <th>174963</th>\n",
       "      <td>D000818</td>\n",
       "      <td>Animals</td>\n",
       "      <td>Living Beings</td>\n",
       "      <td>MeSH</td>\n",
       "    </tr>\n",
       "    <tr>\n",
       "      <th>177601</th>\n",
       "      <td>D035061</td>\n",
       "      <td>Control Groups</td>\n",
       "      <td>Living Beings</td>\n",
       "      <td>MeSH</td>\n",
       "    </tr>\n",
       "    <tr>\n",
       "      <th>186099</th>\n",
       "      <td>D010361</td>\n",
       "      <td>Patients</td>\n",
       "      <td>Living Beings</td>\n",
       "      <td>MeSH</td>\n",
       "    </tr>\n",
       "    <tr>\n",
       "      <th>186565</th>\n",
       "      <td>D007223</td>\n",
       "      <td>Infant</td>\n",
       "      <td>Living Beings</td>\n",
       "      <td>MeSH</td>\n",
       "    </tr>\n",
       "    <tr>\n",
       "      <th>191175</th>\n",
       "      <td>D002648</td>\n",
       "      <td>Child</td>\n",
       "      <td>Living Beings</td>\n",
       "      <td>MeSH</td>\n",
       "    </tr>\n",
       "    <tr>\n",
       "      <th>192144</th>\n",
       "      <td>C0599755</td>\n",
       "      <td>cohort</td>\n",
       "      <td>Living Beings</td>\n",
       "      <td>UMLS</td>\n",
       "    </tr>\n",
       "    <tr>\n",
       "      <th>201376</th>\n",
       "      <td>D000328</td>\n",
       "      <td>Adult</td>\n",
       "      <td>Living Beings</td>\n",
       "      <td>MeSH</td>\n",
       "    </tr>\n",
       "    <tr>\n",
       "      <th>207895</th>\n",
       "      <td>D014158</td>\n",
       "      <td>Transcription, Genetic</td>\n",
       "      <td>Physiology</td>\n",
       "      <td>MeSH</td>\n",
       "    </tr>\n",
       "    <tr>\n",
       "      <th>213571</th>\n",
       "      <td>D006128</td>\n",
       "      <td>Growth</td>\n",
       "      <td>Physiology</td>\n",
       "      <td>MeSH</td>\n",
       "    </tr>\n",
       "    <tr>\n",
       "      <th>224473</th>\n",
       "      <td>C1533685</td>\n",
       "      <td>Injection procedure</td>\n",
       "      <td>Procedures</td>\n",
       "      <td>UMLS</td>\n",
       "    </tr>\n",
       "    <tr>\n",
       "      <th>229390</th>\n",
       "      <td>D013514</td>\n",
       "      <td>Surgical Procedures, Operative</td>\n",
       "      <td>Procedures</td>\n",
       "      <td>MeSH</td>\n",
       "    </tr>\n",
       "  </tbody>\n",
       "</table>\n",
       "</div>"
      ],
      "text/plain": [
       "              id                            name                        label  \\\n",
       "5102     D014024                         Tissues                      Anatomy   \n",
       "5172    C0178784                           Organ                      Anatomy   \n",
       "5573     D002460                       Cell Line                      Anatomy   \n",
       "5926     D002477                           Cells                      Anatomy   \n",
       "60088    D004247                             DNA            Chemicals & Drugs   \n",
       "62401    D004364     Pharmaceutical Preparations            Chemicals & Drugs   \n",
       "66224    D004798                         Enzymes            Chemicals & Drugs   \n",
       "69073    D007477                            Ions            Chemicals & Drugs   \n",
       "69568    D000906                      Antibodies            Chemicals & Drugs   \n",
       "73273    D011506                        Proteins            Chemicals & Drugs   \n",
       "104371   D014947             Wounds and Injuries                    Disorders   \n",
       "138480   D005796                           Genes  Genes & Molecular Sequences   \n",
       "158511   D051379                            Mice                Living Beings   \n",
       "165457   D005190                          Family                Living Beings   \n",
       "174963   D000818                         Animals                Living Beings   \n",
       "177601   D035061                  Control Groups                Living Beings   \n",
       "186099   D010361                        Patients                Living Beings   \n",
       "186565   D007223                          Infant                Living Beings   \n",
       "191175   D002648                           Child                Living Beings   \n",
       "192144  C0599755                          cohort                Living Beings   \n",
       "201376   D000328                           Adult                Living Beings   \n",
       "207895   D014158          Transcription, Genetic                   Physiology   \n",
       "213571   D006128                          Growth                   Physiology   \n",
       "224473  C1533685             Injection procedure                   Procedures   \n",
       "229390   D013514  Surgical Procedures, Operative                   Procedures   \n",
       "\n",
       "       id_source  \n",
       "5102        MeSH  \n",
       "5172        UMLS  \n",
       "5573        MeSH  \n",
       "5926        MeSH  \n",
       "60088       MeSH  \n",
       "62401       MeSH  \n",
       "66224       MeSH  \n",
       "69073       MeSH  \n",
       "69568       MeSH  \n",
       "73273       MeSH  \n",
       "104371      MeSH  \n",
       "138480      MeSH  \n",
       "158511      MeSH  \n",
       "165457      MeSH  \n",
       "174963      MeSH  \n",
       "177601      MeSH  \n",
       "186099      MeSH  \n",
       "186565      MeSH  \n",
       "191175      MeSH  \n",
       "192144      UMLS  \n",
       "201376      MeSH  \n",
       "207895      MeSH  \n",
       "213571      MeSH  \n",
       "224473      UMLS  \n",
       "229390      MeSH  "
      ]
     },
     "execution_count": 31,
     "metadata": {},
     "output_type": "execute_result"
    }
   ],
   "source": [
    "nodes.query('name in @too_general')"
   ]
  },
  {
   "cell_type": "code",
   "execution_count": 32,
   "metadata": {
    "collapsed": true
   },
   "outputs": [],
   "source": [
    "idx = nodes.query('name in @too_general').index\n",
    "nodes = nodes.drop(idx).reset_index(drop=True)"
   ]
  },
  {
   "cell_type": "code",
   "execution_count": 33,
   "metadata": {
    "collapsed": true
   },
   "outputs": [],
   "source": [
    "node_ids = nodes['id'].unique()"
   ]
  },
  {
   "cell_type": "code",
   "execution_count": 34,
   "metadata": {
    "collapsed": true
   },
   "outputs": [],
   "source": [
    "result = result.query('start_id in @node_ids and end_id in @node_ids')"
   ]
  },
  {
   "cell_type": "code",
   "execution_count": 35,
   "metadata": {},
   "outputs": [
    {
     "data": {
      "text/plain": [
       "'11,056,678 Edges remain'"
      ]
     },
     "execution_count": 35,
     "metadata": {},
     "output_type": "execute_result"
    }
   ],
   "source": [
    "'{:,} Edges remain'.format(len(result))"
   ]
  },
  {
   "cell_type": "code",
   "execution_count": 36,
   "metadata": {
    "collapsed": true
   },
   "outputs": [],
   "source": [
    "counts = (result[result['n_pmids'] < 21]['n_pmids'].value_counts()\n",
    "                                                   .rename('counts')\n",
    "                                                   .to_frame()\n",
    "                                                   .reset_index()\n",
    "                                                   .rename(columns={'index':'n_pmids'}))"
   ]
  },
  {
   "cell_type": "code",
   "execution_count": 37,
   "metadata": {},
   "outputs": [
    {
     "data": {
      "image/png": "[encoded data removed]",
      "text/plain": [
       "<Figure size 432x288 with 1 Axes>"
      ]
     },
     "metadata": {},
     "output_type": "display_data"
    }
   ],
   "source": [
    "sns.barplot(x='n_pmids', y='counts', data=counts, color=sns.color_palette()[0])\n",
    "plt.xticks(np.arange(1, 20, 1))\n",
    "plt.text(10, 0.64e7, 'Max PMIDs per Edge: {}'.format(result['n_pmids'].max()))\n",
    "plt.text(10, 0.60e7, 'Mean PMIDs per Edge: {:1.2f}'.format(result['n_pmids'].mean()))\n",
    "plt.text(10, 0.56e7, 'Median PMIDs per Edge: {:1.2f}'.format(result['n_pmids'].median()));"
   ]
  },
  {
   "cell_type": "code",
   "execution_count": 38,
   "metadata": {},
   "outputs": [
    {
     "name": "stdout",
     "output_type": "stream",
     "text": [
      "Edges with at least 1 unique PMIDs: 11,056,678\n",
      "Edges with at least 2 unique PMIDs: 3,690,165\n",
      "Edges with at least 3 unique PMIDs: 2,189,763\n",
      "Edges with at least 4 unique PMIDs: 1,559,098\n",
      "Edges with at least 5 unique PMIDs: 1,210,512\n",
      "Edges with at least 6 unique PMIDs: 988,675\n",
      "Edges with at least 7 unique PMIDs: 835,623\n",
      "Edges with at least 8 unique PMIDs: 723,377\n",
      "Edges with at least 9 unique PMIDs: 636,730\n",
      "Edges with at least 10 unique PMIDs: 568,668\n"
     ]
    }
   ],
   "source": [
    "for i in range(1, 11):\n",
    "    print(\"Edges with at least {} unique PMIDs: {:,}\".format(i, (result['n_pmids'] >= i).sum()))"
   ]
  },
  {
   "cell_type": "code",
   "execution_count": 39,
   "metadata": {
    "collapsed": true
   },
   "outputs": [],
   "source": [
    "result = gt.add_colons(result)\n",
    "nodes = gt.add_colons(nodes)\n",
    "\n",
    "result.to_csv('../data/edges_VER31_R_consolidated_condensed_filtered_001.csv', index=False)\n",
    "nodes.to_csv('../data/nodes_VER31_R_consolidated_condensed_filtered_001.csv', index=False)"
   ]
  }
 ],
 "metadata": {
  "kernelspec": {
   "display_name": "Python 3",
   "language": "python",
   "name": "python3"
  },
  "language_info": {
   "codemirror_mode": {
    "name": "ipython",
    "version": 3
   },
   "file_extension": ".py",
   "mimetype": "text/x-python",
   "name": "python",
   "nbconvert_exporter": "python",
   "pygments_lexer": "ipython3",
   "version": "3.5.3"
  }
 },
 "nbformat": 4,
 "nbformat_minor": 1
}
