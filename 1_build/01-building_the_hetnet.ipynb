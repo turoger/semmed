{
 "cells": [
  {
   "cell_type": "markdown",
   "metadata": {},
   "source": [
    "# Building the Hetnet\n",
    "\n",
    "This file does the initial conversion of SemmedDB into a Hetnet that will be used for future analysis\n",
    "\n",
    "This has multiples steps:\n",
    "\n",
    "1. Some minor processing steps\n",
    "    1. Remove general terms\n",
    "    2. Combining PMIDs for each unique S-P-O triple and saving\n",
    "3. Prepare the Nodes file for saving\n",
    "    4. Ensuring Correct Semanntic Types of the nodes\n",
    "        1. Resolving Issues with Multiple types for a single CUI\n",
    "4. Edge File Preparations\n",
    "    5. Developing Edge Abbreviations for the network\n",
    "    6. Ensuring that all edges directions follow the same convention\n",
    "    7. Restoring the PMID information to the Edges\n",
    "    8. De-duplicating the edges\n",
    "9. Saving"
   ]
  },
  {
   "cell_type": "code",
   "execution_count": 1,
   "metadata": {},
   "outputs": [],
   "source": [
    "import os\n",
    "import pickle\n",
    "%matplotlib inline\n",
    "import numpy as np\n",
    "import pandas as pd\n",
    "import seaborn as sns\n",
    "from tqdm import tqdm\n",
    "import matplotlib.pyplot as plt\n",
    "\n",
    "import sys\n",
    "sys.path.append('../../hetnet-ml/hetnet_ml/')\n",
    "import graph_tools as gt\n",
    "\n",
    "sys.path.append('../tools')\n",
    "import load_umls"
   ]
  },
  {
   "cell_type": "code",
   "execution_count": 2,
   "metadata": {},
   "outputs": [
    {
     "name": "stderr",
     "output_type": "stream",
     "text": [
      "/home/rogertu/anaconda3/envs/semmed/lib/python3.5/site-packages/IPython/core/interactiveshell.py:3018: DtypeWarning: Columns (11) have mixed types. Specify dtype option on import or set low_memory=False.\n",
      "  interactivity=interactivity, compiler=compiler, result=result)\n"
     ]
    }
   ],
   "source": [
    "sem_df = pd.read_csv('../data/semmedVER43_R_clean_de-depricate.csv')"
   ]
  },
  {
   "cell_type": "code",
   "execution_count": 3,
   "metadata": {},
   "outputs": [
    {
     "name": "stdout",
     "output_type": "stream",
     "text": [
      "Rows: 122,796,163\n",
      "Cols: 12\n"
     ]
    }
   ],
   "source": [
    "print('Rows: {:,}'.format(sem_df.shape[0]))\n",
    "print('Cols: {}'.format(sem_df.shape[1]))"
   ]
  },
  {
   "cell_type": "code",
   "execution_count": 4,
   "metadata": {},
   "outputs": [
    {
     "data": {
      "text/html": [
       "<div>\n",
       "<style scoped>\n",
       "    .dataframe tbody tr th:only-of-type {\n",
       "        vertical-align: middle;\n",
       "    }\n",
       "\n",
       "    .dataframe tbody tr th {\n",
       "        vertical-align: top;\n",
       "    }\n",
       "\n",
       "    .dataframe thead th {\n",
       "        text-align: right;\n",
       "    }\n",
       "</style>\n",
       "<table border=\"1\" class=\"dataframe\">\n",
       "  <thead>\n",
       "    <tr style=\"text-align: right;\">\n",
       "      <th></th>\n",
       "      <th>PREDICATION_ID</th>\n",
       "      <th>SENTENCE_ID</th>\n",
       "      <th>PMID</th>\n",
       "      <th>PREDICATE</th>\n",
       "      <th>SUBJECT_CUI</th>\n",
       "      <th>SUBJECT_NAME</th>\n",
       "      <th>SUBJECT_SEMTYPE</th>\n",
       "      <th>SUBJECT_NOVELTY</th>\n",
       "      <th>OBJECT_CUI</th>\n",
       "      <th>OBJECT_NAME</th>\n",
       "      <th>OBJECT_SEMTYPE</th>\n",
       "      <th>OBJECT_NOVELTY</th>\n",
       "    </tr>\n",
       "  </thead>\n",
       "  <tbody>\n",
       "    <tr>\n",
       "      <th>0</th>\n",
       "      <td>10592604</td>\n",
       "      <td>16</td>\n",
       "      <td>16530475</td>\n",
       "      <td>PROCESS_OF</td>\n",
       "      <td>C0003725</td>\n",
       "      <td>Arboviruses</td>\n",
       "      <td>virs</td>\n",
       "      <td>1</td>\n",
       "      <td>C0999630</td>\n",
       "      <td>Lepus capensis</td>\n",
       "      <td>mamm</td>\n",
       "      <td>1</td>\n",
       "    </tr>\n",
       "    <tr>\n",
       "      <th>1</th>\n",
       "      <td>10592697</td>\n",
       "      <td>17</td>\n",
       "      <td>16530475</td>\n",
       "      <td>ISA</td>\n",
       "      <td>C0039258</td>\n",
       "      <td>Tahyna virus</td>\n",
       "      <td>virs</td>\n",
       "      <td>1</td>\n",
       "      <td>C0006755</td>\n",
       "      <td>Encephalitis Virus, California</td>\n",
       "      <td>virs</td>\n",
       "      <td>1</td>\n",
       "    </tr>\n",
       "  </tbody>\n",
       "</table>\n",
       "</div>"
      ],
      "text/plain": [
       "   PREDICATION_ID  SENTENCE_ID      PMID   PREDICATE SUBJECT_CUI  \\\n",
       "0        10592604           16  16530475  PROCESS_OF    C0003725   \n",
       "1        10592697           17  16530475         ISA    C0039258   \n",
       "\n",
       "   SUBJECT_NAME SUBJECT_SEMTYPE  SUBJECT_NOVELTY OBJECT_CUI  \\\n",
       "0   Arboviruses            virs                1   C0999630   \n",
       "1  Tahyna virus            virs                1   C0006755   \n",
       "\n",
       "                      OBJECT_NAME OBJECT_SEMTYPE OBJECT_NOVELTY  \n",
       "0                  Lepus capensis           mamm              1  \n",
       "1  Encephalitis Virus, California           virs              1  "
      ]
     },
     "execution_count": 4,
     "metadata": {},
     "output_type": "execute_result"
    }
   ],
   "source": [
    "sem_df.head(2)"
   ]
  },
  {
   "cell_type": "markdown",
   "metadata": {},
   "source": [
    "# 1. Processing\n",
    "\n",
    "## Remove Generic Concepts\n",
    "\n",
    "Generic concepts ([defined here](https://skr3.nlm.nih.gov/SemMedDB/dbinfo.html)) are too generic for this analysis and should be removed from the data. These concepts have a `SUBJECT_NOVELTY` or `OBJECT_NOVELTY` value of 0.  So we will only keep non-zero values in both columns"
   ]
  },
  {
   "cell_type": "code",
   "execution_count": 5,
   "metadata": {},
   "outputs": [
    {
     "name": "stdout",
     "output_type": "stream",
     "text": [
      "Rows 86,895,315\n"
     ]
    }
   ],
   "source": [
    "sem_df = sem_df.query('SUBJECT_NOVELTY != 0 and OBJECT_NOVELTY != 0')\n",
    "print('Rows {:,}'.format(sem_df.shape[0]))"
   ]
  },
  {
   "cell_type": "markdown",
   "metadata": {},
   "source": [
    "## Count PMIDs\n",
    "\n",
    "Lets see how many PMIDs there are for each unique S-P-O triple"
   ]
  },
  {
   "cell_type": "code",
   "execution_count": 6,
   "metadata": {},
   "outputs": [],
   "source": [
    "from collections import defaultdict"
   ]
  },
  {
   "cell_type": "markdown",
   "metadata": {},
   "source": [
    "DataFrame.grouby is terrible:\n",
    "\n",
    "    pmids = sem_df.groupby(['SUBJECT_CUI', 'PREDICATE', 'OBJECT_CUI'])['PMID'].apply(set).to_dict()\n",
    "    \n",
    "This will take 45+ min... DONT DO THIS!!!"
   ]
  },
  {
   "cell_type": "code",
   "execution_count": 7,
   "metadata": {},
   "outputs": [
    {
     "name": "stderr",
     "output_type": "stream",
     "text": [
      "100%|██████████| 86895315/86895315 [04:11<00:00, 345007.48it/s]\n"
     ]
    }
   ],
   "source": [
    "pmids = defaultdict(set)\n",
    "\n",
    "col_names = sem_df.columns.tolist()\n",
    "\n",
    "pmid_idx = col_names.index('PMID')\n",
    "sub_idx = col_names.index('SUBJECT_CUI')\n",
    "pred_idx = col_names.index('PREDICATE')\n",
    "obj_idx = col_names.index('OBJECT_CUI')\n",
    "\n",
    "for tup in tqdm(sem_df.itertuples(False, None), total=len(sem_df)):\n",
    "    \n",
    "    pmid = tup[pmid_idx]\n",
    "    sub = tup[sub_idx]\n",
    "    pred = tup[pred_idx]\n",
    "    obj = tup[obj_idx]\n",
    "    \n",
    "    pmids[(sub, pred, obj)].add(pmid)"
   ]
  },
  {
   "cell_type": "code",
   "execution_count": 8,
   "metadata": {
    "scrolled": true
   },
   "outputs": [
    {
     "data": {
      "text/plain": [
       "{16530475}"
      ]
     },
     "execution_count": 8,
     "metadata": {},
     "output_type": "execute_result"
    }
   ],
   "source": [
    "# See the PMIDs Associated with the first line above\n",
    "row_idx = 0\n",
    "\n",
    "s = sem_df.loc[row_idx, 'SUBJECT_CUI']\n",
    "p = sem_df.loc[row_idx, 'PREDICATE']\n",
    "o = sem_df.loc[row_idx, 'OBJECT_CUI']\n",
    "\n",
    "pmids[(s, p, o)]"
   ]
  },
  {
   "cell_type": "code",
   "execution_count": 9,
   "metadata": {},
   "outputs": [],
   "source": [
    "counts = [len(v) for v in pmids.values()]"
   ]
  },
  {
   "cell_type": "code",
   "execution_count": 10,
   "metadata": {},
   "outputs": [],
   "source": [
    "counts = (pd.Series(counts)\n",
    "            .value_counts()\n",
    "            .to_frame()\n",
    "            .reset_index()\n",
    "            .rename(columns={'index': 'Num PMIDs', 0: 'SPO Triples'}))"
   ]
  },
  {
   "cell_type": "code",
   "execution_count": 11,
   "metadata": {},
   "outputs": [
    {
     "data": {
      "image/png": "[encoded data removed]",
      "text/plain": [
       "<Figure size 432x288 with 1 Axes>"
      ]
     },
     "metadata": {
      "needs_background": "light"
     },
     "output_type": "display_data"
    }
   ],
   "source": [
    "data = counts[counts['Num PMIDs'] < 21]\n",
    "\n",
    "sns.barplot(x='Num PMIDs', y='SPO Triples', data=data, color = sns.color_palette()[0])\n",
    "plt.title('Number of edges with 1-20 supporting PMIDs');"
   ]
  },
  {
   "cell_type": "code",
   "execution_count": 12,
   "metadata": {},
   "outputs": [
    {
     "data": {
      "image/png": "[encoded data removed]",
      "text/plain": [
       "<Figure size 432x288 with 1 Axes>"
      ]
     },
     "metadata": {
      "needs_background": "light"
     },
     "output_type": "display_data"
    }
   ],
   "source": [
    "counts['log Triples'] = np.log(counts['SPO Triples'])\n",
    "data=counts[counts['Num PMIDs'] < 21]\n",
    "\n",
    "sns.barplot(x='Num PMIDs', y='log Triples', data=data, color=sns.color_palette()[0])\n",
    "plt.title('Log number of edges with 1-20 supporting PMIDs');"
   ]
  },
  {
   "cell_type": "code",
   "execution_count": 13,
   "metadata": {},
   "outputs": [
    {
     "name": "stdout",
     "output_type": "stream",
     "text": [
      "Edges with at least 1 unique PMIDs: 22,802,546\n",
      "Edges with at least 2 unique PMIDs: 6,395,009\n",
      "Edges with at least 3 unique PMIDs: 3,599,031\n",
      "Edges with at least 4 unique PMIDs: 2,493,775\n",
      "Edges with at least 5 unique PMIDs: 1,901,676\n",
      "Edges with at least 6 unique PMIDs: 1,533,765\n",
      "Edges with at least 7 unique PMIDs: 1,282,849\n",
      "Edges with at least 8 unique PMIDs: 1,100,945\n",
      "Edges with at least 9 unique PMIDs: 962,855\n",
      "Edges with at least 10 unique PMIDs: 854,765\n"
     ]
    }
   ],
   "source": [
    "for i in range(1, 11):\n",
    "    print(\"Edges with at least {} unique PMIDs: {:,}\".format(i, counts[counts['Num PMIDs'] >= i]['SPO Triples'].sum()))"
   ]
  },
  {
   "cell_type": "markdown",
   "metadata": {},
   "source": [
    "### De-Duplicate\n",
    "\n",
    "The data will be faster to work with if duplicate items are removed."
   ]
  },
  {
   "cell_type": "code",
   "execution_count": 14,
   "metadata": {
    "scrolled": true
   },
   "outputs": [
    {
     "name": "stdout",
     "output_type": "stream",
     "text": [
      "Rows Remaining: 23,795,399\n"
     ]
    }
   ],
   "source": [
    "sem_df = sem_df.drop_duplicates(subset=['SUBJECT_CUI', 'SUBJECT_NAME', 'SUBJECT_SEMTYPE', 'PREDICATE',\n",
    "                                        'OBJECT_CUI', 'OBJECT_NAME', 'OBJECT_SEMTYPE'])\n",
    "\n",
    "print('Rows Remaining: {:,}'.format(sem_df.shape[0]))"
   ]
  },
  {
   "cell_type": "markdown",
   "metadata": {},
   "source": [
    "# 2. Prepare Node FIles\n",
    "\n",
    "## Begin Analysis of Sem-Types\n",
    "\n",
    "Semtypes are abbreviated, so need to get mappings to true name.  \n",
    "Examining the length of the map file, there should be 133 semtypes."
   ]
  },
  {
   "cell_type": "code",
   "execution_count": 15,
   "metadata": {},
   "outputs": [
    {
     "data": {
      "text/plain": [
       "134"
      ]
     },
     "execution_count": 15,
     "metadata": {},
     "output_type": "execute_result"
    }
   ],
   "source": [
    "len(set(sem_df['SUBJECT_SEMTYPE'].unique()).union(set(sem_df['OBJECT_SEMTYPE'].unique())))"
   ]
  },
  {
   "cell_type": "markdown",
   "metadata": {
    "collapsed": true
   },
   "source": [
    "### Normalizing semtypes for CUIs with multiple semtypes\n",
    "\n",
    "We know that there are multiple Semtypes for a given CUI found throghout the database.  Can we just use a voting system? That with the most occruances of a given semtype gets that semtype?\n",
    "\n",
    "For a CUI thats a Gene e.g. `C1337111` or the `POMC gene` we want something thats a subclass of Genes and Genomes (aka gngm)."
   ]
  },
  {
   "cell_type": "code",
   "execution_count": 16,
   "metadata": {
    "scrolled": true
   },
   "outputs": [
    {
     "data": {
      "text/plain": [
       "aapp    4104\n",
       "horm    1149\n",
       "gngm     958\n",
       "phsu     320\n",
       "nsba      30\n",
       "orch       1\n",
       "Name: SUBJECT_SEMTYPE, dtype: int64"
      ]
     },
     "execution_count": 16,
     "metadata": {},
     "output_type": "execute_result"
    }
   ],
   "source": [
    "sem_df.query('SUBJECT_CUI == \"C1337111\"')['SUBJECT_SEMTYPE'].value_counts()"
   ]
  },
  {
   "cell_type": "markdown",
   "metadata": {},
   "source": [
    "Unfortunately, aapp is a sublcass of Chemicals & Drugs, so this would be given the wrong superclass if identified.\n",
    "\n",
    "However, it will be easier to do this if the nodes are sperated from the edges first\n",
    "\n",
    "\n",
    "#### Semmtypes abbreviation mappings\n",
    "\n",
    "Files with the mapping information were [downloaded here](https://metamap.nlm.nih.gov/SemanticTypesAndGroups.shtml)"
   ]
  },
  {
   "cell_type": "code",
   "execution_count": 17,
   "metadata": {},
   "outputs": [],
   "source": [
    "abbv_to_type = dict()\n",
    "with open('../data/SemanticTypes_2018AB.txt') as fin:\n",
    "    for line in fin:\n",
    "        line = line.strip()\n",
    "        lspt = line.split('|')\n",
    "        abbv_to_type[lspt[0]] = lspt[-1]\n",
    "type_to_abbv = {v:k for k, v in abbv_to_type.items()}"
   ]
  },
  {
   "cell_type": "markdown",
   "metadata": {},
   "source": [
    "Semtypes also have a supertype.   \n",
    "The mapping file has this structure:\n",
    "\n",
    "    ANAT|Anatomy|T017|Anatomical Structure\n",
    "\n",
    "#### Semtype supertypes mappings"
   ]
  },
  {
   "cell_type": "code",
   "execution_count": 18,
   "metadata": {},
   "outputs": [],
   "source": [
    "abbv_to_super = dict()\n",
    "with open('../data/SemGroups_2018.txt') as fin:\n",
    "    for line in fin:\n",
    "        line = line.strip()\n",
    "        lspt = line.split('|')\n",
    "        abbv_to_super[type_to_abbv[lspt[-1]]] = lspt[1]"
   ]
  },
  {
   "cell_type": "markdown",
   "metadata": {},
   "source": [
    "#### Check to see that all of the semtype abbreviations in the SemmedDB are repepresented in this mapping file"
   ]
  },
  {
   "cell_type": "code",
   "execution_count": 19,
   "metadata": {},
   "outputs": [
    {
     "data": {
      "text/plain": [
       "{'1',\n",
       " 'C0030193',\n",
       " 'alga',\n",
       " 'carb',\n",
       " 'eico',\n",
       " 'invt',\n",
       " 'lipd',\n",
       " 'nsba',\n",
       " 'opco',\n",
       " 'rich',\n",
       " 'strd'}"
      ]
     },
     "execution_count": 19,
     "metadata": {},
     "output_type": "execute_result"
    }
   ],
   "source": [
    "semtype_abbvs = abbv_to_super.keys()\n",
    "unused_abbvs = set(sem_df.query('SUBJECT_SEMTYPE not in @semtype_abbvs')['SUBJECT_SEMTYPE'].unique())\n",
    "unused_abbvs.update(set(sem_df.query('OBJECT_SEMTYPE not in @semtype_abbvs')['OBJECT_SEMTYPE'].unique()))\n",
    "\n",
    "unused_abbvs"
   ]
  },
  {
   "cell_type": "markdown",
   "metadata": {},
   "source": [
    "There are a few that aren't in there, so lets see if we can figure out what they should be"
   ]
  },
  {
   "cell_type": "code",
   "execution_count": 20,
   "metadata": {},
   "outputs": [
    {
     "data": {
      "text/html": [
       "<div>\n",
       "<style scoped>\n",
       "    .dataframe tbody tr th:only-of-type {\n",
       "        vertical-align: middle;\n",
       "    }\n",
       "\n",
       "    .dataframe tbody tr th {\n",
       "        vertical-align: top;\n",
       "    }\n",
       "\n",
       "    .dataframe thead th {\n",
       "        text-align: right;\n",
       "    }\n",
       "</style>\n",
       "<table border=\"1\" class=\"dataframe\">\n",
       "  <thead>\n",
       "    <tr style=\"text-align: right;\">\n",
       "      <th></th>\n",
       "      <th>SUBJECT_CUI</th>\n",
       "      <th>SUBJECT_NAME</th>\n",
       "      <th>SUBJECT_SEMTYPE</th>\n",
       "    </tr>\n",
       "  </thead>\n",
       "  <tbody>\n",
       "    <tr>\n",
       "      <th>1041</th>\n",
       "      <td>C1089415</td>\n",
       "      <td>Selenastrum capricornutum</td>\n",
       "      <td>alga</td>\n",
       "    </tr>\n",
       "    <tr>\n",
       "      <th>9784</th>\n",
       "      <td>C0036500</td>\n",
       "      <td>Seaweed</td>\n",
       "      <td>alga</td>\n",
       "    </tr>\n",
       "  </tbody>\n",
       "</table>\n",
       "</div>"
      ],
      "text/plain": [
       "     SUBJECT_CUI               SUBJECT_NAME SUBJECT_SEMTYPE\n",
       "1041    C1089415  Selenastrum capricornutum            alga\n",
       "9784    C0036500                    Seaweed            alga"
      ]
     },
     "execution_count": 20,
     "metadata": {},
     "output_type": "execute_result"
    }
   ],
   "source": [
    "sem_df.query('SUBJECT_SEMTYPE == \"alga\"').head(2)[['SUBJECT_CUI', 'SUBJECT_NAME', 'SUBJECT_SEMTYPE']]"
   ]
  },
  {
   "cell_type": "code",
   "execution_count": 21,
   "metadata": {},
   "outputs": [
    {
     "data": {
      "text/html": [
       "<div>\n",
       "<style scoped>\n",
       "    .dataframe tbody tr th:only-of-type {\n",
       "        vertical-align: middle;\n",
       "    }\n",
       "\n",
       "    .dataframe tbody tr th {\n",
       "        vertical-align: top;\n",
       "    }\n",
       "\n",
       "    .dataframe thead th {\n",
       "        text-align: right;\n",
       "    }\n",
       "</style>\n",
       "<table border=\"1\" class=\"dataframe\">\n",
       "  <thead>\n",
       "    <tr style=\"text-align: right;\">\n",
       "      <th></th>\n",
       "      <th>SUBJECT_CUI</th>\n",
       "      <th>SUBJECT_NAME</th>\n",
       "      <th>SUBJECT_SEMTYPE</th>\n",
       "    </tr>\n",
       "  </thead>\n",
       "  <tbody>\n",
       "    <tr>\n",
       "      <th>942</th>\n",
       "      <td>C0041221</td>\n",
       "      <td>Trypanosoma cruzi</td>\n",
       "      <td>invt</td>\n",
       "    </tr>\n",
       "    <tr>\n",
       "      <th>1218</th>\n",
       "      <td>C0004573</td>\n",
       "      <td>Babesia bovis</td>\n",
       "      <td>invt</td>\n",
       "    </tr>\n",
       "  </tbody>\n",
       "</table>\n",
       "</div>"
      ],
      "text/plain": [
       "     SUBJECT_CUI       SUBJECT_NAME SUBJECT_SEMTYPE\n",
       "942     C0041221  Trypanosoma cruzi            invt\n",
       "1218    C0004573      Babesia bovis            invt"
      ]
     },
     "execution_count": 21,
     "metadata": {},
     "output_type": "execute_result"
    }
   ],
   "source": [
    "sem_df.query('SUBJECT_SEMTYPE == \"invt\"').head(2)[['SUBJECT_CUI', 'SUBJECT_NAME', 'SUBJECT_SEMTYPE']]"
   ]
  },
  {
   "cell_type": "code",
   "execution_count": 22,
   "metadata": {},
   "outputs": [
    {
     "data": {
      "text/html": [
       "<div>\n",
       "<style scoped>\n",
       "    .dataframe tbody tr th:only-of-type {\n",
       "        vertical-align: middle;\n",
       "    }\n",
       "\n",
       "    .dataframe tbody tr th {\n",
       "        vertical-align: top;\n",
       "    }\n",
       "\n",
       "    .dataframe thead th {\n",
       "        text-align: right;\n",
       "    }\n",
       "</style>\n",
       "<table border=\"1\" class=\"dataframe\">\n",
       "  <thead>\n",
       "    <tr style=\"text-align: right;\">\n",
       "      <th></th>\n",
       "      <th>SUBJECT_CUI</th>\n",
       "      <th>SUBJECT_NAME</th>\n",
       "      <th>SUBJECT_SEMTYPE</th>\n",
       "    </tr>\n",
       "  </thead>\n",
       "  <tbody>\n",
       "    <tr>\n",
       "      <th>38078</th>\n",
       "      <td>C0085504</td>\n",
       "      <td>Chlamydophila pneumoniae</td>\n",
       "      <td>rich</td>\n",
       "    </tr>\n",
       "    <tr>\n",
       "      <th>51868</th>\n",
       "      <td>C0752001</td>\n",
       "      <td>Wolbachia</td>\n",
       "      <td>rich</td>\n",
       "    </tr>\n",
       "  </tbody>\n",
       "</table>\n",
       "</div>"
      ],
      "text/plain": [
       "      SUBJECT_CUI              SUBJECT_NAME SUBJECT_SEMTYPE\n",
       "38078    C0085504  Chlamydophila pneumoniae            rich\n",
       "51868    C0752001                 Wolbachia            rich"
      ]
     },
     "execution_count": 22,
     "metadata": {},
     "output_type": "execute_result"
    }
   ],
   "source": [
    "sem_df.query('SUBJECT_SEMTYPE == \"rich\"').head(2)[['SUBJECT_CUI', 'SUBJECT_NAME', 'SUBJECT_SEMTYPE']]"
   ]
  },
  {
   "cell_type": "code",
   "execution_count": 23,
   "metadata": {},
   "outputs": [
    {
     "data": {
      "text/html": [
       "<div>\n",
       "<style scoped>\n",
       "    .dataframe tbody tr th:only-of-type {\n",
       "        vertical-align: middle;\n",
       "    }\n",
       "\n",
       "    .dataframe tbody tr th {\n",
       "        vertical-align: top;\n",
       "    }\n",
       "\n",
       "    .dataframe thead th {\n",
       "        text-align: right;\n",
       "    }\n",
       "</style>\n",
       "<table border=\"1\" class=\"dataframe\">\n",
       "  <thead>\n",
       "    <tr style=\"text-align: right;\">\n",
       "      <th></th>\n",
       "      <th>SUBJECT_CUI</th>\n",
       "      <th>SUBJECT_NAME</th>\n",
       "      <th>SUBJECT_SEMTYPE</th>\n",
       "    </tr>\n",
       "  </thead>\n",
       "  <tbody>\n",
       "  </tbody>\n",
       "</table>\n",
       "</div>"
      ],
      "text/plain": [
       "Empty DataFrame\n",
       "Columns: [SUBJECT_CUI, SUBJECT_NAME, SUBJECT_SEMTYPE]\n",
       "Index: []"
      ]
     },
     "execution_count": 23,
     "metadata": {},
     "output_type": "execute_result"
    }
   ],
   "source": [
    "sem_df.query('SUBJECT_SEMTYPE == \"1\"').head(2)[['SUBJECT_CUI', 'SUBJECT_NAME', 'SUBJECT_SEMTYPE']]"
   ]
  },
  {
   "cell_type": "code",
   "execution_count": 24,
   "metadata": {},
   "outputs": [
    {
     "data": {
      "text/html": [
       "<div>\n",
       "<style scoped>\n",
       "    .dataframe tbody tr th:only-of-type {\n",
       "        vertical-align: middle;\n",
       "    }\n",
       "\n",
       "    .dataframe tbody tr th {\n",
       "        vertical-align: top;\n",
       "    }\n",
       "\n",
       "    .dataframe thead th {\n",
       "        text-align: right;\n",
       "    }\n",
       "</style>\n",
       "<table border=\"1\" class=\"dataframe\">\n",
       "  <thead>\n",
       "    <tr style=\"text-align: right;\">\n",
       "      <th></th>\n",
       "      <th>SUBJECT_CUI</th>\n",
       "      <th>SUBJECT_NAME</th>\n",
       "      <th>SUBJECT_SEMTYPE</th>\n",
       "    </tr>\n",
       "  </thead>\n",
       "  <tbody>\n",
       "  </tbody>\n",
       "</table>\n",
       "</div>"
      ],
      "text/plain": [
       "Empty DataFrame\n",
       "Columns: [SUBJECT_CUI, SUBJECT_NAME, SUBJECT_SEMTYPE]\n",
       "Index: []"
      ]
     },
     "execution_count": 24,
     "metadata": {},
     "output_type": "execute_result"
    }
   ],
   "source": [
    "sem_df.query('SUBJECT_SEMTYPE == \"C0030193\"').head(2)[['SUBJECT_CUI', 'SUBJECT_NAME', 'SUBJECT_SEMTYPE']]"
   ]
  },
  {
   "cell_type": "code",
   "execution_count": 25,
   "metadata": {},
   "outputs": [
    {
     "data": {
      "text/html": [
       "<div>\n",
       "<style scoped>\n",
       "    .dataframe tbody tr th:only-of-type {\n",
       "        vertical-align: middle;\n",
       "    }\n",
       "\n",
       "    .dataframe tbody tr th {\n",
       "        vertical-align: top;\n",
       "    }\n",
       "\n",
       "    .dataframe thead th {\n",
       "        text-align: right;\n",
       "    }\n",
       "</style>\n",
       "<table border=\"1\" class=\"dataframe\">\n",
       "  <thead>\n",
       "    <tr style=\"text-align: right;\">\n",
       "      <th></th>\n",
       "      <th>SUBJECT_CUI</th>\n",
       "      <th>SUBJECT_NAME</th>\n",
       "      <th>SUBJECT_SEMTYPE</th>\n",
       "    </tr>\n",
       "  </thead>\n",
       "  <tbody>\n",
       "    <tr>\n",
       "      <th>404</th>\n",
       "      <td>C0033954</td>\n",
       "      <td>Psychosine</td>\n",
       "      <td>carb</td>\n",
       "    </tr>\n",
       "    <tr>\n",
       "      <th>982</th>\n",
       "      <td>C0005802</td>\n",
       "      <td>Blood Glucose</td>\n",
       "      <td>carb</td>\n",
       "    </tr>\n",
       "  </tbody>\n",
       "</table>\n",
       "</div>"
      ],
      "text/plain": [
       "    SUBJECT_CUI   SUBJECT_NAME SUBJECT_SEMTYPE\n",
       "404    C0033954     Psychosine            carb\n",
       "982    C0005802  Blood Glucose            carb"
      ]
     },
     "execution_count": 25,
     "metadata": {},
     "output_type": "execute_result"
    }
   ],
   "source": [
    "sem_df.query('SUBJECT_SEMTYPE == \"carb\"').head(2)[['SUBJECT_CUI', 'SUBJECT_NAME', 'SUBJECT_SEMTYPE']]"
   ]
  },
  {
   "cell_type": "code",
   "execution_count": 26,
   "metadata": {},
   "outputs": [
    {
     "data": {
      "text/html": [
       "<div>\n",
       "<style scoped>\n",
       "    .dataframe tbody tr th:only-of-type {\n",
       "        vertical-align: middle;\n",
       "    }\n",
       "\n",
       "    .dataframe tbody tr th {\n",
       "        vertical-align: top;\n",
       "    }\n",
       "\n",
       "    .dataframe thead th {\n",
       "        text-align: right;\n",
       "    }\n",
       "</style>\n",
       "<table border=\"1\" class=\"dataframe\">\n",
       "  <thead>\n",
       "    <tr style=\"text-align: right;\">\n",
       "      <th></th>\n",
       "      <th>SUBJECT_CUI</th>\n",
       "      <th>SUBJECT_NAME</th>\n",
       "      <th>SUBJECT_SEMTYPE</th>\n",
       "    </tr>\n",
       "  </thead>\n",
       "  <tbody>\n",
       "    <tr>\n",
       "      <th>363</th>\n",
       "      <td>C0023779</td>\n",
       "      <td>Lipids</td>\n",
       "      <td>lipd</td>\n",
       "    </tr>\n",
       "    <tr>\n",
       "      <th>473</th>\n",
       "      <td>C0023810</td>\n",
       "      <td>Lipopolysaccharides</td>\n",
       "      <td>lipd</td>\n",
       "    </tr>\n",
       "  </tbody>\n",
       "</table>\n",
       "</div>"
      ],
      "text/plain": [
       "    SUBJECT_CUI         SUBJECT_NAME SUBJECT_SEMTYPE\n",
       "363    C0023779               Lipids            lipd\n",
       "473    C0023810  Lipopolysaccharides            lipd"
      ]
     },
     "execution_count": 26,
     "metadata": {},
     "output_type": "execute_result"
    }
   ],
   "source": [
    "sem_df.query('SUBJECT_SEMTYPE == \"lipd\"').head(2)[['SUBJECT_CUI', 'SUBJECT_NAME', 'SUBJECT_SEMTYPE']]"
   ]
  },
  {
   "cell_type": "code",
   "execution_count": 27,
   "metadata": {},
   "outputs": [
    {
     "data": {
      "text/html": [
       "<div>\n",
       "<style scoped>\n",
       "    .dataframe tbody tr th:only-of-type {\n",
       "        vertical-align: middle;\n",
       "    }\n",
       "\n",
       "    .dataframe tbody tr th {\n",
       "        vertical-align: top;\n",
       "    }\n",
       "\n",
       "    .dataframe thead th {\n",
       "        text-align: right;\n",
       "    }\n",
       "</style>\n",
       "<table border=\"1\" class=\"dataframe\">\n",
       "  <thead>\n",
       "    <tr style=\"text-align: right;\">\n",
       "      <th></th>\n",
       "      <th>SUBJECT_CUI</th>\n",
       "      <th>SUBJECT_NAME</th>\n",
       "      <th>SUBJECT_SEMTYPE</th>\n",
       "    </tr>\n",
       "  </thead>\n",
       "  <tbody>\n",
       "    <tr>\n",
       "      <th>1173</th>\n",
       "      <td>C0001041</td>\n",
       "      <td>acetylcholine</td>\n",
       "      <td>nsba</td>\n",
       "    </tr>\n",
       "    <tr>\n",
       "      <th>1265</th>\n",
       "      <td>C0002658</td>\n",
       "      <td>amphetamine</td>\n",
       "      <td>nsba</td>\n",
       "    </tr>\n",
       "  </tbody>\n",
       "</table>\n",
       "</div>"
      ],
      "text/plain": [
       "     SUBJECT_CUI   SUBJECT_NAME SUBJECT_SEMTYPE\n",
       "1173    C0001041  acetylcholine            nsba\n",
       "1265    C0002658    amphetamine            nsba"
      ]
     },
     "execution_count": 27,
     "metadata": {},
     "output_type": "execute_result"
    }
   ],
   "source": [
    "sem_df.query('SUBJECT_SEMTYPE == \"nsba\"').head(2)[['SUBJECT_CUI', 'SUBJECT_NAME', 'SUBJECT_SEMTYPE']]"
   ]
  },
  {
   "cell_type": "code",
   "execution_count": 28,
   "metadata": {},
   "outputs": [
    {
     "data": {
      "text/html": [
       "<div>\n",
       "<style scoped>\n",
       "    .dataframe tbody tr th:only-of-type {\n",
       "        vertical-align: middle;\n",
       "    }\n",
       "\n",
       "    .dataframe tbody tr th {\n",
       "        vertical-align: top;\n",
       "    }\n",
       "\n",
       "    .dataframe thead th {\n",
       "        text-align: right;\n",
       "    }\n",
       "</style>\n",
       "<table border=\"1\" class=\"dataframe\">\n",
       "  <thead>\n",
       "    <tr style=\"text-align: right;\">\n",
       "      <th></th>\n",
       "      <th>SUBJECT_CUI</th>\n",
       "      <th>SUBJECT_NAME</th>\n",
       "      <th>SUBJECT_SEMTYPE</th>\n",
       "    </tr>\n",
       "  </thead>\n",
       "  <tbody>\n",
       "    <tr>\n",
       "      <th>2772</th>\n",
       "      <td>C0015020</td>\n",
       "      <td>amifostine</td>\n",
       "      <td>opco</td>\n",
       "    </tr>\n",
       "    <tr>\n",
       "      <th>3727</th>\n",
       "      <td>C0012544</td>\n",
       "      <td>Diphosphonates</td>\n",
       "      <td>opco</td>\n",
       "    </tr>\n",
       "  </tbody>\n",
       "</table>\n",
       "</div>"
      ],
      "text/plain": [
       "     SUBJECT_CUI    SUBJECT_NAME SUBJECT_SEMTYPE\n",
       "2772    C0015020      amifostine            opco\n",
       "3727    C0012544  Diphosphonates            opco"
      ]
     },
     "execution_count": 28,
     "metadata": {},
     "output_type": "execute_result"
    }
   ],
   "source": [
    "sem_df.query('SUBJECT_SEMTYPE == \"opco\"').head(2)[['SUBJECT_CUI', 'SUBJECT_NAME', 'SUBJECT_SEMTYPE']]"
   ]
  },
  {
   "cell_type": "code",
   "execution_count": 29,
   "metadata": {},
   "outputs": [
    {
     "data": {
      "text/html": [
       "<div>\n",
       "<style scoped>\n",
       "    .dataframe tbody tr th:only-of-type {\n",
       "        vertical-align: middle;\n",
       "    }\n",
       "\n",
       "    .dataframe tbody tr th {\n",
       "        vertical-align: top;\n",
       "    }\n",
       "\n",
       "    .dataframe thead th {\n",
       "        text-align: right;\n",
       "    }\n",
       "</style>\n",
       "<table border=\"1\" class=\"dataframe\">\n",
       "  <thead>\n",
       "    <tr style=\"text-align: right;\">\n",
       "      <th></th>\n",
       "      <th>SUBJECT_CUI</th>\n",
       "      <th>SUBJECT_NAME</th>\n",
       "      <th>SUBJECT_SEMTYPE</th>\n",
       "    </tr>\n",
       "  </thead>\n",
       "  <tbody>\n",
       "    <tr>\n",
       "      <th>1668</th>\n",
       "      <td>C0077144</td>\n",
       "      <td>trilostane</td>\n",
       "      <td>strd</td>\n",
       "    </tr>\n",
       "    <tr>\n",
       "      <th>2327</th>\n",
       "      <td>C0038323</td>\n",
       "      <td>Sterols</td>\n",
       "      <td>strd</td>\n",
       "    </tr>\n",
       "  </tbody>\n",
       "</table>\n",
       "</div>"
      ],
      "text/plain": [
       "     SUBJECT_CUI SUBJECT_NAME SUBJECT_SEMTYPE\n",
       "1668    C0077144   trilostane            strd\n",
       "2327    C0038323      Sterols            strd"
      ]
     },
     "execution_count": 29,
     "metadata": {},
     "output_type": "execute_result"
    }
   ],
   "source": [
    "sem_df.query('SUBJECT_SEMTYPE == \"strd\"').head(2)[['SUBJECT_CUI', 'SUBJECT_NAME', 'SUBJECT_SEMTYPE']]"
   ]
  },
  {
   "cell_type": "code",
   "execution_count": 30,
   "metadata": {},
   "outputs": [],
   "source": [
    "# Looked ups a few cuis with these and they are all of the living beings type, \n",
    "# so we will set these to that semtype\n",
    "abbv_to_super['invt'] = 'Living Beings'\n",
    "abbv_to_super['alga'] = 'Living Beings'\n",
    "abbv_to_super['rich'] = 'Living Beings'\n",
    "\n",
    "# a few of them are chemicals & Drugs\n",
    "abbv_to_super['carb'] = 'Chemicals & Drugs'\n",
    "abbv_to_super['lipd'] = 'Chemicals & Drugs'\n",
    "abbv_to_super['nsba'] = 'Chemicals & Drugs'\n",
    "abbv_to_super['strd'] = 'Chemicals & Drugs'"
   ]
  },
  {
   "cell_type": "markdown",
   "metadata": {},
   "source": [
    "## Get the nodes ready to be put into a CSV\n",
    "\n",
    "We will use the Neo4j import format, with the column headers ID (unique ID), name (string name), and Label (node type)."
   ]
  },
  {
   "cell_type": "code",
   "execution_count": 31,
   "metadata": {},
   "outputs": [
    {
     "data": {
      "text/html": [
       "<div>\n",
       "<style scoped>\n",
       "    .dataframe tbody tr th:only-of-type {\n",
       "        vertical-align: middle;\n",
       "    }\n",
       "\n",
       "    .dataframe tbody tr th {\n",
       "        vertical-align: top;\n",
       "    }\n",
       "\n",
       "    .dataframe thead th {\n",
       "        text-align: right;\n",
       "    }\n",
       "</style>\n",
       "<table border=\"1\" class=\"dataframe\">\n",
       "  <thead>\n",
       "    <tr style=\"text-align: right;\">\n",
       "      <th></th>\n",
       "      <th>ID</th>\n",
       "      <th>name</th>\n",
       "      <th>label</th>\n",
       "    </tr>\n",
       "  </thead>\n",
       "  <tbody>\n",
       "    <tr>\n",
       "      <th>0</th>\n",
       "      <td>C0003725</td>\n",
       "      <td>Arboviruses</td>\n",
       "      <td>Living Beings</td>\n",
       "    </tr>\n",
       "    <tr>\n",
       "      <th>1</th>\n",
       "      <td>C0039258</td>\n",
       "      <td>Tahyna virus</td>\n",
       "      <td>Living Beings</td>\n",
       "    </tr>\n",
       "    <tr>\n",
       "      <th>2</th>\n",
       "      <td>C0318627</td>\n",
       "      <td>Eyach virus</td>\n",
       "      <td>Living Beings</td>\n",
       "    </tr>\n",
       "    <tr>\n",
       "      <th>3</th>\n",
       "      <td>C0006755</td>\n",
       "      <td>Encephalitis Virus, California</td>\n",
       "      <td>Living Beings</td>\n",
       "    </tr>\n",
       "    <tr>\n",
       "      <th>4</th>\n",
       "      <td>C0999630</td>\n",
       "      <td>Lepus capensis</td>\n",
       "      <td>Living Beings</td>\n",
       "    </tr>\n",
       "  </tbody>\n",
       "</table>\n",
       "</div>"
      ],
      "text/plain": [
       "         ID                            name          label\n",
       "0  C0003725                     Arboviruses  Living Beings\n",
       "1  C0039258                    Tahyna virus  Living Beings\n",
       "2  C0318627                     Eyach virus  Living Beings\n",
       "3  C0006755  Encephalitis Virus, California  Living Beings\n",
       "4  C0999630                  Lepus capensis  Living Beings"
      ]
     },
     "execution_count": 31,
     "metadata": {},
     "output_type": "execute_result"
    }
   ],
   "source": [
    "# Get the nodes ready to be in a CSV\n",
    "# We will use the N\n",
    "\n",
    "snodes = pd.DataFrame()\n",
    "onodes = pd.DataFrame()\n",
    "\n",
    "\n",
    "snodes['ID'] = sem_df['SUBJECT_CUI']\n",
    "snodes['name'] = sem_df['SUBJECT_NAME']\n",
    "snodes['label'] = sem_df['SUBJECT_SEMTYPE'].apply(lambda x: abbv_to_super.get(x))\n",
    "\n",
    "onodes['ID'] = sem_df['OBJECT_CUI']\n",
    "onodes['name'] = sem_df['OBJECT_NAME']\n",
    "onodes['label'] = sem_df['OBJECT_SEMTYPE'].apply(lambda x: abbv_to_super.get(x))\n",
    "\n",
    "\n",
    "nodes = pd.concat([snodes, onodes])\n",
    "nodes.drop_duplicates(inplace=True)\n",
    "nodes = nodes.reset_index(drop=True)\n",
    "\n",
    "nodes.head()"
   ]
  },
  {
   "cell_type": "code",
   "execution_count": 32,
   "metadata": {},
   "outputs": [
    {
     "data": {
      "text/plain": [
       "{'Activities & Behaviors',\n",
       " 'Anatomy',\n",
       " 'Chemicals & Drugs',\n",
       " 'Concepts & Ideas',\n",
       " 'Devices',\n",
       " 'Disorders',\n",
       " 'Genes & Molecular Sequences',\n",
       " 'Geographic Areas',\n",
       " 'Living Beings',\n",
       " None,\n",
       " 'Objects',\n",
       " 'Occupations',\n",
       " 'Organizations',\n",
       " 'Phenomena',\n",
       " 'Physiology',\n",
       " 'Procedures'}"
      ]
     },
     "execution_count": 32,
     "metadata": {},
     "output_type": "execute_result"
    }
   ],
   "source": [
    "set(nodes.label)"
   ]
  },
  {
   "cell_type": "code",
   "execution_count": 33,
   "metadata": {},
   "outputs": [
    {
     "name": "stdout",
     "output_type": "stream",
     "text": [
      "There are 348017 entries and 308588 unique IDs\n",
      "78742 IDs have been found to have multiple semantic types\n"
     ]
    }
   ],
   "source": [
    "print('There are {} entries and {} unique IDs'.format(nodes.shape[0], nodes['ID'].nunique()))\n",
    "0\n",
    "num_duped = nodes[nodes.duplicated(subset='ID', keep=False)].drop_duplicates().shape[0]\n",
    "print('{} IDs have been found to have multiple semantic types'.format(num_duped))"
   ]
  },
  {
   "cell_type": "markdown",
   "metadata": {},
   "source": [
    "See if there are any untyped nodes"
   ]
  },
  {
   "cell_type": "code",
   "execution_count": 34,
   "metadata": {},
   "outputs": [
    {
     "data": {
      "text/html": [
       "<div>\n",
       "<style scoped>\n",
       "    .dataframe tbody tr th:only-of-type {\n",
       "        vertical-align: middle;\n",
       "    }\n",
       "\n",
       "    .dataframe tbody tr th {\n",
       "        vertical-align: top;\n",
       "    }\n",
       "\n",
       "    .dataframe thead th {\n",
       "        text-align: right;\n",
       "    }\n",
       "</style>\n",
       "<table border=\"1\" class=\"dataframe\">\n",
       "  <thead>\n",
       "    <tr style=\"text-align: right;\">\n",
       "      <th></th>\n",
       "      <th>ID</th>\n",
       "      <th>name</th>\n",
       "      <th>label</th>\n",
       "    </tr>\n",
       "  </thead>\n",
       "  <tbody>\n",
       "    <tr>\n",
       "      <th>645</th>\n",
       "      <td>C0012472</td>\n",
       "      <td>dinoprostone</td>\n",
       "      <td>None</td>\n",
       "    </tr>\n",
       "    <tr>\n",
       "      <th>1125</th>\n",
       "      <td>C0015020</td>\n",
       "      <td>amifostine</td>\n",
       "      <td>None</td>\n",
       "    </tr>\n",
       "    <tr>\n",
       "      <th>1418</th>\n",
       "      <td>C0012544</td>\n",
       "      <td>Diphosphonates</td>\n",
       "      <td>None</td>\n",
       "    </tr>\n",
       "    <tr>\n",
       "      <th>1587</th>\n",
       "      <td>C0134796</td>\n",
       "      <td>4-nitrophenylphosphate</td>\n",
       "      <td>None</td>\n",
       "    </tr>\n",
       "    <tr>\n",
       "      <th>1930</th>\n",
       "      <td>C0033554</td>\n",
       "      <td>Prostaglandins</td>\n",
       "      <td>None</td>\n",
       "    </tr>\n",
       "    <tr>\n",
       "      <th>...</th>\n",
       "      <td>...</td>\n",
       "      <td>...</td>\n",
       "      <td>...</td>\n",
       "    </tr>\n",
       "    <tr>\n",
       "      <th>328650</th>\n",
       "      <td>C0765301</td>\n",
       "      <td>LE-Cl2MDP</td>\n",
       "      <td>None</td>\n",
       "    </tr>\n",
       "    <tr>\n",
       "      <th>328795</th>\n",
       "      <td>C0450305</td>\n",
       "      <td>0.022\\\",qnco\"</td>\n",
       "      <td>None</td>\n",
       "    </tr>\n",
       "    <tr>\n",
       "      <th>330917</th>\n",
       "      <td>C0632780</td>\n",
       "      <td>hexadecyl 4-formylphenyl phosphate</td>\n",
       "      <td>None</td>\n",
       "    </tr>\n",
       "    <tr>\n",
       "      <th>344161</th>\n",
       "      <td>C0760657</td>\n",
       "      <td>BAL 9504</td>\n",
       "      <td>None</td>\n",
       "    </tr>\n",
       "    <tr>\n",
       "      <th>345732</th>\n",
       "      <td>C1439296</td>\n",
       "      <td>CX3CR1 gene</td>\n",
       "      <td>None</td>\n",
       "    </tr>\n",
       "  </tbody>\n",
       "</table>\n",
       "<p>1054 rows × 3 columns</p>\n",
       "</div>"
      ],
      "text/plain": [
       "              ID                                name label\n",
       "645     C0012472                        dinoprostone  None\n",
       "1125    C0015020                          amifostine  None\n",
       "1418    C0012544                      Diphosphonates  None\n",
       "1587    C0134796              4-nitrophenylphosphate  None\n",
       "1930    C0033554                      Prostaglandins  None\n",
       "...          ...                                 ...   ...\n",
       "328650  C0765301                           LE-Cl2MDP  None\n",
       "328795  C0450305                       0.022\\\",qnco\"  None\n",
       "330917  C0632780  hexadecyl 4-formylphenyl phosphate  None\n",
       "344161  C0760657                            BAL 9504  None\n",
       "345732  C1439296                         CX3CR1 gene  None\n",
       "\n",
       "[1054 rows x 3 columns]"
      ]
     },
     "execution_count": 34,
     "metadata": {},
     "output_type": "execute_result"
    }
   ],
   "source": [
    "no_semtype = nodes.isnull().sum(axis=1).astype(bool)\n",
    "nodes[no_semtype]"
   ]
  },
  {
   "cell_type": "markdown",
   "metadata": {},
   "source": [
    "## Fix semmantic types using the UMLS Metathesaurus\n",
    "\n",
    "Let's not guess and go directly to the source to make sure the types are correct"
   ]
  },
  {
   "cell_type": "markdown",
   "metadata": {},
   "source": [
    "#### First need a map from CUI to T-code for semmantics"
   ]
  },
  {
   "cell_type": "code",
   "execution_count": 35,
   "metadata": {},
   "outputs": [
    {
     "name": "stderr",
     "output_type": "stream",
     "text": [
      "100%|██████████| 4765657/4765657 [00:23<00:00, 203485.79it/s]\n"
     ]
    }
   ],
   "source": [
    "mrsty = load_umls.open_mrsty()\n",
    "\n",
    "cui_to_t_code = defaultdict(list)\n",
    "\n",
    "col_names = mrsty.columns.tolist()\n",
    "cui_idx = col_names.index('CUI')\n",
    "t_idx = col_names.index('TUI')\n",
    "\n",
    "for line in tqdm(mrsty.itertuples(index=False, name=None), total=len(mrsty)):\n",
    "    \n",
    "    cui_to_t_code[line[cui_idx]].append(line[t_idx])"
   ]
  },
  {
   "cell_type": "code",
   "execution_count": 36,
   "metadata": {},
   "outputs": [
    {
     "name": "stdout",
     "output_type": "stream",
     "text": [
      "C2926697 ['T109', 'T121']\n",
      "C0722627 ['T109', 'T121']\n",
      "C4742897 ['T109', 'T123']\n",
      "C0905649 ['T116', 'T123']\n",
      "C2716037 ['T116', 'T123']\n",
      "C0631445 ['T109', 'T121']\n",
      "C2921824 ['T109', 'T195']\n",
      "C5179900 ['T116', 'T129']\n",
      "C0956381 ['T109', 'T121']\n",
      "C0390367 ['T109', 'T121']\n"
     ]
    }
   ],
   "source": [
    "i = 0\n",
    "for (k, v) in cui_to_t_code.items():\n",
    "    if len(v)>1:\n",
    "        print(k, v)\n",
    "        i+=1\n",
    "    if i==10:\n",
    "        break"
   ]
  },
  {
   "cell_type": "markdown",
   "metadata": {},
   "source": [
    "Some have multiple codes, but if they have the same Super-Semtype, not an issue"
   ]
  },
  {
   "cell_type": "markdown",
   "metadata": {},
   "source": [
    "#### Get a map from T-code to super semmantic type"
   ]
  },
  {
   "cell_type": "code",
   "execution_count": 37,
   "metadata": {},
   "outputs": [],
   "source": [
    "# ANAT|Anatomy|T017|Anatomical Structure\n",
    "\n",
    "t_code_to_super = dict()\n",
    "with open('../data/SemGroups_2018.txt') as fin:\n",
    "    for line in fin:\n",
    "        line = line.strip()\n",
    "        ls = line.split('|')\n",
    "        t_code_to_super[ls[2]] = ls[1]"
   ]
  },
  {
   "cell_type": "markdown",
   "metadata": {},
   "source": [
    "#### Get a map from CUI to super semmantic type"
   ]
  },
  {
   "cell_type": "code",
   "execution_count": 38,
   "metadata": {},
   "outputs": [
    {
     "data": {
      "text/plain": [
       "['T170']"
      ]
     },
     "execution_count": 38,
     "metadata": {},
     "output_type": "execute_result"
    }
   ],
   "source": [
    "cui_to_t_code['C0026341']"
   ]
  },
  {
   "cell_type": "code",
   "execution_count": 39,
   "metadata": {},
   "outputs": [
    {
     "data": {
      "text/plain": [
       "'Concepts & Ideas'"
      ]
     },
     "execution_count": 39,
     "metadata": {},
     "output_type": "execute_result"
    }
   ],
   "source": [
    "t_code_to_super['T170']"
   ]
  },
  {
   "cell_type": "code",
   "execution_count": 40,
   "metadata": {},
   "outputs": [
    {
     "data": {
      "text/plain": [
       "'Devices'"
      ]
     },
     "execution_count": 40,
     "metadata": {},
     "output_type": "execute_result"
    }
   ],
   "source": [
    "# this used to be 'Devices' but its been updated to only 1 entry\n",
    "t_code_to_super['T075']"
   ]
  },
  {
   "cell_type": "code",
   "execution_count": 41,
   "metadata": {},
   "outputs": [
    {
     "data": {
      "text/plain": [
       "['T109', 'T121', 'T131']"
      ]
     },
     "execution_count": 41,
     "metadata": {},
     "output_type": "execute_result"
    }
   ],
   "source": [
    "cui_to_t_code['C0086711']"
   ]
  },
  {
   "cell_type": "code",
   "execution_count": 42,
   "metadata": {},
   "outputs": [
    {
     "data": {
      "text/plain": [
       "('Chemicals & Drugs', 'Chemicals & Drugs', 'Chemicals & Drugs')"
      ]
     },
     "execution_count": 42,
     "metadata": {},
     "output_type": "execute_result"
    }
   ],
   "source": [
    "t_code_to_super['T109'], t_code_to_super['T131'], t_code_to_super['T121']"
   ]
  },
  {
   "cell_type": "code",
   "execution_count": 43,
   "metadata": {},
   "outputs": [
    {
     "name": "stdout",
     "output_type": "stream",
     "text": [
      "There are 1526 CUIs with multiple Supertypes...\n"
     ]
    }
   ],
   "source": [
    "cui_to_super = dict()\n",
    "issues = dict()\n",
    "\n",
    "for k, v in cui_to_t_code.items():\n",
    "    # Only 1 T-Code, so map to its super semmantic type\n",
    "    if len(v) == 1:\n",
    "        cui_to_super[k] = t_code_to_super[v[0]]\n",
    "    else:\n",
    "        # Most multiple T-Codes should have the same supertype\n",
    "        v_set = set([t_code_to_super[x] for x in v])\n",
    "        if len(v_set) == 1:\n",
    "            cui_to_super[k] = v_set.pop()\n",
    "        # If they don't have the same supertype, return as a list...\n",
    "        else:\n",
    "            # If nothing prints they we have true 1-1 mapping and noting to worry about\n",
    "            issues[k] = v_set\n",
    "            \n",
    "if issues:\n",
    "    print('There are {} CUIs with multiple Supertypes...'.format(len(issues)))"
   ]
  },
  {
   "cell_type": "markdown",
   "metadata": {},
   "source": [
    "60 less than in 2018 Version of the notebook!"
   ]
  },
  {
   "cell_type": "markdown",
   "metadata": {},
   "source": [
    "## Fix Multiple Semtypes\n",
    "\n",
    "There are some CUIs that map to multiple Super-Semtypes.... Unfortunaltely these will have to be treated as judgement calls and fixed by hand."
   ]
  },
  {
   "cell_type": "code",
   "execution_count": 44,
   "metadata": {
    "scrolled": true
   },
   "outputs": [
    {
     "data": {
      "text/plain": [
       "['Activities & Behaviors | Concepts & Ideas',\n",
       " 'Anatomy | Chemicals & Drugs',\n",
       " 'Chemicals & Drugs | Devices',\n",
       " 'Chemicals & Drugs | Objects',\n",
       " 'Chemicals & Drugs | Phenomena',\n",
       " 'Concepts & Ideas | Objects',\n",
       " 'Concepts & Ideas | Procedures',\n",
       " 'Objects | Organizations']"
      ]
     },
     "execution_count": 44,
     "metadata": {},
     "output_type": "execute_result"
    }
   ],
   "source": [
    "# See what kind of semtypes pair together... Can we make some kind of choice to overcome conflict?\n",
    "multi_sems = sorted(list(set([' | '.join(sorted(list(v))) for v in issues.values()])))\n",
    "multi_sems"
   ]
  },
  {
   "cell_type": "code",
   "execution_count": 45,
   "metadata": {},
   "outputs": [],
   "source": [
    "def examine_problem_cuis(combined):\n",
    "    type_1, type_2 = combined.split(' | ')\n",
    "    \n",
    "    problems = []\n",
    "\n",
    "    for k, v in issues.items():\n",
    "        if type_1 in v and type_2 in v:\n",
    "            problems.append(k)\n",
    "        \n",
    "    return nodes.query('ID in @problems')[['ID', 'name']].drop_duplicates()"
   ]
  },
  {
   "cell_type": "markdown",
   "metadata": {},
   "source": [
    "Since the semmantic map was originally from umls, some of the CUIs may not be in the nodes.  So not all will need to be examined and fixed."
   ]
  },
  {
   "cell_type": "code",
   "execution_count": 46,
   "metadata": {},
   "outputs": [
    {
     "name": "stdout",
     "output_type": "stream",
     "text": [
      "Activities & Behaviors | Concepts & Ideas: 4\n",
      "Anatomy | Chemicals & Drugs: 4\n",
      "Chemicals & Drugs | Devices: 0\n",
      "Chemicals & Drugs | Objects: 52\n",
      "Chemicals & Drugs | Phenomena: 4\n",
      "Concepts & Ideas | Objects: 47\n",
      "Concepts & Ideas | Procedures: 60\n",
      "Objects | Organizations: 420\n"
     ]
    }
   ],
   "source": [
    "for m in multi_sems:\n",
    "    print('{}: {}'.format(m, len(examine_problem_cuis(m))))"
   ]
  },
  {
   "cell_type": "markdown",
   "metadata": {},
   "source": [
    "Start with some of the smaller ones first, see if there's an obvious answer to resolve..."
   ]
  },
  {
   "cell_type": "code",
   "execution_count": 47,
   "metadata": {},
   "outputs": [
    {
     "name": "stdout",
     "output_type": "stream",
     "text": [
      "Anatomy | Chemicals & Drugs\n"
     ]
    },
    {
     "data": {
      "text/html": [
       "<div>\n",
       "<style scoped>\n",
       "    .dataframe tbody tr th:only-of-type {\n",
       "        vertical-align: middle;\n",
       "    }\n",
       "\n",
       "    .dataframe tbody tr th {\n",
       "        vertical-align: top;\n",
       "    }\n",
       "\n",
       "    .dataframe thead th {\n",
       "        text-align: right;\n",
       "    }\n",
       "</style>\n",
       "<table border=\"1\" class=\"dataframe\">\n",
       "  <thead>\n",
       "    <tr style=\"text-align: right;\">\n",
       "      <th></th>\n",
       "      <th>ID</th>\n",
       "      <th>name</th>\n",
       "    </tr>\n",
       "  </thead>\n",
       "  <tbody>\n",
       "    <tr>\n",
       "      <th>66363</th>\n",
       "      <td>C0879593</td>\n",
       "      <td>therapeutic autologous dendritic cells</td>\n",
       "    </tr>\n",
       "    <tr>\n",
       "      <th>191234</th>\n",
       "      <td>C1328049</td>\n",
       "      <td>LMP2A-specific cytotoxic T-lymphocytes</td>\n",
       "    </tr>\n",
       "    <tr>\n",
       "      <th>197712</th>\n",
       "      <td>C1516687</td>\n",
       "      <td>Coactivated T Cell</td>\n",
       "    </tr>\n",
       "    <tr>\n",
       "      <th>264939</th>\n",
       "      <td>C1708270</td>\n",
       "      <td>Ex Vivo-Expanded HER2-Specific T Cells</td>\n",
       "    </tr>\n",
       "  </tbody>\n",
       "</table>\n",
       "</div>"
      ],
      "text/plain": [
       "              ID                                    name\n",
       "66363   C0879593  therapeutic autologous dendritic cells\n",
       "191234  C1328049  LMP2A-specific cytotoxic T-lymphocytes\n",
       "197712  C1516687                      Coactivated T Cell\n",
       "264939  C1708270  Ex Vivo-Expanded HER2-Specific T Cells"
      ]
     },
     "execution_count": 47,
     "metadata": {},
     "output_type": "execute_result"
    }
   ],
   "source": [
    "idx = 1\n",
    "\n",
    "print(multi_sems[idx])\n",
    "examine_problem_cuis(multi_sems[idx])"
   ]
  },
  {
   "cell_type": "markdown",
   "metadata": {},
   "source": [
    "Not mission critical, but I think Anatomy (celltype) fits better vs a chemical... The possible options are:\n",
    "\n",
    "{'Activities & Behaviors',\n",
    " 'Anatomy',\n",
    " 'Chemicals & Drugs',\n",
    " 'Concepts & Ideas',\n",
    " 'Devices',\n",
    " 'Disorders',\n",
    " 'Genes & Molecular Sequences',\n",
    " 'Geographic Areas',\n",
    " 'Living Beings',\n",
    " 'Objects',\n",
    " 'Occupations',\n",
    " 'Organizations',\n",
    " 'Phenomena',\n",
    " 'Physiology',\n",
    " 'Procedures'}"
   ]
  },
  {
   "cell_type": "code",
   "execution_count": 48,
   "metadata": {},
   "outputs": [],
   "source": [
    "# Make a function to fix the mapings for these IDs\n",
    "def set_semtype(problems, new_sem):\n",
    "    res = examine_problem_cuis(problems).copy()\n",
    "    res['type'] = new_sem\n",
    "    return res.set_index('ID')['type'].to_dict()"
   ]
  },
  {
   "cell_type": "code",
   "execution_count": 49,
   "metadata": {},
   "outputs": [
    {
     "data": {
      "text/plain": [
       "{'C0879593': 'Anatomy',\n",
       " 'C1328049': 'Anatomy',\n",
       " 'C1516687': 'Anatomy',\n",
       " 'C1708270': 'Anatomy'}"
      ]
     },
     "execution_count": 49,
     "metadata": {},
     "output_type": "execute_result"
    }
   ],
   "source": [
    "fixed_sems = {}\n",
    "\n",
    "fixed_sems.update(set_semtype(multi_sems[idx], 'Anatomy'))\n",
    "fixed_sems"
   ]
  },
  {
   "cell_type": "code",
   "execution_count": 50,
   "metadata": {
    "scrolled": true
   },
   "outputs": [
    {
     "name": "stdout",
     "output_type": "stream",
     "text": [
      "Activities & Behaviors | Concepts & Ideas\n"
     ]
    },
    {
     "data": {
      "text/html": [
       "<div>\n",
       "<style scoped>\n",
       "    .dataframe tbody tr th:only-of-type {\n",
       "        vertical-align: middle;\n",
       "    }\n",
       "\n",
       "    .dataframe tbody tr th {\n",
       "        vertical-align: top;\n",
       "    }\n",
       "\n",
       "    .dataframe thead th {\n",
       "        text-align: right;\n",
       "    }\n",
       "</style>\n",
       "<table border=\"1\" class=\"dataframe\">\n",
       "  <thead>\n",
       "    <tr style=\"text-align: right;\">\n",
       "      <th></th>\n",
       "      <th>ID</th>\n",
       "      <th>name</th>\n",
       "    </tr>\n",
       "  </thead>\n",
       "  <tbody>\n",
       "    <tr>\n",
       "      <th>158262</th>\n",
       "      <td>C0037429</td>\n",
       "      <td>Social Policy</td>\n",
       "    </tr>\n",
       "    <tr>\n",
       "      <th>224307</th>\n",
       "      <td>C0683733</td>\n",
       "      <td>foreign policy</td>\n",
       "    </tr>\n",
       "    <tr>\n",
       "      <th>230654</th>\n",
       "      <td>C0683732</td>\n",
       "      <td>energy policy</td>\n",
       "    </tr>\n",
       "    <tr>\n",
       "      <th>280794</th>\n",
       "      <td>C3494216</td>\n",
       "      <td>Smoke-Free Policy</td>\n",
       "    </tr>\n",
       "  </tbody>\n",
       "</table>\n",
       "</div>"
      ],
      "text/plain": [
       "              ID               name\n",
       "158262  C0037429      Social Policy\n",
       "224307  C0683733     foreign policy\n",
       "230654  C0683732      energy policy\n",
       "280794  C3494216  Smoke-Free Policy"
      ]
     },
     "execution_count": 50,
     "metadata": {},
     "output_type": "execute_result"
    }
   ],
   "source": [
    "idx = 0\n",
    "\n",
    "print(multi_sems[idx])\n",
    "examine_problem_cuis(multi_sems[idx])"
   ]
  },
  {
   "cell_type": "markdown",
   "metadata": {},
   "source": [
    "Based on Semmed Documentation, Policy falls under Governmental or Regulatory Activity which falls under \"Activities & Behaviors\""
   ]
  },
  {
   "cell_type": "code",
   "execution_count": 51,
   "metadata": {},
   "outputs": [
    {
     "data": {
      "text/plain": [
       "{'C0037429': 'Activities & Behaviors',\n",
       " 'C0683732': 'Activities & Behaviors',\n",
       " 'C0683733': 'Activities & Behaviors',\n",
       " 'C0879593': 'Anatomy',\n",
       " 'C1328049': 'Anatomy',\n",
       " 'C1516687': 'Anatomy',\n",
       " 'C1708270': 'Anatomy',\n",
       " 'C3494216': 'Activities & Behaviors'}"
      ]
     },
     "execution_count": 51,
     "metadata": {},
     "output_type": "execute_result"
    }
   ],
   "source": [
    "fixed_sems.update(set_semtype(multi_sems[idx], 'Activities & Behaviors'))\n",
    "fixed_sems"
   ]
  },
  {
   "cell_type": "code",
   "execution_count": 52,
   "metadata": {
    "scrolled": true
   },
   "outputs": [
    {
     "name": "stdout",
     "output_type": "stream",
     "text": [
      "Chemicals & Drugs | Objects\n"
     ]
    },
    {
     "data": {
      "text/html": [
       "<div>\n",
       "<style scoped>\n",
       "    .dataframe tbody tr th:only-of-type {\n",
       "        vertical-align: middle;\n",
       "    }\n",
       "\n",
       "    .dataframe tbody tr th {\n",
       "        vertical-align: top;\n",
       "    }\n",
       "\n",
       "    .dataframe thead th {\n",
       "        text-align: right;\n",
       "    }\n",
       "</style>\n",
       "<table border=\"1\" class=\"dataframe\">\n",
       "  <thead>\n",
       "    <tr style=\"text-align: right;\">\n",
       "      <th></th>\n",
       "      <th>ID</th>\n",
       "      <th>name</th>\n",
       "    </tr>\n",
       "  </thead>\n",
       "  <tbody>\n",
       "    <tr>\n",
       "      <th>13160</th>\n",
       "      <td>C0304119</td>\n",
       "      <td>Thyme oil</td>\n",
       "    </tr>\n",
       "    <tr>\n",
       "      <th>14569</th>\n",
       "      <td>C0069449</td>\n",
       "      <td>olive oil</td>\n",
       "    </tr>\n",
       "    <tr>\n",
       "      <th>14696</th>\n",
       "      <td>C0036845</td>\n",
       "      <td>sesame oil</td>\n",
       "    </tr>\n",
       "    <tr>\n",
       "      <th>17018</th>\n",
       "      <td>C0052300</td>\n",
       "      <td>arachis oil</td>\n",
       "    </tr>\n",
       "    <tr>\n",
       "      <th>17082</th>\n",
       "      <td>C0012176</td>\n",
       "      <td>Dietary Oils</td>\n",
       "    </tr>\n",
       "    <tr>\n",
       "      <th>17835</th>\n",
       "      <td>C0304097</td>\n",
       "      <td>caraway oil</td>\n",
       "    </tr>\n",
       "    <tr>\n",
       "      <th>18250</th>\n",
       "      <td>C0056060</td>\n",
       "      <td>coconut oil</td>\n",
       "    </tr>\n",
       "    <tr>\n",
       "      <th>19640</th>\n",
       "      <td>C0072982</td>\n",
       "      <td>Brassica napus oil</td>\n",
       "    </tr>\n",
       "    <tr>\n",
       "      <th>20374</th>\n",
       "      <td>C0037732</td>\n",
       "      <td>soybean oil</td>\n",
       "    </tr>\n",
       "    <tr>\n",
       "      <th>21194</th>\n",
       "      <td>C1384515</td>\n",
       "      <td>corn starch</td>\n",
       "    </tr>\n",
       "    <tr>\n",
       "      <th>25317</th>\n",
       "      <td>C0042438</td>\n",
       "      <td>Vegetable Oils</td>\n",
       "    </tr>\n",
       "    <tr>\n",
       "      <th>27511</th>\n",
       "      <td>C0075639</td>\n",
       "      <td>sunflower oil</td>\n",
       "    </tr>\n",
       "    <tr>\n",
       "      <th>27742</th>\n",
       "      <td>C0018627</td>\n",
       "      <td>Hazardous Waste</td>\n",
       "    </tr>\n",
       "    <tr>\n",
       "      <th>29105</th>\n",
       "      <td>C0244994</td>\n",
       "      <td>wheat germ oil</td>\n",
       "    </tr>\n",
       "    <tr>\n",
       "      <th>29865</th>\n",
       "      <td>C0023754</td>\n",
       "      <td>linseed oil</td>\n",
       "    </tr>\n",
       "    <tr>\n",
       "      <th>38695</th>\n",
       "      <td>C0010029</td>\n",
       "      <td>corn oil</td>\n",
       "    </tr>\n",
       "    <tr>\n",
       "      <th>39600</th>\n",
       "      <td>C0069962</td>\n",
       "      <td>palm oil</td>\n",
       "    </tr>\n",
       "    <tr>\n",
       "      <th>40988</th>\n",
       "      <td>C0304108</td>\n",
       "      <td>lemon oil</td>\n",
       "    </tr>\n",
       "    <tr>\n",
       "      <th>45430</th>\n",
       "      <td>C0036048</td>\n",
       "      <td>Safflower Oil</td>\n",
       "    </tr>\n",
       "    <tr>\n",
       "      <th>51278</th>\n",
       "      <td>C0010198</td>\n",
       "      <td>Cottonseed Oil</td>\n",
       "    </tr>\n",
       "    <tr>\n",
       "      <th>56745</th>\n",
       "      <td>C0054599</td>\n",
       "      <td>canola oil</td>\n",
       "    </tr>\n",
       "    <tr>\n",
       "      <th>64414</th>\n",
       "      <td>C0301249</td>\n",
       "      <td>cinnamon oil</td>\n",
       "    </tr>\n",
       "    <tr>\n",
       "      <th>67091</th>\n",
       "      <td>C0458160</td>\n",
       "      <td>grape seed oil</td>\n",
       "    </tr>\n",
       "    <tr>\n",
       "      <th>70414</th>\n",
       "      <td>C3265002</td>\n",
       "      <td>avocado oil</td>\n",
       "    </tr>\n",
       "    <tr>\n",
       "      <th>71000</th>\n",
       "      <td>C0070325</td>\n",
       "      <td>peppermint oil</td>\n",
       "    </tr>\n",
       "    <tr>\n",
       "      <th>75425</th>\n",
       "      <td>C0254751</td>\n",
       "      <td>orange oil</td>\n",
       "    </tr>\n",
       "    <tr>\n",
       "      <th>76683</th>\n",
       "      <td>C0212750</td>\n",
       "      <td>borage oil</td>\n",
       "    </tr>\n",
       "    <tr>\n",
       "      <th>77493</th>\n",
       "      <td>C0982306</td>\n",
       "      <td>palm kernel oil</td>\n",
       "    </tr>\n",
       "    <tr>\n",
       "      <th>78975</th>\n",
       "      <td>C0009213</td>\n",
       "      <td>Cod Liver Oil</td>\n",
       "    </tr>\n",
       "    <tr>\n",
       "      <th>88486</th>\n",
       "      <td>C1509841</td>\n",
       "      <td>HYDROGENATED SOYBEAN OIL</td>\n",
       "    </tr>\n",
       "    <tr>\n",
       "      <th>89932</th>\n",
       "      <td>C1456640</td>\n",
       "      <td>Chemical Weapons</td>\n",
       "    </tr>\n",
       "    <tr>\n",
       "      <th>93136</th>\n",
       "      <td>C1177183</td>\n",
       "      <td>SAGE OIL</td>\n",
       "    </tr>\n",
       "    <tr>\n",
       "      <th>102661</th>\n",
       "      <td>C1518477</td>\n",
       "      <td>Nut Oil</td>\n",
       "    </tr>\n",
       "    <tr>\n",
       "      <th>184794</th>\n",
       "      <td>C1533371</td>\n",
       "      <td>LIME OIL</td>\n",
       "    </tr>\n",
       "    <tr>\n",
       "      <th>196720</th>\n",
       "      <td>C0304098</td>\n",
       "      <td>Cardamom oil</td>\n",
       "    </tr>\n",
       "    <tr>\n",
       "      <th>206998</th>\n",
       "      <td>C0304095</td>\n",
       "      <td>anise oil</td>\n",
       "    </tr>\n",
       "    <tr>\n",
       "      <th>218481</th>\n",
       "      <td>C0301248</td>\n",
       "      <td>nutmeg oil</td>\n",
       "    </tr>\n",
       "    <tr>\n",
       "      <th>221076</th>\n",
       "      <td>C0302227</td>\n",
       "      <td>Persic oil</td>\n",
       "    </tr>\n",
       "    <tr>\n",
       "      <th>235160</th>\n",
       "      <td>C1445804</td>\n",
       "      <td>pumpkin seed oil</td>\n",
       "    </tr>\n",
       "    <tr>\n",
       "      <th>243017</th>\n",
       "      <td>C0301250</td>\n",
       "      <td>Bitter almond oil</td>\n",
       "    </tr>\n",
       "    <tr>\n",
       "      <th>250857</th>\n",
       "      <td>C2827601</td>\n",
       "      <td>hydrogenated palm oil</td>\n",
       "    </tr>\n",
       "    <tr>\n",
       "      <th>257592</th>\n",
       "      <td>C1879986</td>\n",
       "      <td>Camellia oil</td>\n",
       "    </tr>\n",
       "    <tr>\n",
       "      <th>257915</th>\n",
       "      <td>C3256183</td>\n",
       "      <td>rice germ oil</td>\n",
       "    </tr>\n",
       "    <tr>\n",
       "      <th>260768</th>\n",
       "      <td>C2975054</td>\n",
       "      <td>argan oil</td>\n",
       "    </tr>\n",
       "    <tr>\n",
       "      <th>261579</th>\n",
       "      <td>C1802750</td>\n",
       "      <td>oil of garlic</td>\n",
       "    </tr>\n",
       "    <tr>\n",
       "      <th>266435</th>\n",
       "      <td>C0102271</td>\n",
       "      <td>almond oil</td>\n",
       "    </tr>\n",
       "    <tr>\n",
       "      <th>267939</th>\n",
       "      <td>C2343876</td>\n",
       "      <td>poppy seed oil</td>\n",
       "    </tr>\n",
       "    <tr>\n",
       "      <th>268651</th>\n",
       "      <td>C3474157</td>\n",
       "      <td>Camelina sativa seed oil</td>\n",
       "    </tr>\n",
       "    <tr>\n",
       "      <th>275512</th>\n",
       "      <td>C2346950</td>\n",
       "      <td>babassu oil</td>\n",
       "    </tr>\n",
       "    <tr>\n",
       "      <th>277902</th>\n",
       "      <td>C2347739</td>\n",
       "      <td>quinoa oil</td>\n",
       "    </tr>\n",
       "    <tr>\n",
       "      <th>278294</th>\n",
       "      <td>C3256420</td>\n",
       "      <td>maltose syrup</td>\n",
       "    </tr>\n",
       "    <tr>\n",
       "      <th>338662</th>\n",
       "      <td>C3265918</td>\n",
       "      <td>Chinese cinnamon oil</td>\n",
       "    </tr>\n",
       "  </tbody>\n",
       "</table>\n",
       "</div>"
      ],
      "text/plain": [
       "              ID                      name\n",
       "13160   C0304119                 Thyme oil\n",
       "14569   C0069449                 olive oil\n",
       "14696   C0036845                sesame oil\n",
       "17018   C0052300               arachis oil\n",
       "17082   C0012176              Dietary Oils\n",
       "17835   C0304097               caraway oil\n",
       "18250   C0056060               coconut oil\n",
       "19640   C0072982        Brassica napus oil\n",
       "20374   C0037732               soybean oil\n",
       "21194   C1384515               corn starch\n",
       "25317   C0042438            Vegetable Oils\n",
       "27511   C0075639             sunflower oil\n",
       "27742   C0018627           Hazardous Waste\n",
       "29105   C0244994            wheat germ oil\n",
       "29865   C0023754               linseed oil\n",
       "38695   C0010029                  corn oil\n",
       "39600   C0069962                  palm oil\n",
       "40988   C0304108                 lemon oil\n",
       "45430   C0036048             Safflower Oil\n",
       "51278   C0010198            Cottonseed Oil\n",
       "56745   C0054599                canola oil\n",
       "64414   C0301249              cinnamon oil\n",
       "67091   C0458160            grape seed oil\n",
       "70414   C3265002               avocado oil\n",
       "71000   C0070325            peppermint oil\n",
       "75425   C0254751                orange oil\n",
       "76683   C0212750                borage oil\n",
       "77493   C0982306           palm kernel oil\n",
       "78975   C0009213             Cod Liver Oil\n",
       "88486   C1509841  HYDROGENATED SOYBEAN OIL\n",
       "89932   C1456640          Chemical Weapons\n",
       "93136   C1177183                  SAGE OIL\n",
       "102661  C1518477                   Nut Oil\n",
       "184794  C1533371                  LIME OIL\n",
       "196720  C0304098              Cardamom oil\n",
       "206998  C0304095                 anise oil\n",
       "218481  C0301248                nutmeg oil\n",
       "221076  C0302227                Persic oil\n",
       "235160  C1445804          pumpkin seed oil\n",
       "243017  C0301250         Bitter almond oil\n",
       "250857  C2827601     hydrogenated palm oil\n",
       "257592  C1879986              Camellia oil\n",
       "257915  C3256183             rice germ oil\n",
       "260768  C2975054                 argan oil\n",
       "261579  C1802750             oil of garlic\n",
       "266435  C0102271                almond oil\n",
       "267939  C2343876            poppy seed oil\n",
       "268651  C3474157  Camelina sativa seed oil\n",
       "275512  C2346950               babassu oil\n",
       "277902  C2347739                quinoa oil\n",
       "278294  C3256420             maltose syrup\n",
       "338662  C3265918      Chinese cinnamon oil"
      ]
     },
     "execution_count": 52,
     "metadata": {},
     "output_type": "execute_result"
    }
   ],
   "source": [
    "idx = 3\n",
    "\n",
    "print(multi_sems[idx])\n",
    "examine_problem_cuis(multi_sems[idx])"
   ]
  },
  {
   "cell_type": "markdown",
   "metadata": {},
   "source": [
    "Seems like generalized foods and oil, and man made materials like hazardous waste, and chemical weapons. Based on the Semmed Documentation, any food or manufactured objects fall under \"Objects\""
   ]
  },
  {
   "cell_type": "code",
   "execution_count": 53,
   "metadata": {
    "scrolled": true
   },
   "outputs": [
    {
     "data": {
      "text/plain": [
       "{'C0009213': 'Objects',\n",
       " 'C0010029': 'Objects',\n",
       " 'C0010198': 'Objects',\n",
       " 'C0012176': 'Objects',\n",
       " 'C0018627': 'Objects',\n",
       " 'C0023754': 'Objects',\n",
       " 'C0036048': 'Objects',\n",
       " 'C0036845': 'Objects',\n",
       " 'C0037429': 'Activities & Behaviors',\n",
       " 'C0037732': 'Objects',\n",
       " 'C0042438': 'Objects',\n",
       " 'C0052300': 'Objects',\n",
       " 'C0054599': 'Objects',\n",
       " 'C0056060': 'Objects',\n",
       " 'C0069449': 'Objects',\n",
       " 'C0069962': 'Objects',\n",
       " 'C0070325': 'Objects',\n",
       " 'C0072982': 'Objects',\n",
       " 'C0075639': 'Objects',\n",
       " 'C0102271': 'Objects',\n",
       " 'C0212750': 'Objects',\n",
       " 'C0244994': 'Objects',\n",
       " 'C0254751': 'Objects',\n",
       " 'C0301248': 'Objects',\n",
       " 'C0301249': 'Objects',\n",
       " 'C0301250': 'Objects',\n",
       " 'C0302227': 'Objects',\n",
       " 'C0304095': 'Objects',\n",
       " 'C0304097': 'Objects',\n",
       " 'C0304098': 'Objects',\n",
       " 'C0304108': 'Objects',\n",
       " 'C0304119': 'Objects',\n",
       " 'C0458160': 'Objects',\n",
       " 'C0683732': 'Activities & Behaviors',\n",
       " 'C0683733': 'Activities & Behaviors',\n",
       " 'C0879593': 'Anatomy',\n",
       " 'C0982306': 'Objects',\n",
       " 'C1177183': 'Objects',\n",
       " 'C1328049': 'Anatomy',\n",
       " 'C1384515': 'Objects',\n",
       " 'C1445804': 'Objects',\n",
       " 'C1456640': 'Objects',\n",
       " 'C1509841': 'Objects',\n",
       " 'C1516687': 'Anatomy',\n",
       " 'C1518477': 'Objects',\n",
       " 'C1533371': 'Objects',\n",
       " 'C1708270': 'Anatomy',\n",
       " 'C1802750': 'Objects',\n",
       " 'C1879986': 'Objects',\n",
       " 'C2343876': 'Objects',\n",
       " 'C2346950': 'Objects',\n",
       " 'C2347739': 'Objects',\n",
       " 'C2827601': 'Objects',\n",
       " 'C2975054': 'Objects',\n",
       " 'C3256183': 'Objects',\n",
       " 'C3256420': 'Objects',\n",
       " 'C3265002': 'Objects',\n",
       " 'C3265918': 'Objects',\n",
       " 'C3474157': 'Objects',\n",
       " 'C3494216': 'Activities & Behaviors'}"
      ]
     },
     "execution_count": 53,
     "metadata": {},
     "output_type": "execute_result"
    }
   ],
   "source": [
    "fixed_sems.update(set_semtype(multi_sems[idx], 'Objects'))\n",
    "fixed_sems"
   ]
  },
  {
   "cell_type": "code",
   "execution_count": 54,
   "metadata": {
    "scrolled": false
   },
   "outputs": [
    {
     "name": "stdout",
     "output_type": "stream",
     "text": [
      "Chemicals & Drugs | Phenomena\n"
     ]
    },
    {
     "data": {
      "text/html": [
       "<div>\n",
       "<style scoped>\n",
       "    .dataframe tbody tr th:only-of-type {\n",
       "        vertical-align: middle;\n",
       "    }\n",
       "\n",
       "    .dataframe tbody tr th {\n",
       "        vertical-align: top;\n",
       "    }\n",
       "\n",
       "    .dataframe thead th {\n",
       "        text-align: right;\n",
       "    }\n",
       "</style>\n",
       "<table border=\"1\" class=\"dataframe\">\n",
       "  <thead>\n",
       "    <tr style=\"text-align: right;\">\n",
       "      <th></th>\n",
       "      <th>ID</th>\n",
       "      <th>name</th>\n",
       "    </tr>\n",
       "  </thead>\n",
       "  <tbody>\n",
       "    <tr>\n",
       "      <th>5948</th>\n",
       "      <td>C0034552</td>\n",
       "      <td>Radioactive Waste</td>\n",
       "    </tr>\n",
       "    <tr>\n",
       "      <th>9599</th>\n",
       "      <td>C0001111</td>\n",
       "      <td>Acid Rain</td>\n",
       "    </tr>\n",
       "    <tr>\n",
       "      <th>54068</th>\n",
       "      <td>C0021265</td>\n",
       "      <td>Industrial Waste</td>\n",
       "    </tr>\n",
       "    <tr>\n",
       "      <th>102707</th>\n",
       "      <td>C0034549</td>\n",
       "      <td>Radioactive Fallout</td>\n",
       "    </tr>\n",
       "  </tbody>\n",
       "</table>\n",
       "</div>"
      ],
      "text/plain": [
       "              ID                 name\n",
       "5948    C0034552    Radioactive Waste\n",
       "9599    C0001111            Acid Rain\n",
       "54068   C0021265     Industrial Waste\n",
       "102707  C0034549  Radioactive Fallout"
      ]
     },
     "execution_count": 54,
     "metadata": {},
     "output_type": "execute_result"
    }
   ],
   "source": [
    "idx = 4\n",
    "\n",
    "print(multi_sems[idx])\n",
    "examine_problem_cuis(multi_sems[idx])"
   ]
  },
  {
   "cell_type": "markdown",
   "metadata": {},
   "source": [
    "More of a Phenomena..."
   ]
  },
  {
   "cell_type": "code",
   "execution_count": 55,
   "metadata": {
    "scrolled": true
   },
   "outputs": [
    {
     "data": {
      "text/plain": [
       "{'C0001111': 'Phenomena',\n",
       " 'C0009213': 'Objects',\n",
       " 'C0010029': 'Objects',\n",
       " 'C0010198': 'Objects',\n",
       " 'C0012176': 'Objects',\n",
       " 'C0018627': 'Objects',\n",
       " 'C0021265': 'Phenomena',\n",
       " 'C0023754': 'Objects',\n",
       " 'C0034549': 'Phenomena',\n",
       " 'C0034552': 'Phenomena',\n",
       " 'C0036048': 'Objects',\n",
       " 'C0036845': 'Objects',\n",
       " 'C0037429': 'Activities & Behaviors',\n",
       " 'C0037732': 'Objects',\n",
       " 'C0042438': 'Objects',\n",
       " 'C0052300': 'Objects',\n",
       " 'C0054599': 'Objects',\n",
       " 'C0056060': 'Objects',\n",
       " 'C0069449': 'Objects',\n",
       " 'C0069962': 'Objects',\n",
       " 'C0070325': 'Objects',\n",
       " 'C0072982': 'Objects',\n",
       " 'C0075639': 'Objects',\n",
       " 'C0102271': 'Objects',\n",
       " 'C0212750': 'Objects',\n",
       " 'C0244994': 'Objects',\n",
       " 'C0254751': 'Objects',\n",
       " 'C0301248': 'Objects',\n",
       " 'C0301249': 'Objects',\n",
       " 'C0301250': 'Objects',\n",
       " 'C0302227': 'Objects',\n",
       " 'C0304095': 'Objects',\n",
       " 'C0304097': 'Objects',\n",
       " 'C0304098': 'Objects',\n",
       " 'C0304108': 'Objects',\n",
       " 'C0304119': 'Objects',\n",
       " 'C0458160': 'Objects',\n",
       " 'C0683732': 'Activities & Behaviors',\n",
       " 'C0683733': 'Activities & Behaviors',\n",
       " 'C0879593': 'Anatomy',\n",
       " 'C0982306': 'Objects',\n",
       " 'C1177183': 'Objects',\n",
       " 'C1328049': 'Anatomy',\n",
       " 'C1384515': 'Objects',\n",
       " 'C1445804': 'Objects',\n",
       " 'C1456640': 'Objects',\n",
       " 'C1509841': 'Objects',\n",
       " 'C1516687': 'Anatomy',\n",
       " 'C1518477': 'Objects',\n",
       " 'C1533371': 'Objects',\n",
       " 'C1708270': 'Anatomy',\n",
       " 'C1802750': 'Objects',\n",
       " 'C1879986': 'Objects',\n",
       " 'C2343876': 'Objects',\n",
       " 'C2346950': 'Objects',\n",
       " 'C2347739': 'Objects',\n",
       " 'C2827601': 'Objects',\n",
       " 'C2975054': 'Objects',\n",
       " 'C3256183': 'Objects',\n",
       " 'C3256420': 'Objects',\n",
       " 'C3265002': 'Objects',\n",
       " 'C3265918': 'Objects',\n",
       " 'C3474157': 'Objects',\n",
       " 'C3494216': 'Activities & Behaviors'}"
      ]
     },
     "execution_count": 55,
     "metadata": {},
     "output_type": "execute_result"
    }
   ],
   "source": [
    "fixed_sems.update(set_semtype(multi_sems[idx], 'Phenomena'))\n",
    "fixed_sems"
   ]
  },
  {
   "cell_type": "code",
   "execution_count": 56,
   "metadata": {
    "scrolled": true
   },
   "outputs": [
    {
     "name": "stdout",
     "output_type": "stream",
     "text": [
      "Concepts & Ideas | Objects\n"
     ]
    },
    {
     "data": {
      "text/html": [
       "<div>\n",
       "<style scoped>\n",
       "    .dataframe tbody tr th:only-of-type {\n",
       "        vertical-align: middle;\n",
       "    }\n",
       "\n",
       "    .dataframe tbody tr th {\n",
       "        vertical-align: top;\n",
       "    }\n",
       "\n",
       "    .dataframe thead th {\n",
       "        text-align: right;\n",
       "    }\n",
       "</style>\n",
       "<table border=\"1\" class=\"dataframe\">\n",
       "  <thead>\n",
       "    <tr style=\"text-align: right;\">\n",
       "      <th></th>\n",
       "      <th>ID</th>\n",
       "      <th>name</th>\n",
       "    </tr>\n",
       "  </thead>\n",
       "  <tbody>\n",
       "    <tr>\n",
       "      <th>45104</th>\n",
       "      <td>C0162443</td>\n",
       "      <td>Journal</td>\n",
       "    </tr>\n",
       "    <tr>\n",
       "      <th>58529</th>\n",
       "      <td>C0029038</td>\n",
       "      <td>Online Systems</td>\n",
       "    </tr>\n",
       "    <tr>\n",
       "      <th>66845</th>\n",
       "      <td>C0600659</td>\n",
       "      <td>Manuscripts</td>\n",
       "    </tr>\n",
       "    <tr>\n",
       "      <th>69107</th>\n",
       "      <td>C0870393</td>\n",
       "      <td>Decision support tool</td>\n",
       "    </tr>\n",
       "    <tr>\n",
       "      <th>74561</th>\n",
       "      <td>C0039712</td>\n",
       "      <td>Textbooks</td>\n",
       "    </tr>\n",
       "    <tr>\n",
       "      <th>81199</th>\n",
       "      <td>C1457980</td>\n",
       "      <td>Information Systems, Data Management, Bar-Coded</td>\n",
       "    </tr>\n",
       "    <tr>\n",
       "      <th>87123</th>\n",
       "      <td>C0036473</td>\n",
       "      <td>Sculpture</td>\n",
       "    </tr>\n",
       "    <tr>\n",
       "      <th>92837</th>\n",
       "      <td>C0024763</td>\n",
       "      <td>Manuals as Topic</td>\n",
       "    </tr>\n",
       "    <tr>\n",
       "      <th>101896</th>\n",
       "      <td>C0973138</td>\n",
       "      <td>Computerized Physician Order Entry System</td>\n",
       "    </tr>\n",
       "    <tr>\n",
       "      <th>106645</th>\n",
       "      <td>C0920429</td>\n",
       "      <td>Cell Bank</td>\n",
       "    </tr>\n",
       "    <tr>\n",
       "      <th>114882</th>\n",
       "      <td>C0180292</td>\n",
       "      <td>Patient Data Management Systems</td>\n",
       "    </tr>\n",
       "    <tr>\n",
       "      <th>118750</th>\n",
       "      <td>C0005358</td>\n",
       "      <td>Bibliography</td>\n",
       "    </tr>\n",
       "    <tr>\n",
       "      <th>125193</th>\n",
       "      <td>C0015324</td>\n",
       "      <td>Expert Systems</td>\n",
       "    </tr>\n",
       "    <tr>\n",
       "      <th>136160</th>\n",
       "      <td>C0027988</td>\n",
       "      <td>Newsletters</td>\n",
       "    </tr>\n",
       "    <tr>\n",
       "      <th>156149</th>\n",
       "      <td>C0019980</td>\n",
       "      <td>Hospital Records</td>\n",
       "    </tr>\n",
       "    <tr>\n",
       "      <th>162761</th>\n",
       "      <td>C0079090</td>\n",
       "      <td>CD-ROM</td>\n",
       "    </tr>\n",
       "    <tr>\n",
       "      <th>163424</th>\n",
       "      <td>C0598214</td>\n",
       "      <td>user friendly software</td>\n",
       "    </tr>\n",
       "    <tr>\n",
       "      <th>176793</th>\n",
       "      <td>C0011005</td>\n",
       "      <td>Database Management Systems</td>\n",
       "    </tr>\n",
       "    <tr>\n",
       "      <th>178170</th>\n",
       "      <td>C0009612</td>\n",
       "      <td>Computer Systems</td>\n",
       "    </tr>\n",
       "    <tr>\n",
       "      <th>188393</th>\n",
       "      <td>C0079150</td>\n",
       "      <td>Medical Records, Computerized</td>\n",
       "    </tr>\n",
       "    <tr>\n",
       "      <th>201144</th>\n",
       "      <td>C0814524</td>\n",
       "      <td>online medical record</td>\n",
       "    </tr>\n",
       "    <tr>\n",
       "      <th>203135</th>\n",
       "      <td>C0037585</td>\n",
       "      <td>Computer software</td>\n",
       "    </tr>\n",
       "    <tr>\n",
       "      <th>203860</th>\n",
       "      <td>C0034036</td>\n",
       "      <td>Publications</td>\n",
       "    </tr>\n",
       "    <tr>\n",
       "      <th>211460</th>\n",
       "      <td>C0030258</td>\n",
       "      <td>Pamphlets</td>\n",
       "    </tr>\n",
       "    <tr>\n",
       "      <th>236315</th>\n",
       "      <td>C0085519</td>\n",
       "      <td>Reminder Systems</td>\n",
       "    </tr>\n",
       "    <tr>\n",
       "      <th>238302</th>\n",
       "      <td>C0029061</td>\n",
       "      <td>Operating Room Information Systems</td>\n",
       "    </tr>\n",
       "    <tr>\n",
       "      <th>242981</th>\n",
       "      <td>C1548378</td>\n",
       "      <td>Psychiatric consultation</td>\n",
       "    </tr>\n",
       "    <tr>\n",
       "      <th>301412</th>\n",
       "      <td>C0030208</td>\n",
       "      <td>Paintings</td>\n",
       "    </tr>\n",
       "    <tr>\n",
       "      <th>301774</th>\n",
       "      <td>C0180070</td>\n",
       "      <td>Computer Interfaces</td>\n",
       "    </tr>\n",
       "    <tr>\n",
       "      <th>302049</th>\n",
       "      <td>C0012762</td>\n",
       "      <td>Distributed Systems</td>\n",
       "    </tr>\n",
       "    <tr>\n",
       "      <th>302592</th>\n",
       "      <td>C0872238</td>\n",
       "      <td>optic trap</td>\n",
       "    </tr>\n",
       "    <tr>\n",
       "      <th>302601</th>\n",
       "      <td>C0872356</td>\n",
       "      <td>optic tweezer</td>\n",
       "    </tr>\n",
       "    <tr>\n",
       "      <th>304108</th>\n",
       "      <td>C0012108</td>\n",
       "      <td>Dictionaries as Topic</td>\n",
       "    </tr>\n",
       "    <tr>\n",
       "      <th>304640</th>\n",
       "      <td>C0700217</td>\n",
       "      <td>electronic bulletin board</td>\n",
       "    </tr>\n",
       "    <tr>\n",
       "      <th>306428</th>\n",
       "      <td>C0596355</td>\n",
       "      <td>computer network</td>\n",
       "    </tr>\n",
       "    <tr>\n",
       "      <th>307995</th>\n",
       "      <td>C0011006</td>\n",
       "      <td>Databases, Distributed</td>\n",
       "    </tr>\n",
       "    <tr>\n",
       "      <th>309326</th>\n",
       "      <td>C0872075</td>\n",
       "      <td>personal log/diary</td>\n",
       "    </tr>\n",
       "    <tr>\n",
       "      <th>309490</th>\n",
       "      <td>C0920318</td>\n",
       "      <td>Directories</td>\n",
       "    </tr>\n",
       "    <tr>\n",
       "      <th>312343</th>\n",
       "      <td>C0871495</td>\n",
       "      <td>Telephone Systems</td>\n",
       "    </tr>\n",
       "    <tr>\n",
       "      <th>314280</th>\n",
       "      <td>C0868951</td>\n",
       "      <td>Drug distribution systems</td>\n",
       "    </tr>\n",
       "    <tr>\n",
       "      <th>314820</th>\n",
       "      <td>C0026620</td>\n",
       "      <td>Moulages</td>\n",
       "    </tr>\n",
       "    <tr>\n",
       "      <th>318264</th>\n",
       "      <td>C0936091</td>\n",
       "      <td>Annual Reports</td>\n",
       "    </tr>\n",
       "    <tr>\n",
       "      <th>324148</th>\n",
       "      <td>C0681520</td>\n",
       "      <td>new product</td>\n",
       "    </tr>\n",
       "    <tr>\n",
       "      <th>325064</th>\n",
       "      <td>C0920536</td>\n",
       "      <td>genetic resource</td>\n",
       "    </tr>\n",
       "    <tr>\n",
       "      <th>328221</th>\n",
       "      <td>C0887962</td>\n",
       "      <td>Models, Surgical</td>\n",
       "    </tr>\n",
       "    <tr>\n",
       "      <th>328431</th>\n",
       "      <td>C0920535</td>\n",
       "      <td>genetic registry</td>\n",
       "    </tr>\n",
       "    <tr>\n",
       "      <th>337370</th>\n",
       "      <td>C1622900</td>\n",
       "      <td>Data Systems</td>\n",
       "    </tr>\n",
       "  </tbody>\n",
       "</table>\n",
       "</div>"
      ],
      "text/plain": [
       "              ID                                             name\n",
       "45104   C0162443                                          Journal\n",
       "58529   C0029038                                   Online Systems\n",
       "66845   C0600659                                      Manuscripts\n",
       "69107   C0870393                            Decision support tool\n",
       "74561   C0039712                                        Textbooks\n",
       "81199   C1457980  Information Systems, Data Management, Bar-Coded\n",
       "87123   C0036473                                        Sculpture\n",
       "92837   C0024763                                 Manuals as Topic\n",
       "101896  C0973138        Computerized Physician Order Entry System\n",
       "106645  C0920429                                        Cell Bank\n",
       "114882  C0180292                  Patient Data Management Systems\n",
       "118750  C0005358                                     Bibliography\n",
       "125193  C0015324                                   Expert Systems\n",
       "136160  C0027988                                      Newsletters\n",
       "156149  C0019980                                 Hospital Records\n",
       "162761  C0079090                                           CD-ROM\n",
       "163424  C0598214                           user friendly software\n",
       "176793  C0011005                      Database Management Systems\n",
       "178170  C0009612                                 Computer Systems\n",
       "188393  C0079150                    Medical Records, Computerized\n",
       "201144  C0814524                            online medical record\n",
       "203135  C0037585                                Computer software\n",
       "203860  C0034036                                     Publications\n",
       "211460  C0030258                                        Pamphlets\n",
       "236315  C0085519                                 Reminder Systems\n",
       "238302  C0029061               Operating Room Information Systems\n",
       "242981  C1548378                         Psychiatric consultation\n",
       "301412  C0030208                                        Paintings\n",
       "301774  C0180070                              Computer Interfaces\n",
       "302049  C0012762                              Distributed Systems\n",
       "302592  C0872238                                       optic trap\n",
       "302601  C0872356                                    optic tweezer\n",
       "304108  C0012108                            Dictionaries as Topic\n",
       "304640  C0700217                        electronic bulletin board\n",
       "306428  C0596355                                 computer network\n",
       "307995  C0011006                           Databases, Distributed\n",
       "309326  C0872075                               personal log/diary\n",
       "309490  C0920318                                      Directories\n",
       "312343  C0871495                                Telephone Systems\n",
       "314280  C0868951                        Drug distribution systems\n",
       "314820  C0026620                                         Moulages\n",
       "318264  C0936091                                   Annual Reports\n",
       "324148  C0681520                                      new product\n",
       "325064  C0920536                                 genetic resource\n",
       "328221  C0887962                                 Models, Surgical\n",
       "328431  C0920535                                 genetic registry\n",
       "337370  C1622900                                     Data Systems"
      ]
     },
     "execution_count": 56,
     "metadata": {},
     "output_type": "execute_result"
    }
   ],
   "source": [
    "idx = 5\n",
    "\n",
    "print(multi_sems[idx])\n",
    "examine_problem_cuis(multi_sems[idx])"
   ]
  },
  {
   "cell_type": "markdown",
   "metadata": {},
   "source": [
    "These also seem to be more of Concepts than Objects"
   ]
  },
  {
   "cell_type": "code",
   "execution_count": 57,
   "metadata": {
    "scrolled": true
   },
   "outputs": [
    {
     "data": {
      "text/plain": [
       "{'C0001111': 'Phenomena',\n",
       " 'C0005358': 'Concepts & Ideas',\n",
       " 'C0009213': 'Objects',\n",
       " 'C0009612': 'Concepts & Ideas',\n",
       " 'C0010029': 'Objects',\n",
       " 'C0010198': 'Objects',\n",
       " 'C0011005': 'Concepts & Ideas',\n",
       " 'C0011006': 'Concepts & Ideas',\n",
       " 'C0012108': 'Concepts & Ideas',\n",
       " 'C0012176': 'Objects',\n",
       " 'C0012762': 'Concepts & Ideas',\n",
       " 'C0015324': 'Concepts & Ideas',\n",
       " 'C0018627': 'Objects',\n",
       " 'C0019980': 'Concepts & Ideas',\n",
       " 'C0021265': 'Phenomena',\n",
       " 'C0023754': 'Objects',\n",
       " 'C0024763': 'Concepts & Ideas',\n",
       " 'C0026620': 'Concepts & Ideas',\n",
       " 'C0027988': 'Concepts & Ideas',\n",
       " 'C0029038': 'Concepts & Ideas',\n",
       " 'C0029061': 'Concepts & Ideas',\n",
       " 'C0030208': 'Concepts & Ideas',\n",
       " 'C0030258': 'Concepts & Ideas',\n",
       " 'C0034036': 'Concepts & Ideas',\n",
       " 'C0034549': 'Phenomena',\n",
       " 'C0034552': 'Phenomena',\n",
       " 'C0036048': 'Objects',\n",
       " 'C0036473': 'Concepts & Ideas',\n",
       " 'C0036845': 'Objects',\n",
       " 'C0037429': 'Activities & Behaviors',\n",
       " 'C0037585': 'Concepts & Ideas',\n",
       " 'C0037732': 'Objects',\n",
       " 'C0039712': 'Concepts & Ideas',\n",
       " 'C0042438': 'Objects',\n",
       " 'C0052300': 'Objects',\n",
       " 'C0054599': 'Objects',\n",
       " 'C0056060': 'Objects',\n",
       " 'C0069449': 'Objects',\n",
       " 'C0069962': 'Objects',\n",
       " 'C0070325': 'Objects',\n",
       " 'C0072982': 'Objects',\n",
       " 'C0075639': 'Objects',\n",
       " 'C0079090': 'Concepts & Ideas',\n",
       " 'C0079150': 'Concepts & Ideas',\n",
       " 'C0085519': 'Concepts & Ideas',\n",
       " 'C0102271': 'Objects',\n",
       " 'C0162443': 'Concepts & Ideas',\n",
       " 'C0180070': 'Concepts & Ideas',\n",
       " 'C0180292': 'Concepts & Ideas',\n",
       " 'C0212750': 'Objects',\n",
       " 'C0244994': 'Objects',\n",
       " 'C0254751': 'Objects',\n",
       " 'C0301248': 'Objects',\n",
       " 'C0301249': 'Objects',\n",
       " 'C0301250': 'Objects',\n",
       " 'C0302227': 'Objects',\n",
       " 'C0304095': 'Objects',\n",
       " 'C0304097': 'Objects',\n",
       " 'C0304098': 'Objects',\n",
       " 'C0304108': 'Objects',\n",
       " 'C0304119': 'Objects',\n",
       " 'C0458160': 'Objects',\n",
       " 'C0596355': 'Concepts & Ideas',\n",
       " 'C0598214': 'Concepts & Ideas',\n",
       " 'C0600659': 'Concepts & Ideas',\n",
       " 'C0681520': 'Concepts & Ideas',\n",
       " 'C0683732': 'Activities & Behaviors',\n",
       " 'C0683733': 'Activities & Behaviors',\n",
       " 'C0700217': 'Concepts & Ideas',\n",
       " 'C0814524': 'Concepts & Ideas',\n",
       " 'C0868951': 'Concepts & Ideas',\n",
       " 'C0870393': 'Concepts & Ideas',\n",
       " 'C0871495': 'Concepts & Ideas',\n",
       " 'C0872075': 'Concepts & Ideas',\n",
       " 'C0872238': 'Concepts & Ideas',\n",
       " 'C0872356': 'Concepts & Ideas',\n",
       " 'C0879593': 'Anatomy',\n",
       " 'C0887962': 'Concepts & Ideas',\n",
       " 'C0920318': 'Concepts & Ideas',\n",
       " 'C0920429': 'Concepts & Ideas',\n",
       " 'C0920535': 'Concepts & Ideas',\n",
       " 'C0920536': 'Concepts & Ideas',\n",
       " 'C0936091': 'Concepts & Ideas',\n",
       " 'C0973138': 'Concepts & Ideas',\n",
       " 'C0982306': 'Objects',\n",
       " 'C1177183': 'Objects',\n",
       " 'C1328049': 'Anatomy',\n",
       " 'C1384515': 'Objects',\n",
       " 'C1445804': 'Objects',\n",
       " 'C1456640': 'Objects',\n",
       " 'C1457980': 'Concepts & Ideas',\n",
       " 'C1509841': 'Objects',\n",
       " 'C1516687': 'Anatomy',\n",
       " 'C1518477': 'Objects',\n",
       " 'C1533371': 'Objects',\n",
       " 'C1548378': 'Concepts & Ideas',\n",
       " 'C1622900': 'Concepts & Ideas',\n",
       " 'C1708270': 'Anatomy',\n",
       " 'C1802750': 'Objects',\n",
       " 'C1879986': 'Objects',\n",
       " 'C2343876': 'Objects',\n",
       " 'C2346950': 'Objects',\n",
       " 'C2347739': 'Objects',\n",
       " 'C2827601': 'Objects',\n",
       " 'C2975054': 'Objects',\n",
       " 'C3256183': 'Objects',\n",
       " 'C3256420': 'Objects',\n",
       " 'C3265002': 'Objects',\n",
       " 'C3265918': 'Objects',\n",
       " 'C3474157': 'Objects',\n",
       " 'C3494216': 'Activities & Behaviors'}"
      ]
     },
     "execution_count": 57,
     "metadata": {},
     "output_type": "execute_result"
    }
   ],
   "source": [
    "fixed_sems.update(set_semtype(multi_sems[idx], 'Concepts & Ideas'))\n",
    "fixed_sems"
   ]
  },
  {
   "cell_type": "code",
   "execution_count": 58,
   "metadata": {
    "scrolled": true
   },
   "outputs": [
    {
     "name": "stdout",
     "output_type": "stream",
     "text": [
      "Concepts & Ideas | Procedures\n"
     ]
    },
    {
     "data": {
      "text/html": [
       "<div>\n",
       "<style scoped>\n",
       "    .dataframe tbody tr th:only-of-type {\n",
       "        vertical-align: middle;\n",
       "    }\n",
       "\n",
       "    .dataframe tbody tr th {\n",
       "        vertical-align: top;\n",
       "    }\n",
       "\n",
       "    .dataframe thead th {\n",
       "        text-align: right;\n",
       "    }\n",
       "</style>\n",
       "<table border=\"1\" class=\"dataframe\">\n",
       "  <thead>\n",
       "    <tr style=\"text-align: right;\">\n",
       "      <th></th>\n",
       "      <th>ID</th>\n",
       "      <th>name</th>\n",
       "    </tr>\n",
       "  </thead>\n",
       "  <tbody>\n",
       "    <tr>\n",
       "      <th>15726</th>\n",
       "      <td>C0596723</td>\n",
       "      <td>human data</td>\n",
       "    </tr>\n",
       "    <tr>\n",
       "      <th>26170</th>\n",
       "      <td>C0206034</td>\n",
       "      <td>Clinical Trials, Randomized</td>\n",
       "    </tr>\n",
       "    <tr>\n",
       "      <th>30730</th>\n",
       "      <td>C0599724</td>\n",
       "      <td>placebo controlled study</td>\n",
       "    </tr>\n",
       "    <tr>\n",
       "      <th>31580</th>\n",
       "      <td>C0870266</td>\n",
       "      <td>child behavior checklist</td>\n",
       "    </tr>\n",
       "    <tr>\n",
       "      <th>42274</th>\n",
       "      <td>C0015730</td>\n",
       "      <td>Feasibility Studies</td>\n",
       "    </tr>\n",
       "    <tr>\n",
       "      <th>50275</th>\n",
       "      <td>C0024720</td>\n",
       "      <td>Manifest Anxiety Scale</td>\n",
       "    </tr>\n",
       "    <tr>\n",
       "      <th>51764</th>\n",
       "      <td>C0871207</td>\n",
       "      <td>Rasch Model</td>\n",
       "    </tr>\n",
       "    <tr>\n",
       "      <th>53225</th>\n",
       "      <td>C0683457</td>\n",
       "      <td>State-trait anger expression inventory</td>\n",
       "    </tr>\n",
       "    <tr>\n",
       "      <th>53817</th>\n",
       "      <td>C0679600</td>\n",
       "      <td>Visual short-term memory task</td>\n",
       "    </tr>\n",
       "    <tr>\n",
       "      <th>55803</th>\n",
       "      <td>C0679602</td>\n",
       "      <td>Information Processing Task</td>\n",
       "    </tr>\n",
       "    <tr>\n",
       "      <th>56116</th>\n",
       "      <td>C0870753</td>\n",
       "      <td>Item Response Theory</td>\n",
       "    </tr>\n",
       "    <tr>\n",
       "      <th>56244</th>\n",
       "      <td>C0871459</td>\n",
       "      <td>Subtests</td>\n",
       "    </tr>\n",
       "    <tr>\n",
       "      <th>57816</th>\n",
       "      <td>C0679601</td>\n",
       "      <td>Divided Attention Task</td>\n",
       "    </tr>\n",
       "    <tr>\n",
       "      <th>67113</th>\n",
       "      <td>C0010101</td>\n",
       "      <td>Correlation Study</td>\n",
       "    </tr>\n",
       "    <tr>\n",
       "      <th>68458</th>\n",
       "      <td>C0039778</td>\n",
       "      <td>Theoretical Study</td>\n",
       "    </tr>\n",
       "    <tr>\n",
       "      <th>73641</th>\n",
       "      <td>C0600115</td>\n",
       "      <td>Molecular Modeling</td>\n",
       "    </tr>\n",
       "    <tr>\n",
       "      <th>83128</th>\n",
       "      <td>C0036611</td>\n",
       "      <td>Semantic Differential</td>\n",
       "    </tr>\n",
       "    <tr>\n",
       "      <th>83316</th>\n",
       "      <td>C0679584</td>\n",
       "      <td>Tennessee Self-Concept Scale</td>\n",
       "    </tr>\n",
       "    <tr>\n",
       "      <th>83553</th>\n",
       "      <td>C0683446</td>\n",
       "      <td>Bem Sex-Role Inventory</td>\n",
       "    </tr>\n",
       "    <tr>\n",
       "      <th>84284</th>\n",
       "      <td>C0027029</td>\n",
       "      <td>Myers-Briggs Type Indicator</td>\n",
       "    </tr>\n",
       "    <tr>\n",
       "      <th>92574</th>\n",
       "      <td>C0007451</td>\n",
       "      <td>Cattell Personality Factor Questionnaire</td>\n",
       "    </tr>\n",
       "    <tr>\n",
       "      <th>100452</th>\n",
       "      <td>C0035852</td>\n",
       "      <td>Rorschach Test</td>\n",
       "    </tr>\n",
       "    <tr>\n",
       "      <th>106041</th>\n",
       "      <td>C0033903</td>\n",
       "      <td>Psychological Techniques</td>\n",
       "    </tr>\n",
       "    <tr>\n",
       "      <th>106068</th>\n",
       "      <td>C0683450</td>\n",
       "      <td>Family Crisis-Oriented Personal Evaluation Scales</td>\n",
       "    </tr>\n",
       "    <tr>\n",
       "      <th>113594</th>\n",
       "      <td>C0013661</td>\n",
       "      <td>Edwards Personal Preference Schedule</td>\n",
       "    </tr>\n",
       "    <tr>\n",
       "      <th>113877</th>\n",
       "      <td>C0871272</td>\n",
       "      <td>Rokeach Dogmatism Scale</td>\n",
       "    </tr>\n",
       "    <tr>\n",
       "      <th>113891</th>\n",
       "      <td>C0596653</td>\n",
       "      <td>Halstead battery</td>\n",
       "    </tr>\n",
       "    <tr>\n",
       "      <th>115084</th>\n",
       "      <td>C0019853</td>\n",
       "      <td>Holtzman Inkblot Test</td>\n",
       "    </tr>\n",
       "    <tr>\n",
       "      <th>115897</th>\n",
       "      <td>C0871509</td>\n",
       "      <td>test items</td>\n",
       "    </tr>\n",
       "    <tr>\n",
       "      <th>122329</th>\n",
       "      <td>C0870845</td>\n",
       "      <td>Marlowe Crowne Social Desirability Scale</td>\n",
       "    </tr>\n",
       "    <tr>\n",
       "      <th>122968</th>\n",
       "      <td>C0035858</td>\n",
       "      <td>Rosenzweig Picture-Frustration Study</td>\n",
       "    </tr>\n",
       "    <tr>\n",
       "      <th>123858</th>\n",
       "      <td>C0679585</td>\n",
       "      <td>Blacky Pictures Test</td>\n",
       "    </tr>\n",
       "    <tr>\n",
       "      <th>130820</th>\n",
       "      <td>C0683453</td>\n",
       "      <td>High School Personality Questionnaire</td>\n",
       "    </tr>\n",
       "    <tr>\n",
       "      <th>131807</th>\n",
       "      <td>C0683452</td>\n",
       "      <td>Guilford-Zimmerman Temperament Survey</td>\n",
       "    </tr>\n",
       "    <tr>\n",
       "      <th>131998</th>\n",
       "      <td>C0683456</td>\n",
       "      <td>omnibus personality test</td>\n",
       "    </tr>\n",
       "    <tr>\n",
       "      <th>134242</th>\n",
       "      <td>C0871380</td>\n",
       "      <td>Slosson Intelligence Test</td>\n",
       "    </tr>\n",
       "    <tr>\n",
       "      <th>136001</th>\n",
       "      <td>C0871206</td>\n",
       "      <td>Rank Order Correlation</td>\n",
       "    </tr>\n",
       "    <tr>\n",
       "      <th>137182</th>\n",
       "      <td>C0162588</td>\n",
       "      <td>Models, Organizational</td>\n",
       "    </tr>\n",
       "    <tr>\n",
       "      <th>137708</th>\n",
       "      <td>C0162587</td>\n",
       "      <td>Models, Educational</td>\n",
       "    </tr>\n",
       "    <tr>\n",
       "      <th>144692</th>\n",
       "      <td>C0025364</td>\n",
       "      <td>Mental Status Schedule</td>\n",
       "    </tr>\n",
       "    <tr>\n",
       "      <th>147160</th>\n",
       "      <td>C0683964</td>\n",
       "      <td>path analysis model</td>\n",
       "    </tr>\n",
       "    <tr>\n",
       "      <th>169816</th>\n",
       "      <td>C0679583</td>\n",
       "      <td>Mooney Problem Checklist</td>\n",
       "    </tr>\n",
       "    <tr>\n",
       "      <th>171263</th>\n",
       "      <td>C0679596</td>\n",
       "      <td>Compensatory Tracking Task</td>\n",
       "    </tr>\n",
       "    <tr>\n",
       "      <th>173174</th>\n",
       "      <td>C0242278</td>\n",
       "      <td>Evaluation Report</td>\n",
       "    </tr>\n",
       "    <tr>\n",
       "      <th>178508</th>\n",
       "      <td>C0036150</td>\n",
       "      <td>Sampling Studies</td>\n",
       "    </tr>\n",
       "    <tr>\n",
       "      <th>180068</th>\n",
       "      <td>C0039577</td>\n",
       "      <td>Test Anxiety Scale</td>\n",
       "    </tr>\n",
       "    <tr>\n",
       "      <th>180364</th>\n",
       "      <td>C0870366</td>\n",
       "      <td>Course assessments</td>\n",
       "    </tr>\n",
       "    <tr>\n",
       "      <th>197024</th>\n",
       "      <td>C0043200</td>\n",
       "      <td>Wittenborn Scales</td>\n",
       "    </tr>\n",
       "    <tr>\n",
       "      <th>207570</th>\n",
       "      <td>C0872006</td>\n",
       "      <td>Spearman Rho</td>\n",
       "    </tr>\n",
       "    <tr>\n",
       "      <th>227480</th>\n",
       "      <td>C0871072</td>\n",
       "      <td>Phi Coefficient</td>\n",
       "    </tr>\n",
       "    <tr>\n",
       "      <th>229742</th>\n",
       "      <td>C0871180</td>\n",
       "      <td>Psychological Interpretation</td>\n",
       "    </tr>\n",
       "    <tr>\n",
       "      <th>238668</th>\n",
       "      <td>C0681945</td>\n",
       "      <td>common factor model</td>\n",
       "    </tr>\n",
       "    <tr>\n",
       "      <th>239867</th>\n",
       "      <td>C0683451</td>\n",
       "      <td>Fundamental Interpersonal Relations</td>\n",
       "    </tr>\n",
       "    <tr>\n",
       "      <th>247452</th>\n",
       "      <td>C0683454</td>\n",
       "      <td>internal-external locus of control scale</td>\n",
       "    </tr>\n",
       "    <tr>\n",
       "      <th>259652</th>\n",
       "      <td>C0935555</td>\n",
       "      <td>interview schedules</td>\n",
       "    </tr>\n",
       "    <tr>\n",
       "      <th>262522</th>\n",
       "      <td>C0681907</td>\n",
       "      <td>psychological or educational test</td>\n",
       "    </tr>\n",
       "    <tr>\n",
       "      <th>313705</th>\n",
       "      <td>C0870775</td>\n",
       "      <td>Kirton Adaption Innovation Inventory</td>\n",
       "    </tr>\n",
       "    <tr>\n",
       "      <th>321299</th>\n",
       "      <td>C0242480</td>\n",
       "      <td>Investigative Report</td>\n",
       "    </tr>\n",
       "    <tr>\n",
       "      <th>327915</th>\n",
       "      <td>C0000798</td>\n",
       "      <td>Abortion Surveys</td>\n",
       "    </tr>\n",
       "    <tr>\n",
       "      <th>343854</th>\n",
       "      <td>C3825782</td>\n",
       "      <td>Psychiatric rating scales</td>\n",
       "    </tr>\n",
       "  </tbody>\n",
       "</table>\n",
       "</div>"
      ],
      "text/plain": [
       "              ID                                               name\n",
       "15726   C0596723                                         human data\n",
       "26170   C0206034                        Clinical Trials, Randomized\n",
       "30730   C0599724                           placebo controlled study\n",
       "31580   C0870266                           child behavior checklist\n",
       "42274   C0015730                                Feasibility Studies\n",
       "50275   C0024720                             Manifest Anxiety Scale\n",
       "51764   C0871207                                        Rasch Model\n",
       "53225   C0683457             State-trait anger expression inventory\n",
       "53817   C0679600                      Visual short-term memory task\n",
       "55803   C0679602                        Information Processing Task\n",
       "56116   C0870753                               Item Response Theory\n",
       "56244   C0871459                                           Subtests\n",
       "57816   C0679601                             Divided Attention Task\n",
       "67113   C0010101                                  Correlation Study\n",
       "68458   C0039778                                  Theoretical Study\n",
       "73641   C0600115                                 Molecular Modeling\n",
       "83128   C0036611                              Semantic Differential\n",
       "83316   C0679584                       Tennessee Self-Concept Scale\n",
       "83553   C0683446                             Bem Sex-Role Inventory\n",
       "84284   C0027029                        Myers-Briggs Type Indicator\n",
       "92574   C0007451           Cattell Personality Factor Questionnaire\n",
       "100452  C0035852                                     Rorschach Test\n",
       "106041  C0033903                           Psychological Techniques\n",
       "106068  C0683450  Family Crisis-Oriented Personal Evaluation Scales\n",
       "113594  C0013661               Edwards Personal Preference Schedule\n",
       "113877  C0871272                            Rokeach Dogmatism Scale\n",
       "113891  C0596653                                   Halstead battery\n",
       "115084  C0019853                              Holtzman Inkblot Test\n",
       "115897  C0871509                                         test items\n",
       "122329  C0870845           Marlowe Crowne Social Desirability Scale\n",
       "122968  C0035858               Rosenzweig Picture-Frustration Study\n",
       "123858  C0679585                               Blacky Pictures Test\n",
       "130820  C0683453              High School Personality Questionnaire\n",
       "131807  C0683452              Guilford-Zimmerman Temperament Survey\n",
       "131998  C0683456                           omnibus personality test\n",
       "134242  C0871380                          Slosson Intelligence Test\n",
       "136001  C0871206                             Rank Order Correlation\n",
       "137182  C0162588                             Models, Organizational\n",
       "137708  C0162587                                Models, Educational\n",
       "144692  C0025364                             Mental Status Schedule\n",
       "147160  C0683964                                path analysis model\n",
       "169816  C0679583                           Mooney Problem Checklist\n",
       "171263  C0679596                         Compensatory Tracking Task\n",
       "173174  C0242278                                  Evaluation Report\n",
       "178508  C0036150                                   Sampling Studies\n",
       "180068  C0039577                                 Test Anxiety Scale\n",
       "180364  C0870366                                 Course assessments\n",
       "197024  C0043200                                  Wittenborn Scales\n",
       "207570  C0872006                                       Spearman Rho\n",
       "227480  C0871072                                    Phi Coefficient\n",
       "229742  C0871180                       Psychological Interpretation\n",
       "238668  C0681945                                common factor model\n",
       "239867  C0683451                Fundamental Interpersonal Relations\n",
       "247452  C0683454           internal-external locus of control scale\n",
       "259652  C0935555                                interview schedules\n",
       "262522  C0681907                  psychological or educational test\n",
       "313705  C0870775               Kirton Adaption Innovation Inventory\n",
       "321299  C0242480                               Investigative Report\n",
       "327915  C0000798                                   Abortion Surveys\n",
       "343854  C3825782                          Psychiatric rating scales"
      ]
     },
     "execution_count": 58,
     "metadata": {},
     "output_type": "execute_result"
    }
   ],
   "source": [
    "idx = 6\n",
    "\n",
    "print(multi_sems[idx])\n",
    "examine_problem_cuis(multi_sems[idx])"
   ]
  },
  {
   "cell_type": "markdown",
   "metadata": {},
   "source": [
    "These also seem like Concepts and Ideas over procedures"
   ]
  },
  {
   "cell_type": "code",
   "execution_count": 59,
   "metadata": {},
   "outputs": [
    {
     "data": {
      "text/plain": [
       "{'C0000798': 'Concepts & Ideas',\n",
       " 'C0001111': 'Phenomena',\n",
       " 'C0005358': 'Concepts & Ideas',\n",
       " 'C0007451': 'Concepts & Ideas',\n",
       " 'C0009213': 'Objects',\n",
       " 'C0009612': 'Concepts & Ideas',\n",
       " 'C0010029': 'Objects',\n",
       " 'C0010101': 'Concepts & Ideas',\n",
       " 'C0010198': 'Objects',\n",
       " 'C0011005': 'Concepts & Ideas',\n",
       " 'C0011006': 'Concepts & Ideas',\n",
       " 'C0012108': 'Concepts & Ideas',\n",
       " 'C0012176': 'Objects',\n",
       " 'C0012762': 'Concepts & Ideas',\n",
       " 'C0013661': 'Concepts & Ideas',\n",
       " 'C0015324': 'Concepts & Ideas',\n",
       " 'C0015730': 'Concepts & Ideas',\n",
       " 'C0018627': 'Objects',\n",
       " 'C0019853': 'Concepts & Ideas',\n",
       " 'C0019980': 'Concepts & Ideas',\n",
       " 'C0021265': 'Phenomena',\n",
       " 'C0023754': 'Objects',\n",
       " 'C0024720': 'Concepts & Ideas',\n",
       " 'C0024763': 'Concepts & Ideas',\n",
       " 'C0025364': 'Concepts & Ideas',\n",
       " 'C0026620': 'Concepts & Ideas',\n",
       " 'C0027029': 'Concepts & Ideas',\n",
       " 'C0027988': 'Concepts & Ideas',\n",
       " 'C0029038': 'Concepts & Ideas',\n",
       " 'C0029061': 'Concepts & Ideas',\n",
       " 'C0030208': 'Concepts & Ideas',\n",
       " 'C0030258': 'Concepts & Ideas',\n",
       " 'C0033903': 'Concepts & Ideas',\n",
       " 'C0034036': 'Concepts & Ideas',\n",
       " 'C0034549': 'Phenomena',\n",
       " 'C0034552': 'Phenomena',\n",
       " 'C0035852': 'Concepts & Ideas',\n",
       " 'C0035858': 'Concepts & Ideas',\n",
       " 'C0036048': 'Objects',\n",
       " 'C0036150': 'Concepts & Ideas',\n",
       " 'C0036473': 'Concepts & Ideas',\n",
       " 'C0036611': 'Concepts & Ideas',\n",
       " 'C0036845': 'Objects',\n",
       " 'C0037429': 'Activities & Behaviors',\n",
       " 'C0037585': 'Concepts & Ideas',\n",
       " 'C0037732': 'Objects',\n",
       " 'C0039577': 'Concepts & Ideas',\n",
       " 'C0039712': 'Concepts & Ideas',\n",
       " 'C0039778': 'Concepts & Ideas',\n",
       " 'C0042438': 'Objects',\n",
       " 'C0043200': 'Concepts & Ideas',\n",
       " 'C0052300': 'Objects',\n",
       " 'C0054599': 'Objects',\n",
       " 'C0056060': 'Objects',\n",
       " 'C0069449': 'Objects',\n",
       " 'C0069962': 'Objects',\n",
       " 'C0070325': 'Objects',\n",
       " 'C0072982': 'Objects',\n",
       " 'C0075639': 'Objects',\n",
       " 'C0079090': 'Concepts & Ideas',\n",
       " 'C0079150': 'Concepts & Ideas',\n",
       " 'C0085519': 'Concepts & Ideas',\n",
       " 'C0102271': 'Objects',\n",
       " 'C0162443': 'Concepts & Ideas',\n",
       " 'C0162587': 'Concepts & Ideas',\n",
       " 'C0162588': 'Concepts & Ideas',\n",
       " 'C0180070': 'Concepts & Ideas',\n",
       " 'C0180292': 'Concepts & Ideas',\n",
       " 'C0206034': 'Concepts & Ideas',\n",
       " 'C0212750': 'Objects',\n",
       " 'C0242278': 'Concepts & Ideas',\n",
       " 'C0242480': 'Concepts & Ideas',\n",
       " 'C0244994': 'Objects',\n",
       " 'C0254751': 'Objects',\n",
       " 'C0301248': 'Objects',\n",
       " 'C0301249': 'Objects',\n",
       " 'C0301250': 'Objects',\n",
       " 'C0302227': 'Objects',\n",
       " 'C0304095': 'Objects',\n",
       " 'C0304097': 'Objects',\n",
       " 'C0304098': 'Objects',\n",
       " 'C0304108': 'Objects',\n",
       " 'C0304119': 'Objects',\n",
       " 'C0458160': 'Objects',\n",
       " 'C0596355': 'Concepts & Ideas',\n",
       " 'C0596653': 'Concepts & Ideas',\n",
       " 'C0596723': 'Concepts & Ideas',\n",
       " 'C0598214': 'Concepts & Ideas',\n",
       " 'C0599724': 'Concepts & Ideas',\n",
       " 'C0600115': 'Concepts & Ideas',\n",
       " 'C0600659': 'Concepts & Ideas',\n",
       " 'C0679583': 'Concepts & Ideas',\n",
       " 'C0679584': 'Concepts & Ideas',\n",
       " 'C0679585': 'Concepts & Ideas',\n",
       " 'C0679596': 'Concepts & Ideas',\n",
       " 'C0679600': 'Concepts & Ideas',\n",
       " 'C0679601': 'Concepts & Ideas',\n",
       " 'C0679602': 'Concepts & Ideas',\n",
       " 'C0681520': 'Concepts & Ideas',\n",
       " 'C0681907': 'Concepts & Ideas',\n",
       " 'C0681945': 'Concepts & Ideas',\n",
       " 'C0683446': 'Concepts & Ideas',\n",
       " 'C0683450': 'Concepts & Ideas',\n",
       " 'C0683451': 'Concepts & Ideas',\n",
       " 'C0683452': 'Concepts & Ideas',\n",
       " 'C0683453': 'Concepts & Ideas',\n",
       " 'C0683454': 'Concepts & Ideas',\n",
       " 'C0683456': 'Concepts & Ideas',\n",
       " 'C0683457': 'Concepts & Ideas',\n",
       " 'C0683732': 'Activities & Behaviors',\n",
       " 'C0683733': 'Activities & Behaviors',\n",
       " 'C0683964': 'Concepts & Ideas',\n",
       " 'C0700217': 'Concepts & Ideas',\n",
       " 'C0814524': 'Concepts & Ideas',\n",
       " 'C0868951': 'Concepts & Ideas',\n",
       " 'C0870266': 'Concepts & Ideas',\n",
       " 'C0870366': 'Concepts & Ideas',\n",
       " 'C0870393': 'Concepts & Ideas',\n",
       " 'C0870753': 'Concepts & Ideas',\n",
       " 'C0870775': 'Concepts & Ideas',\n",
       " 'C0870845': 'Concepts & Ideas',\n",
       " 'C0871072': 'Concepts & Ideas',\n",
       " 'C0871180': 'Concepts & Ideas',\n",
       " 'C0871206': 'Concepts & Ideas',\n",
       " 'C0871207': 'Concepts & Ideas',\n",
       " 'C0871272': 'Concepts & Ideas',\n",
       " 'C0871380': 'Concepts & Ideas',\n",
       " 'C0871459': 'Concepts & Ideas',\n",
       " 'C0871495': 'Concepts & Ideas',\n",
       " 'C0871509': 'Concepts & Ideas',\n",
       " 'C0872006': 'Concepts & Ideas',\n",
       " 'C0872075': 'Concepts & Ideas',\n",
       " 'C0872238': 'Concepts & Ideas',\n",
       " 'C0872356': 'Concepts & Ideas',\n",
       " 'C0879593': 'Anatomy',\n",
       " 'C0887962': 'Concepts & Ideas',\n",
       " 'C0920318': 'Concepts & Ideas',\n",
       " 'C0920429': 'Concepts & Ideas',\n",
       " 'C0920535': 'Concepts & Ideas',\n",
       " 'C0920536': 'Concepts & Ideas',\n",
       " 'C0935555': 'Concepts & Ideas',\n",
       " 'C0936091': 'Concepts & Ideas',\n",
       " 'C0973138': 'Concepts & Ideas',\n",
       " 'C0982306': 'Objects',\n",
       " 'C1177183': 'Objects',\n",
       " 'C1328049': 'Anatomy',\n",
       " 'C1384515': 'Objects',\n",
       " 'C1445804': 'Objects',\n",
       " 'C1456640': 'Objects',\n",
       " 'C1457980': 'Concepts & Ideas',\n",
       " 'C1509841': 'Objects',\n",
       " 'C1516687': 'Anatomy',\n",
       " 'C1518477': 'Objects',\n",
       " 'C1533371': 'Objects',\n",
       " 'C1548378': 'Concepts & Ideas',\n",
       " 'C1622900': 'Concepts & Ideas',\n",
       " 'C1708270': 'Anatomy',\n",
       " 'C1802750': 'Objects',\n",
       " 'C1879986': 'Objects',\n",
       " 'C2343876': 'Objects',\n",
       " 'C2346950': 'Objects',\n",
       " 'C2347739': 'Objects',\n",
       " 'C2827601': 'Objects',\n",
       " 'C2975054': 'Objects',\n",
       " 'C3256183': 'Objects',\n",
       " 'C3256420': 'Objects',\n",
       " 'C3265002': 'Objects',\n",
       " 'C3265918': 'Objects',\n",
       " 'C3474157': 'Objects',\n",
       " 'C3494216': 'Activities & Behaviors',\n",
       " 'C3825782': 'Concepts & Ideas'}"
      ]
     },
     "execution_count": 59,
     "metadata": {},
     "output_type": "execute_result"
    }
   ],
   "source": [
    "fixed_sems.update(set_semtype(multi_sems[idx], 'Concepts & Ideas'))\n",
    "fixed_sems"
   ]
  },
  {
   "cell_type": "markdown",
   "metadata": {},
   "source": [
    "The shorter ones are done... now we'll look at the longer ones by taking a random sample of ~20 from each"
   ]
  },
  {
   "cell_type": "code",
   "execution_count": 60,
   "metadata": {
    "scrolled": true
   },
   "outputs": [
    {
     "name": "stdout",
     "output_type": "stream",
     "text": [
      "Objects | Organizations\n"
     ]
    },
    {
     "data": {
      "text/html": [
       "<div>\n",
       "<style scoped>\n",
       "    .dataframe tbody tr th:only-of-type {\n",
       "        vertical-align: middle;\n",
       "    }\n",
       "\n",
       "    .dataframe tbody tr th {\n",
       "        vertical-align: top;\n",
       "    }\n",
       "\n",
       "    .dataframe thead th {\n",
       "        text-align: right;\n",
       "    }\n",
       "</style>\n",
       "<table border=\"1\" class=\"dataframe\">\n",
       "  <thead>\n",
       "    <tr style=\"text-align: right;\">\n",
       "      <th></th>\n",
       "      <th>ID</th>\n",
       "      <th>name</th>\n",
       "    </tr>\n",
       "  </thead>\n",
       "  <tbody>\n",
       "    <tr>\n",
       "      <th>150040</th>\n",
       "      <td>C0587447</td>\n",
       "      <td>Metabolic intensive care unit</td>\n",
       "    </tr>\n",
       "    <tr>\n",
       "      <th>147500</th>\n",
       "      <td>C1274028</td>\n",
       "      <td>Postnatal clinic</td>\n",
       "    </tr>\n",
       "    <tr>\n",
       "      <th>21651</th>\n",
       "      <td>C0020017</td>\n",
       "      <td>Hospitals, Pediatric</td>\n",
       "    </tr>\n",
       "    <tr>\n",
       "      <th>101268</th>\n",
       "      <td>C0587527</td>\n",
       "      <td>Pediatric surgical department</td>\n",
       "    </tr>\n",
       "    <tr>\n",
       "      <th>247327</th>\n",
       "      <td>C4684595</td>\n",
       "      <td>Clinical Laboratory</td>\n",
       "    </tr>\n",
       "    <tr>\n",
       "      <th>279030</th>\n",
       "      <td>C4035195</td>\n",
       "      <td>Occupational Health Clinic</td>\n",
       "    </tr>\n",
       "    <tr>\n",
       "      <th>268185</th>\n",
       "      <td>C4035333</td>\n",
       "      <td>Adult Medical Unit</td>\n",
       "    </tr>\n",
       "    <tr>\n",
       "      <th>1071</th>\n",
       "      <td>C0020008</td>\n",
       "      <td>Hospitals, General</td>\n",
       "    </tr>\n",
       "    <tr>\n",
       "      <th>74091</th>\n",
       "      <td>C0557796</td>\n",
       "      <td>Comprehensive school</td>\n",
       "    </tr>\n",
       "    <tr>\n",
       "      <th>134592</th>\n",
       "      <td>C0557591</td>\n",
       "      <td>Girls boarding school</td>\n",
       "    </tr>\n",
       "    <tr>\n",
       "      <th>96675</th>\n",
       "      <td>C1274026</td>\n",
       "      <td>Maternity clinic</td>\n",
       "    </tr>\n",
       "    <tr>\n",
       "      <th>113</th>\n",
       "      <td>C0002424</td>\n",
       "      <td>Ambulatory Care Facilities</td>\n",
       "    </tr>\n",
       "    <tr>\n",
       "      <th>248713</th>\n",
       "      <td>C3826023</td>\n",
       "      <td>Medical colleges</td>\n",
       "    </tr>\n",
       "    <tr>\n",
       "      <th>248579</th>\n",
       "      <td>C3810844</td>\n",
       "      <td>Breast clinic</td>\n",
       "    </tr>\n",
       "    <tr>\n",
       "      <th>41969</th>\n",
       "      <td>C0872103</td>\n",
       "      <td>Assisted Living Facilities</td>\n",
       "    </tr>\n",
       "    <tr>\n",
       "      <th>64026</th>\n",
       "      <td>C0587446</td>\n",
       "      <td>Cardiac intensive care unit</td>\n",
       "    </tr>\n",
       "    <tr>\n",
       "      <th>247230</th>\n",
       "      <td>C1551285</td>\n",
       "      <td>Urgent Care Clinic/Center</td>\n",
       "    </tr>\n",
       "    <tr>\n",
       "      <th>268481</th>\n",
       "      <td>C3816504</td>\n",
       "      <td>Pediatric oncology clinic</td>\n",
       "    </tr>\n",
       "    <tr>\n",
       "      <th>266750</th>\n",
       "      <td>C4291939</td>\n",
       "      <td>Inpatient Psychiatric Facility</td>\n",
       "    </tr>\n",
       "    <tr>\n",
       "      <th>260006</th>\n",
       "      <td>C4284828</td>\n",
       "      <td>Clinical Observation Units</td>\n",
       "    </tr>\n",
       "  </tbody>\n",
       "</table>\n",
       "</div>"
      ],
      "text/plain": [
       "              ID                            name\n",
       "150040  C0587447   Metabolic intensive care unit\n",
       "147500  C1274028                Postnatal clinic\n",
       "21651   C0020017            Hospitals, Pediatric\n",
       "101268  C0587527   Pediatric surgical department\n",
       "247327  C4684595             Clinical Laboratory\n",
       "279030  C4035195      Occupational Health Clinic\n",
       "268185  C4035333              Adult Medical Unit\n",
       "1071    C0020008              Hospitals, General\n",
       "74091   C0557796            Comprehensive school\n",
       "134592  C0557591           Girls boarding school\n",
       "96675   C1274026                Maternity clinic\n",
       "113     C0002424      Ambulatory Care Facilities\n",
       "248713  C3826023                Medical colleges\n",
       "248579  C3810844                   Breast clinic\n",
       "41969   C0872103      Assisted Living Facilities\n",
       "64026   C0587446     Cardiac intensive care unit\n",
       "247230  C1551285       Urgent Care Clinic/Center\n",
       "268481  C3816504       Pediatric oncology clinic\n",
       "266750  C4291939  Inpatient Psychiatric Facility\n",
       "260006  C4284828      Clinical Observation Units"
      ]
     },
     "execution_count": 60,
     "metadata": {},
     "output_type": "execute_result"
    }
   ],
   "source": [
    "idx = 7\n",
    "\n",
    "print(multi_sems[idx])\n",
    "examine_problem_cuis(multi_sems[idx]).sample(20)"
   ]
  },
  {
   "cell_type": "markdown",
   "metadata": {},
   "source": [
    "All seem to be some kind of Organization."
   ]
  },
  {
   "cell_type": "code",
   "execution_count": 61,
   "metadata": {},
   "outputs": [],
   "source": [
    "fixed_sems.update(set_semtype(multi_sems[idx], 'Organizations'))"
   ]
  },
  {
   "cell_type": "code",
   "execution_count": 62,
   "metadata": {},
   "outputs": [],
   "source": [
    "cui_to_super.update(fixed_sems)"
   ]
  },
  {
   "cell_type": "markdown",
   "metadata": {},
   "source": [
    "## Re-label the semmantic types to their true type"
   ]
  },
  {
   "cell_type": "code",
   "execution_count": 63,
   "metadata": {},
   "outputs": [
    {
     "name": "stdout",
     "output_type": "stream",
     "text": [
      "Went from 348017 rows in nodes to 308588 with 308588 unique CUIS\n"
     ]
    }
   ],
   "source": [
    "before_len = len(nodes)\n",
    "nodes['label'] = nodes['ID'].apply(lambda x: cui_to_super[x])\n",
    "nodes = nodes[['ID', 'name', 'label']].drop_duplicates().reset_index(drop=True)\n",
    "\n",
    "print(\"Went from {} rows in nodes to {} with {} unique CUIS\".format(before_len, len(nodes), nodes['ID'].nunique()))"
   ]
  },
  {
   "cell_type": "markdown",
   "metadata": {},
   "source": [
    "Looks like we finally have a 1:1 relationship of unique IDs to rows in our nodes table"
   ]
  },
  {
   "cell_type": "markdown",
   "metadata": {},
   "source": [
    "# 3. Edges File"
   ]
  },
  {
   "cell_type": "markdown",
   "metadata": {},
   "source": [
    "## Predicate types\n",
    "\n",
    "[Semmed Docs](https://skr3.nlm.nih.gov/SemMed/jsp/SemMedDocumentation2.pdf)\n",
    "\n",
    "\n",
    "The docs above show only 26 predicates, lets see how many the data actually contains an and what they are..."
   ]
  },
  {
   "cell_type": "code",
   "execution_count": 64,
   "metadata": {},
   "outputs": [
    {
     "name": "stdout",
     "output_type": "stream",
     "text": [
      "65\n"
     ]
    }
   ],
   "source": [
    "print(sem_df['PREDICATE'].nunique())"
   ]
  },
  {
   "cell_type": "markdown",
   "metadata": {},
   "source": [
    "Looks like 65 total predicates.  There are negated predicates, but still, negating all 26 should only yield 52 total.  There are also some that are all lower-case, which do not seem to be found in the documents."
   ]
  },
  {
   "cell_type": "code",
   "execution_count": 71,
   "metadata": {},
   "outputs": [
    {
     "data": {
      "text/plain": [
       "['ADMINISTERED_TO',\n",
       " 'AFFECTS',\n",
       " 'ASSOCIATED_WITH',\n",
       " 'AUGMENTS',\n",
       " 'CAUSES',\n",
       " 'COEXISTS_WITH',\n",
       " 'COMPLICATES',\n",
       " 'CONVERTS_TO',\n",
       " 'DIAGNOSES',\n",
       " 'DISRUPTS',\n",
       " 'INHIBITS',\n",
       " 'INTERACTS_WITH',\n",
       " 'ISA',\n",
       " 'LOCATION_OF',\n",
       " 'MANIFESTATION_OF',\n",
       " 'MEASUREMENT_OF',\n",
       " 'MEASURES',\n",
       " 'METHOD_OF',\n",
       " 'NEG_ADMINISTERED_TO',\n",
       " 'NEG_AFFECTS',\n",
       " 'NEG_ASSOCIATED_WITH',\n",
       " 'NEG_AUGMENTS',\n",
       " 'NEG_CAUSES',\n",
       " 'NEG_COEXISTS_WITH',\n",
       " 'NEG_COMPLICATES',\n",
       " 'NEG_CONVERTS_TO',\n",
       " 'NEG_DIAGNOSES',\n",
       " 'NEG_DISRUPTS',\n",
       " 'NEG_INHIBITS',\n",
       " 'NEG_INTERACTS_WITH',\n",
       " 'NEG_ISA',\n",
       " 'NEG_LOCATION_OF',\n",
       " 'NEG_MANIFESTATION_OF',\n",
       " 'NEG_MEASUREMENT_OF',\n",
       " 'NEG_MEASURES',\n",
       " 'NEG_METHOD_OF',\n",
       " 'NEG_OCCURS_IN',\n",
       " 'NEG_PART_OF',\n",
       " 'NEG_PRECEDES',\n",
       " 'NEG_PREDISPOSES',\n",
       " 'NEG_PREVENTS',\n",
       " 'NEG_PROCESS_OF',\n",
       " 'NEG_PRODUCES',\n",
       " 'NEG_STIMULATES',\n",
       " 'NEG_TREATS',\n",
       " 'NEG_USES',\n",
       " 'NEG_higher_than',\n",
       " 'NEG_lower_than',\n",
       " 'NEG_same_as',\n",
       " 'OCCURS_IN',\n",
       " 'PART_OF',\n",
       " 'PRECEDES',\n",
       " 'PREDISPOSES',\n",
       " 'PREVENTS',\n",
       " 'PROCESS_OF',\n",
       " 'PRODUCES',\n",
       " 'STIMULATES',\n",
       " 'TREATS',\n",
       " 'USES',\n",
       " 'compared_with',\n",
       " 'higher_than',\n",
       " 'lower_than',\n",
       " 'same_as']"
      ]
     },
     "execution_count": 71,
     "metadata": {},
     "output_type": "execute_result"
    }
   ],
   "source": [
    "sorted(list(sem_df['PREDICATE'].unique()))"
   ]
  },
  {
   "cell_type": "code",
   "execution_count": 66,
   "metadata": {},
   "outputs": [
    {
     "data": {
      "text/plain": [
       "(1, 12)"
      ]
     },
     "execution_count": 66,
     "metadata": {},
     "output_type": "execute_result"
    }
   ],
   "source": [
    "sem_df.query('PREDICATE==\"1532\"').shape"
   ]
  },
  {
   "cell_type": "code",
   "execution_count": 67,
   "metadata": {},
   "outputs": [],
   "source": [
    "# remove the predicate 1532.\n",
    "sem_df = sem_df.query('PREDICATE!=\"1532\"')"
   ]
  },
  {
   "cell_type": "code",
   "execution_count": 69,
   "metadata": {},
   "outputs": [
    {
     "data": {
      "text/html": [
       "<div>\n",
       "<style scoped>\n",
       "    .dataframe tbody tr th:only-of-type {\n",
       "        vertical-align: middle;\n",
       "    }\n",
       "\n",
       "    .dataframe tbody tr th {\n",
       "        vertical-align: top;\n",
       "    }\n",
       "\n",
       "    .dataframe thead th {\n",
       "        text-align: right;\n",
       "    }\n",
       "</style>\n",
       "<table border=\"1\" class=\"dataframe\">\n",
       "  <thead>\n",
       "    <tr style=\"text-align: right;\">\n",
       "      <th></th>\n",
       "      <th>PREDICATION_ID</th>\n",
       "      <th>SENTENCE_ID</th>\n",
       "      <th>PMID</th>\n",
       "      <th>PREDICATE</th>\n",
       "      <th>SUBJECT_CUI</th>\n",
       "      <th>SUBJECT_NAME</th>\n",
       "      <th>SUBJECT_SEMTYPE</th>\n",
       "      <th>SUBJECT_NOVELTY</th>\n",
       "      <th>OBJECT_CUI</th>\n",
       "      <th>OBJECT_NAME</th>\n",
       "      <th>OBJECT_SEMTYPE</th>\n",
       "      <th>OBJECT_NOVELTY</th>\n",
       "    </tr>\n",
       "  </thead>\n",
       "  <tbody>\n",
       "    <tr>\n",
       "      <th>122759052</th>\n",
       "      <td>192912334</td>\n",
       "      <td>365842043</td>\n",
       "      <td>33804473</td>\n",
       "      <td>PREP</td>\n",
       "      <td>C1426380</td>\n",
       "      <td>SRGAP2 gene</td>\n",
       "      <td>gngm</td>\n",
       "      <td>1</td>\n",
       "      <td>C1412045</td>\n",
       "      <td>A1BG gene</td>\n",
       "      <td>neop</td>\n",
       "      <td>1</td>\n",
       "    </tr>\n",
       "  </tbody>\n",
       "</table>\n",
       "</div>"
      ],
      "text/plain": [
       "           PREDICATION_ID  SENTENCE_ID      PMID PREDICATE SUBJECT_CUI  \\\n",
       "122759052       192912334    365842043  33804473      PREP    C1426380   \n",
       "\n",
       "          SUBJECT_NAME SUBJECT_SEMTYPE  SUBJECT_NOVELTY OBJECT_CUI  \\\n",
       "122759052  SRGAP2 gene            gngm                1   C1412045   \n",
       "\n",
       "          OBJECT_NAME OBJECT_SEMTYPE OBJECT_NOVELTY  \n",
       "122759052   A1BG gene           neop              1  "
      ]
     },
     "execution_count": 69,
     "metadata": {},
     "output_type": "execute_result"
    }
   ],
   "source": [
    "sem_df.query('PREDICATE==\"PREP\"')"
   ]
  },
  {
   "cell_type": "code",
   "execution_count": 70,
   "metadata": {},
   "outputs": [],
   "source": [
    "# remove the predicate PREP\n",
    "sem_df = sem_df.query('PREDICATE!=\"PREP\"')"
   ]
  },
  {
   "cell_type": "markdown",
   "metadata": {},
   "source": [
    "## Edge Semmantics Abbreviations\n",
    "\n",
    "According to hetionet conventions, edges must be written as `EDGETYPE_abbrev` where the abbreviation is START_NODE Abv, Predicate Abv, END_NODE Abv.  for example a Compound that treats a Disease is abbreviated TREATS_CtD.  \n",
    "\n",
    "We must come up with unique abbreviations for each semantic type for the nodes as well as each predicate. These concatinated together will give a unique abbreviation for each edge type."
   ]
  },
  {
   "cell_type": "code",
   "execution_count": 72,
   "metadata": {},
   "outputs": [],
   "source": [
    "p_abv = {\n",
    "     'ADMINISTERED_TO': 'at',\n",
    "     'AFFECTS': 'af',\n",
    "     'ASSOCIATED_WITH': 'aw',\n",
    "     'AUGMENTS': 'ag',\n",
    "     'CAUSES': 'c',\n",
    "     'COEXISTS_WITH': 'cw',\n",
    "     'COMPLICATES': 'cp',\n",
    "     'CONVERTS_TO': 'ct',\n",
    "     'DIAGNOSES': 'dg',\n",
    "     'DISRUPTS': 'ds',\n",
    "     'INHIBITS': 'in',\n",
    "     'INTERACTS_WITH': 'iw',\n",
    "     'ISA': 'i',\n",
    "     'LOCATION_OF': 'lo',\n",
    "     'MANIFESTATION_OF': 'mfo',\n",
    "     'MEASUREMENT_OF': 'mso',       # new\n",
    "     'MEASURES': 'ms',              # new\n",
    "     'METHOD_OF': 'mo',\n",
    "     'NEG_ADMINISTERED_TO': 'nat',\n",
    "     'NEG_AFFECTS': 'naf',\n",
    "     'NEG_ASSOCIATED_WITH': 'naw',\n",
    "     'NEG_AUGMENTS': 'nag',\n",
    "     'NEG_CAUSES': 'nc',\n",
    "     'NEG_COEXISTS_WITH': 'ncw',\n",
    "     'NEG_COMPLICATES': 'ncp',\n",
    "     'NEG_CONVERTS_TO': 'nct',\n",
    "     'NEG_DIAGNOSES': 'ndg',\n",
    "     'NEG_DISRUPTS': 'nds',\n",
    "     'NEG_INHIBITS': 'nin',\n",
    "     'NEG_INTERACTS_WITH': 'niw',\n",
    "     'NEG_ISA': 'ni',              # new\n",
    "     'NEG_LOCATION_OF': 'nlo',\n",
    "     'NEG_MANIFESTATION_OF': 'nmfo',\n",
    "     'NEG_MEASUREMENT_OF': 'nmso', # new\n",
    "     'NEG_MEASURES': 'nms',        # new\n",
    "     'NEG_METHOD_OF': 'nmo',\n",
    "     'NEG_OCCURS_IN': 'noi',\n",
    "     'NEG_PART_OF': 'npo',\n",
    "     'NEG_PRECEDES': 'npc',\n",
    "     'NEG_PREDISPOSES': 'nps',\n",
    "     'NEG_PREVENTS': 'npv',\n",
    "     'NEG_PROCESS_OF': 'npro',\n",
    "     'NEG_PRODUCES': 'npd',\n",
    "     'NEG_STIMULATES': 'nst',\n",
    "     'NEG_TREATS': 'nt',\n",
    "     'NEG_USES': 'nu',\n",
    "     'NEG_higher_than': 'nht',\n",
    "     'NEG_lower_than': 'nlt',\n",
    "     'NEG_same_as': 'nsa',         # new\n",
    "     'OCCURS_IN': 'oi',\n",
    "     'PART_OF': 'po',\n",
    "     'PRECEDES': 'pc',\n",
    "     'PREDISPOSES': 'ps',\n",
    "     'PREVENTS': 'pv',\n",
    "     'PROCESS_OF': 'pro',\n",
    "     'PRODUCES': 'pd',\n",
    "     'STIMULATES': 'st',\n",
    "     'TREATS': 't',\n",
    "     'USES': 'u',\n",
    "     'compared_with': 'cpw',\n",
    "     'higher_than': 'df',\n",
    "     'lower_than': 'lt',\n",
    "     'same_as': 'sa'\n",
    "}"
   ]
  },
  {
   "cell_type": "code",
   "execution_count": 73,
   "metadata": {},
   "outputs": [
    {
     "data": {
      "text/plain": [
       "63"
      ]
     },
     "execution_count": 73,
     "metadata": {},
     "output_type": "execute_result"
    }
   ],
   "source": [
    "len(p_abv)"
   ]
  },
  {
   "cell_type": "code",
   "execution_count": 74,
   "metadata": {},
   "outputs": [
    {
     "data": {
      "text/plain": [
       "63"
      ]
     },
     "execution_count": 74,
     "metadata": {},
     "output_type": "execute_result"
    }
   ],
   "source": [
    "len(set(p_abv.values()))"
   ]
  },
  {
   "cell_type": "code",
   "execution_count": 75,
   "metadata": {},
   "outputs": [
    {
     "data": {
      "text/plain": [
       "{'Activities & Behaviors',\n",
       " 'Anatomy',\n",
       " 'Chemicals & Drugs',\n",
       " 'Concepts & Ideas',\n",
       " 'Devices',\n",
       " 'Disorders',\n",
       " 'Genes & Molecular Sequences',\n",
       " 'Geographic Areas',\n",
       " 'Living Beings',\n",
       " 'Objects',\n",
       " 'Occupations',\n",
       " 'Organizations',\n",
       " 'Phenomena',\n",
       " 'Physiology',\n",
       " 'Procedures'}"
      ]
     },
     "execution_count": 75,
     "metadata": {},
     "output_type": "execute_result"
    }
   ],
   "source": [
    "# get abbreviations for semtypes\n",
    "super_sems = set(abbv_to_super.values())\n",
    "\n",
    "len(super_sems)\n",
    "super_sems"
   ]
  },
  {
   "cell_type": "markdown",
   "metadata": {},
   "source": [
    "## Node Type Abbreviations\n",
    "\n",
    "Nodes must also have an abbreviation"
   ]
  },
  {
   "cell_type": "code",
   "execution_count": 76,
   "metadata": {},
   "outputs": [],
   "source": [
    "# Run these by hand as there are few, and some don't lend themselves well to auto-generation\n",
    "sem_abv = {\n",
    " 'Activities & Behaviors': 'AB',\n",
    " 'Anatomy': 'A',\n",
    " 'Compound': 'C', # don't exist in new build\n",
    " 'Chemicals & Drugs': 'CD',\n",
    " 'Concepts & Ideas': 'CI',\n",
    " 'Devices': 'DV',\n",
    " 'Disease': 'D', # don't exist in new build\n",
    " 'Disorders': 'DO',\n",
    " 'Genes & Molecular Sequences': 'G',\n",
    " 'Geographic Areas': 'GA',\n",
    " 'Living Beings': 'LB',\n",
    " 'Objects': 'OB',\n",
    " 'Occupations': 'OC',\n",
    " 'Organizations': 'OR',\n",
    " 'Phenomena': 'PH',\n",
    " 'Physiology': 'PS',\n",
    " 'Procedures': 'PR'\n",
    "}"
   ]
  },
  {
   "cell_type": "markdown",
   "metadata": {},
   "source": [
    "# Edge Directions\n",
    "\n",
    "Most edges may be bi-directions, but some are definitely better exprested as uni-directional.  Here we will classify predicates as bi- or uni-dierectional based on the semantic meaning of the predicate.  Bidirectionl edges have an empty string, whereas uni-directional have a direction marker `'>'`. For example an undirected edge, such as a compound that treats a disease, is written as `TREATS_CtD`. However, a directed edge, like Compound1 converts to Compound 2 would be written as `CONVERTS_TO_Cct>C`.\n",
    "\n",
    "Edge directions were chosen based on the description found in [this documnetation](https://skr3.nlm.nih.gov/SemMed/jsp/SemMedDocumentation2.pdf)."
   ]
  },
  {
   "cell_type": "code",
   "execution_count": null,
   "metadata": {},
   "outputs": [],
   "source": [
    "p_abv = {\n",
    "     'ADMINISTERED_TO': '',\n",
    "     'AFFECTS': '',\n",
    "     'ASSOCIATED_WITH': '',\n",
    "     'AUGMENTS': '',\n",
    "     'CAUSES': '',\n",
    "     'COEXISTS_WITH': '',\n",
    "     'COMPLICATES': '',\n",
    "     'CONVERTS_TO': 'ct',\n",
    "     'DIAGNOSES': '',\n",
    "     'DISRUPTS': '',\n",
    "     'INHIBITS': '',\n",
    "     'INTERACTS_WITH': '',\n",
    "     'ISA': 'i',\n",
    "     'LOCATION_OF': '',\n",
    "     'MANIFESTATION_OF': 'mfo',\n",
    "     'MEASUREMENT_OF': 'mso',       # new\n",
    "     'MEASURES': 'ms',              # new\n",
    "     'METHOD_OF': '',\n",
    "\n",
    "\n",
    "     'NEG_CONVERTS_TO': 'nct',\n",
    "     'NEG_ISA': 'ni',              # new\n",
    "     'NEG_MANIFESTATION_OF': 'nmfo',\n",
    "     'NEG_MEASUREMENT_OF': 'nmso', # new\n",
    "     'NEG_MEASURES': 'nms',        # new\n",
    "     'NEG_METHOD_OF': 'nmo',\n",
    "     'NEG_OCCURS_IN': 'noi',\n",
    "     'NEG_PART_OF': 'npo',\n",
    "     'NEG_PRECEDES': 'npc',\n",
    "     'NEG_PREDISPOSES': 'nps',\n",
    "     'NEG_PREVENTS': 'npv',\n",
    "     'NEG_PROCESS_OF': 'npro',\n",
    "     'NEG_PRODUCES': 'npd',\n",
    "     'NEG_STIMULATES': 'nst',\n",
    "     'NEG_TREATS': 'nt',\n",
    "     'NEG_USES': 'nu',\n",
    "\n",
    "     'OCCURS_IN': 'oi',\n",
    "     'PART_OF': 'po',\n",
    "     'PRECEDES': 'pc',\n",
    "     'PREDISPOSES': 'ps',\n",
    "     'PREVENTS': 'pv',\n",
    "     'PROCESS_OF': 'pro',\n",
    "     'PRODUCES': 'pd',\n",
    "     'STIMULATES': 'st',\n",
    "     'TREATS': 't',\n",
    "     'USES': 'u',\n",
    "     'compared_with': '',\n",
    "     'higher_than': '',\n",
    "     'lower_than': '',\n",
    "     'same_as': ''\n",
    "}"
   ]
  },
  {
   "cell_type": "code",
   "execution_count": 69,
   "metadata": {
    "collapsed": true
   },
   "outputs": [],
   "source": [
    "edge_dir = {\n",
    " 'ADMINISTERED_TO': '',\n",
    " 'AFFECTS': '',\n",
    " 'ASSOCIATED_WITH': '',\n",
    " 'AUGMENTS': '',\n",
    " 'CAUSES': '',\n",
    " 'COEXISTS_WITH': '',\n",
    " 'COMPLICATES': '',\n",
    " 'CONVERTS_TO': '>',\n",
    " 'DIAGNOSES': '',\n",
    " 'DISRUPTS': '',\n",
    " 'INHIBITS': '',\n",
    " 'INTERACTS_WITH': '',\n",
    " 'ISA': '>',\n",
    " 'LOCATION_OF': '',\n",
    " 'MANIFESTATION_OF': '>',\n",
    " 'METHOD_OF': '',\n",
    " 'NOM': '',\n",
    " 'OCCURS_IN': '',\n",
    " 'PART_OF': '>',\n",
    " 'PRECEDES': '>',\n",
    " 'PREDISPOSES': '',\n",
    " 'PREP': '',\n",
    " 'PREVENTS': '',\n",
    " 'PROCESS_OF': '>',\n",
    " 'PRODUCES': '>',\n",
    " 'SPEC': '',\n",
    " 'STIMULATES': '',\n",
    " 'TREATS': '',\n",
    " 'USES': '',\n",
    " 'compared_with': '',\n",
    " 'different_from': '',\n",
    " 'different_than': '',\n",
    " 'higher_from': '',\n",
    " 'higher_than': '',\n",
    " 'lower_than': '',\n",
    " 'same_as': '',\n",
    " 'than_as': ''}"
   ]
  },
  {
   "cell_type": "code",
   "execution_count": 70,
   "metadata": {
    "collapsed": true
   },
   "outputs": [],
   "source": [
    "# Make a mapper from SEMTYPE to sem abbrev\n",
    "kind_map = {}\n",
    "\n",
    "for k, v in abbv_to_super.items():\n",
    "    kind_map[k] = sem_abv[v]"
   ]
  },
  {
   "cell_type": "code",
   "execution_count": 71,
   "metadata": {
    "collapsed": true
   },
   "outputs": [],
   "source": [
    "id_to_type = nodes.set_index('ID')['label'].to_dict()\n",
    "id_to_type_abbv = {k: sem_abv.get(v) for k, v in id_to_type.items()}"
   ]
  },
  {
   "cell_type": "code",
   "execution_count": 72,
   "metadata": {
    "collapsed": true
   },
   "outputs": [],
   "source": [
    "edges = pd.DataFrame()\n",
    "\n",
    "edges['start_id'] = sem_df['SUBJECT_CUI']\n",
    "edges['end_id'] = sem_df['OBJECT_CUI']\n",
    "edges['type'] = sem_df['PREDICATE']"
   ]
  },
  {
   "cell_type": "code",
   "execution_count": 73,
   "metadata": {},
   "outputs": [
    {
     "name": "stdout",
     "output_type": "stream",
     "text": [
      "20258352\n",
      "20258352\n"
     ]
    }
   ],
   "source": [
    "print(len(edges))\n",
    "# Make sure that there aren't any corrupted predicates...\n",
    "edges = edges.query('type in @p_abv.keys()')\n",
    "print(len(edges))"
   ]
  },
  {
   "cell_type": "markdown",
   "metadata": {},
   "source": [
    "## Putting together Edge Abbreviations\n",
    "\n",
    "Most edges are going to be treated as bi-directional, so order doesn't really matter too much, but when connecting 2 different metanodes, all `start_id`s must be of the same metanode type and all `end_id`s must be of the other. \n",
    "\n",
    "For example, all edges of TREATS between Compound and Disease should have a start_id nodetype of Compound and end_id type of Disease.... SemmedDB doesn't really care about this ordering, so we will ensure that all have a consistent order in this network file.\n",
    "\n",
    "\n",
    "1. First figure out which edges need Start and End swapped\n",
    "2. Then add in the pmids supporting each edge\n",
    "3. Finally, do the swap of IDs\n"
   ]
  },
  {
   "cell_type": "code",
   "execution_count": 74,
   "metadata": {
    "collapsed": true
   },
   "outputs": [],
   "source": [
    "edges['abbrev'] = (edges['start_id'].apply(lambda x: id_to_type_abbv.get(x,x)) \n",
    "                    + edges['type'].apply(lambda x: p_abv.get(x,x))\n",
    "                    + edges['type'].apply(lambda x: edge_dir.get(x,''))\n",
    "                    + edges['end_id'].apply(lambda x: id_to_type_abbv.get(x,x)))\n",
    "\n",
    "edges['rev_abbrev'] = (edges['end_id'].apply(lambda x: id_to_type_abbv.get(x,x)) \n",
    "                    + edges['type'].apply(lambda x: edge_dir.get(x,''))\n",
    "                    + edges['type'].apply(lambda x: p_abv.get(x,x))\n",
    "                    + edges['start_id'].apply(lambda x: id_to_type_abbv.get(x,x)))"
   ]
  },
  {
   "cell_type": "code",
   "execution_count": 75,
   "metadata": {},
   "outputs": [
    {
     "name": "stdout",
     "output_type": "stream",
     "text": [
      "20258352\n",
      "19812322\n"
     ]
    },
    {
     "data": {
      "text/html": [
       "<div>\n",
       "<style scoped>\n",
       "    .dataframe tbody tr th:only-of-type {\n",
       "        vertical-align: middle;\n",
       "    }\n",
       "\n",
       "    .dataframe tbody tr th {\n",
       "        vertical-align: top;\n",
       "    }\n",
       "\n",
       "    .dataframe thead th {\n",
       "        text-align: right;\n",
       "    }\n",
       "</style>\n",
       "<table border=\"1\" class=\"dataframe\">\n",
       "  <thead>\n",
       "    <tr style=\"text-align: right;\">\n",
       "      <th></th>\n",
       "      <th>START_ID</th>\n",
       "      <th>END_ID</th>\n",
       "      <th>TYPE</th>\n",
       "      <th>abbrev</th>\n",
       "      <th>rev_abbrev</th>\n",
       "    </tr>\n",
       "  </thead>\n",
       "  <tbody>\n",
       "    <tr>\n",
       "      <th>0</th>\n",
       "      <td>C0040291</td>\n",
       "      <td>C0085979</td>\n",
       "      <td>PART_OF</td>\n",
       "      <td>CDpo&gt;LB</td>\n",
       "      <td>LB&gt;poCD</td>\n",
       "    </tr>\n",
       "    <tr>\n",
       "      <th>1</th>\n",
       "      <td>C0005767</td>\n",
       "      <td>C0007061</td>\n",
       "      <td>LOCATION_OF</td>\n",
       "      <td>AloCD</td>\n",
       "      <td>CDloA</td>\n",
       "    </tr>\n",
       "    <tr>\n",
       "      <th>2</th>\n",
       "      <td>C0702166</td>\n",
       "      <td>C0043210</td>\n",
       "      <td>PROCESS_OF</td>\n",
       "      <td>DOpro&gt;LB</td>\n",
       "      <td>LB&gt;proDO</td>\n",
       "    </tr>\n",
       "    <tr>\n",
       "      <th>3</th>\n",
       "      <td>C0027809</td>\n",
       "      <td>C0038351</td>\n",
       "      <td>PART_OF</td>\n",
       "      <td>DOpo&gt;A</td>\n",
       "      <td>A&gt;poDO</td>\n",
       "    </tr>\n",
       "    <tr>\n",
       "      <th>6</th>\n",
       "      <td>C1010578</td>\n",
       "      <td>C0037877</td>\n",
       "      <td>ISA</td>\n",
       "      <td>LBi&gt;LB</td>\n",
       "      <td>LB&gt;iLB</td>\n",
       "    </tr>\n",
       "  </tbody>\n",
       "</table>\n",
       "</div>"
      ],
      "text/plain": [
       "   START_ID    END_ID         TYPE    abbrev rev_abbrev\n",
       "0  C0040291  C0085979      PART_OF   CDpo>LB    LB>poCD\n",
       "1  C0005767  C0007061  LOCATION_OF     AloCD      CDloA\n",
       "2  C0702166  C0043210   PROCESS_OF  DOpro>LB   LB>proDO\n",
       "3  C0027809  C0038351      PART_OF    DOpo>A     A>poDO\n",
       "6  C1010578  C0037877          ISA    LBi>LB     LB>iLB"
      ]
     },
     "execution_count": 75,
     "metadata": {},
     "output_type": "execute_result"
    }
   ],
   "source": [
    "print(len(edges))\n",
    "edges = edges.drop_duplicates()\n",
    "print(len(edges))\n",
    "edges.head()"
   ]
  },
  {
   "cell_type": "markdown",
   "metadata": {},
   "source": [
    "This will just use whatever order is encountered first when going down the rows of the Edges DataFrame"
   ]
  },
  {
   "cell_type": "code",
   "execution_count": 76,
   "metadata": {
    "collapsed": true
   },
   "outputs": [],
   "source": [
    "def validate_abbrevs(e_type, abbrev, rev_abbrev):\n",
    "    if rev_abbrev not in abbreviations:\n",
    "        abbreviations.update([abbrev])\n",
    "        return str(e_type) + '_' + str(abbrev)\n",
    "    else:\n",
    "        return str(e_type) + '_' + str(rev_abbrev)"
   ]
  },
  {
   "cell_type": "code",
   "execution_count": 77,
   "metadata": {},
   "outputs": [
    {
     "name": "stderr",
     "output_type": "stream",
     "text": [
      "100%|██████████| 19812322/19812322 [01:01<00:00, 322385.39it/s]"
     ]
    },
    {
     "name": "stdout",
     "output_type": "stream",
     "text": [
      "CPU times: user 1min 1s, sys: 3.42 s, total: 1min 4s\n",
      "Wall time: 1min 4s\n"
     ]
    },
    {
     "name": "stderr",
     "output_type": "stream",
     "text": [
      "\n"
     ]
    }
   ],
   "source": [
    "%%time\n",
    "abbreviations = set()\n",
    "new_types = []\n",
    "for row in tqdm(edges.itertuples(), total=len(edges)):\n",
    "    new_types.append(validate_abbrevs(row[3], row[4], row[5]))"
   ]
  },
  {
   "cell_type": "code",
   "execution_count": 78,
   "metadata": {},
   "outputs": [
    {
     "data": {
      "text/html": [
       "<div>\n",
       "<style scoped>\n",
       "    .dataframe tbody tr th:only-of-type {\n",
       "        vertical-align: middle;\n",
       "    }\n",
       "\n",
       "    .dataframe tbody tr th {\n",
       "        vertical-align: top;\n",
       "    }\n",
       "\n",
       "    .dataframe thead th {\n",
       "        text-align: right;\n",
       "    }\n",
       "</style>\n",
       "<table border=\"1\" class=\"dataframe\">\n",
       "  <thead>\n",
       "    <tr style=\"text-align: right;\">\n",
       "      <th></th>\n",
       "      <th>START_ID</th>\n",
       "      <th>END_ID</th>\n",
       "      <th>TYPE</th>\n",
       "      <th>abbrev</th>\n",
       "      <th>rev_abbrev</th>\n",
       "    </tr>\n",
       "  </thead>\n",
       "  <tbody>\n",
       "    <tr>\n",
       "      <th>0</th>\n",
       "      <td>C0040291</td>\n",
       "      <td>C0085979</td>\n",
       "      <td>PART_OF</td>\n",
       "      <td>CDpo&gt;LB</td>\n",
       "      <td>LB&gt;poCD</td>\n",
       "    </tr>\n",
       "    <tr>\n",
       "      <th>1</th>\n",
       "      <td>C0005767</td>\n",
       "      <td>C0007061</td>\n",
       "      <td>LOCATION_OF</td>\n",
       "      <td>AloCD</td>\n",
       "      <td>CDloA</td>\n",
       "    </tr>\n",
       "  </tbody>\n",
       "</table>\n",
       "</div>"
      ],
      "text/plain": [
       "   START_ID    END_ID         TYPE   abbrev rev_abbrev\n",
       "0  C0040291  C0085979      PART_OF  CDpo>LB    LB>poCD\n",
       "1  C0005767  C0007061  LOCATION_OF    AloCD      CDloA"
      ]
     },
     "execution_count": 78,
     "metadata": {},
     "output_type": "execute_result"
    }
   ],
   "source": [
    "edges = edges.reset_index(drop=True)\n",
    "edges.head(2)"
   ]
  },
  {
   "cell_type": "markdown",
   "metadata": {},
   "source": [
    "## Add in the PMID counts as extra data for each edge"
   ]
  },
  {
   "cell_type": "code",
   "execution_count": 79,
   "metadata": {},
   "outputs": [
    {
     "data": {
      "text/plain": [
       "19812322"
      ]
     },
     "execution_count": 79,
     "metadata": {},
     "output_type": "execute_result"
    }
   ],
   "source": [
    "len(pmids)"
   ]
  },
  {
   "cell_type": "code",
   "execution_count": 80,
   "metadata": {},
   "outputs": [
    {
     "name": "stdout",
     "output_type": "stream",
     "text": [
      "19812322\n"
     ]
    }
   ],
   "source": [
    "print(len(edges))"
   ]
  },
  {
   "cell_type": "code",
   "execution_count": 81,
   "metadata": {},
   "outputs": [
    {
     "name": "stderr",
     "output_type": "stream",
     "text": [
      "100%|██████████| 19812322/19812322 [00:18<00:00, 1059647.82it/s]\n"
     ]
    },
    {
     "name": "stdout",
     "output_type": "stream",
     "text": [
      "CPU times: user 1min 14s, sys: 9.23 s, total: 1min 24s\n",
      "Wall time: 1min 23s\n"
     ]
    }
   ],
   "source": [
    "%%time\n",
    "edges['pmids'] = pd.Series([pmids[i] for i in tqdm(edges.set_index(['start_id', 'type', 'end_id']).index.tolist())])"
   ]
  },
  {
   "cell_type": "code",
   "execution_count": 82,
   "metadata": {},
   "outputs": [
    {
     "data": {
      "text/html": [
       "<div>\n",
       "<style scoped>\n",
       "    .dataframe tbody tr th:only-of-type {\n",
       "        vertical-align: middle;\n",
       "    }\n",
       "\n",
       "    .dataframe tbody tr th {\n",
       "        vertical-align: top;\n",
       "    }\n",
       "\n",
       "    .dataframe thead th {\n",
       "        text-align: right;\n",
       "    }\n",
       "</style>\n",
       "<table border=\"1\" class=\"dataframe\">\n",
       "  <thead>\n",
       "    <tr style=\"text-align: right;\">\n",
       "      <th></th>\n",
       "      <th>START_ID</th>\n",
       "      <th>END_ID</th>\n",
       "      <th>TYPE</th>\n",
       "      <th>abbrev</th>\n",
       "      <th>rev_abbrev</th>\n",
       "      <th>pmids</th>\n",
       "    </tr>\n",
       "  </thead>\n",
       "  <tbody>\n",
       "    <tr>\n",
       "      <th>0</th>\n",
       "      <td>C0040291</td>\n",
       "      <td>C0085979</td>\n",
       "      <td>PART_OF</td>\n",
       "      <td>CDpo&gt;LB</td>\n",
       "      <td>LB&gt;poCD</td>\n",
       "      <td>{4960005, 5188517, 14810953, 15777937, 464373,...</td>\n",
       "    </tr>\n",
       "    <tr>\n",
       "      <th>1</th>\n",
       "      <td>C0005767</td>\n",
       "      <td>C0007061</td>\n",
       "      <td>LOCATION_OF</td>\n",
       "      <td>AloCD</td>\n",
       "      <td>CDloA</td>\n",
       "      <td>{2901508, 3799562, 26757130, 6744590, 3117072,...</td>\n",
       "    </tr>\n",
       "  </tbody>\n",
       "</table>\n",
       "</div>"
      ],
      "text/plain": [
       "   START_ID    END_ID         TYPE   abbrev rev_abbrev  \\\n",
       "0  C0040291  C0085979      PART_OF  CDpo>LB    LB>poCD   \n",
       "1  C0005767  C0007061  LOCATION_OF    AloCD      CDloA   \n",
       "\n",
       "                                               pmids  \n",
       "0  {4960005, 5188517, 14810953, 15777937, 464373,...  \n",
       "1  {2901508, 3799562, 26757130, 6744590, 3117072,...  "
      ]
     },
     "execution_count": 82,
     "metadata": {},
     "output_type": "execute_result"
    }
   ],
   "source": [
    "edges.head(2)"
   ]
  },
  {
   "cell_type": "markdown",
   "metadata": {},
   "source": [
    "### Swap start and end IDs for edges where start and end types were swapped..."
   ]
  },
  {
   "cell_type": "code",
   "execution_count": 83,
   "metadata": {
    "collapsed": true
   },
   "outputs": [],
   "source": [
    "e_types_current = edges['type'] + '_' + edges['abbrev']"
   ]
  },
  {
   "cell_type": "code",
   "execution_count": 84,
   "metadata": {
    "collapsed": true
   },
   "outputs": [],
   "source": [
    "need_swap = e_types_current != pd.Series(new_types)"
   ]
  },
  {
   "cell_type": "code",
   "execution_count": 85,
   "metadata": {
    "collapsed": true
   },
   "outputs": [],
   "source": [
    "tmp = edges.loc[need_swap, 'start_id']\n",
    "edges.loc[need_swap, 'start_id'] = edges.loc[need_swap, 'end_id']\n",
    "edges.loc[need_swap, 'end_id'] = tmp\n",
    "edges['type'] = new_types"
   ]
  },
  {
   "cell_type": "code",
   "execution_count": 86,
   "metadata": {
    "collapsed": true
   },
   "outputs": [],
   "source": [
    "# drop extra columns\n",
    "edges = edges[['start_id', 'end_id', 'type', 'pmids']]"
   ]
  },
  {
   "cell_type": "code",
   "execution_count": 87,
   "metadata": {
    "scrolled": true
   },
   "outputs": [
    {
     "data": {
      "text/plain": [
       "2900"
      ]
     },
     "execution_count": 87,
     "metadata": {},
     "output_type": "execute_result"
    }
   ],
   "source": [
    "edges['type'].nunique()"
   ]
  },
  {
   "cell_type": "markdown",
   "metadata": {},
   "source": [
    "#### De Duplication\n",
    "\n",
    "Some edges are now duplicated, so must de-duplicate and combine pmid sets."
   ]
  },
  {
   "cell_type": "code",
   "execution_count": 88,
   "metadata": {},
   "outputs": [
    {
     "name": "stdout",
     "output_type": "stream",
     "text": [
      "CPU times: user 34min 56s, sys: 1min 25s, total: 36min 21s\n",
      "Wall time: 36min 22s\n"
     ]
    }
   ],
   "source": [
    "%%time\n",
    "# This part is unfortunately very slow... Cant' really find any good way to speed it up.\n",
    "grpd = edges.groupby(['start_id', 'end_id', 'type'])\n",
    "edges = grpd['pmids'].apply(lambda Series: set.union(*Series.values)).reset_index()"
   ]
  },
  {
   "cell_type": "code",
   "execution_count": 89,
   "metadata": {},
   "outputs": [],
   "source": [
    "# Get the number of pmids\n",
    "edges['n_pmids'] = edges['pmids'].apply(len)"
   ]
  },
  {
   "cell_type": "code",
   "execution_count": 90,
   "metadata": {
    "collapsed": true
   },
   "outputs": [],
   "source": [
    "nodes = nodes.dropna()"
   ]
  },
  {
   "cell_type": "code",
   "execution_count": 91,
   "metadata": {},
   "outputs": [
    {
     "name": "stdout",
     "output_type": "stream",
     "text": [
      "257,243\n",
      "19,555,814\n"
     ]
    }
   ],
   "source": [
    "print('{:,}'.format(len(nodes)))\n",
    "print('{:,}'.format(len(edges)))"
   ]
  },
  {
   "cell_type": "markdown",
   "metadata": {},
   "source": [
    "### Ensure that all ids in the edges appear in the nodes\n",
    "\n",
    "Also make sure that the nodes don't contain any extra IDs not used by the edges"
   ]
  },
  {
   "cell_type": "code",
   "execution_count": 92,
   "metadata": {},
   "outputs": [
    {
     "data": {
      "text/plain": [
       "257243"
      ]
     },
     "execution_count": 92,
     "metadata": {},
     "output_type": "execute_result"
    }
   ],
   "source": [
    "edge_ids = set(edges['start_id']).union(set(edges['end_id']))\n",
    "len(edge_ids)"
   ]
  },
  {
   "cell_type": "code",
   "execution_count": 93,
   "metadata": {},
   "outputs": [
    {
     "data": {
      "text/plain": [
       "257243"
      ]
     },
     "execution_count": 93,
     "metadata": {},
     "output_type": "execute_result"
    }
   ],
   "source": [
    "node_ids = set(nodes['ID'])\n",
    "len(node_ids)"
   ]
  },
  {
   "cell_type": "code",
   "execution_count": 94,
   "metadata": {},
   "outputs": [
    {
     "data": {
      "text/plain": [
       "0"
      ]
     },
     "execution_count": 94,
     "metadata": {},
     "output_type": "execute_result"
    }
   ],
   "source": [
    "# ensure there are no edge IDs that are not also in thenodes\n",
    "len(edge_ids - node_ids)"
   ]
  },
  {
   "cell_type": "code",
   "execution_count": 95,
   "metadata": {
    "collapsed": true
   },
   "outputs": [],
   "source": [
    "# remove nodes that don't appear in the edges\n",
    "edge_ids = list(edge_ids)\n",
    "nodes = nodes.query('ID in @edge_ids')"
   ]
  },
  {
   "cell_type": "code",
   "execution_count": 96,
   "metadata": {},
   "outputs": [
    {
     "data": {
      "text/plain": [
       "257243"
      ]
     },
     "execution_count": 96,
     "metadata": {},
     "output_type": "execute_result"
    }
   ],
   "source": [
    "nodes['ID'].nunique()"
   ]
  },
  {
   "cell_type": "markdown",
   "metadata": {},
   "source": [
    "# 4. Save files to disk"
   ]
  },
  {
   "cell_type": "code",
   "execution_count": null,
   "metadata": {
    "collapsed": true
   },
   "outputs": [],
   "source": [
    "# Sort values before writing to disk\n",
    "nodes = nodes.sort_values('label')\n",
    "edges = edges.sort_values('type')\n",
    "\n",
    "# Add in colons required by neo4j\n",
    "nodes = gt.add_colons(nodes)\n",
    "edges = gt.add_colons(edges)\n",
    "\n",
    "nodes.to_csv('../data/nodes_VER31_R.csv', index=False)\n",
    "edges.to_csv('../data/edges_VER31_R.csv', index=False)"
   ]
  }
 ],
 "metadata": {
  "kernelspec": {
   "display_name": "Python 3",
   "language": "python",
   "name": "python3"
  },
  "language_info": {
   "codemirror_mode": {
    "name": "ipython",
    "version": 3
   },
   "file_extension": ".py",
   "mimetype": "text/x-python",
   "name": "python",
   "nbconvert_exporter": "python",
   "pygments_lexer": "ipython3",
   "version": "3.5.6"
  }
 },
 "nbformat": 4,
 "nbformat_minor": 1
}
