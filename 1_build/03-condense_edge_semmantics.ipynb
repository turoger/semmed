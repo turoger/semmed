{
 "cells": [
  {
   "cell_type": "markdown",
   "metadata": {},
   "source": [
    "# Condensing Edge Semmantics\n",
    "\n",
    "Computational complexity for the Rephetio Algorithm that will be used for Machine Learning is highly dependant on the number of potential Metapaths between the source and target Metanodes in the edge to be predicted. \n",
    "\n",
    "For this reason, we will try to reduce the number of different semmantic edge types that connect any two metanodes.  We will attempt to condense to at-most 3 metaedges connecting any given metanode.  One reflecting a postitive association (increases, augments, causes, upregulates, etc.), one a negative association (decreases, disrupts, mitigates, downregulates, etc.), and one a neutural association (associated with, affects, method of, etc.).  Some semmantic types are also not useful in this context, and thus will be removed (any Negating concepts, higher than, compared with, etc.)\n",
    "\n",
    "[This Map File](https://github.com/mmayers12/semmed/blob/master/data/edge_condense_map.csv) details all of the different mappings that occur in the semmantic condensation."
   ]
  },
  {
   "cell_type": "code",
   "execution_count": 1,
   "metadata": {
    "collapsed": true
   },
   "outputs": [],
   "source": [
    "import os\n",
    "import pickle\n",
    "%matplotlib inline\n",
    "import pandas as pd\n",
    "import seaborn as sns\n",
    "from tqdm import tqdm\n",
    "from collections import defaultdict\n",
    "\n",
    "import sys\n",
    "sys.path.append('../../hetnet-ml/src')\n",
    "import graph_tools as gt"
   ]
  },
  {
   "cell_type": "code",
   "execution_count": 2,
   "metadata": {
    "collapsed": true
   },
   "outputs": [],
   "source": [
    "nodes = gt.remove_colons(pd.read_csv('../data/nodes_VER31_R_nodes_consolidated.csv'))\n",
    "edges = gt.remove_colons(pd.read_csv('../data/edges_VER31_R_nodes_consolidated.csv', converters={'pmids':eval}))"
   ]
  },
  {
   "cell_type": "code",
   "execution_count": 3,
   "metadata": {
    "collapsed": true
   },
   "outputs": [],
   "source": [
    "start_edge_num = len(edges)"
   ]
  },
  {
   "cell_type": "code",
   "execution_count": 4,
   "metadata": {},
   "outputs": [
    {
     "data": {
      "text/html": [
       "<div>\n",
       "<style scoped>\n",
       "    .dataframe tbody tr th:only-of-type {\n",
       "        vertical-align: middle;\n",
       "    }\n",
       "\n",
       "    .dataframe tbody tr th {\n",
       "        vertical-align: top;\n",
       "    }\n",
       "\n",
       "    .dataframe thead th {\n",
       "        text-align: right;\n",
       "    }\n",
       "</style>\n",
       "<table border=\"1\" class=\"dataframe\">\n",
       "  <thead>\n",
       "    <tr style=\"text-align: right;\">\n",
       "      <th></th>\n",
       "      <th>id</th>\n",
       "      <th>name</th>\n",
       "      <th>label</th>\n",
       "      <th>id_source</th>\n",
       "    </tr>\n",
       "  </thead>\n",
       "  <tbody>\n",
       "    <tr>\n",
       "      <th>0</th>\n",
       "      <td>C0418940</td>\n",
       "      <td>Change of employment</td>\n",
       "      <td>Activities &amp; Behaviors</td>\n",
       "      <td>UMLS</td>\n",
       "    </tr>\n",
       "    <tr>\n",
       "      <th>1</th>\n",
       "      <td>C0871147</td>\n",
       "      <td>Professional Development</td>\n",
       "      <td>Activities &amp; Behaviors</td>\n",
       "      <td>UMLS</td>\n",
       "    </tr>\n",
       "    <tr>\n",
       "      <th>2</th>\n",
       "      <td>D013221</td>\n",
       "      <td>State Health Plans</td>\n",
       "      <td>Activities &amp; Behaviors</td>\n",
       "      <td>MeSH</td>\n",
       "    </tr>\n",
       "    <tr>\n",
       "      <th>3</th>\n",
       "      <td>C0336931</td>\n",
       "      <td>Waterskiing</td>\n",
       "      <td>Activities &amp; Behaviors</td>\n",
       "      <td>UMLS</td>\n",
       "    </tr>\n",
       "    <tr>\n",
       "      <th>4</th>\n",
       "      <td>C0678998</td>\n",
       "      <td>literacy skills</td>\n",
       "      <td>Activities &amp; Behaviors</td>\n",
       "      <td>UMLS</td>\n",
       "    </tr>\n",
       "  </tbody>\n",
       "</table>\n",
       "</div>"
      ],
      "text/plain": [
       "         id                      name                   label id_source\n",
       "0  C0418940      Change of employment  Activities & Behaviors      UMLS\n",
       "1  C0871147  Professional Development  Activities & Behaviors      UMLS\n",
       "2   D013221        State Health Plans  Activities & Behaviors      MeSH\n",
       "3  C0336931               Waterskiing  Activities & Behaviors      UMLS\n",
       "4  C0678998           literacy skills  Activities & Behaviors      UMLS"
      ]
     },
     "execution_count": 4,
     "metadata": {},
     "output_type": "execute_result"
    }
   ],
   "source": [
    "nodes.head()"
   ]
  },
  {
   "cell_type": "code",
   "execution_count": 5,
   "metadata": {},
   "outputs": [
    {
     "data": {
      "text/html": [
       "<div>\n",
       "<style scoped>\n",
       "    .dataframe tbody tr th:only-of-type {\n",
       "        vertical-align: middle;\n",
       "    }\n",
       "\n",
       "    .dataframe tbody tr th {\n",
       "        vertical-align: top;\n",
       "    }\n",
       "\n",
       "    .dataframe thead th {\n",
       "        text-align: right;\n",
       "    }\n",
       "</style>\n",
       "<table border=\"1\" class=\"dataframe\">\n",
       "  <thead>\n",
       "    <tr style=\"text-align: right;\">\n",
       "      <th></th>\n",
       "      <th>start_id</th>\n",
       "      <th>end_id</th>\n",
       "      <th>type</th>\n",
       "      <th>pmids</th>\n",
       "      <th>n_pmids</th>\n",
       "    </tr>\n",
       "  </thead>\n",
       "  <tbody>\n",
       "    <tr>\n",
       "      <th>0</th>\n",
       "      <td>C0556656</td>\n",
       "      <td>D066231</td>\n",
       "      <td>ADMINISTERED_TO_ABatLB</td>\n",
       "      <td>{26223185}</td>\n",
       "      <td>1</td>\n",
       "    </tr>\n",
       "    <tr>\n",
       "      <th>1</th>\n",
       "      <td>C0441648</td>\n",
       "      <td>C0687735</td>\n",
       "      <td>ADMINISTERED_TO_ABatLB</td>\n",
       "      <td>{3434797}</td>\n",
       "      <td>1</td>\n",
       "    </tr>\n",
       "    <tr>\n",
       "      <th>2</th>\n",
       "      <td>D012648</td>\n",
       "      <td>C0450068</td>\n",
       "      <td>ADMINISTERED_TO_ABatLB</td>\n",
       "      <td>{25086797}</td>\n",
       "      <td>1</td>\n",
       "    </tr>\n",
       "    <tr>\n",
       "      <th>3</th>\n",
       "      <td>D012648</td>\n",
       "      <td>C0341618</td>\n",
       "      <td>ADMINISTERED_TO_ABatLB</td>\n",
       "      <td>{1789375}</td>\n",
       "      <td>1</td>\n",
       "    </tr>\n",
       "    <tr>\n",
       "      <th>4</th>\n",
       "      <td>D012648</td>\n",
       "      <td>C0302833</td>\n",
       "      <td>ADMINISTERED_TO_ABatLB</td>\n",
       "      <td>{28382666}</td>\n",
       "      <td>1</td>\n",
       "    </tr>\n",
       "    <tr>\n",
       "      <th>5</th>\n",
       "      <td>D012648</td>\n",
       "      <td>C0282122</td>\n",
       "      <td>ADMINISTERED_TO_ABatLB</td>\n",
       "      <td>{23815873, 24393417, 28092492, 21689455, 26313...</td>\n",
       "      <td>6</td>\n",
       "    </tr>\n",
       "    <tr>\n",
       "      <th>6</th>\n",
       "      <td>D012648</td>\n",
       "      <td>C0237419</td>\n",
       "      <td>ADMINISTERED_TO_ABatLB</td>\n",
       "      <td>{25648778}</td>\n",
       "      <td>1</td>\n",
       "    </tr>\n",
       "    <tr>\n",
       "      <th>7</th>\n",
       "      <td>D012648</td>\n",
       "      <td>C0221191</td>\n",
       "      <td>ADMINISTERED_TO_ABatLB</td>\n",
       "      <td>{24526037}</td>\n",
       "      <td>1</td>\n",
       "    </tr>\n",
       "    <tr>\n",
       "      <th>8</th>\n",
       "      <td>C0441648</td>\n",
       "      <td>C0851286</td>\n",
       "      <td>ADMINISTERED_TO_ABatLB</td>\n",
       "      <td>{29093281}</td>\n",
       "      <td>1</td>\n",
       "    </tr>\n",
       "    <tr>\n",
       "      <th>9</th>\n",
       "      <td>C0018581</td>\n",
       "      <td>C0870704</td>\n",
       "      <td>ADMINISTERED_TO_ABatLB</td>\n",
       "      <td>{25870425}</td>\n",
       "      <td>1</td>\n",
       "    </tr>\n",
       "  </tbody>\n",
       "</table>\n",
       "</div>"
      ],
      "text/plain": [
       "   start_id    end_id                    type  \\\n",
       "0  C0556656   D066231  ADMINISTERED_TO_ABatLB   \n",
       "1  C0441648  C0687735  ADMINISTERED_TO_ABatLB   \n",
       "2   D012648  C0450068  ADMINISTERED_TO_ABatLB   \n",
       "3   D012648  C0341618  ADMINISTERED_TO_ABatLB   \n",
       "4   D012648  C0302833  ADMINISTERED_TO_ABatLB   \n",
       "5   D012648  C0282122  ADMINISTERED_TO_ABatLB   \n",
       "6   D012648  C0237419  ADMINISTERED_TO_ABatLB   \n",
       "7   D012648  C0221191  ADMINISTERED_TO_ABatLB   \n",
       "8  C0441648  C0851286  ADMINISTERED_TO_ABatLB   \n",
       "9  C0018581  C0870704  ADMINISTERED_TO_ABatLB   \n",
       "\n",
       "                                               pmids  n_pmids  \n",
       "0                                         {26223185}        1  \n",
       "1                                          {3434797}        1  \n",
       "2                                         {25086797}        1  \n",
       "3                                          {1789375}        1  \n",
       "4                                         {28382666}        1  \n",
       "5  {23815873, 24393417, 28092492, 21689455, 26313...        6  \n",
       "6                                         {25648778}        1  \n",
       "7                                         {24526037}        1  \n",
       "8                                         {29093281}        1  \n",
       "9                                         {25870425}        1  "
      ]
     },
     "execution_count": 5,
     "metadata": {},
     "output_type": "execute_result"
    }
   ],
   "source": [
    "edges.head(10)"
   ]
  },
  {
   "cell_type": "code",
   "execution_count": 6,
   "metadata": {
    "collapsed": true
   },
   "outputs": [],
   "source": [
    "def sanitize(x):\n",
    "    \"\"\"Some pmids have the appearance of '2015332 [3]' for some reason. This fixes that\"\"\"\n",
    "    if type(x) == str:\n",
    "        if ' ' in x:\n",
    "            x = x.split(' ')[0]\n",
    "    return x\n",
    "\n",
    "# Some pmids are appearing as string, e.g. row 6.  They should all be int\n",
    "edges['pmids'] = edges['pmids'].apply(lambda ids: set([int(sanitize(x)) for x in ids]))"
   ]
  },
  {
   "cell_type": "code",
   "execution_count": 7,
   "metadata": {
    "collapsed": true
   },
   "outputs": [],
   "source": [
    "edge_map = pd.read_csv('../data/edge_condense_map.csv')"
   ]
  },
  {
   "cell_type": "code",
   "execution_count": 8,
   "metadata": {},
   "outputs": [
    {
     "data": {
      "text/html": [
       "<div>\n",
       "<style scoped>\n",
       "    .dataframe tbody tr th:only-of-type {\n",
       "        vertical-align: middle;\n",
       "    }\n",
       "\n",
       "    .dataframe tbody tr th {\n",
       "        vertical-align: top;\n",
       "    }\n",
       "\n",
       "    .dataframe thead th {\n",
       "        text-align: right;\n",
       "    }\n",
       "</style>\n",
       "<table border=\"1\" class=\"dataframe\">\n",
       "  <thead>\n",
       "    <tr style=\"text-align: right;\">\n",
       "      <th></th>\n",
       "      <th>original_edge</th>\n",
       "      <th>condensed_to</th>\n",
       "      <th>relationship</th>\n",
       "      <th>reverse</th>\n",
       "      <th>node_semtypes</th>\n",
       "    </tr>\n",
       "  </thead>\n",
       "  <tbody>\n",
       "    <tr>\n",
       "      <th>0</th>\n",
       "      <td>AFFECTS_ABafAB</td>\n",
       "      <td>AFFECTS_ABafAB</td>\n",
       "      <td>neutral</td>\n",
       "      <td>False</td>\n",
       "      <td>Activities &amp; Behaviors --- Activities &amp; Behaviors</td>\n",
       "    </tr>\n",
       "    <tr>\n",
       "      <th>1</th>\n",
       "      <td>PREDISPOSES_ABpsAB</td>\n",
       "      <td>AFFECTS_ABafAB</td>\n",
       "      <td>neutral</td>\n",
       "      <td>False</td>\n",
       "      <td>Activities &amp; Behaviors --- Activities &amp; Behaviors</td>\n",
       "    </tr>\n",
       "  </tbody>\n",
       "</table>\n",
       "</div>"
      ],
      "text/plain": [
       "        original_edge    condensed_to relationship  reverse  \\\n",
       "0      AFFECTS_ABafAB  AFFECTS_ABafAB      neutral    False   \n",
       "1  PREDISPOSES_ABpsAB  AFFECTS_ABafAB      neutral    False   \n",
       "\n",
       "                                       node_semtypes  \n",
       "0  Activities & Behaviors --- Activities & Behaviors  \n",
       "1  Activities & Behaviors --- Activities & Behaviors  "
      ]
     },
     "execution_count": 8,
     "metadata": {},
     "output_type": "execute_result"
    }
   ],
   "source": [
    "edge_map.head(2)"
   ]
  },
  {
   "cell_type": "code",
   "execution_count": 9,
   "metadata": {
    "collapsed": true
   },
   "outputs": [],
   "source": [
    "def change_edge_type(from_type, to_type, swap=False):\n",
    "    idx = edges.query('type == @from_type').index\n",
    "    edges.loc[idx, 'type'] = to_type\n",
    "    if swap:\n",
    "        tmp = edges.loc[idx, 'start_id']\n",
    "        edges.loc[idx, 'start_id'] = edges.loc[idx, 'end_id']\n",
    "        edges.loc[idx, 'end_id'] = tmp\n",
    "                                             \n",
    "def merge_edge_types(from_list, to_type, swap=False):\n",
    "    for from_type in from_list:\n",
    "        change_edge_type(from_type, to_type, swap=swap)\n",
    "        \n",
    "def drop_edges_from_list(drop_edges):\n",
    "    idx = edges.query('type in @drop_edges').index\n",
    "    edges.drop(idx, inplace=True)"
   ]
  },
  {
   "cell_type": "code",
   "execution_count": 10,
   "metadata": {},
   "outputs": [
    {
     "data": {
      "text/plain": [
       "2900"
      ]
     },
     "execution_count": 10,
     "metadata": {},
     "output_type": "execute_result"
    }
   ],
   "source": [
    "edges['type'].nunique()"
   ]
  },
  {
   "cell_type": "code",
   "execution_count": 11,
   "metadata": {},
   "outputs": [
    {
     "name": "stderr",
     "output_type": "stream",
     "text": [
      "100%|██████████| 292/292 [05:28<00:00,  1.06s/it]\n"
     ]
    }
   ],
   "source": [
    "# Order is important here\n",
    "# Previous iterations of this pipeline had multiple rounds of edge condensation\n",
    "# so some edges will be changed multiple times, and going through the .csv in row order\n",
    "# ensurse that these changes are all applied correctly.\n",
    "for row in tqdm(edge_map.itertuples(), total=len(edge_map)):\n",
    "    change_edge_type(row.original_edge, row.condensed_to, swap=row.reverse)\n",
    "edges = edges.dropna(subset=['type']).reset_index(drop=True)"
   ]
  },
  {
   "cell_type": "code",
   "execution_count": 12,
   "metadata": {},
   "outputs": [
    {
     "data": {
      "text/plain": [
       "2686"
      ]
     },
     "execution_count": 12,
     "metadata": {},
     "output_type": "execute_result"
    }
   ],
   "source": [
    "edges['type'].nunique()"
   ]
  },
  {
   "cell_type": "markdown",
   "metadata": {},
   "source": [
    "## Fix Potential problems of duplicated undirected edges\n",
    "\n",
    "Similar to the issue at the end of notebook `01-building-the-hetnet`, by switching some of the semmantics, we may now have some instances where Metanode1 and Metanode2 for a given edge of type Metaedge1 are opposite of that for a different edge of the same Metaedge1.\n",
    "\n",
    "The `reverse` option in the `edge_map` should have accounted for this, but we will do a thorough check just to make sure all the nodes of a semmantic type for a given edge type are in the correct locaiton."
   ]
  },
  {
   "cell_type": "code",
   "execution_count": 13,
   "metadata": {
    "collapsed": true
   },
   "outputs": [],
   "source": [
    "abv, met = gt.get_abbrev_dict_and_edge_tuples(gt.add_colons(nodes), gt.add_colons(edges))"
   ]
  },
  {
   "cell_type": "code",
   "execution_count": 14,
   "metadata": {
    "collapsed": true
   },
   "outputs": [],
   "source": [
    "id_to_label = nodes.set_index('id')['label'].to_dict()"
   ]
  },
  {
   "cell_type": "code",
   "execution_count": 15,
   "metadata": {},
   "outputs": [
    {
     "name": "stderr",
     "output_type": "stream",
     "text": [
      "100%|██████████| 14042303/14042303 [00:34<00:00, 412058.58it/s]\n"
     ]
    }
   ],
   "source": [
    "edges['start_label'] = edges['start_id'].map(lambda c: id_to_label[c])\n",
    "edges['end_label'] = edges['end_id'].map(lambda c: id_to_label[c])\n",
    "edges['sem'] = edges['type'].map(lambda e: '_'.join(e.split('_')[:-1]))\n",
    "\n",
    "edges['abbrev'] = edges['type'].map(lambda e: e.split('_')[-1])\n",
    "\n",
    "proper_abbrevs = []\n",
    "for e in tqdm(edges.itertuples(), total=len(edges)):\n",
    "    if '>' in e.abbrev:\n",
    "        abbrev = abv[e.start_label] + abv[e.sem] + '>' + abv[e.end_label]\n",
    "    else:\n",
    "        abbrev = abv[e.start_label] + abv[e.sem] + abv[e.end_label]\n",
    "    proper_abbrevs.append(abbrev)\n",
    "    \n",
    "edges['calc_abbrev'] = proper_abbrevs"
   ]
  },
  {
   "cell_type": "code",
   "execution_count": 16,
   "metadata": {},
   "outputs": [
    {
     "data": {
      "text/html": [
       "<div>\n",
       "<style scoped>\n",
       "    .dataframe tbody tr th:only-of-type {\n",
       "        vertical-align: middle;\n",
       "    }\n",
       "\n",
       "    .dataframe tbody tr th {\n",
       "        vertical-align: top;\n",
       "    }\n",
       "\n",
       "    .dataframe thead th {\n",
       "        text-align: right;\n",
       "    }\n",
       "</style>\n",
       "<table border=\"1\" class=\"dataframe\">\n",
       "  <thead>\n",
       "    <tr style=\"text-align: right;\">\n",
       "      <th></th>\n",
       "      <th>start_id</th>\n",
       "      <th>end_id</th>\n",
       "      <th>type</th>\n",
       "      <th>pmids</th>\n",
       "      <th>n_pmids</th>\n",
       "      <th>start_label</th>\n",
       "      <th>end_label</th>\n",
       "      <th>sem</th>\n",
       "      <th>abbrev</th>\n",
       "      <th>calc_abbrev</th>\n",
       "    </tr>\n",
       "  </thead>\n",
       "  <tbody>\n",
       "    <tr>\n",
       "      <th>0</th>\n",
       "      <td>C0556656</td>\n",
       "      <td>D066231</td>\n",
       "      <td>ADMINISTERED_TO_ABatLB</td>\n",
       "      <td>{26223185}</td>\n",
       "      <td>1</td>\n",
       "      <td>Activities &amp; Behaviors</td>\n",
       "      <td>Living Beings</td>\n",
       "      <td>ADMINISTERED_TO</td>\n",
       "      <td>ABatLB</td>\n",
       "      <td>ABatLB</td>\n",
       "    </tr>\n",
       "    <tr>\n",
       "      <th>1</th>\n",
       "      <td>C0441648</td>\n",
       "      <td>C0687735</td>\n",
       "      <td>ADMINISTERED_TO_ABatLB</td>\n",
       "      <td>{3434797}</td>\n",
       "      <td>1</td>\n",
       "      <td>Activities &amp; Behaviors</td>\n",
       "      <td>Living Beings</td>\n",
       "      <td>ADMINISTERED_TO</td>\n",
       "      <td>ABatLB</td>\n",
       "      <td>ABatLB</td>\n",
       "    </tr>\n",
       "  </tbody>\n",
       "</table>\n",
       "</div>"
      ],
      "text/plain": [
       "   start_id    end_id                    type       pmids  n_pmids  \\\n",
       "0  C0556656   D066231  ADMINISTERED_TO_ABatLB  {26223185}        1   \n",
       "1  C0441648  C0687735  ADMINISTERED_TO_ABatLB   {3434797}        1   \n",
       "\n",
       "              start_label      end_label              sem  abbrev calc_abbrev  \n",
       "0  Activities & Behaviors  Living Beings  ADMINISTERED_TO  ABatLB      ABatLB  \n",
       "1  Activities & Behaviors  Living Beings  ADMINISTERED_TO  ABatLB      ABatLB  "
      ]
     },
     "execution_count": 16,
     "metadata": {},
     "output_type": "execute_result"
    }
   ],
   "source": [
    "edges.head(2)"
   ]
  },
  {
   "cell_type": "code",
   "execution_count": 17,
   "metadata": {},
   "outputs": [
    {
     "data": {
      "text/plain": [
       "0"
      ]
     },
     "execution_count": 17,
     "metadata": {},
     "output_type": "execute_result"
    }
   ],
   "source": [
    "idx = edges['calc_abbrev'] != edges['abbrev']\n",
    "idx.sum()  # This should be Zero! If so then there's no issue!"
   ]
  },
  {
   "cell_type": "markdown",
   "metadata": {},
   "source": [
    "### Undirected Edges between two nodes of the same type should have only 1 instance\n",
    "\n",
    "Example: If we had `Disease_1 -- Associated_with -- Disease_2` and `Disease_2 -- Affects -- Disease_1`, these types were merged to `Associated_with` so the undirected edge would be duplicated in both forward and reverse directions.  This will examine the potential issue. Standardize these so that only the `Disease_1 -- Associated_with -- Disease_2` version of the edge remains."
   ]
  },
  {
   "cell_type": "code",
   "execution_count": 18,
   "metadata": {
    "collapsed": true
   },
   "outputs": [],
   "source": [
    "# Get the edges that are un-directed, between same type\n",
    "idx = edges['start_label'] == edges['end_label']\n",
    "\n",
    "self_refferential_types = edges.loc[idx, 'type'].unique()\n",
    "self_refferential_types = [e for e in self_refferential_types if '>' not in e]\n",
    "\n",
    "self_ref_idx = edges.query('type in @self_refferential_types').index"
   ]
  },
  {
   "cell_type": "code",
   "execution_count": 19,
   "metadata": {},
   "outputs": [
    {
     "name": "stderr",
     "output_type": "stream",
     "text": [
      "100%|██████████| 286/286 [01:45<00:00,  2.96it/s]\n"
     ]
    }
   ],
   "source": [
    "# Need to keep and combine the PMIDs for Node_1 -- Node_2 and Node_2 -- Node_1\n",
    "# Get a map of this structure {edge_type: {edge_id: [pmids]}}\n",
    "\n",
    "edge_map = {}\n",
    "\n",
    "# Look at the self-reffrentual types\n",
    "for kind in tqdm(self_refferential_types):\n",
    "    \n",
    "    # Need map from edges to pmids\n",
    "    pmid_map = defaultdict(set)\n",
    "    # Only look at 1 kind of edge\n",
    "    subedges = edges.query('type == @kind')\n",
    "    \n",
    "    for row in subedges.itertuples():\n",
    "        # Grab the edge ID, sorting, so lowest CUI first:\n",
    "        #     If both 'C00001 -- C00002' and 'C00002 -- C00001' exist, effectively standarizes to \n",
    "        #     'C00001 -- C00002' while combining the PMID evidence\n",
    "        edge_id = tuple(sorted([row.start_id, row.end_id]))\n",
    "        \n",
    "        # Store the pmids for that edge\n",
    "        pmid_map[edge_id] = pmid_map[edge_id].union(row.pmids)\n",
    "        # Keep all the mappings for edge type\n",
    "        edge_map[kind] = pmid_map"
   ]
  },
  {
   "cell_type": "code",
   "execution_count": 20,
   "metadata": {
    "collapsed": true
   },
   "outputs": [],
   "source": [
    "# Convert back to a DataFrame\n",
    "kinds = []\n",
    "start_ids = []\n",
    "end_ids = []\n",
    "pmids = []\n",
    "\n",
    "for kind, e_dict in edge_map.items():\n",
    "    # Restructure as lists for easy dataframe generation\n",
    "    for (s_id, e_id), pms in e_dict.items():\n",
    "        kinds.append(kind)\n",
    "        start_ids.append(s_id)\n",
    "        end_ids.append(e_id)\n",
    "        pmids.append(pms)\n",
    "        \n",
    "fixed_edges = pd.DataFrame({'start_id': start_ids, 'end_id': end_ids, 'type': kinds, 'pmids': pmids})"
   ]
  },
  {
   "cell_type": "code",
   "execution_count": 21,
   "metadata": {},
   "outputs": [
    {
     "name": "stdout",
     "output_type": "stream",
     "text": [
      "Before De-duplication: 1,924,184 Edges between nodes of the same type\n",
      "After De-duplication: 1,511,577 Edges between nodes of the same type\n"
     ]
    }
   ],
   "source": [
    "print('Before De-duplication: {:,} Edges between nodes of the same type'.format(len(edges.loc[self_ref_idx])))\n",
    "print('After De-duplication: {:,} Edges between nodes of the same type'.format(len(fixed_edges)))"
   ]
  },
  {
   "cell_type": "code",
   "execution_count": 22,
   "metadata": {},
   "outputs": [
    {
     "name": "stdout",
     "output_type": "stream",
     "text": [
      "Total Edges: 14,042,303\n",
      "Edges between two different Metanodes or Directed Edges: 12,118,119\n",
      "Total edges with De-duped edges added back: 13,629,696\n"
     ]
    }
   ],
   "source": [
    "# Remove all the potential duplicated edges\n",
    "print('Total Edges: {:,}'.format(len(edges)))\n",
    "edges.drop(self_ref_idx, inplace=True)\n",
    "print('Edges between two different Metanodes or Directed Edges: {:,}'.format(len(edges)))\n",
    "\n",
    "# Then add back in all de-duplicated edgers\n",
    "edges = pd.concat([edges, fixed_edges], sort=False)\n",
    "print('Total edges with De-duped edges added back: {:,}'.format(len(edges)))"
   ]
  },
  {
   "cell_type": "code",
   "execution_count": 23,
   "metadata": {
    "collapsed": true
   },
   "outputs": [],
   "source": [
    "edges = edges[['start_id', 'end_id', 'type', 'pmids']]"
   ]
  },
  {
   "cell_type": "code",
   "execution_count": 24,
   "metadata": {},
   "outputs": [
    {
     "data": {
      "text/html": [
       "<div>\n",
       "<style scoped>\n",
       "    .dataframe tbody tr th:only-of-type {\n",
       "        vertical-align: middle;\n",
       "    }\n",
       "\n",
       "    .dataframe tbody tr th {\n",
       "        vertical-align: top;\n",
       "    }\n",
       "\n",
       "    .dataframe thead th {\n",
       "        text-align: right;\n",
       "    }\n",
       "</style>\n",
       "<table border=\"1\" class=\"dataframe\">\n",
       "  <thead>\n",
       "    <tr style=\"text-align: right;\">\n",
       "      <th></th>\n",
       "      <th>start_id</th>\n",
       "      <th>end_id</th>\n",
       "      <th>type</th>\n",
       "      <th>pmids</th>\n",
       "    </tr>\n",
       "  </thead>\n",
       "  <tbody>\n",
       "    <tr>\n",
       "      <th>0</th>\n",
       "      <td>C0556656</td>\n",
       "      <td>D066231</td>\n",
       "      <td>ADMINISTERED_TO_ABatLB</td>\n",
       "      <td>{26223185}</td>\n",
       "    </tr>\n",
       "    <tr>\n",
       "      <th>1</th>\n",
       "      <td>C0441648</td>\n",
       "      <td>C0687735</td>\n",
       "      <td>ADMINISTERED_TO_ABatLB</td>\n",
       "      <td>{3434797}</td>\n",
       "    </tr>\n",
       "    <tr>\n",
       "      <th>2</th>\n",
       "      <td>D012648</td>\n",
       "      <td>C0450068</td>\n",
       "      <td>ADMINISTERED_TO_ABatLB</td>\n",
       "      <td>{25086797}</td>\n",
       "    </tr>\n",
       "    <tr>\n",
       "      <th>3</th>\n",
       "      <td>D012648</td>\n",
       "      <td>C0341618</td>\n",
       "      <td>ADMINISTERED_TO_ABatLB</td>\n",
       "      <td>{1789375}</td>\n",
       "    </tr>\n",
       "    <tr>\n",
       "      <th>4</th>\n",
       "      <td>D012648</td>\n",
       "      <td>C0302833</td>\n",
       "      <td>ADMINISTERED_TO_ABatLB</td>\n",
       "      <td>{28382666}</td>\n",
       "    </tr>\n",
       "  </tbody>\n",
       "</table>\n",
       "</div>"
      ],
      "text/plain": [
       "   start_id    end_id                    type       pmids\n",
       "0  C0556656   D066231  ADMINISTERED_TO_ABatLB  {26223185}\n",
       "1  C0441648  C0687735  ADMINISTERED_TO_ABatLB   {3434797}\n",
       "2   D012648  C0450068  ADMINISTERED_TO_ABatLB  {25086797}\n",
       "3   D012648  C0341618  ADMINISTERED_TO_ABatLB   {1789375}\n",
       "4   D012648  C0302833  ADMINISTERED_TO_ABatLB  {28382666}"
      ]
     },
     "execution_count": 24,
     "metadata": {},
     "output_type": "execute_result"
    }
   ],
   "source": [
    "edges.head()"
   ]
  },
  {
   "cell_type": "markdown",
   "metadata": {},
   "source": [
    "Finish de-duplication, and merge any pmids between those duplicated edges"
   ]
  },
  {
   "cell_type": "code",
   "execution_count": 25,
   "metadata": {
    "scrolled": true
   },
   "outputs": [
    {
     "name": "stdout",
     "output_type": "stream",
     "text": [
      "CPU times: user 21min 15s, sys: 24.7 s, total: 21min 39s\n",
      "Wall time: 21min 39s\n"
     ]
    }
   ],
   "source": [
    "%%time\n",
    "\n",
    "before_dedup = len(edges)\n",
    "\n",
    "# Some edges now duplicated, de-duplicate and combine pmids\n",
    "grpd = edges.groupby(['start_id', 'end_id', 'type'])\n",
    "edges = grpd['pmids'].apply(lambda Series: set.union(*Series.values)).reset_index()\n",
    "\n",
    "# re-count the pmid numbers\n",
    "edges['n_pmids'] = edges['pmids'].apply(len)\n",
    "\n",
    "after_dedup = len(edges)"
   ]
  },
  {
   "cell_type": "code",
   "execution_count": 26,
   "metadata": {},
   "outputs": [
    {
     "name": "stdout",
     "output_type": "stream",
     "text": [
      "Edges before final Deduplication: 13,629,696\n",
      "Edges after final Deduplication: 12,270,779\n"
     ]
    }
   ],
   "source": [
    "print('Edges before final Deduplication: {:,}'.format(before_dedup))\n",
    "print('Edges after final Deduplication: {:,}'.format(after_dedup))"
   ]
  },
  {
   "cell_type": "code",
   "execution_count": 27,
   "metadata": {
    "collapsed": true,
    "scrolled": true
   },
   "outputs": [],
   "source": [
    "# Sort values before writing to disk\n",
    "nodes = nodes.sort_values('label')\n",
    "edges = edges.sort_values('type')\n",
    "\n",
    "# Add in colons required by neo4j\n",
    "nodes = gt.add_colons(nodes)\n",
    "edges = gt.add_colons(edges)\n",
    "\n",
    "nodes.to_csv('../data/nodes_VER31_R_consolidated_condensed.csv', index=False)\n",
    "edges.to_csv('../data/edges_VER31_R_consolidated_condensed.csv', index=False)"
   ]
  }
 ],
 "metadata": {
  "kernelspec": {
   "display_name": "Python 3",
   "language": "python",
   "name": "python3"
  },
  "language_info": {
   "codemirror_mode": {
    "name": "ipython",
    "version": 3
   },
   "file_extension": ".py",
   "mimetype": "text/x-python",
   "name": "python",
   "nbconvert_exporter": "python",
   "pygments_lexer": "ipython3",
   "version": "3.5.3"
  }
 },
 "nbformat": 4,
 "nbformat_minor": 1
}
